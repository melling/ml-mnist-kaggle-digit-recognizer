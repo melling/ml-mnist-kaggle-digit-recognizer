{
 "cells": [
  {
   "cell_type": "markdown",
   "id": "0871a17d",
   "metadata": {
    "papermill": {
     "duration": 0.008638,
     "end_time": "2022-07-06T21:48:43.895450",
     "exception": false,
     "start_time": "2022-07-06T21:48:43.886812",
     "status": "completed"
    },
    "tags": []
   },
   "source": [
    "<div style=\"background-color:rgba(128, 0, 128, 0.6);border-radius:5px;display:fill\"><h1 style=\"text-align: center;padding: 12px 0px 12px 0px;\">MNIST: SVM + Intel Extensions</h1>\n",
    "</div>\n",
    "\n",
    "Problem Type: Multi-classification\n",
    "\n",
    "## Evaluation Metric"
   ]
  },
  {
   "cell_type": "code",
   "execution_count": 1,
   "id": "fa17bb26",
   "metadata": {
    "execution": {
     "iopub.execute_input": "2022-07-06T21:48:43.912296Z",
     "iopub.status.busy": "2022-07-06T21:48:43.911858Z",
     "iopub.status.idle": "2022-07-06T21:49:01.568043Z",
     "shell.execute_reply": "2022-07-06T21:49:01.566715Z"
    },
    "papermill": {
     "duration": 17.668414,
     "end_time": "2022-07-06T21:49:01.571222",
     "exception": false,
     "start_time": "2022-07-06T21:48:43.902808",
     "status": "completed"
    },
    "tags": []
   },
   "outputs": [
    {
     "name": "stdout",
     "output_type": "stream",
     "text": [
      "\u001b[33mWARNING: Running pip as the 'root' user can result in broken permissions and conflicting behaviour with the system package manager. It is recommended to use a virtual environment instead: https://pip.pypa.io/warnings/venv\u001b[0m\u001b[33m\r\n",
      "\u001b[0m"
     ]
    }
   ],
   "source": [
    "# Black formatter https://black.readthedocs.io/en/stable/\n",
    "\n",
    "! pip install nb-black > /dev/null\n",
    "\n",
    "%load_ext lab_black"
   ]
  },
  {
   "cell_type": "code",
   "execution_count": 2,
   "id": "4a8efcbd",
   "metadata": {
    "execution": {
     "iopub.execute_input": "2022-07-06T21:49:01.588376Z",
     "iopub.status.busy": "2022-07-06T21:49:01.587928Z",
     "iopub.status.idle": "2022-07-06T21:49:13.394285Z",
     "shell.execute_reply": "2022-07-06T21:49:13.392809Z"
    },
    "papermill": {
     "duration": 11.818365,
     "end_time": "2022-07-06T21:49:13.397556",
     "exception": false,
     "start_time": "2022-07-06T21:49:01.579191",
     "status": "completed"
    },
    "tags": []
   },
   "outputs": [
    {
     "name": "stdout",
     "output_type": "stream",
     "text": [
      "\u001b[33mWARNING: Running pip as the 'root' user can result in broken permissions and conflicting behaviour with the system package manager. It is recommended to use a virtual environment instead: https://pip.pypa.io/warnings/venv\u001b[0m\u001b[33m\r\n",
      "\u001b[0m"
     ]
    }
   ],
   "source": [
    "!pip install scikit-learn-intelex --progress-bar off > /dev/null"
   ]
  },
  {
   "cell_type": "code",
   "execution_count": 3,
   "id": "deba8b8a",
   "metadata": {
    "execution": {
     "iopub.execute_input": "2022-07-06T21:49:13.415795Z",
     "iopub.status.busy": "2022-07-06T21:49:13.415394Z",
     "iopub.status.idle": "2022-07-06T21:49:15.346959Z",
     "shell.execute_reply": "2022-07-06T21:49:15.345192Z"
    },
    "papermill": {
     "duration": 1.944722,
     "end_time": "2022-07-06T21:49:15.350336",
     "exception": false,
     "start_time": "2022-07-06T21:49:13.405614",
     "status": "completed"
    },
    "tags": []
   },
   "outputs": [
    {
     "name": "stderr",
     "output_type": "stream",
     "text": [
      "Intel(R) Extension for Scikit-learn* enabled (https://github.com/intel/scikit-learn-intelex)\n"
     ]
    }
   ],
   "source": [
    "from sklearnex import patch_sklearn\n",
    "\n",
    "patch_sklearn()"
   ]
  },
  {
   "cell_type": "markdown",
   "id": "e6de21a4",
   "metadata": {
    "papermill": {
     "duration": 0.007602,
     "end_time": "2022-07-06T21:49:15.366555",
     "exception": false,
     "start_time": "2022-07-06T21:49:15.358953",
     "status": "completed"
    },
    "tags": []
   },
   "source": [
    "<div style=\"background-color:rgba(128, 0, 128, 0.6);border-radius:5px;display:fill\"><h1 style=\"text-align: center;padding: 12px 0px 12px 0px;\">Configuration</h1>\n",
    "</div>"
   ]
  },
  {
   "cell_type": "code",
   "execution_count": 4,
   "id": "1952d44d",
   "metadata": {
    "execution": {
     "iopub.execute_input": "2022-07-06T21:49:15.383830Z",
     "iopub.status.busy": "2022-07-06T21:49:15.383456Z",
     "iopub.status.idle": "2022-07-06T21:49:15.390824Z",
     "shell.execute_reply": "2022-07-06T21:49:15.389304Z"
    },
    "papermill": {
     "duration": 0.019556,
     "end_time": "2022-07-06T21:49:15.393463",
     "exception": false,
     "start_time": "2022-07-06T21:49:15.373907",
     "status": "completed"
    },
    "tags": []
   },
   "outputs": [],
   "source": [
    "data_dir = \"../input/digit-recognizer\""
   ]
  },
  {
   "cell_type": "code",
   "execution_count": 5,
   "id": "a4314852",
   "metadata": {
    "execution": {
     "iopub.execute_input": "2022-07-06T21:49:15.410875Z",
     "iopub.status.busy": "2022-07-06T21:49:15.410155Z",
     "iopub.status.idle": "2022-07-06T21:49:15.417720Z",
     "shell.execute_reply": "2022-07-06T21:49:15.416455Z"
    },
    "papermill": {
     "duration": 0.019779,
     "end_time": "2022-07-06T21:49:15.420627",
     "exception": false,
     "start_time": "2022-07-06T21:49:15.400848",
     "status": "completed"
    },
    "tags": []
   },
   "outputs": [],
   "source": [
    "TARGET = \"label\""
   ]
  },
  {
   "cell_type": "markdown",
   "id": "8ca8bbf8",
   "metadata": {
    "papermill": {
     "duration": 0.007283,
     "end_time": "2022-07-06T21:49:15.435554",
     "exception": false,
     "start_time": "2022-07-06T21:49:15.428271",
     "status": "completed"
    },
    "tags": []
   },
   "source": [
    "<div style=\"background-color:rgba(128, 0, 128, 0.6);border-radius:5px;display:fill\"><h1 style=\"text-align: center;padding: 12px 0px 12px 0px;\">Import Libraries</h1>\n",
    "</div>\n",
    "\n",
    "A best practise is to include all libraries here.  However, I will put a few imports farther down where they are first used so beginners can learn with an \"as needed\" approach."
   ]
  },
  {
   "cell_type": "code",
   "execution_count": 6,
   "id": "1485b338",
   "metadata": {
    "execution": {
     "iopub.execute_input": "2022-07-06T21:49:15.452204Z",
     "iopub.status.busy": "2022-07-06T21:49:15.451813Z",
     "iopub.status.idle": "2022-07-06T21:49:15.462809Z",
     "shell.execute_reply": "2022-07-06T21:49:15.461370Z"
    },
    "papermill": {
     "duration": 0.021918,
     "end_time": "2022-07-06T21:49:15.465078",
     "exception": false,
     "start_time": "2022-07-06T21:49:15.443160",
     "status": "completed"
    },
    "tags": []
   },
   "outputs": [],
   "source": [
    "import os\n",
    "import time\n",
    "from pathlib import Path\n",
    "\n",
    "import pandas as pd\n",
    "import numpy as np\n",
    "\n",
    "from sklearn.model_selection import train_test_split\n",
    "\n",
    "from sklearn.svm import SVC\n",
    "\n",
    "from sklearn.metrics import f1_score"
   ]
  },
  {
   "cell_type": "markdown",
   "id": "bdf286d7",
   "metadata": {
    "papermill": {
     "duration": 0.006946,
     "end_time": "2022-07-06T21:49:15.479710",
     "exception": false,
     "start_time": "2022-07-06T21:49:15.472764",
     "status": "completed"
    },
    "tags": []
   },
   "source": [
    "<div style=\"background-color:rgba(128, 0, 128, 0.6);border-radius:5px;display:fill\"><h1 style=\"text-align: center;padding: 12px 0px 12px 0px;\">Library</h1>\n",
    "</div>\n",
    "\n",
    "Creating a few functions that we will reuse in each project."
   ]
  },
  {
   "cell_type": "code",
   "execution_count": 7,
   "id": "9189ae08",
   "metadata": {
    "execution": {
     "iopub.execute_input": "2022-07-06T21:49:15.495974Z",
     "iopub.status.busy": "2022-07-06T21:49:15.495605Z",
     "iopub.status.idle": "2022-07-06T21:49:15.510356Z",
     "shell.execute_reply": "2022-07-06T21:49:15.509227Z"
    },
    "papermill": {
     "duration": 0.025806,
     "end_time": "2022-07-06T21:49:15.512743",
     "exception": false,
     "start_time": "2022-07-06T21:49:15.486937",
     "status": "completed"
    },
    "tags": []
   },
   "outputs": [],
   "source": [
    "def read_data(path):\n",
    "    data_dir = Path(path)\n",
    "\n",
    "    train = pd.read_csv(data_dir / \"train.csv\")\n",
    "    test = pd.read_csv(data_dir / \"test.csv\")\n",
    "    submission_df = pd.read_csv(data_dir / \"sample_submission.csv\")\n",
    "\n",
    "    print(f\"train data: Rows={train.shape[0]}, Columns={train.shape[1]}\")\n",
    "    print(f\"test data : Rows={test.shape[0]}, Columns={test.shape[1]}\")\n",
    "    return train, test, submission_df"
   ]
  },
  {
   "cell_type": "code",
   "execution_count": 8,
   "id": "f6d0f1b9",
   "metadata": {
    "execution": {
     "iopub.execute_input": "2022-07-06T21:49:15.530270Z",
     "iopub.status.busy": "2022-07-06T21:49:15.529576Z",
     "iopub.status.idle": "2022-07-06T21:49:15.545817Z",
     "shell.execute_reply": "2022-07-06T21:49:15.544115Z"
    },
    "papermill": {
     "duration": 0.028488,
     "end_time": "2022-07-06T21:49:15.548832",
     "exception": false,
     "start_time": "2022-07-06T21:49:15.520344",
     "status": "completed"
    },
    "tags": []
   },
   "outputs": [],
   "source": [
    "def create_submission(model_name, target, preds, is_log_target=False):\n",
    "    if is_log_target:\n",
    "        #         preds = np.exp(preds)\n",
    "        preds = np.expm1(preds)\n",
    "\n",
    "    sample_submission[target] = preds\n",
    "    if len(model_name) > 0:\n",
    "        sample_submission.to_csv(f\"submission_{model_name}.csv\", index=False)\n",
    "    else:\n",
    "        sample_submission.to_csv(f\"submission.csv\", index=False)\n",
    "\n",
    "    return sample_submission[:5]"
   ]
  },
  {
   "cell_type": "markdown",
   "id": "ef2d2657",
   "metadata": {
    "papermill": {
     "duration": 0.006961,
     "end_time": "2022-07-06T21:49:15.563030",
     "exception": false,
     "start_time": "2022-07-06T21:49:15.556069",
     "status": "completed"
    },
    "tags": []
   },
   "source": [
    "<div style=\"background-color:rgba(128, 0, 128, 0.6);border-radius:5px;display:fill\"><h1 style=\"text-align: center;padding: 12px 0px 12px 0px;\">Load Train/Test Data</h1>\n",
    "</div>\n",
    "\n",
    "- train.csv - Data used to build our machine learning model\n",
    "- test.csv - Data used to build our machine learning model. Does not contain the target variable\n",
    "- sample_submission.csv - A file in the proper format to submit test predictions"
   ]
  },
  {
   "cell_type": "code",
   "execution_count": 9,
   "id": "fd24804a",
   "metadata": {
    "execution": {
     "iopub.execute_input": "2022-07-06T21:49:15.579964Z",
     "iopub.status.busy": "2022-07-06T21:49:15.579566Z",
     "iopub.status.idle": "2022-07-06T21:49:22.027616Z",
     "shell.execute_reply": "2022-07-06T21:49:22.026037Z"
    },
    "papermill": {
     "duration": 6.460883,
     "end_time": "2022-07-06T21:49:22.031439",
     "exception": false,
     "start_time": "2022-07-06T21:49:15.570556",
     "status": "completed"
    },
    "tags": []
   },
   "outputs": [
    {
     "name": "stdout",
     "output_type": "stream",
     "text": [
      "train data: Rows=42000, Columns=785\n",
      "test data : Rows=28000, Columns=784\n"
     ]
    }
   ],
   "source": [
    "train, test, sample_submission = read_data(data_dir)"
   ]
  },
  {
   "cell_type": "code",
   "execution_count": 10,
   "id": "82f40bfe",
   "metadata": {
    "execution": {
     "iopub.execute_input": "2022-07-06T21:49:22.048450Z",
     "iopub.status.busy": "2022-07-06T21:49:22.048009Z",
     "iopub.status.idle": "2022-07-06T21:49:22.080558Z",
     "shell.execute_reply": "2022-07-06T21:49:22.079194Z"
    },
    "papermill": {
     "duration": 0.044061,
     "end_time": "2022-07-06T21:49:22.083256",
     "exception": false,
     "start_time": "2022-07-06T21:49:22.039195",
     "status": "completed"
    },
    "tags": []
   },
   "outputs": [
    {
     "data": {
      "text/html": [
       "<div>\n",
       "<style scoped>\n",
       "    .dataframe tbody tr th:only-of-type {\n",
       "        vertical-align: middle;\n",
       "    }\n",
       "\n",
       "    .dataframe tbody tr th {\n",
       "        vertical-align: top;\n",
       "    }\n",
       "\n",
       "    .dataframe thead th {\n",
       "        text-align: right;\n",
       "    }\n",
       "</style>\n",
       "<table border=\"1\" class=\"dataframe\">\n",
       "  <thead>\n",
       "    <tr style=\"text-align: right;\">\n",
       "      <th></th>\n",
       "      <th>label</th>\n",
       "      <th>pixel0</th>\n",
       "      <th>pixel1</th>\n",
       "      <th>pixel2</th>\n",
       "      <th>pixel3</th>\n",
       "      <th>pixel4</th>\n",
       "      <th>pixel5</th>\n",
       "      <th>pixel6</th>\n",
       "      <th>pixel7</th>\n",
       "      <th>pixel8</th>\n",
       "      <th>...</th>\n",
       "      <th>pixel774</th>\n",
       "      <th>pixel775</th>\n",
       "      <th>pixel776</th>\n",
       "      <th>pixel777</th>\n",
       "      <th>pixel778</th>\n",
       "      <th>pixel779</th>\n",
       "      <th>pixel780</th>\n",
       "      <th>pixel781</th>\n",
       "      <th>pixel782</th>\n",
       "      <th>pixel783</th>\n",
       "    </tr>\n",
       "  </thead>\n",
       "  <tbody>\n",
       "    <tr>\n",
       "      <th>0</th>\n",
       "      <td>1</td>\n",
       "      <td>0</td>\n",
       "      <td>0</td>\n",
       "      <td>0</td>\n",
       "      <td>0</td>\n",
       "      <td>0</td>\n",
       "      <td>0</td>\n",
       "      <td>0</td>\n",
       "      <td>0</td>\n",
       "      <td>0</td>\n",
       "      <td>...</td>\n",
       "      <td>0</td>\n",
       "      <td>0</td>\n",
       "      <td>0</td>\n",
       "      <td>0</td>\n",
       "      <td>0</td>\n",
       "      <td>0</td>\n",
       "      <td>0</td>\n",
       "      <td>0</td>\n",
       "      <td>0</td>\n",
       "      <td>0</td>\n",
       "    </tr>\n",
       "    <tr>\n",
       "      <th>1</th>\n",
       "      <td>0</td>\n",
       "      <td>0</td>\n",
       "      <td>0</td>\n",
       "      <td>0</td>\n",
       "      <td>0</td>\n",
       "      <td>0</td>\n",
       "      <td>0</td>\n",
       "      <td>0</td>\n",
       "      <td>0</td>\n",
       "      <td>0</td>\n",
       "      <td>...</td>\n",
       "      <td>0</td>\n",
       "      <td>0</td>\n",
       "      <td>0</td>\n",
       "      <td>0</td>\n",
       "      <td>0</td>\n",
       "      <td>0</td>\n",
       "      <td>0</td>\n",
       "      <td>0</td>\n",
       "      <td>0</td>\n",
       "      <td>0</td>\n",
       "    </tr>\n",
       "    <tr>\n",
       "      <th>2</th>\n",
       "      <td>1</td>\n",
       "      <td>0</td>\n",
       "      <td>0</td>\n",
       "      <td>0</td>\n",
       "      <td>0</td>\n",
       "      <td>0</td>\n",
       "      <td>0</td>\n",
       "      <td>0</td>\n",
       "      <td>0</td>\n",
       "      <td>0</td>\n",
       "      <td>...</td>\n",
       "      <td>0</td>\n",
       "      <td>0</td>\n",
       "      <td>0</td>\n",
       "      <td>0</td>\n",
       "      <td>0</td>\n",
       "      <td>0</td>\n",
       "      <td>0</td>\n",
       "      <td>0</td>\n",
       "      <td>0</td>\n",
       "      <td>0</td>\n",
       "    </tr>\n",
       "    <tr>\n",
       "      <th>3</th>\n",
       "      <td>4</td>\n",
       "      <td>0</td>\n",
       "      <td>0</td>\n",
       "      <td>0</td>\n",
       "      <td>0</td>\n",
       "      <td>0</td>\n",
       "      <td>0</td>\n",
       "      <td>0</td>\n",
       "      <td>0</td>\n",
       "      <td>0</td>\n",
       "      <td>...</td>\n",
       "      <td>0</td>\n",
       "      <td>0</td>\n",
       "      <td>0</td>\n",
       "      <td>0</td>\n",
       "      <td>0</td>\n",
       "      <td>0</td>\n",
       "      <td>0</td>\n",
       "      <td>0</td>\n",
       "      <td>0</td>\n",
       "      <td>0</td>\n",
       "    </tr>\n",
       "    <tr>\n",
       "      <th>4</th>\n",
       "      <td>0</td>\n",
       "      <td>0</td>\n",
       "      <td>0</td>\n",
       "      <td>0</td>\n",
       "      <td>0</td>\n",
       "      <td>0</td>\n",
       "      <td>0</td>\n",
       "      <td>0</td>\n",
       "      <td>0</td>\n",
       "      <td>0</td>\n",
       "      <td>...</td>\n",
       "      <td>0</td>\n",
       "      <td>0</td>\n",
       "      <td>0</td>\n",
       "      <td>0</td>\n",
       "      <td>0</td>\n",
       "      <td>0</td>\n",
       "      <td>0</td>\n",
       "      <td>0</td>\n",
       "      <td>0</td>\n",
       "      <td>0</td>\n",
       "    </tr>\n",
       "  </tbody>\n",
       "</table>\n",
       "<p>5 rows × 785 columns</p>\n",
       "</div>"
      ],
      "text/plain": [
       "   label  pixel0  pixel1  pixel2  pixel3  pixel4  pixel5  pixel6  pixel7  \\\n",
       "0      1       0       0       0       0       0       0       0       0   \n",
       "1      0       0       0       0       0       0       0       0       0   \n",
       "2      1       0       0       0       0       0       0       0       0   \n",
       "3      4       0       0       0       0       0       0       0       0   \n",
       "4      0       0       0       0       0       0       0       0       0   \n",
       "\n",
       "   pixel8  ...  pixel774  pixel775  pixel776  pixel777  pixel778  pixel779  \\\n",
       "0       0  ...         0         0         0         0         0         0   \n",
       "1       0  ...         0         0         0         0         0         0   \n",
       "2       0  ...         0         0         0         0         0         0   \n",
       "3       0  ...         0         0         0         0         0         0   \n",
       "4       0  ...         0         0         0         0         0         0   \n",
       "\n",
       "   pixel780  pixel781  pixel782  pixel783  \n",
       "0         0         0         0         0  \n",
       "1         0         0         0         0  \n",
       "2         0         0         0         0  \n",
       "3         0         0         0         0  \n",
       "4         0         0         0         0  \n",
       "\n",
       "[5 rows x 785 columns]"
      ]
     },
     "execution_count": 10,
     "metadata": {},
     "output_type": "execute_result"
    }
   ],
   "source": [
    "train.head()"
   ]
  },
  {
   "cell_type": "code",
   "execution_count": 11,
   "id": "8270e44d",
   "metadata": {
    "execution": {
     "iopub.execute_input": "2022-07-06T21:49:22.102263Z",
     "iopub.status.busy": "2022-07-06T21:49:22.101843Z",
     "iopub.status.idle": "2022-07-06T21:49:22.114236Z",
     "shell.execute_reply": "2022-07-06T21:49:22.112797Z"
    },
    "papermill": {
     "duration": 0.025674,
     "end_time": "2022-07-06T21:49:22.116867",
     "exception": false,
     "start_time": "2022-07-06T21:49:22.091193",
     "status": "completed"
    },
    "tags": []
   },
   "outputs": [],
   "source": [
    "FEATURES = [\n",
    "    col\n",
    "    for col in train.columns\n",
    "    if col\n",
    "    not in [\n",
    "        \"Id\",\n",
    "        TARGET,\n",
    "        #         TARGET_ENC,\n",
    "    ]\n",
    "]"
   ]
  },
  {
   "cell_type": "code",
   "execution_count": 12,
   "id": "67bf2c83",
   "metadata": {
    "execution": {
     "iopub.execute_input": "2022-07-06T21:49:22.135459Z",
     "iopub.status.busy": "2022-07-06T21:49:22.135052Z",
     "iopub.status.idle": "2022-07-06T21:49:22.539765Z",
     "shell.execute_reply": "2022-07-06T21:49:22.538367Z"
    },
    "papermill": {
     "duration": 0.417784,
     "end_time": "2022-07-06T21:49:22.542590",
     "exception": false,
     "start_time": "2022-07-06T21:49:22.124806",
     "status": "completed"
    },
    "tags": []
   },
   "outputs": [],
   "source": [
    "y = train[TARGET]\n",
    "X = train[FEATURES].copy()\n",
    "\n",
    "X_test = test[FEATURES].copy()"
   ]
  },
  {
   "cell_type": "code",
   "execution_count": 13,
   "id": "0a209f83",
   "metadata": {
    "execution": {
     "iopub.execute_input": "2022-07-06T21:49:22.561018Z",
     "iopub.status.busy": "2022-07-06T21:49:22.560603Z",
     "iopub.status.idle": "2022-07-06T21:49:22.964111Z",
     "shell.execute_reply": "2022-07-06T21:49:22.962695Z"
    },
    "papermill": {
     "duration": 0.415892,
     "end_time": "2022-07-06T21:49:22.966666",
     "exception": false,
     "start_time": "2022-07-06T21:49:22.550774",
     "status": "completed"
    },
    "tags": []
   },
   "outputs": [
    {
     "data": {
      "text/plain": [
       "((37800, 784), (37800,), (4200, 784), (4200,))"
      ]
     },
     "execution_count": 13,
     "metadata": {},
     "output_type": "execute_result"
    }
   ],
   "source": [
    "X_train, X_valid, y_train, y_valid = train_test_split(\n",
    "    X,\n",
    "    y,\n",
    "    test_size=0.1,\n",
    "    random_state=42,\n",
    ")\n",
    "X_train.shape, y_train.shape, X_valid.shape, y_valid.shape"
   ]
  },
  {
   "cell_type": "markdown",
   "id": "bce25370",
   "metadata": {
    "papermill": {
     "duration": 0.007614,
     "end_time": "2022-07-06T21:49:22.982350",
     "exception": false,
     "start_time": "2022-07-06T21:49:22.974736",
     "status": "completed"
    },
    "tags": []
   },
   "source": [
    "<div style=\"background-color:rgba(128, 0, 128, 0.6);border-radius:5px;display:fill\"><h1 style=\"text-align: center;padding: 12px 0px 12px 0px;\">Create Models</h1>\n",
    "</div>"
   ]
  },
  {
   "cell_type": "code",
   "execution_count": 14,
   "id": "9fe926c7",
   "metadata": {
    "execution": {
     "iopub.execute_input": "2022-07-06T21:49:23.001127Z",
     "iopub.status.busy": "2022-07-06T21:49:23.000722Z",
     "iopub.status.idle": "2022-07-06T21:50:22.394465Z",
     "shell.execute_reply": "2022-07-06T21:50:22.393174Z"
    },
    "papermill": {
     "duration": 59.412755,
     "end_time": "2022-07-06T21:50:22.403333",
     "exception": false,
     "start_time": "2022-07-06T21:49:22.990578",
     "status": "completed"
    },
    "tags": []
   },
   "outputs": [
    {
     "name": "stdout",
     "output_type": "stream",
     "text": [
      "CPU times: user 1min 52s, sys: 5.98 s, total: 1min 58s\n",
      "Wall time: 59.4 s\n"
     ]
    },
    {
     "data": {
      "text/plain": [
       "SVC(C=10)"
      ]
     },
     "execution_count": 14,
     "metadata": {},
     "output_type": "execute_result"
    }
   ],
   "source": [
    "%%time\n",
    "\n",
    "clf = SVC(C=10, kernel=\"rbf\")\n",
    "clf.fit(X_train, y_train)"
   ]
  },
  {
   "cell_type": "code",
   "execution_count": 15,
   "id": "cb8d5ea5",
   "metadata": {
    "execution": {
     "iopub.execute_input": "2022-07-06T21:50:22.422366Z",
     "iopub.status.busy": "2022-07-06T21:50:22.421945Z",
     "iopub.status.idle": "2022-07-06T21:50:25.366569Z",
     "shell.execute_reply": "2022-07-06T21:50:25.365392Z"
    },
    "papermill": {
     "duration": 2.957555,
     "end_time": "2022-07-06T21:50:25.369176",
     "exception": false,
     "start_time": "2022-07-06T21:50:22.411621",
     "status": "completed"
    },
    "tags": []
   },
   "outputs": [],
   "source": [
    "preds = clf.predict(X_valid)"
   ]
  },
  {
   "cell_type": "markdown",
   "id": "3b9b4dfc",
   "metadata": {
    "papermill": {
     "duration": 0.007926,
     "end_time": "2022-07-06T21:50:25.386163",
     "exception": false,
     "start_time": "2022-07-06T21:50:25.378237",
     "status": "completed"
    },
    "tags": []
   },
   "source": [
    "## Score"
   ]
  },
  {
   "cell_type": "code",
   "execution_count": 16,
   "id": "35092012",
   "metadata": {
    "execution": {
     "iopub.execute_input": "2022-07-06T21:50:25.404602Z",
     "iopub.status.busy": "2022-07-06T21:50:25.404200Z",
     "iopub.status.idle": "2022-07-06T21:50:25.417817Z",
     "shell.execute_reply": "2022-07-06T21:50:25.416910Z"
    },
    "papermill": {
     "duration": 0.02591,
     "end_time": "2022-07-06T21:50:25.420336",
     "exception": false,
     "start_time": "2022-07-06T21:50:25.394426",
     "status": "completed"
    },
    "tags": []
   },
   "outputs": [
    {
     "data": {
      "text/plain": [
       "0.9812023935685119"
      ]
     },
     "execution_count": 16,
     "metadata": {},
     "output_type": "execute_result"
    }
   ],
   "source": [
    "f1_score(y_valid, preds, average=\"macro\")"
   ]
  },
  {
   "cell_type": "code",
   "execution_count": 17,
   "id": "0370325b",
   "metadata": {
    "execution": {
     "iopub.execute_input": "2022-07-06T21:50:25.439244Z",
     "iopub.status.busy": "2022-07-06T21:50:25.438126Z",
     "iopub.status.idle": "2022-07-06T21:50:45.700100Z",
     "shell.execute_reply": "2022-07-06T21:50:45.698840Z"
    },
    "papermill": {
     "duration": 20.274477,
     "end_time": "2022-07-06T21:50:45.703082",
     "exception": false,
     "start_time": "2022-07-06T21:50:25.428605",
     "status": "completed"
    },
    "tags": []
   },
   "outputs": [
    {
     "name": "stderr",
     "output_type": "stream",
     "text": [
      "/opt/conda/lib/python3.7/site-packages/sklearn/base.py:444: UserWarning: X has feature names, but SVC was fitted without feature names\n",
      "  f\"X has feature names, but {self.__class__.__name__} was fitted without\"\n"
     ]
    }
   ],
   "source": [
    "preds = clf.predict(X_test)"
   ]
  },
  {
   "cell_type": "markdown",
   "id": "209deb8e",
   "metadata": {
    "papermill": {
     "duration": 0.00863,
     "end_time": "2022-07-06T21:50:45.721030",
     "exception": false,
     "start_time": "2022-07-06T21:50:45.712400",
     "status": "completed"
    },
    "tags": []
   },
   "source": [
    "## Submission"
   ]
  },
  {
   "cell_type": "code",
   "execution_count": 18,
   "id": "f3bd394a",
   "metadata": {
    "execution": {
     "iopub.execute_input": "2022-07-06T21:50:45.740489Z",
     "iopub.status.busy": "2022-07-06T21:50:45.740066Z",
     "iopub.status.idle": "2022-07-06T21:50:45.799433Z",
     "shell.execute_reply": "2022-07-06T21:50:45.797861Z"
    },
    "papermill": {
     "duration": 0.072922,
     "end_time": "2022-07-06T21:50:45.802528",
     "exception": false,
     "start_time": "2022-07-06T21:50:45.729606",
     "status": "completed"
    },
    "tags": []
   },
   "outputs": [
    {
     "data": {
      "text/html": [
       "<div>\n",
       "<style scoped>\n",
       "    .dataframe tbody tr th:only-of-type {\n",
       "        vertical-align: middle;\n",
       "    }\n",
       "\n",
       "    .dataframe tbody tr th {\n",
       "        vertical-align: top;\n",
       "    }\n",
       "\n",
       "    .dataframe thead th {\n",
       "        text-align: right;\n",
       "    }\n",
       "</style>\n",
       "<table border=\"1\" class=\"dataframe\">\n",
       "  <thead>\n",
       "    <tr style=\"text-align: right;\">\n",
       "      <th></th>\n",
       "      <th>ImageId</th>\n",
       "      <th>Label</th>\n",
       "    </tr>\n",
       "  </thead>\n",
       "  <tbody>\n",
       "    <tr>\n",
       "      <th>0</th>\n",
       "      <td>1</td>\n",
       "      <td>2</td>\n",
       "    </tr>\n",
       "    <tr>\n",
       "      <th>1</th>\n",
       "      <td>2</td>\n",
       "      <td>0</td>\n",
       "    </tr>\n",
       "    <tr>\n",
       "      <th>2</th>\n",
       "      <td>3</td>\n",
       "      <td>9</td>\n",
       "    </tr>\n",
       "    <tr>\n",
       "      <th>3</th>\n",
       "      <td>4</td>\n",
       "      <td>9</td>\n",
       "    </tr>\n",
       "    <tr>\n",
       "      <th>4</th>\n",
       "      <td>5</td>\n",
       "      <td>3</td>\n",
       "    </tr>\n",
       "  </tbody>\n",
       "</table>\n",
       "</div>"
      ],
      "text/plain": [
       "   ImageId  Label\n",
       "0        1      2\n",
       "1        2      0\n",
       "2        3      9\n",
       "3        4      9\n",
       "4        5      3"
      ]
     },
     "execution_count": 18,
     "metadata": {},
     "output_type": "execute_result"
    }
   ],
   "source": [
    "# Different TARGET name used in test.csv\n",
    "ss = create_submission(\"\", \"Label\", preds)\n",
    "ss"
   ]
  }
 ],
 "metadata": {
  "kernelspec": {
   "display_name": "Python 3",
   "language": "python",
   "name": "python3"
  },
  "language_info": {
   "codemirror_mode": {
    "name": "ipython",
    "version": 3
   },
   "file_extension": ".py",
   "mimetype": "text/x-python",
   "name": "python",
   "nbconvert_exporter": "python",
   "pygments_lexer": "ipython3",
   "version": "3.7.12"
  },
  "papermill": {
   "default_parameters": {},
   "duration": 133.651209,
   "end_time": "2022-07-06T21:50:46.735580",
   "environment_variables": {},
   "exception": null,
   "input_path": "__notebook__.ipynb",
   "output_path": "__notebook__.ipynb",
   "parameters": {},
   "start_time": "2022-07-06T21:48:33.084371",
   "version": "2.3.4"
  }
 },
 "nbformat": 4,
 "nbformat_minor": 5
}
