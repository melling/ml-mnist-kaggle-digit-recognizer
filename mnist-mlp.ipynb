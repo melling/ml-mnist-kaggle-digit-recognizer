{
 "cells": [
  {
   "cell_type": "markdown",
   "id": "8bb8a950",
   "metadata": {
    "papermill": {
     "duration": 0.009867,
     "end_time": "2022-09-21T15:26:03.214533",
     "exception": false,
     "start_time": "2022-09-21T15:26:03.204666",
     "status": "completed"
    },
    "tags": []
   },
   "source": [
    "<div style=\"background-color:rgba(128, 0, 128, 0.6);border-radius:5px;display:fill\"><h1 style=\"text-align: center;padding: 12px 0px 12px 0px;\">MNIST: Multi-layer Perceptron Classifier</h1>\n",
    "</div>\n",
    "\n",
    "Problem Type: Multi-classification\n",
    "\n",
    "## Evaluation Metric"
   ]
  },
  {
   "cell_type": "code",
   "execution_count": 1,
   "id": "9837587f",
   "metadata": {
    "execution": {
     "iopub.execute_input": "2022-09-21T15:26:03.234416Z",
     "iopub.status.busy": "2022-09-21T15:26:03.233593Z",
     "iopub.status.idle": "2022-09-21T15:26:19.109269Z",
     "shell.execute_reply": "2022-09-21T15:26:19.107951Z"
    },
    "papermill": {
     "duration": 15.889267,
     "end_time": "2022-09-21T15:26:19.112558",
     "exception": false,
     "start_time": "2022-09-21T15:26:03.223291",
     "status": "completed"
    },
    "tags": []
   },
   "outputs": [
    {
     "name": "stdout",
     "output_type": "stream",
     "text": [
      "\u001b[33mWARNING: Running pip as the 'root' user can result in broken permissions and conflicting behaviour with the system package manager. It is recommended to use a virtual environment instead: https://pip.pypa.io/warnings/venv\u001b[0m\u001b[33m\r\n",
      "\u001b[0m"
     ]
    }
   ],
   "source": [
    "# Black formatter https://black.readthedocs.io/en/stable/\n",
    "\n",
    "! pip install nb-black > /dev/null\n",
    "\n",
    "%load_ext lab_black"
   ]
  },
  {
   "cell_type": "markdown",
   "id": "9435ee20",
   "metadata": {
    "papermill": {
     "duration": 0.00935,
     "end_time": "2022-09-21T15:26:19.130890",
     "exception": false,
     "start_time": "2022-09-21T15:26:19.121540",
     "status": "completed"
    },
    "tags": []
   },
   "source": [
    "<div style=\"background-color:rgba(128, 0, 128, 0.6);border-radius:5px;display:fill\"><h1 style=\"text-align: center;padding: 12px 0px 12px 0px;\">Configuration</h1>\n",
    "</div>"
   ]
  },
  {
   "cell_type": "code",
   "execution_count": 2,
   "id": "25c5ec52",
   "metadata": {
    "execution": {
     "iopub.execute_input": "2022-09-21T15:26:19.151469Z",
     "iopub.status.busy": "2022-09-21T15:26:19.151016Z",
     "iopub.status.idle": "2022-09-21T15:26:19.158776Z",
     "shell.execute_reply": "2022-09-21T15:26:19.157509Z"
    },
    "papermill": {
     "duration": 0.020845,
     "end_time": "2022-09-21T15:26:19.161215",
     "exception": false,
     "start_time": "2022-09-21T15:26:19.140370",
     "status": "completed"
    },
    "tags": []
   },
   "outputs": [],
   "source": [
    "TARGET = \"label\""
   ]
  },
  {
   "cell_type": "markdown",
   "id": "ca7d347f",
   "metadata": {
    "papermill": {
     "duration": 0.010371,
     "end_time": "2022-09-21T15:26:19.180463",
     "exception": false,
     "start_time": "2022-09-21T15:26:19.170092",
     "status": "completed"
    },
    "tags": []
   },
   "source": [
    "<div style=\"background-color:rgba(128, 0, 128, 0.6);border-radius:5px;display:fill\"><h1 style=\"text-align: center;padding: 12px 0px 12px 0px;\">Import Libraries</h1>\n",
    "</div>\n",
    "\n",
    "A best practise is to include all libraries here.  However, I will put a few imports farther down where they are first used so beginners can learn with an \"as needed\" approach."
   ]
  },
  {
   "cell_type": "code",
   "execution_count": 3,
   "id": "ff834790",
   "metadata": {
    "execution": {
     "iopub.execute_input": "2022-09-21T15:26:19.200864Z",
     "iopub.status.busy": "2022-09-21T15:26:19.200136Z",
     "iopub.status.idle": "2022-09-21T15:26:20.635449Z",
     "shell.execute_reply": "2022-09-21T15:26:20.634358Z"
    },
    "papermill": {
     "duration": 1.448467,
     "end_time": "2022-09-21T15:26:20.638005",
     "exception": false,
     "start_time": "2022-09-21T15:26:19.189538",
     "status": "completed"
    },
    "tags": []
   },
   "outputs": [],
   "source": [
    "import os\n",
    "import time\n",
    "from pathlib import Path\n",
    "\n",
    "import pandas as pd\n",
    "import numpy as np\n",
    "\n",
    "from sklearn.model_selection import train_test_split\n",
    "from sklearn.neural_network import MLPClassifier\n",
    "\n",
    "# Visualization Libraries\n",
    "import matplotlib as mpl\n",
    "import matplotlib.pylab as plt\n",
    "import seaborn as sns\n",
    "\n",
    "from sklearn.metrics import f1_score"
   ]
  },
  {
   "cell_type": "markdown",
   "id": "1f43c7d6",
   "metadata": {
    "papermill": {
     "duration": 0.008501,
     "end_time": "2022-09-21T15:26:20.655365",
     "exception": false,
     "start_time": "2022-09-21T15:26:20.646864",
     "status": "completed"
    },
    "tags": []
   },
   "source": [
    "<div style=\"background-color:rgba(128, 0, 128, 0.6);border-radius:5px;display:fill\"><h1 style=\"text-align: center;padding: 12px 0px 12px 0px;\">Library</h1>\n",
    "</div>\n",
    "\n",
    "Creating a few functions that we will reuse in each project."
   ]
  },
  {
   "cell_type": "code",
   "execution_count": 4,
   "id": "4ad4e381",
   "metadata": {
    "execution": {
     "iopub.execute_input": "2022-09-21T15:26:20.675163Z",
     "iopub.status.busy": "2022-09-21T15:26:20.674277Z",
     "iopub.status.idle": "2022-09-21T15:26:20.688490Z",
     "shell.execute_reply": "2022-09-21T15:26:20.687576Z"
    },
    "papermill": {
     "duration": 0.027005,
     "end_time": "2022-09-21T15:26:20.691084",
     "exception": false,
     "start_time": "2022-09-21T15:26:20.664079",
     "status": "completed"
    },
    "tags": []
   },
   "outputs": [],
   "source": [
    "def read_data(path):\n",
    "    data_dir = Path(path)\n",
    "\n",
    "    train = pd.read_csv(data_dir / \"train.csv\")\n",
    "    test = pd.read_csv(data_dir / \"test.csv\")\n",
    "    submission_df = pd.read_csv(data_dir / \"sample_submission.csv\")\n",
    "\n",
    "    print(f\"train data: Rows={train.shape[0]}, Columns={train.shape[1]}\")\n",
    "    print(f\"test data : Rows={test.shape[0]}, Columns={test.shape[1]}\")\n",
    "    return train, test, submission_df"
   ]
  },
  {
   "cell_type": "code",
   "execution_count": 5,
   "id": "85e25d56",
   "metadata": {
    "execution": {
     "iopub.execute_input": "2022-09-21T15:26:20.711200Z",
     "iopub.status.busy": "2022-09-21T15:26:20.710329Z",
     "iopub.status.idle": "2022-09-21T15:26:20.725363Z",
     "shell.execute_reply": "2022-09-21T15:26:20.724485Z"
    },
    "papermill": {
     "duration": 0.027845,
     "end_time": "2022-09-21T15:26:20.728016",
     "exception": false,
     "start_time": "2022-09-21T15:26:20.700171",
     "status": "completed"
    },
    "tags": []
   },
   "outputs": [],
   "source": [
    "def create_submission(model_name, target, preds, is_log_target=False):\n",
    "    if is_log_target:\n",
    "        #         preds = np.exp(preds)\n",
    "        preds = np.expm1(preds)\n",
    "\n",
    "    sample_submission[target] = preds\n",
    "    if len(model_name) > 0:\n",
    "        sample_submission.to_csv(f\"submission_{model_name}.csv\", index=False)\n",
    "    else:\n",
    "        sample_submission.to_csv(f\"submission.csv\", index=False)\n",
    "\n",
    "    return sample_submission[:5]"
   ]
  },
  {
   "cell_type": "code",
   "execution_count": 6,
   "id": "5570e72a",
   "metadata": {
    "execution": {
     "iopub.execute_input": "2022-09-21T15:26:20.751967Z",
     "iopub.status.busy": "2022-09-21T15:26:20.751179Z",
     "iopub.status.idle": "2022-09-21T15:26:20.764095Z",
     "shell.execute_reply": "2022-09-21T15:26:20.763245Z"
    },
    "papermill": {
     "duration": 0.025875,
     "end_time": "2022-09-21T15:26:20.766635",
     "exception": false,
     "start_time": "2022-09-21T15:26:20.740760",
     "status": "completed"
    },
    "tags": []
   },
   "outputs": [],
   "source": [
    "from sklearn.metrics import mean_absolute_error, mean_squared_error, f1_score\n",
    "\n",
    "\n",
    "def show_scores(gt, yhat):\n",
    "    f1 = f1_score(gt, yhat, average=\"macro\")\n",
    "    mse = mean_squared_error(gt, yhat)\n",
    "    mae = mean_absolute_error(gt, yhat)\n",
    "    rmse = np.sqrt(mse)\n",
    "    #     r2_square = r2_score(gt, yhat)\n",
    "\n",
    "    print(f\"f1: {f1:.4f}\")"
   ]
  },
  {
   "cell_type": "markdown",
   "id": "f3824c48",
   "metadata": {
    "papermill": {
     "duration": 0.0084,
     "end_time": "2022-09-21T15:26:20.783778",
     "exception": false,
     "start_time": "2022-09-21T15:26:20.775378",
     "status": "completed"
    },
    "tags": []
   },
   "source": [
    "<div style=\"background-color:rgba(128, 0, 128, 0.6);border-radius:5px;display:fill\"><h1 style=\"text-align: center;padding: 12px 0px 12px 0px;\">Load Train/Test Data</h1>\n",
    "</div>\n",
    "\n",
    "- train.csv - Data used to build our machine learning model\n",
    "- test.csv - Data used to build our machine learning model. Does not contain the target variable\n",
    "- sample_submission.csv - A file in the proper format to submit test predictions"
   ]
  },
  {
   "cell_type": "code",
   "execution_count": 7,
   "id": "dcdb123c",
   "metadata": {
    "execution": {
     "iopub.execute_input": "2022-09-21T15:26:20.803863Z",
     "iopub.status.busy": "2022-09-21T15:26:20.803055Z",
     "iopub.status.idle": "2022-09-21T15:26:26.794535Z",
     "shell.execute_reply": "2022-09-21T15:26:26.793044Z"
    },
    "papermill": {
     "duration": 6.004477,
     "end_time": "2022-09-21T15:26:26.797231",
     "exception": false,
     "start_time": "2022-09-21T15:26:20.792754",
     "status": "completed"
    },
    "tags": []
   },
   "outputs": [
    {
     "name": "stdout",
     "output_type": "stream",
     "text": [
      "train data: Rows=42000, Columns=785\n",
      "test data : Rows=28000, Columns=784\n"
     ]
    }
   ],
   "source": [
    "train, test, sample_submission = read_data(\"../input/digit-recognizer\")"
   ]
  },
  {
   "cell_type": "code",
   "execution_count": 8,
   "id": "661a5bf3",
   "metadata": {
    "execution": {
     "iopub.execute_input": "2022-09-21T15:26:26.816874Z",
     "iopub.status.busy": "2022-09-21T15:26:26.816468Z",
     "iopub.status.idle": "2022-09-21T15:26:26.848489Z",
     "shell.execute_reply": "2022-09-21T15:26:26.847137Z"
    },
    "papermill": {
     "duration": 0.045192,
     "end_time": "2022-09-21T15:26:26.851552",
     "exception": false,
     "start_time": "2022-09-21T15:26:26.806360",
     "status": "completed"
    },
    "tags": []
   },
   "outputs": [
    {
     "data": {
      "text/html": [
       "<div>\n",
       "<style scoped>\n",
       "    .dataframe tbody tr th:only-of-type {\n",
       "        vertical-align: middle;\n",
       "    }\n",
       "\n",
       "    .dataframe tbody tr th {\n",
       "        vertical-align: top;\n",
       "    }\n",
       "\n",
       "    .dataframe thead th {\n",
       "        text-align: right;\n",
       "    }\n",
       "</style>\n",
       "<table border=\"1\" class=\"dataframe\">\n",
       "  <thead>\n",
       "    <tr style=\"text-align: right;\">\n",
       "      <th></th>\n",
       "      <th>label</th>\n",
       "      <th>pixel0</th>\n",
       "      <th>pixel1</th>\n",
       "      <th>pixel2</th>\n",
       "      <th>pixel3</th>\n",
       "      <th>pixel4</th>\n",
       "      <th>pixel5</th>\n",
       "      <th>pixel6</th>\n",
       "      <th>pixel7</th>\n",
       "      <th>pixel8</th>\n",
       "      <th>...</th>\n",
       "      <th>pixel774</th>\n",
       "      <th>pixel775</th>\n",
       "      <th>pixel776</th>\n",
       "      <th>pixel777</th>\n",
       "      <th>pixel778</th>\n",
       "      <th>pixel779</th>\n",
       "      <th>pixel780</th>\n",
       "      <th>pixel781</th>\n",
       "      <th>pixel782</th>\n",
       "      <th>pixel783</th>\n",
       "    </tr>\n",
       "  </thead>\n",
       "  <tbody>\n",
       "    <tr>\n",
       "      <th>0</th>\n",
       "      <td>1</td>\n",
       "      <td>0</td>\n",
       "      <td>0</td>\n",
       "      <td>0</td>\n",
       "      <td>0</td>\n",
       "      <td>0</td>\n",
       "      <td>0</td>\n",
       "      <td>0</td>\n",
       "      <td>0</td>\n",
       "      <td>0</td>\n",
       "      <td>...</td>\n",
       "      <td>0</td>\n",
       "      <td>0</td>\n",
       "      <td>0</td>\n",
       "      <td>0</td>\n",
       "      <td>0</td>\n",
       "      <td>0</td>\n",
       "      <td>0</td>\n",
       "      <td>0</td>\n",
       "      <td>0</td>\n",
       "      <td>0</td>\n",
       "    </tr>\n",
       "    <tr>\n",
       "      <th>1</th>\n",
       "      <td>0</td>\n",
       "      <td>0</td>\n",
       "      <td>0</td>\n",
       "      <td>0</td>\n",
       "      <td>0</td>\n",
       "      <td>0</td>\n",
       "      <td>0</td>\n",
       "      <td>0</td>\n",
       "      <td>0</td>\n",
       "      <td>0</td>\n",
       "      <td>...</td>\n",
       "      <td>0</td>\n",
       "      <td>0</td>\n",
       "      <td>0</td>\n",
       "      <td>0</td>\n",
       "      <td>0</td>\n",
       "      <td>0</td>\n",
       "      <td>0</td>\n",
       "      <td>0</td>\n",
       "      <td>0</td>\n",
       "      <td>0</td>\n",
       "    </tr>\n",
       "    <tr>\n",
       "      <th>2</th>\n",
       "      <td>1</td>\n",
       "      <td>0</td>\n",
       "      <td>0</td>\n",
       "      <td>0</td>\n",
       "      <td>0</td>\n",
       "      <td>0</td>\n",
       "      <td>0</td>\n",
       "      <td>0</td>\n",
       "      <td>0</td>\n",
       "      <td>0</td>\n",
       "      <td>...</td>\n",
       "      <td>0</td>\n",
       "      <td>0</td>\n",
       "      <td>0</td>\n",
       "      <td>0</td>\n",
       "      <td>0</td>\n",
       "      <td>0</td>\n",
       "      <td>0</td>\n",
       "      <td>0</td>\n",
       "      <td>0</td>\n",
       "      <td>0</td>\n",
       "    </tr>\n",
       "    <tr>\n",
       "      <th>3</th>\n",
       "      <td>4</td>\n",
       "      <td>0</td>\n",
       "      <td>0</td>\n",
       "      <td>0</td>\n",
       "      <td>0</td>\n",
       "      <td>0</td>\n",
       "      <td>0</td>\n",
       "      <td>0</td>\n",
       "      <td>0</td>\n",
       "      <td>0</td>\n",
       "      <td>...</td>\n",
       "      <td>0</td>\n",
       "      <td>0</td>\n",
       "      <td>0</td>\n",
       "      <td>0</td>\n",
       "      <td>0</td>\n",
       "      <td>0</td>\n",
       "      <td>0</td>\n",
       "      <td>0</td>\n",
       "      <td>0</td>\n",
       "      <td>0</td>\n",
       "    </tr>\n",
       "    <tr>\n",
       "      <th>4</th>\n",
       "      <td>0</td>\n",
       "      <td>0</td>\n",
       "      <td>0</td>\n",
       "      <td>0</td>\n",
       "      <td>0</td>\n",
       "      <td>0</td>\n",
       "      <td>0</td>\n",
       "      <td>0</td>\n",
       "      <td>0</td>\n",
       "      <td>0</td>\n",
       "      <td>...</td>\n",
       "      <td>0</td>\n",
       "      <td>0</td>\n",
       "      <td>0</td>\n",
       "      <td>0</td>\n",
       "      <td>0</td>\n",
       "      <td>0</td>\n",
       "      <td>0</td>\n",
       "      <td>0</td>\n",
       "      <td>0</td>\n",
       "      <td>0</td>\n",
       "    </tr>\n",
       "  </tbody>\n",
       "</table>\n",
       "<p>5 rows × 785 columns</p>\n",
       "</div>"
      ],
      "text/plain": [
       "   label  pixel0  pixel1  pixel2  pixel3  pixel4  pixel5  pixel6  pixel7  \\\n",
       "0      1       0       0       0       0       0       0       0       0   \n",
       "1      0       0       0       0       0       0       0       0       0   \n",
       "2      1       0       0       0       0       0       0       0       0   \n",
       "3      4       0       0       0       0       0       0       0       0   \n",
       "4      0       0       0       0       0       0       0       0       0   \n",
       "\n",
       "   pixel8  ...  pixel774  pixel775  pixel776  pixel777  pixel778  pixel779  \\\n",
       "0       0  ...         0         0         0         0         0         0   \n",
       "1       0  ...         0         0         0         0         0         0   \n",
       "2       0  ...         0         0         0         0         0         0   \n",
       "3       0  ...         0         0         0         0         0         0   \n",
       "4       0  ...         0         0         0         0         0         0   \n",
       "\n",
       "   pixel780  pixel781  pixel782  pixel783  \n",
       "0         0         0         0         0  \n",
       "1         0         0         0         0  \n",
       "2         0         0         0         0  \n",
       "3         0         0         0         0  \n",
       "4         0         0         0         0  \n",
       "\n",
       "[5 rows x 785 columns]"
      ]
     },
     "execution_count": 8,
     "metadata": {},
     "output_type": "execute_result"
    }
   ],
   "source": [
    "train.head()"
   ]
  },
  {
   "cell_type": "code",
   "execution_count": 9,
   "id": "cc394ebc",
   "metadata": {
    "execution": {
     "iopub.execute_input": "2022-09-21T15:26:26.872356Z",
     "iopub.status.busy": "2022-09-21T15:26:26.871488Z",
     "iopub.status.idle": "2022-09-21T15:26:26.882919Z",
     "shell.execute_reply": "2022-09-21T15:26:26.881712Z"
    },
    "papermill": {
     "duration": 0.025116,
     "end_time": "2022-09-21T15:26:26.885991",
     "exception": false,
     "start_time": "2022-09-21T15:26:26.860875",
     "status": "completed"
    },
    "tags": []
   },
   "outputs": [],
   "source": [
    "FEATURES = [\n",
    "    col\n",
    "    for col in train.columns\n",
    "    if col\n",
    "    not in [\n",
    "        \"Id\",\n",
    "        TARGET,\n",
    "        #         TARGET_ENC,\n",
    "    ]\n",
    "]"
   ]
  },
  {
   "cell_type": "code",
   "execution_count": 10,
   "id": "265f489b",
   "metadata": {
    "execution": {
     "iopub.execute_input": "2022-09-21T15:26:26.906684Z",
     "iopub.status.busy": "2022-09-21T15:26:26.906251Z",
     "iopub.status.idle": "2022-09-21T15:26:27.299676Z",
     "shell.execute_reply": "2022-09-21T15:26:27.298457Z"
    },
    "papermill": {
     "duration": 0.406707,
     "end_time": "2022-09-21T15:26:27.302460",
     "exception": false,
     "start_time": "2022-09-21T15:26:26.895753",
     "status": "completed"
    },
    "tags": []
   },
   "outputs": [],
   "source": [
    "y = train[TARGET]\n",
    "X = train[FEATURES].copy()\n",
    "\n",
    "X_test = test[FEATURES].copy()"
   ]
  },
  {
   "cell_type": "code",
   "execution_count": 11,
   "id": "78b347dd",
   "metadata": {
    "execution": {
     "iopub.execute_input": "2022-09-21T15:26:27.323797Z",
     "iopub.status.busy": "2022-09-21T15:26:27.322507Z",
     "iopub.status.idle": "2022-09-21T15:26:28.366661Z",
     "shell.execute_reply": "2022-09-21T15:26:28.365521Z"
    },
    "papermill": {
     "duration": 1.057246,
     "end_time": "2022-09-21T15:26:28.369147",
     "exception": false,
     "start_time": "2022-09-21T15:26:27.311901",
     "status": "completed"
    },
    "tags": []
   },
   "outputs": [
    {
     "data": {
      "image/png": "[encoded data removed]",
      "text/plain": [
       "<Figure size 720x504 with 10 Axes>"
      ]
     },
     "metadata": {
      "needs_background": "light"
     },
     "output_type": "display_data"
    }
   ],
   "source": [
    "images = X.values.reshape(-1, 28, 28)\n",
    "fig, ax = plt.subplots(2, 5, figsize=(10, 7))\n",
    "ax = ax.ravel()\n",
    "for i, index in enumerate(images[:10]):\n",
    "    ax[i].set_title(f\"Label: {y[i]}\")\n",
    "    ax[i].imshow(images[i], cmap=\"gray\")"
   ]
  },
  {
   "cell_type": "code",
   "execution_count": 12,
   "id": "95862d94",
   "metadata": {
    "execution": {
     "iopub.execute_input": "2022-09-21T15:26:28.390407Z",
     "iopub.status.busy": "2022-09-21T15:26:28.390001Z",
     "iopub.status.idle": "2022-09-21T15:26:28.440156Z",
     "shell.execute_reply": "2022-09-21T15:26:28.438967Z"
    },
    "papermill": {
     "duration": 0.06372,
     "end_time": "2022-09-21T15:26:28.442712",
     "exception": false,
     "start_time": "2022-09-21T15:26:28.378992",
     "status": "completed"
    },
    "tags": []
   },
   "outputs": [
    {
     "data": {
      "text/plain": [
       "pixel0       0\n",
       "pixel1       0\n",
       "pixel2       0\n",
       "pixel3       0\n",
       "pixel4       0\n",
       "            ..\n",
       "pixel779    62\n",
       "pixel780     0\n",
       "pixel781     0\n",
       "pixel782     0\n",
       "pixel783     0\n",
       "Length: 784, dtype: int64"
      ]
     },
     "execution_count": 12,
     "metadata": {},
     "output_type": "execute_result"
    }
   ],
   "source": [
    "X.max()"
   ]
  },
  {
   "cell_type": "code",
   "execution_count": 13,
   "id": "8dc11f26",
   "metadata": {
    "execution": {
     "iopub.execute_input": "2022-09-21T15:26:28.463766Z",
     "iopub.status.busy": "2022-09-21T15:26:28.463376Z",
     "iopub.status.idle": "2022-09-21T15:26:28.578209Z",
     "shell.execute_reply": "2022-09-21T15:26:28.577377Z"
    },
    "papermill": {
     "duration": 0.128375,
     "end_time": "2022-09-21T15:26:28.580837",
     "exception": false,
     "start_time": "2022-09-21T15:26:28.452462",
     "status": "completed"
    },
    "tags": []
   },
   "outputs": [],
   "source": [
    "# Normalize the data\n",
    "X = X / 255.0\n",
    "X_test = X_test / 255.0"
   ]
  },
  {
   "cell_type": "code",
   "execution_count": 14,
   "id": "e40ee25d",
   "metadata": {
    "execution": {
     "iopub.execute_input": "2022-09-21T15:26:28.603119Z",
     "iopub.status.busy": "2022-09-21T15:26:28.602121Z",
     "iopub.status.idle": "2022-09-21T15:26:28.711391Z",
     "shell.execute_reply": "2022-09-21T15:26:28.710210Z"
    },
    "papermill": {
     "duration": 0.123059,
     "end_time": "2022-09-21T15:26:28.714207",
     "exception": false,
     "start_time": "2022-09-21T15:26:28.591148",
     "status": "completed"
    },
    "tags": []
   },
   "outputs": [
    {
     "data": {
      "text/plain": [
       "pixel0      0.000000\n",
       "pixel1      0.000000\n",
       "pixel2      0.000000\n",
       "pixel3      0.000000\n",
       "pixel4      0.000000\n",
       "              ...   \n",
       "pixel779    0.243137\n",
       "pixel780    0.000000\n",
       "pixel781    0.000000\n",
       "pixel782    0.000000\n",
       "pixel783    0.000000\n",
       "Length: 784, dtype: float64"
      ]
     },
     "execution_count": 14,
     "metadata": {},
     "output_type": "execute_result"
    }
   ],
   "source": [
    "X.max()"
   ]
  },
  {
   "cell_type": "code",
   "execution_count": 15,
   "id": "ba50ab38",
   "metadata": {
    "execution": {
     "iopub.execute_input": "2022-09-21T15:26:28.736436Z",
     "iopub.status.busy": "2022-09-21T15:26:28.735985Z",
     "iopub.status.idle": "2022-09-21T15:26:28.771463Z",
     "shell.execute_reply": "2022-09-21T15:26:28.770677Z"
    },
    "papermill": {
     "duration": 0.049144,
     "end_time": "2022-09-21T15:26:28.773530",
     "exception": false,
     "start_time": "2022-09-21T15:26:28.724386",
     "status": "completed"
    },
    "tags": []
   },
   "outputs": [
    {
     "data": {
      "text/html": [
       "<div>\n",
       "<style scoped>\n",
       "    .dataframe tbody tr th:only-of-type {\n",
       "        vertical-align: middle;\n",
       "    }\n",
       "\n",
       "    .dataframe tbody tr th {\n",
       "        vertical-align: top;\n",
       "    }\n",
       "\n",
       "    .dataframe thead th {\n",
       "        text-align: right;\n",
       "    }\n",
       "</style>\n",
       "<table border=\"1\" class=\"dataframe\">\n",
       "  <thead>\n",
       "    <tr style=\"text-align: right;\">\n",
       "      <th></th>\n",
       "      <th>pixel0</th>\n",
       "      <th>pixel1</th>\n",
       "      <th>pixel2</th>\n",
       "      <th>pixel3</th>\n",
       "      <th>pixel4</th>\n",
       "      <th>pixel5</th>\n",
       "      <th>pixel6</th>\n",
       "      <th>pixel7</th>\n",
       "      <th>pixel8</th>\n",
       "      <th>pixel9</th>\n",
       "      <th>...</th>\n",
       "      <th>pixel774</th>\n",
       "      <th>pixel775</th>\n",
       "      <th>pixel776</th>\n",
       "      <th>pixel777</th>\n",
       "      <th>pixel778</th>\n",
       "      <th>pixel779</th>\n",
       "      <th>pixel780</th>\n",
       "      <th>pixel781</th>\n",
       "      <th>pixel782</th>\n",
       "      <th>pixel783</th>\n",
       "    </tr>\n",
       "  </thead>\n",
       "  <tbody>\n",
       "    <tr>\n",
       "      <th>3502</th>\n",
       "      <td>0.0</td>\n",
       "      <td>0.0</td>\n",
       "      <td>0.0</td>\n",
       "      <td>0.0</td>\n",
       "      <td>0.0</td>\n",
       "      <td>0.0</td>\n",
       "      <td>0.0</td>\n",
       "      <td>0.0</td>\n",
       "      <td>0.0</td>\n",
       "      <td>0.0</td>\n",
       "      <td>...</td>\n",
       "      <td>0.0</td>\n",
       "      <td>0.0</td>\n",
       "      <td>0.0</td>\n",
       "      <td>0.0</td>\n",
       "      <td>0.0</td>\n",
       "      <td>0.0</td>\n",
       "      <td>0.0</td>\n",
       "      <td>0.0</td>\n",
       "      <td>0.0</td>\n",
       "      <td>0.0</td>\n",
       "    </tr>\n",
       "    <tr>\n",
       "      <th>22322</th>\n",
       "      <td>0.0</td>\n",
       "      <td>0.0</td>\n",
       "      <td>0.0</td>\n",
       "      <td>0.0</td>\n",
       "      <td>0.0</td>\n",
       "      <td>0.0</td>\n",
       "      <td>0.0</td>\n",
       "      <td>0.0</td>\n",
       "      <td>0.0</td>\n",
       "      <td>0.0</td>\n",
       "      <td>...</td>\n",
       "      <td>0.0</td>\n",
       "      <td>0.0</td>\n",
       "      <td>0.0</td>\n",
       "      <td>0.0</td>\n",
       "      <td>0.0</td>\n",
       "      <td>0.0</td>\n",
       "      <td>0.0</td>\n",
       "      <td>0.0</td>\n",
       "      <td>0.0</td>\n",
       "      <td>0.0</td>\n",
       "    </tr>\n",
       "    <tr>\n",
       "      <th>1227</th>\n",
       "      <td>0.0</td>\n",
       "      <td>0.0</td>\n",
       "      <td>0.0</td>\n",
       "      <td>0.0</td>\n",
       "      <td>0.0</td>\n",
       "      <td>0.0</td>\n",
       "      <td>0.0</td>\n",
       "      <td>0.0</td>\n",
       "      <td>0.0</td>\n",
       "      <td>0.0</td>\n",
       "      <td>...</td>\n",
       "      <td>0.0</td>\n",
       "      <td>0.0</td>\n",
       "      <td>0.0</td>\n",
       "      <td>0.0</td>\n",
       "      <td>0.0</td>\n",
       "      <td>0.0</td>\n",
       "      <td>0.0</td>\n",
       "      <td>0.0</td>\n",
       "      <td>0.0</td>\n",
       "      <td>0.0</td>\n",
       "    </tr>\n",
       "    <tr>\n",
       "      <th>29523</th>\n",
       "      <td>0.0</td>\n",
       "      <td>0.0</td>\n",
       "      <td>0.0</td>\n",
       "      <td>0.0</td>\n",
       "      <td>0.0</td>\n",
       "      <td>0.0</td>\n",
       "      <td>0.0</td>\n",
       "      <td>0.0</td>\n",
       "      <td>0.0</td>\n",
       "      <td>0.0</td>\n",
       "      <td>...</td>\n",
       "      <td>0.0</td>\n",
       "      <td>0.0</td>\n",
       "      <td>0.0</td>\n",
       "      <td>0.0</td>\n",
       "      <td>0.0</td>\n",
       "      <td>0.0</td>\n",
       "      <td>0.0</td>\n",
       "      <td>0.0</td>\n",
       "      <td>0.0</td>\n",
       "      <td>0.0</td>\n",
       "    </tr>\n",
       "    <tr>\n",
       "      <th>12582</th>\n",
       "      <td>0.0</td>\n",
       "      <td>0.0</td>\n",
       "      <td>0.0</td>\n",
       "      <td>0.0</td>\n",
       "      <td>0.0</td>\n",
       "      <td>0.0</td>\n",
       "      <td>0.0</td>\n",
       "      <td>0.0</td>\n",
       "      <td>0.0</td>\n",
       "      <td>0.0</td>\n",
       "      <td>...</td>\n",
       "      <td>0.0</td>\n",
       "      <td>0.0</td>\n",
       "      <td>0.0</td>\n",
       "      <td>0.0</td>\n",
       "      <td>0.0</td>\n",
       "      <td>0.0</td>\n",
       "      <td>0.0</td>\n",
       "      <td>0.0</td>\n",
       "      <td>0.0</td>\n",
       "      <td>0.0</td>\n",
       "    </tr>\n",
       "  </tbody>\n",
       "</table>\n",
       "<p>5 rows × 784 columns</p>\n",
       "</div>"
      ],
      "text/plain": [
       "       pixel0  pixel1  pixel2  pixel3  pixel4  pixel5  pixel6  pixel7  pixel8  \\\n",
       "3502      0.0     0.0     0.0     0.0     0.0     0.0     0.0     0.0     0.0   \n",
       "22322     0.0     0.0     0.0     0.0     0.0     0.0     0.0     0.0     0.0   \n",
       "1227      0.0     0.0     0.0     0.0     0.0     0.0     0.0     0.0     0.0   \n",
       "29523     0.0     0.0     0.0     0.0     0.0     0.0     0.0     0.0     0.0   \n",
       "12582     0.0     0.0     0.0     0.0     0.0     0.0     0.0     0.0     0.0   \n",
       "\n",
       "       pixel9  ...  pixel774  pixel775  pixel776  pixel777  pixel778  \\\n",
       "3502      0.0  ...       0.0       0.0       0.0       0.0       0.0   \n",
       "22322     0.0  ...       0.0       0.0       0.0       0.0       0.0   \n",
       "1227      0.0  ...       0.0       0.0       0.0       0.0       0.0   \n",
       "29523     0.0  ...       0.0       0.0       0.0       0.0       0.0   \n",
       "12582     0.0  ...       0.0       0.0       0.0       0.0       0.0   \n",
       "\n",
       "       pixel779  pixel780  pixel781  pixel782  pixel783  \n",
       "3502        0.0       0.0       0.0       0.0       0.0  \n",
       "22322       0.0       0.0       0.0       0.0       0.0  \n",
       "1227        0.0       0.0       0.0       0.0       0.0  \n",
       "29523       0.0       0.0       0.0       0.0       0.0  \n",
       "12582       0.0       0.0       0.0       0.0       0.0  \n",
       "\n",
       "[5 rows x 784 columns]"
      ]
     },
     "execution_count": 15,
     "metadata": {},
     "output_type": "execute_result"
    }
   ],
   "source": [
    "X.sample(5)"
   ]
  },
  {
   "cell_type": "code",
   "execution_count": 16,
   "id": "30e0a775",
   "metadata": {
    "execution": {
     "iopub.execute_input": "2022-09-21T15:26:28.796833Z",
     "iopub.status.busy": "2022-09-21T15:26:28.795428Z",
     "iopub.status.idle": "2022-09-21T15:26:35.425003Z",
     "shell.execute_reply": "2022-09-21T15:26:35.423908Z"
    },
    "papermill": {
     "duration": 6.644329,
     "end_time": "2022-09-21T15:26:35.428118",
     "exception": false,
     "start_time": "2022-09-21T15:26:28.783789",
     "status": "completed"
    },
    "tags": []
   },
   "outputs": [],
   "source": [
    "from keras.utils.np_utils import to_categorical\n",
    "\n",
    "y = to_categorical(y)"
   ]
  },
  {
   "cell_type": "code",
   "execution_count": 17,
   "id": "86f1a9e3",
   "metadata": {
    "execution": {
     "iopub.execute_input": "2022-09-21T15:26:35.450824Z",
     "iopub.status.busy": "2022-09-21T15:26:35.450100Z",
     "iopub.status.idle": "2022-09-21T15:26:35.459948Z",
     "shell.execute_reply": "2022-09-21T15:26:35.458679Z"
    },
    "papermill": {
     "duration": 0.024068,
     "end_time": "2022-09-21T15:26:35.462819",
     "exception": false,
     "start_time": "2022-09-21T15:26:35.438751",
     "status": "completed"
    },
    "tags": []
   },
   "outputs": [
    {
     "data": {
      "text/plain": [
       "array([[0., 1., 0., 0., 0., 0., 0., 0., 0., 0.],\n",
       "       [1., 0., 0., 0., 0., 0., 0., 0., 0., 0.],\n",
       "       [0., 1., 0., 0., 0., 0., 0., 0., 0., 0.],\n",
       "       [0., 0., 0., 0., 1., 0., 0., 0., 0., 0.],\n",
       "       [1., 0., 0., 0., 0., 0., 0., 0., 0., 0.]], dtype=float32)"
      ]
     },
     "execution_count": 17,
     "metadata": {},
     "output_type": "execute_result"
    }
   ],
   "source": [
    "y[:5]"
   ]
  },
  {
   "cell_type": "code",
   "execution_count": 18,
   "id": "e8a50e18",
   "metadata": {
    "execution": {
     "iopub.execute_input": "2022-09-21T15:26:35.486047Z",
     "iopub.status.busy": "2022-09-21T15:26:35.485649Z",
     "iopub.status.idle": "2022-09-21T15:26:35.761783Z",
     "shell.execute_reply": "2022-09-21T15:26:35.760553Z"
    },
    "papermill": {
     "duration": 0.290021,
     "end_time": "2022-09-21T15:26:35.764244",
     "exception": false,
     "start_time": "2022-09-21T15:26:35.474223",
     "status": "completed"
    },
    "tags": []
   },
   "outputs": [
    {
     "data": {
      "text/plain": [
       "((37800, 784), (37800, 10), (4200, 784), (4200, 10))"
      ]
     },
     "execution_count": 18,
     "metadata": {},
     "output_type": "execute_result"
    }
   ],
   "source": [
    "X_train, X_valid, y_train, y_valid = train_test_split(\n",
    "    X,\n",
    "    y,\n",
    "    test_size=0.1,\n",
    "    random_state=42,\n",
    ")\n",
    "X_train.shape, y_train.shape, X_valid.shape, y_valid.shape"
   ]
  },
  {
   "cell_type": "markdown",
   "id": "56cdfe09",
   "metadata": {
    "papermill": {
     "duration": 0.009955,
     "end_time": "2022-09-21T15:26:35.784939",
     "exception": false,
     "start_time": "2022-09-21T15:26:35.774984",
     "status": "completed"
    },
    "tags": []
   },
   "source": [
    "<div style=\"background-color:rgba(128, 0, 128, 0.6);border-radius:5px;display:fill\"><h1 style=\"text-align: center;padding: 12px 0px 12px 0px;\">Create Models</h1>\n",
    "</div>"
   ]
  },
  {
   "cell_type": "code",
   "execution_count": 19,
   "id": "1f3f6bb4",
   "metadata": {
    "execution": {
     "iopub.execute_input": "2022-09-21T15:26:35.807730Z",
     "iopub.status.busy": "2022-09-21T15:26:35.807011Z",
     "iopub.status.idle": "2022-09-21T15:26:35.815977Z",
     "shell.execute_reply": "2022-09-21T15:26:35.814608Z"
    },
    "papermill": {
     "duration": 0.023381,
     "end_time": "2022-09-21T15:26:35.818752",
     "exception": false,
     "start_time": "2022-09-21T15:26:35.795371",
     "status": "completed"
    },
    "tags": []
   },
   "outputs": [
    {
     "data": {
      "text/plain": [
       "784"
      ]
     },
     "execution_count": 19,
     "metadata": {},
     "output_type": "execute_result"
    }
   ],
   "source": [
    "X_train.shape[1]"
   ]
  },
  {
   "cell_type": "code",
   "execution_count": 20,
   "id": "c8d76974",
   "metadata": {
    "execution": {
     "iopub.execute_input": "2022-09-21T15:26:35.841995Z",
     "iopub.status.busy": "2022-09-21T15:26:35.841603Z",
     "iopub.status.idle": "2022-09-21T15:26:35.849577Z",
     "shell.execute_reply": "2022-09-21T15:26:35.848465Z"
    },
    "papermill": {
     "duration": 0.02274,
     "end_time": "2022-09-21T15:26:35.852155",
     "exception": false,
     "start_time": "2022-09-21T15:26:35.829415",
     "status": "completed"
    },
    "tags": []
   },
   "outputs": [
    {
     "data": {
      "text/plain": [
       "784"
      ]
     },
     "execution_count": 20,
     "metadata": {},
     "output_type": "execute_result"
    }
   ],
   "source": [
    "X.shape[1]"
   ]
  },
  {
   "cell_type": "code",
   "execution_count": 21,
   "id": "6285fe41",
   "metadata": {
    "execution": {
     "iopub.execute_input": "2022-09-21T15:26:35.875337Z",
     "iopub.status.busy": "2022-09-21T15:26:35.874882Z",
     "iopub.status.idle": "2022-09-21T15:29:14.535810Z",
     "shell.execute_reply": "2022-09-21T15:29:14.533648Z"
    },
    "papermill": {
     "duration": 158.70022,
     "end_time": "2022-09-21T15:29:14.563084",
     "exception": false,
     "start_time": "2022-09-21T15:26:35.862864",
     "status": "completed"
    },
    "tags": []
   },
   "outputs": [
    {
     "name": "stdout",
     "output_type": "stream",
     "text": [
      "CPU times: user 6min 31s, sys: 3min 46s, total: 10min 18s\n",
      "Wall time: 2min 38s\n"
     ]
    },
    {
     "data": {
      "text/plain": [
       "MLPClassifier()"
      ]
     },
     "execution_count": 21,
     "metadata": {},
     "output_type": "execute_result"
    }
   ],
   "source": [
    "%%time\n",
    "\n",
    "model = MLPClassifier()\n",
    "model.fit(X_train, y_train)"
   ]
  },
  {
   "cell_type": "markdown",
   "id": "09fc0f57",
   "metadata": {
    "papermill": {
     "duration": 0.027193,
     "end_time": "2022-09-21T15:29:14.619751",
     "exception": false,
     "start_time": "2022-09-21T15:29:14.592558",
     "status": "completed"
    },
    "tags": []
   },
   "source": [
    "## Predict and Score"
   ]
  },
  {
   "cell_type": "code",
   "execution_count": 22,
   "id": "083e7d95",
   "metadata": {
    "execution": {
     "iopub.execute_input": "2022-09-21T15:29:14.650295Z",
     "iopub.status.busy": "2022-09-21T15:29:14.649891Z",
     "iopub.status.idle": "2022-09-21T15:29:14.957123Z",
     "shell.execute_reply": "2022-09-21T15:29:14.955445Z"
    },
    "papermill": {
     "duration": 0.324311,
     "end_time": "2022-09-21T15:29:14.961957",
     "exception": false,
     "start_time": "2022-09-21T15:29:14.637646",
     "status": "completed"
    },
    "tags": []
   },
   "outputs": [
    {
     "name": "stdout",
     "output_type": "stream",
     "text": [
      "(28000, 10)\n",
      "accuracy of MLP is:  0.95\n",
      "CPU times: user 884 ms, sys: 257 ms, total: 1.14 s\n",
      "Wall time: 298 ms\n"
     ]
    }
   ],
   "source": [
    "%%time\n",
    "\n",
    "score = model.score(X_valid, y_valid)\n",
    "\n",
    "res = model.predict(X_test)\n",
    "\n",
    "print(res.shape)\n",
    "print(\"accuracy of MLP is: \", score)"
   ]
  },
  {
   "cell_type": "code",
   "execution_count": 23,
   "id": "7d0c403b",
   "metadata": {
    "execution": {
     "iopub.execute_input": "2022-09-21T15:29:15.020884Z",
     "iopub.status.busy": "2022-09-21T15:29:15.020160Z",
     "iopub.status.idle": "2022-09-21T15:29:15.091035Z",
     "shell.execute_reply": "2022-09-21T15:29:15.089414Z"
    },
    "papermill": {
     "duration": 0.105171,
     "end_time": "2022-09-21T15:29:15.095614",
     "exception": false,
     "start_time": "2022-09-21T15:29:14.990443",
     "status": "completed"
    },
    "tags": []
   },
   "outputs": [
    {
     "data": {
      "text/plain": [
       "array([[0, 0, 0, 0, 0, 0, 0, 0, 1, 0],\n",
       "       [0, 1, 0, 0, 0, 0, 0, 0, 0, 0],\n",
       "       [0, 0, 0, 0, 0, 0, 0, 0, 0, 1],\n",
       "       [0, 0, 0, 0, 0, 0, 0, 0, 0, 1],\n",
       "       [0, 0, 0, 0, 0, 0, 0, 0, 1, 0]])"
      ]
     },
     "execution_count": 23,
     "metadata": {},
     "output_type": "execute_result"
    }
   ],
   "source": [
    "valid_preds = model.predict(X_valid)\n",
    "valid_preds[:5]"
   ]
  },
  {
   "cell_type": "code",
   "execution_count": 24,
   "id": "d3393d06",
   "metadata": {
    "execution": {
     "iopub.execute_input": "2022-09-21T15:29:15.153750Z",
     "iopub.status.busy": "2022-09-21T15:29:15.152961Z",
     "iopub.status.idle": "2022-09-21T15:29:15.170934Z",
     "shell.execute_reply": "2022-09-21T15:29:15.169291Z"
    },
    "papermill": {
     "duration": 0.051722,
     "end_time": "2022-09-21T15:29:15.175269",
     "exception": false,
     "start_time": "2022-09-21T15:29:15.123547",
     "status": "completed"
    },
    "tags": []
   },
   "outputs": [
    {
     "data": {
      "text/plain": [
       "array([8, 1, 9, 9, 8])"
      ]
     },
     "execution_count": 24,
     "metadata": {},
     "output_type": "execute_result"
    }
   ],
   "source": [
    "valid_preds = np.argmax(valid_preds, axis=1)\n",
    "valid_preds[:5]"
   ]
  },
  {
   "cell_type": "code",
   "execution_count": 25,
   "id": "1a1f7506",
   "metadata": {
    "execution": {
     "iopub.execute_input": "2022-09-21T15:29:15.212276Z",
     "iopub.status.busy": "2022-09-21T15:29:15.211885Z",
     "iopub.status.idle": "2022-09-21T15:29:15.221781Z",
     "shell.execute_reply": "2022-09-21T15:29:15.220878Z"
    },
    "papermill": {
     "duration": 0.024916,
     "end_time": "2022-09-21T15:29:15.224177",
     "exception": false,
     "start_time": "2022-09-21T15:29:15.199261",
     "status": "completed"
    },
    "tags": []
   },
   "outputs": [
    {
     "data": {
      "text/plain": [
       "array([[0., 0., 0., 0., 0., 0., 0., 0., 1., 0.],\n",
       "       [0., 1., 0., 0., 0., 0., 0., 0., 0., 0.],\n",
       "       [0., 0., 0., 0., 0., 0., 0., 0., 0., 1.],\n",
       "       [0., 0., 0., 0., 0., 0., 0., 0., 0., 1.],\n",
       "       [0., 0., 0., 0., 0., 0., 0., 0., 1., 0.]], dtype=float32)"
      ]
     },
     "execution_count": 25,
     "metadata": {},
     "output_type": "execute_result"
    }
   ],
   "source": [
    "y_valid[:5]"
   ]
  },
  {
   "cell_type": "code",
   "execution_count": 26,
   "id": "7e73b410",
   "metadata": {
    "execution": {
     "iopub.execute_input": "2022-09-21T15:29:15.249121Z",
     "iopub.status.busy": "2022-09-21T15:29:15.248359Z",
     "iopub.status.idle": "2022-09-21T15:29:15.258436Z",
     "shell.execute_reply": "2022-09-21T15:29:15.257564Z"
    },
    "papermill": {
     "duration": 0.025003,
     "end_time": "2022-09-21T15:29:15.260738",
     "exception": false,
     "start_time": "2022-09-21T15:29:15.235735",
     "status": "completed"
    },
    "tags": []
   },
   "outputs": [
    {
     "data": {
      "text/plain": [
       "array([8, 1, 9, 9, 8])"
      ]
     },
     "execution_count": 26,
     "metadata": {},
     "output_type": "execute_result"
    }
   ],
   "source": [
    "y_valid = np.argmax(y_valid, axis=1)\n",
    "y_valid[:5]"
   ]
  },
  {
   "cell_type": "code",
   "execution_count": 27,
   "id": "edc88c47",
   "metadata": {
    "execution": {
     "iopub.execute_input": "2022-09-21T15:29:15.284892Z",
     "iopub.status.busy": "2022-09-21T15:29:15.284510Z",
     "iopub.status.idle": "2022-09-21T15:29:15.296440Z",
     "shell.execute_reply": "2022-09-21T15:29:15.294928Z"
    },
    "papermill": {
     "duration": 0.026764,
     "end_time": "2022-09-21T15:29:15.298798",
     "exception": false,
     "start_time": "2022-09-21T15:29:15.272034",
     "status": "completed"
    },
    "tags": []
   },
   "outputs": [
    {
     "name": "stdout",
     "output_type": "stream",
     "text": [
      "f1: 0.9619\n"
     ]
    }
   ],
   "source": [
    "show_scores(y_valid, valid_preds)"
   ]
  },
  {
   "cell_type": "code",
   "execution_count": 28,
   "id": "771d4d01",
   "metadata": {
    "execution": {
     "iopub.execute_input": "2022-09-21T15:29:15.324495Z",
     "iopub.status.busy": "2022-09-21T15:29:15.323291Z",
     "iopub.status.idle": "2022-09-21T15:29:15.546937Z",
     "shell.execute_reply": "2022-09-21T15:29:15.545383Z"
    },
    "papermill": {
     "duration": 0.24099,
     "end_time": "2022-09-21T15:29:15.551155",
     "exception": false,
     "start_time": "2022-09-21T15:29:15.310165",
     "status": "completed"
    },
    "tags": []
   },
   "outputs": [
    {
     "data": {
      "text/plain": [
       "array([[0, 0, 1, 0, 0, 0, 0, 0, 0, 0],\n",
       "       [1, 0, 0, 0, 0, 0, 0, 0, 0, 0],\n",
       "       [0, 0, 0, 0, 0, 0, 0, 0, 0, 1],\n",
       "       [1, 0, 0, 0, 0, 0, 0, 0, 0, 1],\n",
       "       [0, 0, 0, 1, 0, 0, 0, 0, 0, 0]])"
      ]
     },
     "execution_count": 28,
     "metadata": {},
     "output_type": "execute_result"
    }
   ],
   "source": [
    "preds = model.predict(X_test)\n",
    "preds[:5]"
   ]
  },
  {
   "cell_type": "code",
   "execution_count": 29,
   "id": "985560f3",
   "metadata": {
    "execution": {
     "iopub.execute_input": "2022-09-21T15:29:15.612624Z",
     "iopub.status.busy": "2022-09-21T15:29:15.611909Z",
     "iopub.status.idle": "2022-09-21T15:29:15.639512Z",
     "shell.execute_reply": "2022-09-21T15:29:15.637875Z"
    },
    "papermill": {
     "duration": 0.064551,
     "end_time": "2022-09-21T15:29:15.644689",
     "exception": false,
     "start_time": "2022-09-21T15:29:15.580138",
     "status": "completed"
    },
    "tags": []
   },
   "outputs": [
    {
     "data": {
      "text/plain": [
       "array([2, 0, 9, 0, 3])"
      ]
     },
     "execution_count": 29,
     "metadata": {},
     "output_type": "execute_result"
    }
   ],
   "source": [
    "np.argmax(preds, axis=1)[:5]"
   ]
  },
  {
   "cell_type": "code",
   "execution_count": 30,
   "id": "e849424d",
   "metadata": {
    "execution": {
     "iopub.execute_input": "2022-09-21T15:29:15.670164Z",
     "iopub.status.busy": "2022-09-21T15:29:15.669483Z",
     "iopub.status.idle": "2022-09-21T15:29:15.676728Z",
     "shell.execute_reply": "2022-09-21T15:29:15.675647Z"
    },
    "papermill": {
     "duration": 0.022392,
     "end_time": "2022-09-21T15:29:15.679223",
     "exception": false,
     "start_time": "2022-09-21T15:29:15.656831",
     "status": "completed"
    },
    "tags": []
   },
   "outputs": [],
   "source": [
    "preds = np.argmax(preds, axis=1)"
   ]
  },
  {
   "cell_type": "markdown",
   "id": "a0812555",
   "metadata": {
    "papermill": {
     "duration": 0.011378,
     "end_time": "2022-09-21T15:29:15.702645",
     "exception": false,
     "start_time": "2022-09-21T15:29:15.691267",
     "status": "completed"
    },
    "tags": []
   },
   "source": [
    "## Submission"
   ]
  },
  {
   "cell_type": "code",
   "execution_count": 31,
   "id": "d9539672",
   "metadata": {
    "execution": {
     "iopub.execute_input": "2022-09-21T15:29:15.727834Z",
     "iopub.status.busy": "2022-09-21T15:29:15.727153Z",
     "iopub.status.idle": "2022-09-21T15:29:15.770813Z",
     "shell.execute_reply": "2022-09-21T15:29:15.769731Z"
    },
    "papermill": {
     "duration": 0.059143,
     "end_time": "2022-09-21T15:29:15.773543",
     "exception": false,
     "start_time": "2022-09-21T15:29:15.714400",
     "status": "completed"
    },
    "tags": []
   },
   "outputs": [
    {
     "data": {
      "text/html": [
       "<div>\n",
       "<style scoped>\n",
       "    .dataframe tbody tr th:only-of-type {\n",
       "        vertical-align: middle;\n",
       "    }\n",
       "\n",
       "    .dataframe tbody tr th {\n",
       "        vertical-align: top;\n",
       "    }\n",
       "\n",
       "    .dataframe thead th {\n",
       "        text-align: right;\n",
       "    }\n",
       "</style>\n",
       "<table border=\"1\" class=\"dataframe\">\n",
       "  <thead>\n",
       "    <tr style=\"text-align: right;\">\n",
       "      <th></th>\n",
       "      <th>ImageId</th>\n",
       "      <th>Label</th>\n",
       "    </tr>\n",
       "  </thead>\n",
       "  <tbody>\n",
       "    <tr>\n",
       "      <th>0</th>\n",
       "      <td>1</td>\n",
       "      <td>2</td>\n",
       "    </tr>\n",
       "    <tr>\n",
       "      <th>1</th>\n",
       "      <td>2</td>\n",
       "      <td>0</td>\n",
       "    </tr>\n",
       "    <tr>\n",
       "      <th>2</th>\n",
       "      <td>3</td>\n",
       "      <td>9</td>\n",
       "    </tr>\n",
       "    <tr>\n",
       "      <th>3</th>\n",
       "      <td>4</td>\n",
       "      <td>0</td>\n",
       "    </tr>\n",
       "    <tr>\n",
       "      <th>4</th>\n",
       "      <td>5</td>\n",
       "      <td>3</td>\n",
       "    </tr>\n",
       "  </tbody>\n",
       "</table>\n",
       "</div>"
      ],
      "text/plain": [
       "   ImageId  Label\n",
       "0        1      2\n",
       "1        2      0\n",
       "2        3      9\n",
       "3        4      0\n",
       "4        5      3"
      ]
     },
     "execution_count": 31,
     "metadata": {},
     "output_type": "execute_result"
    }
   ],
   "source": [
    "# Different TARGET name used in test.csv\n",
    "ss = create_submission(\"\", \"Label\", preds)\n",
    "ss"
   ]
  }
 ],
 "metadata": {
  "kernelspec": {
   "display_name": "Python 3",
   "language": "python",
   "name": "python3"
  },
  "language_info": {
   "codemirror_mode": {
    "name": "ipython",
    "version": 3
   },
   "file_extension": ".py",
   "mimetype": "text/x-python",
   "name": "python",
   "nbconvert_exporter": "python",
   "pygments_lexer": "ipython3",
   "version": "3.7.12"
  },
  "papermill": {
   "default_parameters": {},
   "duration": 205.332523,
   "end_time": "2022-09-21T15:29:18.729045",
   "environment_variables": {},
   "exception": null,
   "input_path": "__notebook__.ipynb",
   "output_path": "__notebook__.ipynb",
   "parameters": {},
   "start_time": "2022-09-21T15:25:53.396522",
   "version": "2.3.4"
  }
 },
 "nbformat": 4,
 "nbformat_minor": 5
}
