{
 "cells": [
  {
   "cell_type": "markdown",
   "id": "03c95a5b",
   "metadata": {
    "papermill": {
     "duration": 0.009583,
     "end_time": "2022-09-21T15:16:22.957107",
     "exception": false,
     "start_time": "2022-09-21T15:16:22.947524",
     "status": "completed"
    },
    "tags": []
   },
   "source": [
    "<div style=\"background-color:rgba(128, 0, 128, 0.6);border-radius:5px;display:fill\"><h1 style=\"text-align: center;padding: 12px 0px 12px 0px;\">MNIST: Multi-layer Perceptron Classifier</h1>\n",
    "</div>\n",
    "\n",
    "Problem Type: Multi-classification\n",
    "\n",
    "## Evaluation Metric"
   ]
  },
  {
   "cell_type": "code",
   "execution_count": 1,
   "id": "7ecb26cf",
   "metadata": {
    "execution": {
     "iopub.execute_input": "2022-09-21T15:16:22.976799Z",
     "iopub.status.busy": "2022-09-21T15:16:22.975890Z",
     "iopub.status.idle": "2022-09-21T15:16:38.385724Z",
     "shell.execute_reply": "2022-09-21T15:16:38.384513Z"
    },
    "papermill": {
     "duration": 15.423078,
     "end_time": "2022-09-21T15:16:38.388777",
     "exception": false,
     "start_time": "2022-09-21T15:16:22.965699",
     "status": "completed"
    },
    "tags": []
   },
   "outputs": [
    {
     "name": "stdout",
     "output_type": "stream",
     "text": [
      "\u001b[33mWARNING: Running pip as the 'root' user can result in broken permissions and conflicting behaviour with the system package manager. It is recommended to use a virtual environment instead: https://pip.pypa.io/warnings/venv\u001b[0m\u001b[33m\r\n",
      "\u001b[0m"
     ]
    }
   ],
   "source": [
    "# Black formatter https://black.readthedocs.io/en/stable/\n",
    "\n",
    "! pip install nb-black > /dev/null\n",
    "\n",
    "%load_ext lab_black"
   ]
  },
  {
   "cell_type": "markdown",
   "id": "fdd09c0a",
   "metadata": {
    "papermill": {
     "duration": 0.008817,
     "end_time": "2022-09-21T15:16:38.406252",
     "exception": false,
     "start_time": "2022-09-21T15:16:38.397435",
     "status": "completed"
    },
    "tags": []
   },
   "source": [
    "<div style=\"background-color:rgba(128, 0, 128, 0.6);border-radius:5px;display:fill\"><h1 style=\"text-align: center;padding: 12px 0px 12px 0px;\">Configuration</h1>\n",
    "</div>"
   ]
  },
  {
   "cell_type": "code",
   "execution_count": 2,
   "id": "46f92ca2",
   "metadata": {
    "execution": {
     "iopub.execute_input": "2022-09-21T15:16:38.425795Z",
     "iopub.status.busy": "2022-09-21T15:16:38.425386Z",
     "iopub.status.idle": "2022-09-21T15:16:38.432306Z",
     "shell.execute_reply": "2022-09-21T15:16:38.431213Z"
    },
    "papermill": {
     "duration": 0.019853,
     "end_time": "2022-09-21T15:16:38.434661",
     "exception": false,
     "start_time": "2022-09-21T15:16:38.414808",
     "status": "completed"
    },
    "tags": []
   },
   "outputs": [],
   "source": [
    "TARGET = \"label\""
   ]
  },
  {
   "cell_type": "markdown",
   "id": "d90d37bc",
   "metadata": {
    "papermill": {
     "duration": 0.008653,
     "end_time": "2022-09-21T15:16:38.451838",
     "exception": false,
     "start_time": "2022-09-21T15:16:38.443185",
     "status": "completed"
    },
    "tags": []
   },
   "source": [
    "<div style=\"background-color:rgba(128, 0, 128, 0.6);border-radius:5px;display:fill\"><h1 style=\"text-align: center;padding: 12px 0px 12px 0px;\">Import Libraries</h1>\n",
    "</div>\n",
    "\n",
    "A best practise is to include all libraries here.  However, I will put a few imports farther down where they are first used so beginners can learn with an \"as needed\" approach."
   ]
  },
  {
   "cell_type": "code",
   "execution_count": 3,
   "id": "2209dd92",
   "metadata": {
    "execution": {
     "iopub.execute_input": "2022-09-21T15:16:38.473114Z",
     "iopub.status.busy": "2022-09-21T15:16:38.472181Z",
     "iopub.status.idle": "2022-09-21T15:16:39.795999Z",
     "shell.execute_reply": "2022-09-21T15:16:39.794480Z"
    },
    "papermill": {
     "duration": 1.336897,
     "end_time": "2022-09-21T15:16:39.798973",
     "exception": false,
     "start_time": "2022-09-21T15:16:38.462076",
     "status": "completed"
    },
    "tags": []
   },
   "outputs": [],
   "source": [
    "import os\n",
    "import time\n",
    "from pathlib import Path\n",
    "\n",
    "import pandas as pd\n",
    "import numpy as np\n",
    "\n",
    "from sklearn.model_selection import train_test_split\n",
    "from sklearn.neural_network import MLPClassifier\n",
    "\n",
    "# Visualization Libraries\n",
    "import matplotlib as mpl\n",
    "import matplotlib.pylab as plt\n",
    "import seaborn as sns\n",
    "\n",
    "from sklearn.metrics import f1_score"
   ]
  },
  {
   "cell_type": "markdown",
   "id": "67cb2793",
   "metadata": {
    "papermill": {
     "duration": 0.00853,
     "end_time": "2022-09-21T15:16:39.816076",
     "exception": false,
     "start_time": "2022-09-21T15:16:39.807546",
     "status": "completed"
    },
    "tags": []
   },
   "source": [
    "<div style=\"background-color:rgba(128, 0, 128, 0.6);border-radius:5px;display:fill\"><h1 style=\"text-align: center;padding: 12px 0px 12px 0px;\">Library</h1>\n",
    "</div>\n",
    "\n",
    "Creating a few functions that we will reuse in each project."
   ]
  },
  {
   "cell_type": "code",
   "execution_count": 4,
   "id": "c2bc4a8c",
   "metadata": {
    "execution": {
     "iopub.execute_input": "2022-09-21T15:16:39.836108Z",
     "iopub.status.busy": "2022-09-21T15:16:39.835407Z",
     "iopub.status.idle": "2022-09-21T15:16:39.850722Z",
     "shell.execute_reply": "2022-09-21T15:16:39.849567Z"
    },
    "papermill": {
     "duration": 0.028207,
     "end_time": "2022-09-21T15:16:39.853221",
     "exception": false,
     "start_time": "2022-09-21T15:16:39.825014",
     "status": "completed"
    },
    "tags": []
   },
   "outputs": [],
   "source": [
    "def read_data(path):\n",
    "    data_dir = Path(path)\n",
    "\n",
    "    train = pd.read_csv(data_dir / \"train.csv\")\n",
    "    test = pd.read_csv(data_dir / \"test.csv\")\n",
    "    submission_df = pd.read_csv(data_dir / \"sample_submission.csv\")\n",
    "\n",
    "    print(f\"train data: Rows={train.shape[0]}, Columns={train.shape[1]}\")\n",
    "    print(f\"test data : Rows={test.shape[0]}, Columns={test.shape[1]}\")\n",
    "    return train, test, submission_df"
   ]
  },
  {
   "cell_type": "code",
   "execution_count": 5,
   "id": "49eaee58",
   "metadata": {
    "execution": {
     "iopub.execute_input": "2022-09-21T15:16:39.872659Z",
     "iopub.status.busy": "2022-09-21T15:16:39.872244Z",
     "iopub.status.idle": "2022-09-21T15:16:39.886723Z",
     "shell.execute_reply": "2022-09-21T15:16:39.885536Z"
    },
    "papermill": {
     "duration": 0.027417,
     "end_time": "2022-09-21T15:16:39.889360",
     "exception": false,
     "start_time": "2022-09-21T15:16:39.861943",
     "status": "completed"
    },
    "tags": []
   },
   "outputs": [],
   "source": [
    "def create_submission(model_name, target, preds, is_log_target=False):\n",
    "    if is_log_target:\n",
    "        #         preds = np.exp(preds)\n",
    "        preds = np.expm1(preds)\n",
    "\n",
    "    sample_submission[target] = preds\n",
    "    if len(model_name) > 0:\n",
    "        sample_submission.to_csv(f\"submission_{model_name}.csv\", index=False)\n",
    "    else:\n",
    "        sample_submission.to_csv(f\"submission.csv\", index=False)\n",
    "\n",
    "    return sample_submission[:5]"
   ]
  },
  {
   "cell_type": "code",
   "execution_count": 6,
   "id": "0c79350e",
   "metadata": {
    "execution": {
     "iopub.execute_input": "2022-09-21T15:16:39.908485Z",
     "iopub.status.busy": "2022-09-21T15:16:39.908065Z",
     "iopub.status.idle": "2022-09-21T15:16:39.921102Z",
     "shell.execute_reply": "2022-09-21T15:16:39.919973Z"
    },
    "papermill": {
     "duration": 0.025337,
     "end_time": "2022-09-21T15:16:39.923474",
     "exception": false,
     "start_time": "2022-09-21T15:16:39.898137",
     "status": "completed"
    },
    "tags": []
   },
   "outputs": [],
   "source": [
    "from sklearn.metrics import mean_absolute_error, mean_squared_error, f1_score\n",
    "\n",
    "\n",
    "def show_scores(gt, yhat):\n",
    "    f1 = f1_score(gt, yhat, average=\"macro\")\n",
    "    mse = mean_squared_error(gt, yhat)\n",
    "    mae = mean_absolute_error(gt, yhat)\n",
    "    rmse = np.sqrt(mse)\n",
    "    #     r2_square = r2_score(gt, yhat)\n",
    "\n",
    "    print(f\"f1: {f1:.4f}\")"
   ]
  },
  {
   "cell_type": "markdown",
   "id": "121de691",
   "metadata": {
    "papermill": {
     "duration": 0.008016,
     "end_time": "2022-09-21T15:16:39.939974",
     "exception": false,
     "start_time": "2022-09-21T15:16:39.931958",
     "status": "completed"
    },
    "tags": []
   },
   "source": [
    "<div style=\"background-color:rgba(128, 0, 128, 0.6);border-radius:5px;display:fill\"><h1 style=\"text-align: center;padding: 12px 0px 12px 0px;\">Load Train/Test Data</h1>\n",
    "</div>\n",
    "\n",
    "- train.csv - Data used to build our machine learning model\n",
    "- test.csv - Data used to build our machine learning model. Does not contain the target variable\n",
    "- sample_submission.csv - A file in the proper format to submit test predictions"
   ]
  },
  {
   "cell_type": "code",
   "execution_count": 7,
   "id": "35778814",
   "metadata": {
    "execution": {
     "iopub.execute_input": "2022-09-21T15:16:39.958577Z",
     "iopub.status.busy": "2022-09-21T15:16:39.958160Z",
     "iopub.status.idle": "2022-09-21T15:16:46.343747Z",
     "shell.execute_reply": "2022-09-21T15:16:46.342612Z"
    },
    "papermill": {
     "duration": 6.398208,
     "end_time": "2022-09-21T15:16:46.346492",
     "exception": false,
     "start_time": "2022-09-21T15:16:39.948284",
     "status": "completed"
    },
    "tags": []
   },
   "outputs": [
    {
     "name": "stdout",
     "output_type": "stream",
     "text": [
      "train data: Rows=42000, Columns=785\n",
      "test data : Rows=28000, Columns=784\n"
     ]
    }
   ],
   "source": [
    "train, test, sample_submission = read_data(\"../input/digit-recognizer\")"
   ]
  },
  {
   "cell_type": "code",
   "execution_count": 8,
   "id": "df721195",
   "metadata": {
    "execution": {
     "iopub.execute_input": "2022-09-21T15:16:46.366925Z",
     "iopub.status.busy": "2022-09-21T15:16:46.366526Z",
     "iopub.status.idle": "2022-09-21T15:16:46.396435Z",
     "shell.execute_reply": "2022-09-21T15:16:46.395292Z"
    },
    "papermill": {
     "duration": 0.042885,
     "end_time": "2022-09-21T15:16:46.399049",
     "exception": false,
     "start_time": "2022-09-21T15:16:46.356164",
     "status": "completed"
    },
    "tags": []
   },
   "outputs": [
    {
     "data": {
      "text/html": [
       "<div>\n",
       "<style scoped>\n",
       "    .dataframe tbody tr th:only-of-type {\n",
       "        vertical-align: middle;\n",
       "    }\n",
       "\n",
       "    .dataframe tbody tr th {\n",
       "        vertical-align: top;\n",
       "    }\n",
       "\n",
       "    .dataframe thead th {\n",
       "        text-align: right;\n",
       "    }\n",
       "</style>\n",
       "<table border=\"1\" class=\"dataframe\">\n",
       "  <thead>\n",
       "    <tr style=\"text-align: right;\">\n",
       "      <th></th>\n",
       "      <th>label</th>\n",
       "      <th>pixel0</th>\n",
       "      <th>pixel1</th>\n",
       "      <th>pixel2</th>\n",
       "      <th>pixel3</th>\n",
       "      <th>pixel4</th>\n",
       "      <th>pixel5</th>\n",
       "      <th>pixel6</th>\n",
       "      <th>pixel7</th>\n",
       "      <th>pixel8</th>\n",
       "      <th>...</th>\n",
       "      <th>pixel774</th>\n",
       "      <th>pixel775</th>\n",
       "      <th>pixel776</th>\n",
       "      <th>pixel777</th>\n",
       "      <th>pixel778</th>\n",
       "      <th>pixel779</th>\n",
       "      <th>pixel780</th>\n",
       "      <th>pixel781</th>\n",
       "      <th>pixel782</th>\n",
       "      <th>pixel783</th>\n",
       "    </tr>\n",
       "  </thead>\n",
       "  <tbody>\n",
       "    <tr>\n",
       "      <th>0</th>\n",
       "      <td>1</td>\n",
       "      <td>0</td>\n",
       "      <td>0</td>\n",
       "      <td>0</td>\n",
       "      <td>0</td>\n",
       "      <td>0</td>\n",
       "      <td>0</td>\n",
       "      <td>0</td>\n",
       "      <td>0</td>\n",
       "      <td>0</td>\n",
       "      <td>...</td>\n",
       "      <td>0</td>\n",
       "      <td>0</td>\n",
       "      <td>0</td>\n",
       "      <td>0</td>\n",
       "      <td>0</td>\n",
       "      <td>0</td>\n",
       "      <td>0</td>\n",
       "      <td>0</td>\n",
       "      <td>0</td>\n",
       "      <td>0</td>\n",
       "    </tr>\n",
       "    <tr>\n",
       "      <th>1</th>\n",
       "      <td>0</td>\n",
       "      <td>0</td>\n",
       "      <td>0</td>\n",
       "      <td>0</td>\n",
       "      <td>0</td>\n",
       "      <td>0</td>\n",
       "      <td>0</td>\n",
       "      <td>0</td>\n",
       "      <td>0</td>\n",
       "      <td>0</td>\n",
       "      <td>...</td>\n",
       "      <td>0</td>\n",
       "      <td>0</td>\n",
       "      <td>0</td>\n",
       "      <td>0</td>\n",
       "      <td>0</td>\n",
       "      <td>0</td>\n",
       "      <td>0</td>\n",
       "      <td>0</td>\n",
       "      <td>0</td>\n",
       "      <td>0</td>\n",
       "    </tr>\n",
       "    <tr>\n",
       "      <th>2</th>\n",
       "      <td>1</td>\n",
       "      <td>0</td>\n",
       "      <td>0</td>\n",
       "      <td>0</td>\n",
       "      <td>0</td>\n",
       "      <td>0</td>\n",
       "      <td>0</td>\n",
       "      <td>0</td>\n",
       "      <td>0</td>\n",
       "      <td>0</td>\n",
       "      <td>...</td>\n",
       "      <td>0</td>\n",
       "      <td>0</td>\n",
       "      <td>0</td>\n",
       "      <td>0</td>\n",
       "      <td>0</td>\n",
       "      <td>0</td>\n",
       "      <td>0</td>\n",
       "      <td>0</td>\n",
       "      <td>0</td>\n",
       "      <td>0</td>\n",
       "    </tr>\n",
       "    <tr>\n",
       "      <th>3</th>\n",
       "      <td>4</td>\n",
       "      <td>0</td>\n",
       "      <td>0</td>\n",
       "      <td>0</td>\n",
       "      <td>0</td>\n",
       "      <td>0</td>\n",
       "      <td>0</td>\n",
       "      <td>0</td>\n",
       "      <td>0</td>\n",
       "      <td>0</td>\n",
       "      <td>...</td>\n",
       "      <td>0</td>\n",
       "      <td>0</td>\n",
       "      <td>0</td>\n",
       "      <td>0</td>\n",
       "      <td>0</td>\n",
       "      <td>0</td>\n",
       "      <td>0</td>\n",
       "      <td>0</td>\n",
       "      <td>0</td>\n",
       "      <td>0</td>\n",
       "    </tr>\n",
       "    <tr>\n",
       "      <th>4</th>\n",
       "      <td>0</td>\n",
       "      <td>0</td>\n",
       "      <td>0</td>\n",
       "      <td>0</td>\n",
       "      <td>0</td>\n",
       "      <td>0</td>\n",
       "      <td>0</td>\n",
       "      <td>0</td>\n",
       "      <td>0</td>\n",
       "      <td>0</td>\n",
       "      <td>...</td>\n",
       "      <td>0</td>\n",
       "      <td>0</td>\n",
       "      <td>0</td>\n",
       "      <td>0</td>\n",
       "      <td>0</td>\n",
       "      <td>0</td>\n",
       "      <td>0</td>\n",
       "      <td>0</td>\n",
       "      <td>0</td>\n",
       "      <td>0</td>\n",
       "    </tr>\n",
       "  </tbody>\n",
       "</table>\n",
       "<p>5 rows × 785 columns</p>\n",
       "</div>"
      ],
      "text/plain": [
       "   label  pixel0  pixel1  pixel2  pixel3  pixel4  pixel5  pixel6  pixel7  \\\n",
       "0      1       0       0       0       0       0       0       0       0   \n",
       "1      0       0       0       0       0       0       0       0       0   \n",
       "2      1       0       0       0       0       0       0       0       0   \n",
       "3      4       0       0       0       0       0       0       0       0   \n",
       "4      0       0       0       0       0       0       0       0       0   \n",
       "\n",
       "   pixel8  ...  pixel774  pixel775  pixel776  pixel777  pixel778  pixel779  \\\n",
       "0       0  ...         0         0         0         0         0         0   \n",
       "1       0  ...         0         0         0         0         0         0   \n",
       "2       0  ...         0         0         0         0         0         0   \n",
       "3       0  ...         0         0         0         0         0         0   \n",
       "4       0  ...         0         0         0         0         0         0   \n",
       "\n",
       "   pixel780  pixel781  pixel782  pixel783  \n",
       "0         0         0         0         0  \n",
       "1         0         0         0         0  \n",
       "2         0         0         0         0  \n",
       "3         0         0         0         0  \n",
       "4         0         0         0         0  \n",
       "\n",
       "[5 rows x 785 columns]"
      ]
     },
     "execution_count": 8,
     "metadata": {},
     "output_type": "execute_result"
    }
   ],
   "source": [
    "train.head()"
   ]
  },
  {
   "cell_type": "code",
   "execution_count": 9,
   "id": "2db3f202",
   "metadata": {
    "execution": {
     "iopub.execute_input": "2022-09-21T15:16:46.419692Z",
     "iopub.status.busy": "2022-09-21T15:16:46.418285Z",
     "iopub.status.idle": "2022-09-21T15:16:46.429184Z",
     "shell.execute_reply": "2022-09-21T15:16:46.428361Z"
    },
    "papermill": {
     "duration": 0.023702,
     "end_time": "2022-09-21T15:16:46.431655",
     "exception": false,
     "start_time": "2022-09-21T15:16:46.407953",
     "status": "completed"
    },
    "tags": []
   },
   "outputs": [],
   "source": [
    "FEATURES = [\n",
    "    col\n",
    "    for col in train.columns\n",
    "    if col\n",
    "    not in [\n",
    "        \"Id\",\n",
    "        TARGET,\n",
    "        #         TARGET_ENC,\n",
    "    ]\n",
    "]"
   ]
  },
  {
   "cell_type": "code",
   "execution_count": 10,
   "id": "ce37e8cd",
   "metadata": {
    "execution": {
     "iopub.execute_input": "2022-09-21T15:16:46.451673Z",
     "iopub.status.busy": "2022-09-21T15:16:46.450889Z",
     "iopub.status.idle": "2022-09-21T15:16:46.817750Z",
     "shell.execute_reply": "2022-09-21T15:16:46.816673Z"
    },
    "papermill": {
     "duration": 0.379598,
     "end_time": "2022-09-21T15:16:46.820303",
     "exception": false,
     "start_time": "2022-09-21T15:16:46.440705",
     "status": "completed"
    },
    "tags": []
   },
   "outputs": [],
   "source": [
    "y = train[TARGET]\n",
    "X = train[FEATURES].copy()\n",
    "\n",
    "X_test = test[FEATURES].copy()"
   ]
  },
  {
   "cell_type": "code",
   "execution_count": 11,
   "id": "6aa1317c",
   "metadata": {
    "execution": {
     "iopub.execute_input": "2022-09-21T15:16:46.839967Z",
     "iopub.status.busy": "2022-09-21T15:16:46.839582Z",
     "iopub.status.idle": "2022-09-21T15:16:47.893363Z",
     "shell.execute_reply": "2022-09-21T15:16:47.892136Z"
    },
    "papermill": {
     "duration": 1.066859,
     "end_time": "2022-09-21T15:16:47.896102",
     "exception": false,
     "start_time": "2022-09-21T15:16:46.829243",
     "status": "completed"
    },
    "tags": []
   },
   "outputs": [
    {
     "data": {
      "image/png": "[encoded data removed]",
      "text/plain": [
       "<Figure size 720x504 with 10 Axes>"
      ]
     },
     "metadata": {
      "needs_background": "light"
     },
     "output_type": "display_data"
    }
   ],
   "source": [
    "images = X.values.reshape(-1, 28, 28)\n",
    "fig, ax = plt.subplots(2, 5, figsize=(10, 7))\n",
    "ax = ax.ravel()\n",
    "for i, index in enumerate(images[:10]):\n",
    "    ax[i].set_title(f\"Label: {y[i]}\")\n",
    "    ax[i].imshow(images[i], cmap=\"gray\")"
   ]
  },
  {
   "cell_type": "code",
   "execution_count": 12,
   "id": "32617e06",
   "metadata": {
    "execution": {
     "iopub.execute_input": "2022-09-21T15:16:47.916580Z",
     "iopub.status.busy": "2022-09-21T15:16:47.916137Z",
     "iopub.status.idle": "2022-09-21T15:16:47.967192Z",
     "shell.execute_reply": "2022-09-21T15:16:47.966210Z"
    },
    "papermill": {
     "duration": 0.064399,
     "end_time": "2022-09-21T15:16:47.969821",
     "exception": false,
     "start_time": "2022-09-21T15:16:47.905422",
     "status": "completed"
    },
    "tags": []
   },
   "outputs": [
    {
     "data": {
      "text/plain": [
       "pixel0       0\n",
       "pixel1       0\n",
       "pixel2       0\n",
       "pixel3       0\n",
       "pixel4       0\n",
       "            ..\n",
       "pixel779    62\n",
       "pixel780     0\n",
       "pixel781     0\n",
       "pixel782     0\n",
       "pixel783     0\n",
       "Length: 784, dtype: int64"
      ]
     },
     "execution_count": 12,
     "metadata": {},
     "output_type": "execute_result"
    }
   ],
   "source": [
    "X.max()"
   ]
  },
  {
   "cell_type": "code",
   "execution_count": 13,
   "id": "25bff82e",
   "metadata": {
    "execution": {
     "iopub.execute_input": "2022-09-21T15:16:47.991054Z",
     "iopub.status.busy": "2022-09-21T15:16:47.990007Z",
     "iopub.status.idle": "2022-09-21T15:16:48.101277Z",
     "shell.execute_reply": "2022-09-21T15:16:48.100362Z"
    },
    "papermill": {
     "duration": 0.124604,
     "end_time": "2022-09-21T15:16:48.103929",
     "exception": false,
     "start_time": "2022-09-21T15:16:47.979325",
     "status": "completed"
    },
    "tags": []
   },
   "outputs": [],
   "source": [
    "# Normalize the data\n",
    "X = X / 255.0\n",
    "X_test = X_test / 255.0"
   ]
  },
  {
   "cell_type": "code",
   "execution_count": 14,
   "id": "3eb53243",
   "metadata": {
    "execution": {
     "iopub.execute_input": "2022-09-21T15:16:48.125188Z",
     "iopub.status.busy": "2022-09-21T15:16:48.124092Z",
     "iopub.status.idle": "2022-09-21T15:16:48.230025Z",
     "shell.execute_reply": "2022-09-21T15:16:48.228812Z"
    },
    "papermill": {
     "duration": 0.119241,
     "end_time": "2022-09-21T15:16:48.232598",
     "exception": false,
     "start_time": "2022-09-21T15:16:48.113357",
     "status": "completed"
    },
    "tags": []
   },
   "outputs": [
    {
     "data": {
      "text/plain": [
       "pixel0      0.000000\n",
       "pixel1      0.000000\n",
       "pixel2      0.000000\n",
       "pixel3      0.000000\n",
       "pixel4      0.000000\n",
       "              ...   \n",
       "pixel779    0.243137\n",
       "pixel780    0.000000\n",
       "pixel781    0.000000\n",
       "pixel782    0.000000\n",
       "pixel783    0.000000\n",
       "Length: 784, dtype: float64"
      ]
     },
     "execution_count": 14,
     "metadata": {},
     "output_type": "execute_result"
    }
   ],
   "source": [
    "X.max()"
   ]
  },
  {
   "cell_type": "code",
   "execution_count": 15,
   "id": "03b07508",
   "metadata": {
    "execution": {
     "iopub.execute_input": "2022-09-21T15:16:48.254229Z",
     "iopub.status.busy": "2022-09-21T15:16:48.253114Z",
     "iopub.status.idle": "2022-09-21T15:16:48.289729Z",
     "shell.execute_reply": "2022-09-21T15:16:48.288615Z"
    },
    "papermill": {
     "duration": 0.049791,
     "end_time": "2022-09-21T15:16:48.292189",
     "exception": false,
     "start_time": "2022-09-21T15:16:48.242398",
     "status": "completed"
    },
    "tags": []
   },
   "outputs": [
    {
     "data": {
      "text/html": [
       "<div>\n",
       "<style scoped>\n",
       "    .dataframe tbody tr th:only-of-type {\n",
       "        vertical-align: middle;\n",
       "    }\n",
       "\n",
       "    .dataframe tbody tr th {\n",
       "        vertical-align: top;\n",
       "    }\n",
       "\n",
       "    .dataframe thead th {\n",
       "        text-align: right;\n",
       "    }\n",
       "</style>\n",
       "<table border=\"1\" class=\"dataframe\">\n",
       "  <thead>\n",
       "    <tr style=\"text-align: right;\">\n",
       "      <th></th>\n",
       "      <th>pixel0</th>\n",
       "      <th>pixel1</th>\n",
       "      <th>pixel2</th>\n",
       "      <th>pixel3</th>\n",
       "      <th>pixel4</th>\n",
       "      <th>pixel5</th>\n",
       "      <th>pixel6</th>\n",
       "      <th>pixel7</th>\n",
       "      <th>pixel8</th>\n",
       "      <th>pixel9</th>\n",
       "      <th>...</th>\n",
       "      <th>pixel774</th>\n",
       "      <th>pixel775</th>\n",
       "      <th>pixel776</th>\n",
       "      <th>pixel777</th>\n",
       "      <th>pixel778</th>\n",
       "      <th>pixel779</th>\n",
       "      <th>pixel780</th>\n",
       "      <th>pixel781</th>\n",
       "      <th>pixel782</th>\n",
       "      <th>pixel783</th>\n",
       "    </tr>\n",
       "  </thead>\n",
       "  <tbody>\n",
       "    <tr>\n",
       "      <th>2389</th>\n",
       "      <td>0.0</td>\n",
       "      <td>0.0</td>\n",
       "      <td>0.0</td>\n",
       "      <td>0.0</td>\n",
       "      <td>0.0</td>\n",
       "      <td>0.0</td>\n",
       "      <td>0.0</td>\n",
       "      <td>0.0</td>\n",
       "      <td>0.0</td>\n",
       "      <td>0.0</td>\n",
       "      <td>...</td>\n",
       "      <td>0.0</td>\n",
       "      <td>0.0</td>\n",
       "      <td>0.0</td>\n",
       "      <td>0.0</td>\n",
       "      <td>0.0</td>\n",
       "      <td>0.0</td>\n",
       "      <td>0.0</td>\n",
       "      <td>0.0</td>\n",
       "      <td>0.0</td>\n",
       "      <td>0.0</td>\n",
       "    </tr>\n",
       "    <tr>\n",
       "      <th>10400</th>\n",
       "      <td>0.0</td>\n",
       "      <td>0.0</td>\n",
       "      <td>0.0</td>\n",
       "      <td>0.0</td>\n",
       "      <td>0.0</td>\n",
       "      <td>0.0</td>\n",
       "      <td>0.0</td>\n",
       "      <td>0.0</td>\n",
       "      <td>0.0</td>\n",
       "      <td>0.0</td>\n",
       "      <td>...</td>\n",
       "      <td>0.0</td>\n",
       "      <td>0.0</td>\n",
       "      <td>0.0</td>\n",
       "      <td>0.0</td>\n",
       "      <td>0.0</td>\n",
       "      <td>0.0</td>\n",
       "      <td>0.0</td>\n",
       "      <td>0.0</td>\n",
       "      <td>0.0</td>\n",
       "      <td>0.0</td>\n",
       "    </tr>\n",
       "    <tr>\n",
       "      <th>13397</th>\n",
       "      <td>0.0</td>\n",
       "      <td>0.0</td>\n",
       "      <td>0.0</td>\n",
       "      <td>0.0</td>\n",
       "      <td>0.0</td>\n",
       "      <td>0.0</td>\n",
       "      <td>0.0</td>\n",
       "      <td>0.0</td>\n",
       "      <td>0.0</td>\n",
       "      <td>0.0</td>\n",
       "      <td>...</td>\n",
       "      <td>0.0</td>\n",
       "      <td>0.0</td>\n",
       "      <td>0.0</td>\n",
       "      <td>0.0</td>\n",
       "      <td>0.0</td>\n",
       "      <td>0.0</td>\n",
       "      <td>0.0</td>\n",
       "      <td>0.0</td>\n",
       "      <td>0.0</td>\n",
       "      <td>0.0</td>\n",
       "    </tr>\n",
       "    <tr>\n",
       "      <th>29741</th>\n",
       "      <td>0.0</td>\n",
       "      <td>0.0</td>\n",
       "      <td>0.0</td>\n",
       "      <td>0.0</td>\n",
       "      <td>0.0</td>\n",
       "      <td>0.0</td>\n",
       "      <td>0.0</td>\n",
       "      <td>0.0</td>\n",
       "      <td>0.0</td>\n",
       "      <td>0.0</td>\n",
       "      <td>...</td>\n",
       "      <td>0.0</td>\n",
       "      <td>0.0</td>\n",
       "      <td>0.0</td>\n",
       "      <td>0.0</td>\n",
       "      <td>0.0</td>\n",
       "      <td>0.0</td>\n",
       "      <td>0.0</td>\n",
       "      <td>0.0</td>\n",
       "      <td>0.0</td>\n",
       "      <td>0.0</td>\n",
       "    </tr>\n",
       "    <tr>\n",
       "      <th>38056</th>\n",
       "      <td>0.0</td>\n",
       "      <td>0.0</td>\n",
       "      <td>0.0</td>\n",
       "      <td>0.0</td>\n",
       "      <td>0.0</td>\n",
       "      <td>0.0</td>\n",
       "      <td>0.0</td>\n",
       "      <td>0.0</td>\n",
       "      <td>0.0</td>\n",
       "      <td>0.0</td>\n",
       "      <td>...</td>\n",
       "      <td>0.0</td>\n",
       "      <td>0.0</td>\n",
       "      <td>0.0</td>\n",
       "      <td>0.0</td>\n",
       "      <td>0.0</td>\n",
       "      <td>0.0</td>\n",
       "      <td>0.0</td>\n",
       "      <td>0.0</td>\n",
       "      <td>0.0</td>\n",
       "      <td>0.0</td>\n",
       "    </tr>\n",
       "  </tbody>\n",
       "</table>\n",
       "<p>5 rows × 784 columns</p>\n",
       "</div>"
      ],
      "text/plain": [
       "       pixel0  pixel1  pixel2  pixel3  pixel4  pixel5  pixel6  pixel7  pixel8  \\\n",
       "2389      0.0     0.0     0.0     0.0     0.0     0.0     0.0     0.0     0.0   \n",
       "10400     0.0     0.0     0.0     0.0     0.0     0.0     0.0     0.0     0.0   \n",
       "13397     0.0     0.0     0.0     0.0     0.0     0.0     0.0     0.0     0.0   \n",
       "29741     0.0     0.0     0.0     0.0     0.0     0.0     0.0     0.0     0.0   \n",
       "38056     0.0     0.0     0.0     0.0     0.0     0.0     0.0     0.0     0.0   \n",
       "\n",
       "       pixel9  ...  pixel774  pixel775  pixel776  pixel777  pixel778  \\\n",
       "2389      0.0  ...       0.0       0.0       0.0       0.0       0.0   \n",
       "10400     0.0  ...       0.0       0.0       0.0       0.0       0.0   \n",
       "13397     0.0  ...       0.0       0.0       0.0       0.0       0.0   \n",
       "29741     0.0  ...       0.0       0.0       0.0       0.0       0.0   \n",
       "38056     0.0  ...       0.0       0.0       0.0       0.0       0.0   \n",
       "\n",
       "       pixel779  pixel780  pixel781  pixel782  pixel783  \n",
       "2389        0.0       0.0       0.0       0.0       0.0  \n",
       "10400       0.0       0.0       0.0       0.0       0.0  \n",
       "13397       0.0       0.0       0.0       0.0       0.0  \n",
       "29741       0.0       0.0       0.0       0.0       0.0  \n",
       "38056       0.0       0.0       0.0       0.0       0.0  \n",
       "\n",
       "[5 rows x 784 columns]"
      ]
     },
     "execution_count": 15,
     "metadata": {},
     "output_type": "execute_result"
    }
   ],
   "source": [
    "X.sample(5)"
   ]
  },
  {
   "cell_type": "code",
   "execution_count": 16,
   "id": "28ff9e1f",
   "metadata": {
    "execution": {
     "iopub.execute_input": "2022-09-21T15:16:48.313568Z",
     "iopub.status.busy": "2022-09-21T15:16:48.313128Z",
     "iopub.status.idle": "2022-09-21T15:16:54.334900Z",
     "shell.execute_reply": "2022-09-21T15:16:54.333853Z"
    },
    "papermill": {
     "duration": 6.035438,
     "end_time": "2022-09-21T15:16:54.337488",
     "exception": false,
     "start_time": "2022-09-21T15:16:48.302050",
     "status": "completed"
    },
    "tags": []
   },
   "outputs": [],
   "source": [
    "from keras.utils.np_utils import to_categorical\n",
    "\n",
    "y = to_categorical(y)"
   ]
  },
  {
   "cell_type": "code",
   "execution_count": 17,
   "id": "0e556c5a",
   "metadata": {
    "execution": {
     "iopub.execute_input": "2022-09-21T15:16:54.359329Z",
     "iopub.status.busy": "2022-09-21T15:16:54.358612Z",
     "iopub.status.idle": "2022-09-21T15:16:54.367017Z",
     "shell.execute_reply": "2022-09-21T15:16:54.366225Z"
    },
    "papermill": {
     "duration": 0.021735,
     "end_time": "2022-09-21T15:16:54.369073",
     "exception": false,
     "start_time": "2022-09-21T15:16:54.347338",
     "status": "completed"
    },
    "tags": []
   },
   "outputs": [
    {
     "data": {
      "text/plain": [
       "array([[0., 1., 0., 0., 0., 0., 0., 0., 0., 0.],\n",
       "       [1., 0., 0., 0., 0., 0., 0., 0., 0., 0.],\n",
       "       [0., 1., 0., 0., 0., 0., 0., 0., 0., 0.],\n",
       "       [0., 0., 0., 0., 1., 0., 0., 0., 0., 0.],\n",
       "       [1., 0., 0., 0., 0., 0., 0., 0., 0., 0.]], dtype=float32)"
      ]
     },
     "execution_count": 17,
     "metadata": {},
     "output_type": "execute_result"
    }
   ],
   "source": [
    "y[:5]"
   ]
  },
  {
   "cell_type": "code",
   "execution_count": 18,
   "id": "11f0f909",
   "metadata": {
    "execution": {
     "iopub.execute_input": "2022-09-21T15:16:54.391112Z",
     "iopub.status.busy": "2022-09-21T15:16:54.390222Z",
     "iopub.status.idle": "2022-09-21T15:16:54.666502Z",
     "shell.execute_reply": "2022-09-21T15:16:54.665300Z"
    },
    "papermill": {
     "duration": 0.289881,
     "end_time": "2022-09-21T15:16:54.669056",
     "exception": false,
     "start_time": "2022-09-21T15:16:54.379175",
     "status": "completed"
    },
    "tags": []
   },
   "outputs": [
    {
     "data": {
      "text/plain": [
       "((37800, 784), (37800, 10), (4200, 784), (4200, 10))"
      ]
     },
     "execution_count": 18,
     "metadata": {},
     "output_type": "execute_result"
    }
   ],
   "source": [
    "X_train, X_valid, y_train, y_valid = train_test_split(\n",
    "    X,\n",
    "    y,\n",
    "    test_size=0.1,\n",
    "    random_state=42,\n",
    ")\n",
    "X_train.shape, y_train.shape, X_valid.shape, y_valid.shape"
   ]
  },
  {
   "cell_type": "markdown",
   "id": "f9abeb0e",
   "metadata": {
    "papermill": {
     "duration": 0.010151,
     "end_time": "2022-09-21T15:16:54.689718",
     "exception": false,
     "start_time": "2022-09-21T15:16:54.679567",
     "status": "completed"
    },
    "tags": []
   },
   "source": [
    "<div style=\"background-color:rgba(128, 0, 128, 0.6);border-radius:5px;display:fill\"><h1 style=\"text-align: center;padding: 12px 0px 12px 0px;\">Create Models</h1>\n",
    "</div>"
   ]
  },
  {
   "cell_type": "code",
   "execution_count": 19,
   "id": "ed52ced5",
   "metadata": {
    "execution": {
     "iopub.execute_input": "2022-09-21T15:16:54.712198Z",
     "iopub.status.busy": "2022-09-21T15:16:54.711758Z",
     "iopub.status.idle": "2022-09-21T15:16:54.721255Z",
     "shell.execute_reply": "2022-09-21T15:16:54.719997Z"
    },
    "papermill": {
     "duration": 0.023508,
     "end_time": "2022-09-21T15:16:54.723683",
     "exception": false,
     "start_time": "2022-09-21T15:16:54.700175",
     "status": "completed"
    },
    "tags": []
   },
   "outputs": [
    {
     "data": {
      "text/plain": [
       "784"
      ]
     },
     "execution_count": 19,
     "metadata": {},
     "output_type": "execute_result"
    }
   ],
   "source": [
    "X_train.shape[1]"
   ]
  },
  {
   "cell_type": "code",
   "execution_count": 20,
   "id": "05c3055f",
   "metadata": {
    "execution": {
     "iopub.execute_input": "2022-09-21T15:16:54.746887Z",
     "iopub.status.busy": "2022-09-21T15:16:54.746048Z",
     "iopub.status.idle": "2022-09-21T15:16:54.753691Z",
     "shell.execute_reply": "2022-09-21T15:16:54.752881Z"
    },
    "papermill": {
     "duration": 0.021541,
     "end_time": "2022-09-21T15:16:54.755718",
     "exception": false,
     "start_time": "2022-09-21T15:16:54.734177",
     "status": "completed"
    },
    "tags": []
   },
   "outputs": [
    {
     "data": {
      "text/plain": [
       "784"
      ]
     },
     "execution_count": 20,
     "metadata": {},
     "output_type": "execute_result"
    }
   ],
   "source": [
    "X.shape[1]"
   ]
  },
  {
   "cell_type": "code",
   "execution_count": 21,
   "id": "7d26c8e6",
   "metadata": {
    "execution": {
     "iopub.execute_input": "2022-09-21T15:16:54.779135Z",
     "iopub.status.busy": "2022-09-21T15:16:54.778328Z",
     "iopub.status.idle": "2022-09-21T15:19:47.314272Z",
     "shell.execute_reply": "2022-09-21T15:19:47.312125Z"
    },
    "papermill": {
     "duration": 172.612043,
     "end_time": "2022-09-21T15:19:47.378453",
     "exception": false,
     "start_time": "2022-09-21T15:16:54.766410",
     "status": "completed"
    },
    "tags": []
   },
   "outputs": [
    {
     "name": "stdout",
     "output_type": "stream",
     "text": [
      "(28000, 10)\n",
      "accuracy of MLP is:  0.9495238095238095\n"
     ]
    }
   ],
   "source": [
    "model = MLPClassifier()\n",
    "model.fit(X_train, y_train)\n",
    "\n",
    "score = model.score(X_valid, y_valid)\n",
    "\n",
    "res = model.predict(X_test)\n",
    "\n",
    "print(res.shape)\n",
    "print(\"accuracy of MLP is: \", score)"
   ]
  },
  {
   "cell_type": "markdown",
   "id": "c356103d",
   "metadata": {
    "papermill": {
     "duration": 0.009883,
     "end_time": "2022-09-21T15:19:47.413074",
     "exception": false,
     "start_time": "2022-09-21T15:19:47.403191",
     "status": "completed"
    },
    "tags": []
   },
   "source": [
    "## Predict and Score"
   ]
  },
  {
   "cell_type": "code",
   "execution_count": 22,
   "id": "4de52ecc",
   "metadata": {
    "execution": {
     "iopub.execute_input": "2022-09-21T15:19:47.435358Z",
     "iopub.status.busy": "2022-09-21T15:19:47.434963Z",
     "iopub.status.idle": "2022-09-21T15:19:47.498938Z",
     "shell.execute_reply": "2022-09-21T15:19:47.497257Z"
    },
    "papermill": {
     "duration": 0.080655,
     "end_time": "2022-09-21T15:19:47.503998",
     "exception": false,
     "start_time": "2022-09-21T15:19:47.423343",
     "status": "completed"
    },
    "tags": []
   },
   "outputs": [
    {
     "data": {
      "text/plain": [
       "array([[0, 0, 0, 0, 0, 0, 0, 0, 1, 0],\n",
       "       [0, 1, 0, 0, 0, 0, 0, 0, 0, 0],\n",
       "       [0, 0, 0, 0, 0, 0, 0, 0, 0, 1],\n",
       "       [0, 0, 0, 0, 0, 0, 0, 0, 0, 1],\n",
       "       [0, 0, 0, 0, 0, 0, 0, 0, 1, 0]])"
      ]
     },
     "execution_count": 22,
     "metadata": {},
     "output_type": "execute_result"
    }
   ],
   "source": [
    "valid_preds = model.predict(X_valid)\n",
    "valid_preds[:5]"
   ]
  },
  {
   "cell_type": "code",
   "execution_count": 23,
   "id": "ee71ece5",
   "metadata": {
    "execution": {
     "iopub.execute_input": "2022-09-21T15:19:47.559938Z",
     "iopub.status.busy": "2022-09-21T15:19:47.559107Z",
     "iopub.status.idle": "2022-09-21T15:19:47.574487Z",
     "shell.execute_reply": "2022-09-21T15:19:47.572934Z"
    },
    "papermill": {
     "duration": 0.047185,
     "end_time": "2022-09-21T15:19:47.578313",
     "exception": false,
     "start_time": "2022-09-21T15:19:47.531128",
     "status": "completed"
    },
    "tags": []
   },
   "outputs": [
    {
     "data": {
      "text/plain": [
       "array([8, 1, 9, 9, 8])"
      ]
     },
     "execution_count": 23,
     "metadata": {},
     "output_type": "execute_result"
    }
   ],
   "source": [
    "valid_preds = np.argmax(valid_preds, axis=1)\n",
    "valid_preds[:5]"
   ]
  },
  {
   "cell_type": "code",
   "execution_count": 24,
   "id": "bca640c3",
   "metadata": {
    "execution": {
     "iopub.execute_input": "2022-09-21T15:19:47.614579Z",
     "iopub.status.busy": "2022-09-21T15:19:47.614121Z",
     "iopub.status.idle": "2022-09-21T15:19:47.623659Z",
     "shell.execute_reply": "2022-09-21T15:19:47.622690Z"
    },
    "papermill": {
     "duration": 0.023482,
     "end_time": "2022-09-21T15:19:47.626065",
     "exception": false,
     "start_time": "2022-09-21T15:19:47.602583",
     "status": "completed"
    },
    "tags": []
   },
   "outputs": [
    {
     "data": {
      "text/plain": [
       "array([[0., 0., 0., 0., 0., 0., 0., 0., 1., 0.],\n",
       "       [0., 1., 0., 0., 0., 0., 0., 0., 0., 0.],\n",
       "       [0., 0., 0., 0., 0., 0., 0., 0., 0., 1.],\n",
       "       [0., 0., 0., 0., 0., 0., 0., 0., 0., 1.],\n",
       "       [0., 0., 0., 0., 0., 0., 0., 0., 1., 0.]], dtype=float32)"
      ]
     },
     "execution_count": 24,
     "metadata": {},
     "output_type": "execute_result"
    }
   ],
   "source": [
    "y_valid[:5]"
   ]
  },
  {
   "cell_type": "code",
   "execution_count": 25,
   "id": "8277798c",
   "metadata": {
    "execution": {
     "iopub.execute_input": "2022-09-21T15:19:47.649523Z",
     "iopub.status.busy": "2022-09-21T15:19:47.648711Z",
     "iopub.status.idle": "2022-09-21T15:19:47.658976Z",
     "shell.execute_reply": "2022-09-21T15:19:47.658220Z"
    },
    "papermill": {
     "duration": 0.024701,
     "end_time": "2022-09-21T15:19:47.661419",
     "exception": false,
     "start_time": "2022-09-21T15:19:47.636718",
     "status": "completed"
    },
    "tags": []
   },
   "outputs": [
    {
     "data": {
      "text/plain": [
       "array([8, 1, 9, 9, 8])"
      ]
     },
     "execution_count": 25,
     "metadata": {},
     "output_type": "execute_result"
    }
   ],
   "source": [
    "y_valid = np.argmax(y_valid, axis=1)\n",
    "y_valid[:5]"
   ]
  },
  {
   "cell_type": "code",
   "execution_count": 26,
   "id": "ff6512e9",
   "metadata": {
    "execution": {
     "iopub.execute_input": "2022-09-21T15:19:47.684196Z",
     "iopub.status.busy": "2022-09-21T15:19:47.683765Z",
     "iopub.status.idle": "2022-09-21T15:19:47.696048Z",
     "shell.execute_reply": "2022-09-21T15:19:47.694874Z"
    },
    "papermill": {
     "duration": 0.026484,
     "end_time": "2022-09-21T15:19:47.698379",
     "exception": false,
     "start_time": "2022-09-21T15:19:47.671895",
     "status": "completed"
    },
    "tags": []
   },
   "outputs": [
    {
     "name": "stdout",
     "output_type": "stream",
     "text": [
      "f1: 0.9587\n"
     ]
    }
   ],
   "source": [
    "show_scores(y_valid, valid_preds)"
   ]
  },
  {
   "cell_type": "code",
   "execution_count": 27,
   "id": "f36ffd93",
   "metadata": {
    "execution": {
     "iopub.execute_input": "2022-09-21T15:19:47.722241Z",
     "iopub.status.busy": "2022-09-21T15:19:47.721276Z",
     "iopub.status.idle": "2022-09-21T15:19:47.938793Z",
     "shell.execute_reply": "2022-09-21T15:19:47.937226Z"
    },
    "papermill": {
     "duration": 0.234001,
     "end_time": "2022-09-21T15:19:47.943056",
     "exception": false,
     "start_time": "2022-09-21T15:19:47.709055",
     "status": "completed"
    },
    "tags": []
   },
   "outputs": [
    {
     "data": {
      "text/plain": [
       "array([[0, 0, 1, 0, 0, 0, 0, 0, 0, 0],\n",
       "       [1, 0, 0, 0, 0, 0, 0, 0, 0, 0],\n",
       "       [0, 0, 0, 0, 0, 0, 0, 0, 0, 1],\n",
       "       [0, 0, 0, 0, 0, 0, 0, 0, 0, 1],\n",
       "       [0, 0, 0, 1, 0, 0, 0, 0, 0, 0]])"
      ]
     },
     "execution_count": 27,
     "metadata": {},
     "output_type": "execute_result"
    }
   ],
   "source": [
    "preds = model.predict(X_test)\n",
    "preds[:5]"
   ]
  },
  {
   "cell_type": "code",
   "execution_count": 28,
   "id": "0c1f58df",
   "metadata": {
    "execution": {
     "iopub.execute_input": "2022-09-21T15:19:48.001884Z",
     "iopub.status.busy": "2022-09-21T15:19:48.001196Z",
     "iopub.status.idle": "2022-09-21T15:19:48.016719Z",
     "shell.execute_reply": "2022-09-21T15:19:48.015207Z"
    },
    "papermill": {
     "duration": 0.049668,
     "end_time": "2022-09-21T15:19:48.020737",
     "exception": false,
     "start_time": "2022-09-21T15:19:47.971069",
     "status": "completed"
    },
    "tags": []
   },
   "outputs": [
    {
     "data": {
      "text/plain": [
       "array([2, 0, 9, 9, 3])"
      ]
     },
     "execution_count": 28,
     "metadata": {},
     "output_type": "execute_result"
    }
   ],
   "source": [
    "np.argmax(preds, axis=1)[:5]"
   ]
  },
  {
   "cell_type": "code",
   "execution_count": 29,
   "id": "937f7727",
   "metadata": {
    "execution": {
     "iopub.execute_input": "2022-09-21T15:19:48.054969Z",
     "iopub.status.busy": "2022-09-21T15:19:48.054593Z",
     "iopub.status.idle": "2022-09-21T15:19:48.062412Z",
     "shell.execute_reply": "2022-09-21T15:19:48.061168Z"
    },
    "papermill": {
     "duration": 0.022382,
     "end_time": "2022-09-21T15:19:48.064852",
     "exception": false,
     "start_time": "2022-09-21T15:19:48.042470",
     "status": "completed"
    },
    "tags": []
   },
   "outputs": [],
   "source": [
    "preds = np.argmax(preds, axis=1)"
   ]
  },
  {
   "cell_type": "markdown",
   "id": "fa401654",
   "metadata": {
    "papermill": {
     "duration": 0.011018,
     "end_time": "2022-09-21T15:19:48.087524",
     "exception": false,
     "start_time": "2022-09-21T15:19:48.076506",
     "status": "completed"
    },
    "tags": []
   },
   "source": [
    "## Submission"
   ]
  },
  {
   "cell_type": "code",
   "execution_count": 30,
   "id": "b0fbc925",
   "metadata": {
    "execution": {
     "iopub.execute_input": "2022-09-21T15:19:48.112108Z",
     "iopub.status.busy": "2022-09-21T15:19:48.111724Z",
     "iopub.status.idle": "2022-09-21T15:19:48.156166Z",
     "shell.execute_reply": "2022-09-21T15:19:48.154996Z"
    },
    "papermill": {
     "duration": 0.059557,
     "end_time": "2022-09-21T15:19:48.158637",
     "exception": false,
     "start_time": "2022-09-21T15:19:48.099080",
     "status": "completed"
    },
    "tags": []
   },
   "outputs": [
    {
     "data": {
      "text/html": [
       "<div>\n",
       "<style scoped>\n",
       "    .dataframe tbody tr th:only-of-type {\n",
       "        vertical-align: middle;\n",
       "    }\n",
       "\n",
       "    .dataframe tbody tr th {\n",
       "        vertical-align: top;\n",
       "    }\n",
       "\n",
       "    .dataframe thead th {\n",
       "        text-align: right;\n",
       "    }\n",
       "</style>\n",
       "<table border=\"1\" class=\"dataframe\">\n",
       "  <thead>\n",
       "    <tr style=\"text-align: right;\">\n",
       "      <th></th>\n",
       "      <th>ImageId</th>\n",
       "      <th>Label</th>\n",
       "    </tr>\n",
       "  </thead>\n",
       "  <tbody>\n",
       "    <tr>\n",
       "      <th>0</th>\n",
       "      <td>1</td>\n",
       "      <td>2</td>\n",
       "    </tr>\n",
       "    <tr>\n",
       "      <th>1</th>\n",
       "      <td>2</td>\n",
       "      <td>0</td>\n",
       "    </tr>\n",
       "    <tr>\n",
       "      <th>2</th>\n",
       "      <td>3</td>\n",
       "      <td>9</td>\n",
       "    </tr>\n",
       "    <tr>\n",
       "      <th>3</th>\n",
       "      <td>4</td>\n",
       "      <td>9</td>\n",
       "    </tr>\n",
       "    <tr>\n",
       "      <th>4</th>\n",
       "      <td>5</td>\n",
       "      <td>3</td>\n",
       "    </tr>\n",
       "  </tbody>\n",
       "</table>\n",
       "</div>"
      ],
      "text/plain": [
       "   ImageId  Label\n",
       "0        1      2\n",
       "1        2      0\n",
       "2        3      9\n",
       "3        4      9\n",
       "4        5      3"
      ]
     },
     "execution_count": 30,
     "metadata": {},
     "output_type": "execute_result"
    }
   ],
   "source": [
    "# Different TARGET name used in test.csv\n",
    "ss = create_submission(\"\", \"Label\", preds)\n",
    "ss"
   ]
  }
 ],
 "metadata": {
  "kernelspec": {
   "display_name": "Python 3",
   "language": "python",
   "name": "python3"
  },
  "language_info": {
   "codemirror_mode": {
    "name": "ipython",
    "version": 3
   },
   "file_extension": ".py",
   "mimetype": "text/x-python",
   "name": "python",
   "nbconvert_exporter": "python",
   "pygments_lexer": "ipython3",
   "version": "3.7.12"
  },
  "papermill": {
   "default_parameters": {},
   "duration": 217.297312,
   "end_time": "2022-09-21T15:19:51.194135",
   "environment_variables": {},
   "exception": null,
   "input_path": "__notebook__.ipynb",
   "output_path": "__notebook__.ipynb",
   "parameters": {},
   "start_time": "2022-09-21T15:16:13.896823",
   "version": "2.3.4"
  }
 },
 "nbformat": 4,
 "nbformat_minor": 5
}
