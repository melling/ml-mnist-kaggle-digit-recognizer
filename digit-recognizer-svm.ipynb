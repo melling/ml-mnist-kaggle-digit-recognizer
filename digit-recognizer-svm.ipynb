{
 "cells": [
  {
   "cell_type": "markdown",
   "id": "ce344c4b",
   "metadata": {
    "papermill": {
     "duration": 0.006944,
     "end_time": "2022-07-06T21:30:27.798995",
     "exception": false,
     "start_time": "2022-07-06T21:30:27.792051",
     "status": "completed"
    },
    "tags": []
   },
   "source": [
    "<div style=\"background-color:rgba(128, 0, 128, 0.6);border-radius:5px;display:fill\"><h1 style=\"text-align: center;padding: 12px 0px 12px 0px;\">MNIST: SVM</h1>\n",
    "</div>\n",
    "\n",
    "Problem Type: Multi-classification\n",
    "\n",
    "## Evaluation Metric"
   ]
  },
  {
   "cell_type": "code",
   "execution_count": 1,
   "id": "e9d7f241",
   "metadata": {
    "execution": {
     "iopub.execute_input": "2022-07-06T21:30:27.813443Z",
     "iopub.status.busy": "2022-07-06T21:30:27.812783Z",
     "iopub.status.idle": "2022-07-06T21:30:43.878661Z",
     "shell.execute_reply": "2022-07-06T21:30:43.877011Z"
    },
    "papermill": {
     "duration": 16.076706,
     "end_time": "2022-07-06T21:30:43.881843",
     "exception": false,
     "start_time": "2022-07-06T21:30:27.805137",
     "status": "completed"
    },
    "tags": []
   },
   "outputs": [
    {
     "name": "stdout",
     "output_type": "stream",
     "text": [
      "\u001b[33mWARNING: Running pip as the 'root' user can result in broken permissions and conflicting behaviour with the system package manager. It is recommended to use a virtual environment instead: https://pip.pypa.io/warnings/venv\u001b[0m\u001b[33m\r\n",
      "\u001b[0m"
     ]
    }
   ],
   "source": [
    "# Black formatter https://black.readthedocs.io/en/stable/\n",
    "\n",
    "! pip install nb-black > /dev/null\n",
    "\n",
    "%load_ext lab_black"
   ]
  },
  {
   "cell_type": "markdown",
   "id": "32d003b1",
   "metadata": {
    "papermill": {
     "duration": 0.005768,
     "end_time": "2022-07-06T21:30:43.893472",
     "exception": false,
     "start_time": "2022-07-06T21:30:43.887704",
     "status": "completed"
    },
    "tags": []
   },
   "source": [
    "<div style=\"background-color:rgba(128, 0, 128, 0.6);border-radius:5px;display:fill\"><h1 style=\"text-align: center;padding: 12px 0px 12px 0px;\">Configuration</h1>\n",
    "</div>"
   ]
  },
  {
   "cell_type": "code",
   "execution_count": 2,
   "id": "53448f77",
   "metadata": {
    "execution": {
     "iopub.execute_input": "2022-07-06T21:30:43.907476Z",
     "iopub.status.busy": "2022-07-06T21:30:43.906904Z",
     "iopub.status.idle": "2022-07-06T21:30:43.917766Z",
     "shell.execute_reply": "2022-07-06T21:30:43.916407Z"
    },
    "papermill": {
     "duration": 0.021383,
     "end_time": "2022-07-06T21:30:43.920594",
     "exception": false,
     "start_time": "2022-07-06T21:30:43.899211",
     "status": "completed"
    },
    "tags": []
   },
   "outputs": [],
   "source": [
    "data_dir = \"../input/digit-recognizer\""
   ]
  },
  {
   "cell_type": "code",
   "execution_count": 3,
   "id": "4d2be413",
   "metadata": {
    "execution": {
     "iopub.execute_input": "2022-07-06T21:30:43.935091Z",
     "iopub.status.busy": "2022-07-06T21:30:43.934691Z",
     "iopub.status.idle": "2022-07-06T21:30:43.941077Z",
     "shell.execute_reply": "2022-07-06T21:30:43.939867Z"
    },
    "papermill": {
     "duration": 0.017208,
     "end_time": "2022-07-06T21:30:43.943608",
     "exception": false,
     "start_time": "2022-07-06T21:30:43.926400",
     "status": "completed"
    },
    "tags": []
   },
   "outputs": [],
   "source": [
    "TARGET = \"label\""
   ]
  },
  {
   "cell_type": "markdown",
   "id": "0b95b540",
   "metadata": {
    "papermill": {
     "duration": 0.00677,
     "end_time": "2022-07-06T21:30:43.956779",
     "exception": false,
     "start_time": "2022-07-06T21:30:43.950009",
     "status": "completed"
    },
    "tags": []
   },
   "source": [
    "<div style=\"background-color:rgba(128, 0, 128, 0.6);border-radius:5px;display:fill\"><h1 style=\"text-align: center;padding: 12px 0px 12px 0px;\">Import Libraries</h1>\n",
    "</div>\n",
    "\n",
    "A best practise is to include all libraries here.  However, I will put a few imports farther down where they are first used so beginners can learn with an \"as needed\" approach."
   ]
  },
  {
   "cell_type": "code",
   "execution_count": 4,
   "id": "f7ab4ae0",
   "metadata": {
    "execution": {
     "iopub.execute_input": "2022-07-06T21:30:43.972741Z",
     "iopub.status.busy": "2022-07-06T21:30:43.972353Z",
     "iopub.status.idle": "2022-07-06T21:30:45.436579Z",
     "shell.execute_reply": "2022-07-06T21:30:45.435252Z"
    },
    "papermill": {
     "duration": 1.475484,
     "end_time": "2022-07-06T21:30:45.439549",
     "exception": false,
     "start_time": "2022-07-06T21:30:43.964065",
     "status": "completed"
    },
    "tags": []
   },
   "outputs": [],
   "source": [
    "import os\n",
    "import time\n",
    "from pathlib import Path\n",
    "\n",
    "import pandas as pd\n",
    "import numpy as np\n",
    "\n",
    "from sklearn.model_selection import train_test_split\n",
    "\n",
    "from sklearn.svm import SVC\n",
    "\n",
    "from sklearn.metrics import f1_score"
   ]
  },
  {
   "cell_type": "markdown",
   "id": "ed599d7f",
   "metadata": {
    "papermill": {
     "duration": 0.005962,
     "end_time": "2022-07-06T21:30:45.451597",
     "exception": false,
     "start_time": "2022-07-06T21:30:45.445635",
     "status": "completed"
    },
    "tags": []
   },
   "source": [
    "<div style=\"background-color:rgba(128, 0, 128, 0.6);border-radius:5px;display:fill\"><h1 style=\"text-align: center;padding: 12px 0px 12px 0px;\">Library</h1>\n",
    "</div>\n",
    "\n",
    "Creating a few functions that we will reuse in each project."
   ]
  },
  {
   "cell_type": "code",
   "execution_count": 5,
   "id": "e7ace03a",
   "metadata": {
    "execution": {
     "iopub.execute_input": "2022-07-06T21:30:45.466610Z",
     "iopub.status.busy": "2022-07-06T21:30:45.465420Z",
     "iopub.status.idle": "2022-07-06T21:30:45.482388Z",
     "shell.execute_reply": "2022-07-06T21:30:45.480926Z"
    },
    "papermill": {
     "duration": 0.027565,
     "end_time": "2022-07-06T21:30:45.485075",
     "exception": false,
     "start_time": "2022-07-06T21:30:45.457510",
     "status": "completed"
    },
    "tags": []
   },
   "outputs": [],
   "source": [
    "def read_data(path):\n",
    "    data_dir = Path(path)\n",
    "\n",
    "    train = pd.read_csv(data_dir / \"train.csv\")\n",
    "    test = pd.read_csv(data_dir / \"test.csv\")\n",
    "    submission_df = pd.read_csv(data_dir / \"sample_submission.csv\")\n",
    "\n",
    "    print(f\"train data: Rows={train.shape[0]}, Columns={train.shape[1]}\")\n",
    "    print(f\"test data : Rows={test.shape[0]}, Columns={test.shape[1]}\")\n",
    "    return train, test, submission_df"
   ]
  },
  {
   "cell_type": "code",
   "execution_count": 6,
   "id": "aad6507a",
   "metadata": {
    "execution": {
     "iopub.execute_input": "2022-07-06T21:30:45.499500Z",
     "iopub.status.busy": "2022-07-06T21:30:45.499082Z",
     "iopub.status.idle": "2022-07-06T21:30:45.514585Z",
     "shell.execute_reply": "2022-07-06T21:30:45.513326Z"
    },
    "papermill": {
     "duration": 0.026358,
     "end_time": "2022-07-06T21:30:45.517436",
     "exception": false,
     "start_time": "2022-07-06T21:30:45.491078",
     "status": "completed"
    },
    "tags": []
   },
   "outputs": [],
   "source": [
    "def create_submission(model_name, target, preds, is_log_target=False):\n",
    "    if is_log_target:\n",
    "        #         preds = np.exp(preds)\n",
    "        preds = np.expm1(preds)\n",
    "\n",
    "    sample_submission[target] = preds\n",
    "    if len(model_name) > 0:\n",
    "        sample_submission.to_csv(f\"submission_{model_name}.csv\", index=False)\n",
    "    else:\n",
    "        sample_submission.to_csv(f\"submission.csv\", index=False)\n",
    "\n",
    "    return sample_submission[:5]"
   ]
  },
  {
   "cell_type": "markdown",
   "id": "fadc6652",
   "metadata": {
    "papermill": {
     "duration": 0.00559,
     "end_time": "2022-07-06T21:30:45.529026",
     "exception": false,
     "start_time": "2022-07-06T21:30:45.523436",
     "status": "completed"
    },
    "tags": []
   },
   "source": [
    "<div style=\"background-color:rgba(128, 0, 128, 0.6);border-radius:5px;display:fill\"><h1 style=\"text-align: center;padding: 12px 0px 12px 0px;\">Load Train/Test Data</h1>\n",
    "</div>\n",
    "\n",
    "- train.csv - Data used to build our machine learning model\n",
    "- test.csv - Data used to build our machine learning model. Does not contain the target variable\n",
    "- sample_submission.csv - A file in the proper format to submit test predictions"
   ]
  },
  {
   "cell_type": "code",
   "execution_count": 7,
   "id": "d5c7fe52",
   "metadata": {
    "execution": {
     "iopub.execute_input": "2022-07-06T21:30:45.542930Z",
     "iopub.status.busy": "2022-07-06T21:30:45.542559Z",
     "iopub.status.idle": "2022-07-06T21:30:51.503383Z",
     "shell.execute_reply": "2022-07-06T21:30:51.501867Z"
    },
    "papermill": {
     "duration": 5.972097,
     "end_time": "2022-07-06T21:30:51.507070",
     "exception": false,
     "start_time": "2022-07-06T21:30:45.534973",
     "status": "completed"
    },
    "tags": []
   },
   "outputs": [
    {
     "name": "stdout",
     "output_type": "stream",
     "text": [
      "train data: Rows=42000, Columns=785\n",
      "test data : Rows=28000, Columns=784\n"
     ]
    }
   ],
   "source": [
    "train, test, sample_submission = read_data(data_dir)"
   ]
  },
  {
   "cell_type": "code",
   "execution_count": 8,
   "id": "c81c2681",
   "metadata": {
    "execution": {
     "iopub.execute_input": "2022-07-06T21:30:51.522835Z",
     "iopub.status.busy": "2022-07-06T21:30:51.522432Z",
     "iopub.status.idle": "2022-07-06T21:30:51.556973Z",
     "shell.execute_reply": "2022-07-06T21:30:51.555378Z"
    },
    "papermill": {
     "duration": 0.04476,
     "end_time": "2022-07-06T21:30:51.559684",
     "exception": false,
     "start_time": "2022-07-06T21:30:51.514924",
     "status": "completed"
    },
    "tags": []
   },
   "outputs": [
    {
     "data": {
      "text/html": [
       "<div>\n",
       "<style scoped>\n",
       "    .dataframe tbody tr th:only-of-type {\n",
       "        vertical-align: middle;\n",
       "    }\n",
       "\n",
       "    .dataframe tbody tr th {\n",
       "        vertical-align: top;\n",
       "    }\n",
       "\n",
       "    .dataframe thead th {\n",
       "        text-align: right;\n",
       "    }\n",
       "</style>\n",
       "<table border=\"1\" class=\"dataframe\">\n",
       "  <thead>\n",
       "    <tr style=\"text-align: right;\">\n",
       "      <th></th>\n",
       "      <th>label</th>\n",
       "      <th>pixel0</th>\n",
       "      <th>pixel1</th>\n",
       "      <th>pixel2</th>\n",
       "      <th>pixel3</th>\n",
       "      <th>pixel4</th>\n",
       "      <th>pixel5</th>\n",
       "      <th>pixel6</th>\n",
       "      <th>pixel7</th>\n",
       "      <th>pixel8</th>\n",
       "      <th>...</th>\n",
       "      <th>pixel774</th>\n",
       "      <th>pixel775</th>\n",
       "      <th>pixel776</th>\n",
       "      <th>pixel777</th>\n",
       "      <th>pixel778</th>\n",
       "      <th>pixel779</th>\n",
       "      <th>pixel780</th>\n",
       "      <th>pixel781</th>\n",
       "      <th>pixel782</th>\n",
       "      <th>pixel783</th>\n",
       "    </tr>\n",
       "  </thead>\n",
       "  <tbody>\n",
       "    <tr>\n",
       "      <th>0</th>\n",
       "      <td>1</td>\n",
       "      <td>0</td>\n",
       "      <td>0</td>\n",
       "      <td>0</td>\n",
       "      <td>0</td>\n",
       "      <td>0</td>\n",
       "      <td>0</td>\n",
       "      <td>0</td>\n",
       "      <td>0</td>\n",
       "      <td>0</td>\n",
       "      <td>...</td>\n",
       "      <td>0</td>\n",
       "      <td>0</td>\n",
       "      <td>0</td>\n",
       "      <td>0</td>\n",
       "      <td>0</td>\n",
       "      <td>0</td>\n",
       "      <td>0</td>\n",
       "      <td>0</td>\n",
       "      <td>0</td>\n",
       "      <td>0</td>\n",
       "    </tr>\n",
       "    <tr>\n",
       "      <th>1</th>\n",
       "      <td>0</td>\n",
       "      <td>0</td>\n",
       "      <td>0</td>\n",
       "      <td>0</td>\n",
       "      <td>0</td>\n",
       "      <td>0</td>\n",
       "      <td>0</td>\n",
       "      <td>0</td>\n",
       "      <td>0</td>\n",
       "      <td>0</td>\n",
       "      <td>...</td>\n",
       "      <td>0</td>\n",
       "      <td>0</td>\n",
       "      <td>0</td>\n",
       "      <td>0</td>\n",
       "      <td>0</td>\n",
       "      <td>0</td>\n",
       "      <td>0</td>\n",
       "      <td>0</td>\n",
       "      <td>0</td>\n",
       "      <td>0</td>\n",
       "    </tr>\n",
       "    <tr>\n",
       "      <th>2</th>\n",
       "      <td>1</td>\n",
       "      <td>0</td>\n",
       "      <td>0</td>\n",
       "      <td>0</td>\n",
       "      <td>0</td>\n",
       "      <td>0</td>\n",
       "      <td>0</td>\n",
       "      <td>0</td>\n",
       "      <td>0</td>\n",
       "      <td>0</td>\n",
       "      <td>...</td>\n",
       "      <td>0</td>\n",
       "      <td>0</td>\n",
       "      <td>0</td>\n",
       "      <td>0</td>\n",
       "      <td>0</td>\n",
       "      <td>0</td>\n",
       "      <td>0</td>\n",
       "      <td>0</td>\n",
       "      <td>0</td>\n",
       "      <td>0</td>\n",
       "    </tr>\n",
       "    <tr>\n",
       "      <th>3</th>\n",
       "      <td>4</td>\n",
       "      <td>0</td>\n",
       "      <td>0</td>\n",
       "      <td>0</td>\n",
       "      <td>0</td>\n",
       "      <td>0</td>\n",
       "      <td>0</td>\n",
       "      <td>0</td>\n",
       "      <td>0</td>\n",
       "      <td>0</td>\n",
       "      <td>...</td>\n",
       "      <td>0</td>\n",
       "      <td>0</td>\n",
       "      <td>0</td>\n",
       "      <td>0</td>\n",
       "      <td>0</td>\n",
       "      <td>0</td>\n",
       "      <td>0</td>\n",
       "      <td>0</td>\n",
       "      <td>0</td>\n",
       "      <td>0</td>\n",
       "    </tr>\n",
       "    <tr>\n",
       "      <th>4</th>\n",
       "      <td>0</td>\n",
       "      <td>0</td>\n",
       "      <td>0</td>\n",
       "      <td>0</td>\n",
       "      <td>0</td>\n",
       "      <td>0</td>\n",
       "      <td>0</td>\n",
       "      <td>0</td>\n",
       "      <td>0</td>\n",
       "      <td>0</td>\n",
       "      <td>...</td>\n",
       "      <td>0</td>\n",
       "      <td>0</td>\n",
       "      <td>0</td>\n",
       "      <td>0</td>\n",
       "      <td>0</td>\n",
       "      <td>0</td>\n",
       "      <td>0</td>\n",
       "      <td>0</td>\n",
       "      <td>0</td>\n",
       "      <td>0</td>\n",
       "    </tr>\n",
       "  </tbody>\n",
       "</table>\n",
       "<p>5 rows × 785 columns</p>\n",
       "</div>"
      ],
      "text/plain": [
       "   label  pixel0  pixel1  pixel2  pixel3  pixel4  pixel5  pixel6  pixel7  \\\n",
       "0      1       0       0       0       0       0       0       0       0   \n",
       "1      0       0       0       0       0       0       0       0       0   \n",
       "2      1       0       0       0       0       0       0       0       0   \n",
       "3      4       0       0       0       0       0       0       0       0   \n",
       "4      0       0       0       0       0       0       0       0       0   \n",
       "\n",
       "   pixel8  ...  pixel774  pixel775  pixel776  pixel777  pixel778  pixel779  \\\n",
       "0       0  ...         0         0         0         0         0         0   \n",
       "1       0  ...         0         0         0         0         0         0   \n",
       "2       0  ...         0         0         0         0         0         0   \n",
       "3       0  ...         0         0         0         0         0         0   \n",
       "4       0  ...         0         0         0         0         0         0   \n",
       "\n",
       "   pixel780  pixel781  pixel782  pixel783  \n",
       "0         0         0         0         0  \n",
       "1         0         0         0         0  \n",
       "2         0         0         0         0  \n",
       "3         0         0         0         0  \n",
       "4         0         0         0         0  \n",
       "\n",
       "[5 rows x 785 columns]"
      ]
     },
     "execution_count": 8,
     "metadata": {},
     "output_type": "execute_result"
    }
   ],
   "source": [
    "train.head()"
   ]
  },
  {
   "cell_type": "code",
   "execution_count": 9,
   "id": "856fd4d4",
   "metadata": {
    "execution": {
     "iopub.execute_input": "2022-07-06T21:30:51.575273Z",
     "iopub.status.busy": "2022-07-06T21:30:51.574805Z",
     "iopub.status.idle": "2022-07-06T21:30:51.586087Z",
     "shell.execute_reply": "2022-07-06T21:30:51.584992Z"
    },
    "papermill": {
     "duration": 0.022013,
     "end_time": "2022-07-06T21:30:51.588683",
     "exception": false,
     "start_time": "2022-07-06T21:30:51.566670",
     "status": "completed"
    },
    "tags": []
   },
   "outputs": [],
   "source": [
    "FEATURES = [\n",
    "    col\n",
    "    for col in train.columns\n",
    "    if col\n",
    "    not in [\n",
    "        \"Id\",\n",
    "        TARGET,\n",
    "        #         TARGET_ENC,\n",
    "    ]\n",
    "]"
   ]
  },
  {
   "cell_type": "code",
   "execution_count": 10,
   "id": "f4eb68db",
   "metadata": {
    "execution": {
     "iopub.execute_input": "2022-07-06T21:30:51.603947Z",
     "iopub.status.busy": "2022-07-06T21:30:51.603528Z",
     "iopub.status.idle": "2022-07-06T21:30:51.995058Z",
     "shell.execute_reply": "2022-07-06T21:30:51.993842Z"
    },
    "papermill": {
     "duration": 0.40252,
     "end_time": "2022-07-06T21:30:51.997889",
     "exception": false,
     "start_time": "2022-07-06T21:30:51.595369",
     "status": "completed"
    },
    "tags": []
   },
   "outputs": [],
   "source": [
    "y = train[TARGET]\n",
    "X = train[FEATURES].copy()\n",
    "\n",
    "X_test = test[FEATURES].copy()"
   ]
  },
  {
   "cell_type": "code",
   "execution_count": 11,
   "id": "eb28ac4d",
   "metadata": {
    "execution": {
     "iopub.execute_input": "2022-07-06T21:30:52.013427Z",
     "iopub.status.busy": "2022-07-06T21:30:52.012942Z",
     "iopub.status.idle": "2022-07-06T21:30:52.262431Z",
     "shell.execute_reply": "2022-07-06T21:30:52.261153Z"
    },
    "papermill": {
     "duration": 0.260287,
     "end_time": "2022-07-06T21:30:52.264931",
     "exception": false,
     "start_time": "2022-07-06T21:30:52.004644",
     "status": "completed"
    },
    "tags": []
   },
   "outputs": [
    {
     "data": {
      "text/plain": [
       "((37800, 784), (37800,), (4200, 784), (4200,))"
      ]
     },
     "execution_count": 11,
     "metadata": {},
     "output_type": "execute_result"
    }
   ],
   "source": [
    "X_train, X_valid, y_train, y_valid = train_test_split(\n",
    "    X,\n",
    "    y,\n",
    "    test_size=0.1,\n",
    "    random_state=42,\n",
    ")\n",
    "X_train.shape, y_train.shape, X_valid.shape, y_valid.shape"
   ]
  },
  {
   "cell_type": "markdown",
   "id": "11e48b56",
   "metadata": {
    "papermill": {
     "duration": 0.006628,
     "end_time": "2022-07-06T21:30:52.279119",
     "exception": false,
     "start_time": "2022-07-06T21:30:52.272491",
     "status": "completed"
    },
    "tags": []
   },
   "source": [
    "<div style=\"background-color:rgba(128, 0, 128, 0.6);border-radius:5px;display:fill\"><h1 style=\"text-align: center;padding: 12px 0px 12px 0px;\">Create Models</h1>\n",
    "</div>"
   ]
  },
  {
   "cell_type": "code",
   "execution_count": 12,
   "id": "a840bedd",
   "metadata": {
    "execution": {
     "iopub.execute_input": "2022-07-06T21:30:52.294533Z",
     "iopub.status.busy": "2022-07-06T21:30:52.294107Z",
     "iopub.status.idle": "2022-07-06T21:33:02.756627Z",
     "shell.execute_reply": "2022-07-06T21:33:02.755269Z"
    },
    "papermill": {
     "duration": 130.479278,
     "end_time": "2022-07-06T21:33:02.765321",
     "exception": false,
     "start_time": "2022-07-06T21:30:52.286043",
     "status": "completed"
    },
    "tags": []
   },
   "outputs": [
    {
     "name": "stdout",
     "output_type": "stream",
     "text": [
      "CPU times: user 2min 10s, sys: 206 ms, total: 2min 10s\n",
      "Wall time: 2min 10s\n"
     ]
    },
    {
     "data": {
      "text/plain": [
       "SVC(C=10)"
      ]
     },
     "execution_count": 12,
     "metadata": {},
     "output_type": "execute_result"
    }
   ],
   "source": [
    "%%time\n",
    "\n",
    "clf = SVC(C=10, kernel=\"rbf\")\n",
    "clf.fit(X_train, y_train)"
   ]
  },
  {
   "cell_type": "code",
   "execution_count": 13,
   "id": "8e44fd13",
   "metadata": {
    "execution": {
     "iopub.execute_input": "2022-07-06T21:33:02.781546Z",
     "iopub.status.busy": "2022-07-06T21:33:02.781106Z",
     "iopub.status.idle": "2022-07-06T21:33:39.115973Z",
     "shell.execute_reply": "2022-07-06T21:33:39.114719Z"
    },
    "papermill": {
     "duration": 36.352988,
     "end_time": "2022-07-06T21:33:39.125431",
     "exception": false,
     "start_time": "2022-07-06T21:33:02.772443",
     "status": "completed"
    },
    "tags": []
   },
   "outputs": [
    {
     "name": "stdout",
     "output_type": "stream",
     "text": [
      "CPU times: user 36.3 s, sys: 15.6 ms, total: 36.3 s\n",
      "Wall time: 36.3 s\n"
     ]
    }
   ],
   "source": [
    "%%time\n",
    "\n",
    "preds = clf.predict(X_valid)"
   ]
  },
  {
   "cell_type": "markdown",
   "id": "2fd6f458",
   "metadata": {
    "papermill": {
     "duration": 0.006794,
     "end_time": "2022-07-06T21:33:39.139352",
     "exception": false,
     "start_time": "2022-07-06T21:33:39.132558",
     "status": "completed"
    },
    "tags": []
   },
   "source": [
    "## Score"
   ]
  },
  {
   "cell_type": "code",
   "execution_count": 14,
   "id": "f5ab43ec",
   "metadata": {
    "execution": {
     "iopub.execute_input": "2022-07-06T21:33:39.155496Z",
     "iopub.status.busy": "2022-07-06T21:33:39.155035Z",
     "iopub.status.idle": "2022-07-06T21:33:39.167500Z",
     "shell.execute_reply": "2022-07-06T21:33:39.166561Z"
    },
    "papermill": {
     "duration": 0.023453,
     "end_time": "2022-07-06T21:33:39.169995",
     "exception": false,
     "start_time": "2022-07-06T21:33:39.146542",
     "status": "completed"
    },
    "tags": []
   },
   "outputs": [
    {
     "data": {
      "text/plain": [
       "0.9812023935685119"
      ]
     },
     "execution_count": 14,
     "metadata": {},
     "output_type": "execute_result"
    }
   ],
   "source": [
    "f1_score(y_valid, preds, average=\"macro\")"
   ]
  },
  {
   "cell_type": "code",
   "execution_count": 15,
   "id": "702e6cd8",
   "metadata": {
    "execution": {
     "iopub.execute_input": "2022-07-06T21:33:39.187109Z",
     "iopub.status.busy": "2022-07-06T21:33:39.186382Z",
     "iopub.status.idle": "2022-07-06T21:37:43.312549Z",
     "shell.execute_reply": "2022-07-06T21:37:43.311257Z"
    },
    "papermill": {
     "duration": 244.138234,
     "end_time": "2022-07-06T21:37:43.315719",
     "exception": false,
     "start_time": "2022-07-06T21:33:39.177485",
     "status": "completed"
    },
    "tags": []
   },
   "outputs": [],
   "source": [
    "preds = clf.predict(X_test)"
   ]
  },
  {
   "cell_type": "markdown",
   "id": "994b7dbc",
   "metadata": {
    "papermill": {
     "duration": 0.007345,
     "end_time": "2022-07-06T21:37:43.331254",
     "exception": false,
     "start_time": "2022-07-06T21:37:43.323909",
     "status": "completed"
    },
    "tags": []
   },
   "source": [
    "## Submission"
   ]
  },
  {
   "cell_type": "code",
   "execution_count": 16,
   "id": "b8762ae8",
   "metadata": {
    "execution": {
     "iopub.execute_input": "2022-07-06T21:37:43.348683Z",
     "iopub.status.busy": "2022-07-06T21:37:43.348082Z",
     "iopub.status.idle": "2022-07-06T21:37:43.407691Z",
     "shell.execute_reply": "2022-07-06T21:37:43.406259Z"
    },
    "papermill": {
     "duration": 0.071718,
     "end_time": "2022-07-06T21:37:43.410664",
     "exception": false,
     "start_time": "2022-07-06T21:37:43.338946",
     "status": "completed"
    },
    "tags": []
   },
   "outputs": [
    {
     "data": {
      "text/html": [
       "<div>\n",
       "<style scoped>\n",
       "    .dataframe tbody tr th:only-of-type {\n",
       "        vertical-align: middle;\n",
       "    }\n",
       "\n",
       "    .dataframe tbody tr th {\n",
       "        vertical-align: top;\n",
       "    }\n",
       "\n",
       "    .dataframe thead th {\n",
       "        text-align: right;\n",
       "    }\n",
       "</style>\n",
       "<table border=\"1\" class=\"dataframe\">\n",
       "  <thead>\n",
       "    <tr style=\"text-align: right;\">\n",
       "      <th></th>\n",
       "      <th>ImageId</th>\n",
       "      <th>Label</th>\n",
       "    </tr>\n",
       "  </thead>\n",
       "  <tbody>\n",
       "    <tr>\n",
       "      <th>0</th>\n",
       "      <td>1</td>\n",
       "      <td>2</td>\n",
       "    </tr>\n",
       "    <tr>\n",
       "      <th>1</th>\n",
       "      <td>2</td>\n",
       "      <td>0</td>\n",
       "    </tr>\n",
       "    <tr>\n",
       "      <th>2</th>\n",
       "      <td>3</td>\n",
       "      <td>9</td>\n",
       "    </tr>\n",
       "    <tr>\n",
       "      <th>3</th>\n",
       "      <td>4</td>\n",
       "      <td>9</td>\n",
       "    </tr>\n",
       "    <tr>\n",
       "      <th>4</th>\n",
       "      <td>5</td>\n",
       "      <td>3</td>\n",
       "    </tr>\n",
       "  </tbody>\n",
       "</table>\n",
       "</div>"
      ],
      "text/plain": [
       "   ImageId  Label\n",
       "0        1      2\n",
       "1        2      0\n",
       "2        3      9\n",
       "3        4      9\n",
       "4        5      3"
      ]
     },
     "execution_count": 16,
     "metadata": {},
     "output_type": "execute_result"
    }
   ],
   "source": [
    "# Different TARGET name used in test.csv\n",
    "ss = create_submission(\"\", \"Label\", preds)\n",
    "ss"
   ]
  }
 ],
 "metadata": {
  "kernelspec": {
   "display_name": "Python 3",
   "language": "python",
   "name": "python3"
  },
  "language_info": {
   "codemirror_mode": {
    "name": "ipython",
    "version": 3
   },
   "file_extension": ".py",
   "mimetype": "text/x-python",
   "name": "python",
   "nbconvert_exporter": "python",
   "pygments_lexer": "ipython3",
   "version": "3.7.12"
  },
  "papermill": {
   "default_parameters": {},
   "duration": 447.361014,
   "end_time": "2022-07-06T21:37:44.244658",
   "environment_variables": {},
   "exception": null,
   "input_path": "__notebook__.ipynb",
   "output_path": "__notebook__.ipynb",
   "parameters": {},
   "start_time": "2022-07-06T21:30:16.883644",
   "version": "2.3.4"
  }
 },
 "nbformat": 4,
 "nbformat_minor": 5
}
