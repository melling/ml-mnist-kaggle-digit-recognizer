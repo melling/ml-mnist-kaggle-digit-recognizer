{
 "cells": [
  {
   "cell_type": "markdown",
   "id": "f94910b6",
   "metadata": {
    "papermill": {
     "duration": 0.009233,
     "end_time": "2022-07-17T19:40:17.616297",
     "exception": false,
     "start_time": "2022-07-17T19:40:17.607064",
     "status": "completed"
    },
    "tags": []
   },
   "source": [
    "<div style=\"background-color:rgba(128, 0, 128, 0.6);border-radius:5px;display:fill\"><h1 style=\"text-align: center;padding: 12px 0px 12px 0px;\">MNIST: CNN</h1>\n",
    "</div>\n",
    "\n",
    "Problem Type: Multi-classification\n",
    "\n",
    "## Evaluation Metric"
   ]
  },
  {
   "cell_type": "code",
   "execution_count": 1,
   "id": "cbfeb030",
   "metadata": {
    "execution": {
     "iopub.execute_input": "2022-07-17T19:40:17.634546Z",
     "iopub.status.busy": "2022-07-17T19:40:17.634103Z",
     "iopub.status.idle": "2022-07-17T19:40:30.534341Z",
     "shell.execute_reply": "2022-07-17T19:40:30.533394Z"
    },
    "papermill": {
     "duration": 12.912516,
     "end_time": "2022-07-17T19:40:30.537119",
     "exception": false,
     "start_time": "2022-07-17T19:40:17.624603",
     "status": "completed"
    },
    "tags": []
   },
   "outputs": [
    {
     "name": "stdout",
     "output_type": "stream",
     "text": [
      "\u001b[33mWARNING: Running pip as the 'root' user can result in broken permissions and conflicting behaviour with the system package manager. It is recommended to use a virtual environment instead: https://pip.pypa.io/warnings/venv\u001b[0m\u001b[33m\r\n",
      "\u001b[0m"
     ]
    }
   ],
   "source": [
    "# Black formatter https://black.readthedocs.io/en/stable/\n",
    "\n",
    "! pip install nb-black > /dev/null\n",
    "\n",
    "%load_ext lab_black"
   ]
  },
  {
   "cell_type": "markdown",
   "id": "c939cd1f",
   "metadata": {
    "papermill": {
     "duration": 0.007917,
     "end_time": "2022-07-17T19:40:30.553439",
     "exception": false,
     "start_time": "2022-07-17T19:40:30.545522",
     "status": "completed"
    },
    "tags": []
   },
   "source": [
    "<div style=\"background-color:rgba(128, 0, 128, 0.6);border-radius:5px;display:fill\"><h1 style=\"text-align: center;padding: 12px 0px 12px 0px;\">Configuration</h1>\n",
    "</div>"
   ]
  },
  {
   "cell_type": "code",
   "execution_count": 2,
   "id": "ac122896",
   "metadata": {
    "execution": {
     "iopub.execute_input": "2022-07-17T19:40:30.572118Z",
     "iopub.status.busy": "2022-07-17T19:40:30.570681Z",
     "iopub.status.idle": "2022-07-17T19:40:30.577560Z",
     "shell.execute_reply": "2022-07-17T19:40:30.576739Z"
    },
    "papermill": {
     "duration": 0.017887,
     "end_time": "2022-07-17T19:40:30.579447",
     "exception": false,
     "start_time": "2022-07-17T19:40:30.561560",
     "status": "completed"
    },
    "tags": []
   },
   "outputs": [],
   "source": [
    "data_dir = \"../input/digit-recognizer\""
   ]
  },
  {
   "cell_type": "code",
   "execution_count": 3,
   "id": "41a61218",
   "metadata": {
    "execution": {
     "iopub.execute_input": "2022-07-17T19:40:30.596786Z",
     "iopub.status.busy": "2022-07-17T19:40:30.596536Z",
     "iopub.status.idle": "2022-07-17T19:40:30.600809Z",
     "shell.execute_reply": "2022-07-17T19:40:30.599892Z"
    },
    "papermill": {
     "duration": 0.015006,
     "end_time": "2022-07-17T19:40:30.602570",
     "exception": false,
     "start_time": "2022-07-17T19:40:30.587564",
     "status": "completed"
    },
    "tags": []
   },
   "outputs": [],
   "source": [
    "TARGET = \"label\""
   ]
  },
  {
   "cell_type": "markdown",
   "id": "b2b4b1e8",
   "metadata": {
    "papermill": {
     "duration": 0.007906,
     "end_time": "2022-07-17T19:40:30.618708",
     "exception": false,
     "start_time": "2022-07-17T19:40:30.610802",
     "status": "completed"
    },
    "tags": []
   },
   "source": [
    "<div style=\"background-color:rgba(128, 0, 128, 0.6);border-radius:5px;display:fill\"><h1 style=\"text-align: center;padding: 12px 0px 12px 0px;\">Import Libraries</h1>\n",
    "</div>\n",
    "\n",
    "A best practise is to include all libraries here.  However, I will put a few imports farther down where they are first used so beginners can learn with an \"as needed\" approach."
   ]
  },
  {
   "cell_type": "code",
   "execution_count": 4,
   "id": "9ff45d58",
   "metadata": {
    "execution": {
     "iopub.execute_input": "2022-07-17T19:40:30.636155Z",
     "iopub.status.busy": "2022-07-17T19:40:30.635622Z",
     "iopub.status.idle": "2022-07-17T19:40:31.831177Z",
     "shell.execute_reply": "2022-07-17T19:40:31.830199Z"
    },
    "papermill": {
     "duration": 1.206655,
     "end_time": "2022-07-17T19:40:31.833480",
     "exception": false,
     "start_time": "2022-07-17T19:40:30.626825",
     "status": "completed"
    },
    "tags": []
   },
   "outputs": [],
   "source": [
    "import os\n",
    "import time\n",
    "from pathlib import Path\n",
    "\n",
    "import pandas as pd\n",
    "import numpy as np\n",
    "\n",
    "from sklearn.model_selection import train_test_split\n",
    "\n",
    "from sklearn.metrics import f1_score\n",
    "\n",
    "# Visualization Libraries\n",
    "import matplotlib.pylab as plt\n",
    "import seaborn as sns"
   ]
  },
  {
   "cell_type": "markdown",
   "id": "37c3a2a0",
   "metadata": {
    "papermill": {
     "duration": 0.008134,
     "end_time": "2022-07-17T19:40:31.850207",
     "exception": false,
     "start_time": "2022-07-17T19:40:31.842073",
     "status": "completed"
    },
    "tags": []
   },
   "source": [
    "<div style=\"background-color:rgba(128, 0, 128, 0.6);border-radius:5px;display:fill\"><h1 style=\"text-align: center;padding: 12px 0px 12px 0px;\">Library</h1>\n",
    "</div>\n",
    "\n",
    "Creating a few functions that we will reuse in each project."
   ]
  },
  {
   "cell_type": "code",
   "execution_count": 5,
   "id": "0be92455",
   "metadata": {
    "execution": {
     "iopub.execute_input": "2022-07-17T19:40:31.868400Z",
     "iopub.status.busy": "2022-07-17T19:40:31.868112Z",
     "iopub.status.idle": "2022-07-17T19:40:31.879724Z",
     "shell.execute_reply": "2022-07-17T19:40:31.878725Z"
    },
    "papermill": {
     "duration": 0.022732,
     "end_time": "2022-07-17T19:40:31.881684",
     "exception": false,
     "start_time": "2022-07-17T19:40:31.858952",
     "status": "completed"
    },
    "tags": []
   },
   "outputs": [],
   "source": [
    "def read_data(path):\n",
    "    data_dir = Path(path)\n",
    "\n",
    "    train = pd.read_csv(data_dir / \"train.csv\")\n",
    "    test = pd.read_csv(data_dir / \"test.csv\")\n",
    "    submission_df = pd.read_csv(data_dir / \"sample_submission.csv\")\n",
    "\n",
    "    print(f\"train data: Rows={train.shape[0]}, Columns={train.shape[1]}\")\n",
    "    print(f\"test data : Rows={test.shape[0]}, Columns={test.shape[1]}\")\n",
    "    return train, test, submission_df"
   ]
  },
  {
   "cell_type": "code",
   "execution_count": 6,
   "id": "44108f42",
   "metadata": {
    "execution": {
     "iopub.execute_input": "2022-07-17T19:40:31.900681Z",
     "iopub.status.busy": "2022-07-17T19:40:31.899906Z",
     "iopub.status.idle": "2022-07-17T19:40:31.912826Z",
     "shell.execute_reply": "2022-07-17T19:40:31.911985Z"
    },
    "papermill": {
     "duration": 0.02455,
     "end_time": "2022-07-17T19:40:31.914711",
     "exception": false,
     "start_time": "2022-07-17T19:40:31.890161",
     "status": "completed"
    },
    "tags": []
   },
   "outputs": [],
   "source": [
    "def create_submission(model_name, target, preds, is_log_target=False):\n",
    "    if is_log_target:\n",
    "        #         preds = np.exp(preds)\n",
    "        preds = np.expm1(preds)\n",
    "\n",
    "    sample_submission[target] = preds\n",
    "    if len(model_name) > 0:\n",
    "        sample_submission.to_csv(f\"submission_{model_name}.csv\", index=False)\n",
    "    else:\n",
    "        sample_submission.to_csv(f\"submission.csv\", index=False)\n",
    "\n",
    "    return sample_submission[:5]"
   ]
  },
  {
   "cell_type": "code",
   "execution_count": 7,
   "id": "11a22cd5",
   "metadata": {
    "execution": {
     "iopub.execute_input": "2022-07-17T19:40:31.932856Z",
     "iopub.status.busy": "2022-07-17T19:40:31.932235Z",
     "iopub.status.idle": "2022-07-17T19:40:31.943329Z",
     "shell.execute_reply": "2022-07-17T19:40:31.942349Z"
    },
    "papermill": {
     "duration": 0.022218,
     "end_time": "2022-07-17T19:40:31.945458",
     "exception": false,
     "start_time": "2022-07-17T19:40:31.923240",
     "status": "completed"
    },
    "tags": []
   },
   "outputs": [],
   "source": [
    "from sklearn.metrics import mean_absolute_error, mean_squared_error, f1_score\n",
    "\n",
    "\n",
    "def show_scores(gt, yhat):\n",
    "    f1 = f1_score(gt, yhat, average=\"macro\")\n",
    "    mse = mean_squared_error(gt, yhat)\n",
    "    mae = mean_absolute_error(gt, yhat)\n",
    "    rmse = np.sqrt(mse)\n",
    "    #     r2_square = r2_score(gt, yhat)\n",
    "\n",
    "    print(f\"f1: {f1:.4f}\")"
   ]
  },
  {
   "cell_type": "markdown",
   "id": "16cabb46",
   "metadata": {
    "papermill": {
     "duration": 0.007994,
     "end_time": "2022-07-17T19:40:31.961757",
     "exception": false,
     "start_time": "2022-07-17T19:40:31.953763",
     "status": "completed"
    },
    "tags": []
   },
   "source": [
    "<div style=\"background-color:rgba(128, 0, 128, 0.6);border-radius:5px;display:fill\"><h1 style=\"text-align: center;padding: 12px 0px 12px 0px;\">Load Train/Test Data</h1>\n",
    "</div>\n",
    "\n",
    "- train.csv - Data used to build our machine learning model\n",
    "- test.csv - Data used to build our machine learning model. Does not contain the target variable\n",
    "- sample_submission.csv - A file in the proper format to submit test predictions"
   ]
  },
  {
   "cell_type": "code",
   "execution_count": 8,
   "id": "04191974",
   "metadata": {
    "execution": {
     "iopub.execute_input": "2022-07-17T19:40:31.979439Z",
     "iopub.status.busy": "2022-07-17T19:40:31.978727Z",
     "iopub.status.idle": "2022-07-17T19:40:36.599125Z",
     "shell.execute_reply": "2022-07-17T19:40:36.597978Z"
    },
    "papermill": {
     "duration": 4.632118,
     "end_time": "2022-07-17T19:40:36.601964",
     "exception": false,
     "start_time": "2022-07-17T19:40:31.969846",
     "status": "completed"
    },
    "tags": []
   },
   "outputs": [
    {
     "name": "stdout",
     "output_type": "stream",
     "text": [
      "train data: Rows=42000, Columns=785\n",
      "test data : Rows=28000, Columns=784\n"
     ]
    }
   ],
   "source": [
    "train, test, sample_submission = read_data(data_dir)"
   ]
  },
  {
   "cell_type": "code",
   "execution_count": 9,
   "id": "8978919e",
   "metadata": {
    "execution": {
     "iopub.execute_input": "2022-07-17T19:40:36.621813Z",
     "iopub.status.busy": "2022-07-17T19:40:36.621541Z",
     "iopub.status.idle": "2022-07-17T19:40:36.645350Z",
     "shell.execute_reply": "2022-07-17T19:40:36.644336Z"
    },
    "papermill": {
     "duration": 0.036531,
     "end_time": "2022-07-17T19:40:36.647889",
     "exception": false,
     "start_time": "2022-07-17T19:40:36.611358",
     "status": "completed"
    },
    "tags": []
   },
   "outputs": [
    {
     "data": {
      "text/html": [
       "<div>\n",
       "<style scoped>\n",
       "    .dataframe tbody tr th:only-of-type {\n",
       "        vertical-align: middle;\n",
       "    }\n",
       "\n",
       "    .dataframe tbody tr th {\n",
       "        vertical-align: top;\n",
       "    }\n",
       "\n",
       "    .dataframe thead th {\n",
       "        text-align: right;\n",
       "    }\n",
       "</style>\n",
       "<table border=\"1\" class=\"dataframe\">\n",
       "  <thead>\n",
       "    <tr style=\"text-align: right;\">\n",
       "      <th></th>\n",
       "      <th>label</th>\n",
       "      <th>pixel0</th>\n",
       "      <th>pixel1</th>\n",
       "      <th>pixel2</th>\n",
       "      <th>pixel3</th>\n",
       "      <th>pixel4</th>\n",
       "      <th>pixel5</th>\n",
       "      <th>pixel6</th>\n",
       "      <th>pixel7</th>\n",
       "      <th>pixel8</th>\n",
       "      <th>...</th>\n",
       "      <th>pixel774</th>\n",
       "      <th>pixel775</th>\n",
       "      <th>pixel776</th>\n",
       "      <th>pixel777</th>\n",
       "      <th>pixel778</th>\n",
       "      <th>pixel779</th>\n",
       "      <th>pixel780</th>\n",
       "      <th>pixel781</th>\n",
       "      <th>pixel782</th>\n",
       "      <th>pixel783</th>\n",
       "    </tr>\n",
       "  </thead>\n",
       "  <tbody>\n",
       "    <tr>\n",
       "      <th>0</th>\n",
       "      <td>1</td>\n",
       "      <td>0</td>\n",
       "      <td>0</td>\n",
       "      <td>0</td>\n",
       "      <td>0</td>\n",
       "      <td>0</td>\n",
       "      <td>0</td>\n",
       "      <td>0</td>\n",
       "      <td>0</td>\n",
       "      <td>0</td>\n",
       "      <td>...</td>\n",
       "      <td>0</td>\n",
       "      <td>0</td>\n",
       "      <td>0</td>\n",
       "      <td>0</td>\n",
       "      <td>0</td>\n",
       "      <td>0</td>\n",
       "      <td>0</td>\n",
       "      <td>0</td>\n",
       "      <td>0</td>\n",
       "      <td>0</td>\n",
       "    </tr>\n",
       "    <tr>\n",
       "      <th>1</th>\n",
       "      <td>0</td>\n",
       "      <td>0</td>\n",
       "      <td>0</td>\n",
       "      <td>0</td>\n",
       "      <td>0</td>\n",
       "      <td>0</td>\n",
       "      <td>0</td>\n",
       "      <td>0</td>\n",
       "      <td>0</td>\n",
       "      <td>0</td>\n",
       "      <td>...</td>\n",
       "      <td>0</td>\n",
       "      <td>0</td>\n",
       "      <td>0</td>\n",
       "      <td>0</td>\n",
       "      <td>0</td>\n",
       "      <td>0</td>\n",
       "      <td>0</td>\n",
       "      <td>0</td>\n",
       "      <td>0</td>\n",
       "      <td>0</td>\n",
       "    </tr>\n",
       "    <tr>\n",
       "      <th>2</th>\n",
       "      <td>1</td>\n",
       "      <td>0</td>\n",
       "      <td>0</td>\n",
       "      <td>0</td>\n",
       "      <td>0</td>\n",
       "      <td>0</td>\n",
       "      <td>0</td>\n",
       "      <td>0</td>\n",
       "      <td>0</td>\n",
       "      <td>0</td>\n",
       "      <td>...</td>\n",
       "      <td>0</td>\n",
       "      <td>0</td>\n",
       "      <td>0</td>\n",
       "      <td>0</td>\n",
       "      <td>0</td>\n",
       "      <td>0</td>\n",
       "      <td>0</td>\n",
       "      <td>0</td>\n",
       "      <td>0</td>\n",
       "      <td>0</td>\n",
       "    </tr>\n",
       "    <tr>\n",
       "      <th>3</th>\n",
       "      <td>4</td>\n",
       "      <td>0</td>\n",
       "      <td>0</td>\n",
       "      <td>0</td>\n",
       "      <td>0</td>\n",
       "      <td>0</td>\n",
       "      <td>0</td>\n",
       "      <td>0</td>\n",
       "      <td>0</td>\n",
       "      <td>0</td>\n",
       "      <td>...</td>\n",
       "      <td>0</td>\n",
       "      <td>0</td>\n",
       "      <td>0</td>\n",
       "      <td>0</td>\n",
       "      <td>0</td>\n",
       "      <td>0</td>\n",
       "      <td>0</td>\n",
       "      <td>0</td>\n",
       "      <td>0</td>\n",
       "      <td>0</td>\n",
       "    </tr>\n",
       "    <tr>\n",
       "      <th>4</th>\n",
       "      <td>0</td>\n",
       "      <td>0</td>\n",
       "      <td>0</td>\n",
       "      <td>0</td>\n",
       "      <td>0</td>\n",
       "      <td>0</td>\n",
       "      <td>0</td>\n",
       "      <td>0</td>\n",
       "      <td>0</td>\n",
       "      <td>0</td>\n",
       "      <td>...</td>\n",
       "      <td>0</td>\n",
       "      <td>0</td>\n",
       "      <td>0</td>\n",
       "      <td>0</td>\n",
       "      <td>0</td>\n",
       "      <td>0</td>\n",
       "      <td>0</td>\n",
       "      <td>0</td>\n",
       "      <td>0</td>\n",
       "      <td>0</td>\n",
       "    </tr>\n",
       "  </tbody>\n",
       "</table>\n",
       "<p>5 rows × 785 columns</p>\n",
       "</div>"
      ],
      "text/plain": [
       "   label  pixel0  pixel1  pixel2  pixel3  pixel4  pixel5  pixel6  pixel7  \\\n",
       "0      1       0       0       0       0       0       0       0       0   \n",
       "1      0       0       0       0       0       0       0       0       0   \n",
       "2      1       0       0       0       0       0       0       0       0   \n",
       "3      4       0       0       0       0       0       0       0       0   \n",
       "4      0       0       0       0       0       0       0       0       0   \n",
       "\n",
       "   pixel8  ...  pixel774  pixel775  pixel776  pixel777  pixel778  pixel779  \\\n",
       "0       0  ...         0         0         0         0         0         0   \n",
       "1       0  ...         0         0         0         0         0         0   \n",
       "2       0  ...         0         0         0         0         0         0   \n",
       "3       0  ...         0         0         0         0         0         0   \n",
       "4       0  ...         0         0         0         0         0         0   \n",
       "\n",
       "   pixel780  pixel781  pixel782  pixel783  \n",
       "0         0         0         0         0  \n",
       "1         0         0         0         0  \n",
       "2         0         0         0         0  \n",
       "3         0         0         0         0  \n",
       "4         0         0         0         0  \n",
       "\n",
       "[5 rows x 785 columns]"
      ]
     },
     "execution_count": 9,
     "metadata": {},
     "output_type": "execute_result"
    }
   ],
   "source": [
    "train.head()"
   ]
  },
  {
   "cell_type": "code",
   "execution_count": 10,
   "id": "841a4fb7",
   "metadata": {
    "execution": {
     "iopub.execute_input": "2022-07-17T19:40:36.665880Z",
     "iopub.status.busy": "2022-07-17T19:40:36.665632Z",
     "iopub.status.idle": "2022-07-17T19:40:36.674142Z",
     "shell.execute_reply": "2022-07-17T19:40:36.673170Z"
    },
    "papermill": {
     "duration": 0.019877,
     "end_time": "2022-07-17T19:40:36.676257",
     "exception": false,
     "start_time": "2022-07-17T19:40:36.656380",
     "status": "completed"
    },
    "tags": []
   },
   "outputs": [],
   "source": [
    "FEATURES = [\n",
    "    col\n",
    "    for col in train.columns\n",
    "    if col\n",
    "    not in [\n",
    "        \"Id\",\n",
    "        TARGET,\n",
    "        #         TARGET_ENC,\n",
    "    ]\n",
    "]"
   ]
  },
  {
   "cell_type": "code",
   "execution_count": 11,
   "id": "909edd1c",
   "metadata": {
    "execution": {
     "iopub.execute_input": "2022-07-17T19:40:36.694283Z",
     "iopub.status.busy": "2022-07-17T19:40:36.694033Z",
     "iopub.status.idle": "2022-07-17T19:40:36.987451Z",
     "shell.execute_reply": "2022-07-17T19:40:36.986514Z"
    },
    "papermill": {
     "duration": 0.305022,
     "end_time": "2022-07-17T19:40:36.989810",
     "exception": false,
     "start_time": "2022-07-17T19:40:36.684788",
     "status": "completed"
    },
    "tags": []
   },
   "outputs": [],
   "source": [
    "y = train[TARGET]\n",
    "X = train[FEATURES].copy()\n",
    "\n",
    "X_test = test[FEATURES].copy()"
   ]
  },
  {
   "cell_type": "code",
   "execution_count": 12,
   "id": "aa2158f5",
   "metadata": {
    "execution": {
     "iopub.execute_input": "2022-07-17T19:40:37.010103Z",
     "iopub.status.busy": "2022-07-17T19:40:37.008540Z",
     "iopub.status.idle": "2022-07-17T19:40:37.173307Z",
     "shell.execute_reply": "2022-07-17T19:40:37.172349Z"
    },
    "papermill": {
     "duration": 0.176823,
     "end_time": "2022-07-17T19:40:37.175760",
     "exception": false,
     "start_time": "2022-07-17T19:40:36.998937",
     "status": "completed"
    },
    "tags": []
   },
   "outputs": [],
   "source": [
    "# Normalize the data\n",
    "X = X / 255.0\n",
    "X_test = X_test / 255.0"
   ]
  },
  {
   "cell_type": "code",
   "execution_count": 13,
   "id": "81927ac9",
   "metadata": {
    "execution": {
     "iopub.execute_input": "2022-07-17T19:40:37.195061Z",
     "iopub.status.busy": "2022-07-17T19:40:37.194755Z",
     "iopub.status.idle": "2022-07-17T19:40:37.202886Z",
     "shell.execute_reply": "2022-07-17T19:40:37.201682Z"
    },
    "papermill": {
     "duration": 0.020261,
     "end_time": "2022-07-17T19:40:37.205294",
     "exception": false,
     "start_time": "2022-07-17T19:40:37.185033",
     "status": "completed"
    },
    "tags": []
   },
   "outputs": [],
   "source": [
    "X = X.values.reshape(-1, 28, 28, 1)\n",
    "X_test = X_test.values.reshape(-1, 28, 28, 1)"
   ]
  },
  {
   "cell_type": "code",
   "execution_count": 14,
   "id": "3326351f",
   "metadata": {
    "execution": {
     "iopub.execute_input": "2022-07-17T19:40:37.223223Z",
     "iopub.status.busy": "2022-07-17T19:40:37.222967Z",
     "iopub.status.idle": "2022-07-17T19:40:37.227996Z",
     "shell.execute_reply": "2022-07-17T19:40:37.227164Z"
    },
    "papermill": {
     "duration": 0.016199,
     "end_time": "2022-07-17T19:40:37.229986",
     "exception": false,
     "start_time": "2022-07-17T19:40:37.213787",
     "status": "completed"
    },
    "tags": []
   },
   "outputs": [],
   "source": [
    "# X[:3]"
   ]
  },
  {
   "cell_type": "code",
   "execution_count": 15,
   "id": "15874ae4",
   "metadata": {
    "execution": {
     "iopub.execute_input": "2022-07-17T19:40:37.248371Z",
     "iopub.status.busy": "2022-07-17T19:40:37.248133Z",
     "iopub.status.idle": "2022-07-17T19:40:42.867333Z",
     "shell.execute_reply": "2022-07-17T19:40:42.865795Z"
    },
    "papermill": {
     "duration": 5.631816,
     "end_time": "2022-07-17T19:40:42.870521",
     "exception": false,
     "start_time": "2022-07-17T19:40:37.238705",
     "status": "completed"
    },
    "tags": []
   },
   "outputs": [],
   "source": [
    "from keras.utils.np_utils import to_categorical\n",
    "\n",
    "y = to_categorical(y)"
   ]
  },
  {
   "cell_type": "code",
   "execution_count": 16,
   "id": "8eae7156",
   "metadata": {
    "execution": {
     "iopub.execute_input": "2022-07-17T19:40:42.907482Z",
     "iopub.status.busy": "2022-07-17T19:40:42.906117Z",
     "iopub.status.idle": "2022-07-17T19:40:42.919218Z",
     "shell.execute_reply": "2022-07-17T19:40:42.918372Z"
    },
    "papermill": {
     "duration": 0.034538,
     "end_time": "2022-07-17T19:40:42.921855",
     "exception": false,
     "start_time": "2022-07-17T19:40:42.887317",
     "status": "completed"
    },
    "tags": []
   },
   "outputs": [
    {
     "data": {
      "text/plain": [
       "array([[0., 1., 0., 0., 0., 0., 0., 0., 0., 0.],\n",
       "       [1., 0., 0., 0., 0., 0., 0., 0., 0., 0.],\n",
       "       [0., 1., 0., 0., 0., 0., 0., 0., 0., 0.],\n",
       "       [0., 0., 0., 0., 1., 0., 0., 0., 0., 0.],\n",
       "       [1., 0., 0., 0., 0., 0., 0., 0., 0., 0.]], dtype=float32)"
      ]
     },
     "execution_count": 16,
     "metadata": {},
     "output_type": "execute_result"
    }
   ],
   "source": [
    "y[:5]"
   ]
  },
  {
   "cell_type": "code",
   "execution_count": 17,
   "id": "080cb440",
   "metadata": {
    "execution": {
     "iopub.execute_input": "2022-07-17T19:40:42.950958Z",
     "iopub.status.busy": "2022-07-17T19:40:42.950622Z",
     "iopub.status.idle": "2022-07-17T19:40:43.415558Z",
     "shell.execute_reply": "2022-07-17T19:40:43.414624Z"
    },
    "papermill": {
     "duration": 0.483051,
     "end_time": "2022-07-17T19:40:43.418402",
     "exception": false,
     "start_time": "2022-07-17T19:40:42.935351",
     "status": "completed"
    },
    "tags": []
   },
   "outputs": [
    {
     "data": {
      "text/plain": [
       "((33600, 28, 28, 1), (33600, 10), (8400, 28, 28, 1), (8400, 10))"
      ]
     },
     "execution_count": 17,
     "metadata": {},
     "output_type": "execute_result"
    }
   ],
   "source": [
    "X_train, X_valid, y_train, y_valid = train_test_split(\n",
    "    X,\n",
    "    y,\n",
    "    test_size=0.2,\n",
    "    random_state=42,\n",
    ")\n",
    "X_train.shape, y_train.shape, X_valid.shape, y_valid.shape"
   ]
  },
  {
   "cell_type": "markdown",
   "id": "129b5c4a",
   "metadata": {
    "papermill": {
     "duration": 0.014521,
     "end_time": "2022-07-17T19:40:43.447740",
     "exception": false,
     "start_time": "2022-07-17T19:40:43.433219",
     "status": "completed"
    },
    "tags": []
   },
   "source": [
    "<div style=\"background-color:rgba(128, 0, 128, 0.6);border-radius:5px;display:fill\"><h1 style=\"text-align: center;padding: 12px 0px 12px 0px;\">Create Models</h1>\n",
    "</div>"
   ]
  },
  {
   "cell_type": "code",
   "execution_count": 18,
   "id": "6a4e15ec",
   "metadata": {
    "execution": {
     "iopub.execute_input": "2022-07-17T19:40:43.477281Z",
     "iopub.status.busy": "2022-07-17T19:40:43.476937Z",
     "iopub.status.idle": "2022-07-17T19:40:44.012802Z",
     "shell.execute_reply": "2022-07-17T19:40:44.011825Z"
    },
    "papermill": {
     "duration": 0.553328,
     "end_time": "2022-07-17T19:40:44.015202",
     "exception": false,
     "start_time": "2022-07-17T19:40:43.461874",
     "status": "completed"
    },
    "tags": []
   },
   "outputs": [],
   "source": [
    "### import tensorflow as tf\n",
    "from tensorflow import keras\n",
    "from tensorflow.keras import layers\n",
    "\n",
    "\n",
    "def get_tf_model01(x_shape):\n",
    "    print(f\"x_shape=\")\n",
    "    #     input_shape = (height, width, channels)\n",
    "    inputs = keras.Input(shape=(28, 28, 1))\n",
    "\n",
    "    x = keras.layers.Conv2D(\n",
    "        64,\n",
    "        kernel_size=3,\n",
    "        activation=\"relu\",\n",
    "        padding=\"same\",\n",
    "        input_shape=(28, 28, 1),\n",
    "        kernel_initializer=\"he_normal\",\n",
    "    )(inputs)\n",
    "    x = keras.layers.MaxPooling2D((2, 2))(x)\n",
    "    x = keras.layers.Conv2D(\n",
    "        64,\n",
    "        kernel_size=3,\n",
    "        activation=\"relu\",\n",
    "        padding=\"same\",\n",
    "        kernel_initializer=\"he_normal\",\n",
    "    )(x)\n",
    "    x = keras.layers.MaxPooling2D((2, 2))(x)\n",
    "\n",
    "    #     x = keras.layers.MaxPooling2d((2, 2))(x)\n",
    "    #     x = keras.layers.Conv2D(\n",
    "    #         128, activation=\"relu\", padding=\"same\", kernel_initializer=\"he_normal\"\n",
    "    #     )(x)\n",
    "    x = keras.layers.Flatten()(x)\n",
    "    x = keras.layers.BatchNormalization()(x)\n",
    "\n",
    "    #     x = keras.layers.Dense(128, activation=\"relu\")(x)\n",
    "\n",
    "    x = keras.layers.Dense(64, activation=\"relu\")(x)\n",
    "    x = keras.layers.BatchNormalization()(x)\n",
    "    x = keras.layers.Dense(32, activation=\"relu\")(x)\n",
    "    x = keras.layers.BatchNormalization()(x)\n",
    "    #     x = keras.layers.Dropout(0.1)(x)\n",
    "\n",
    "    outputs = keras.layers.Dense(10, activation=\"softmax\")(x)\n",
    "\n",
    "    model = keras.Model(inputs, outputs)\n",
    "\n",
    "    model.compile(\n",
    "        loss=\"categorical_crossentropy\",\n",
    "        optimizer=\"rmsprop\",\n",
    "        metrics=[\"accuracy\"],\n",
    "    )\n",
    "\n",
    "    #     model.compile(\n",
    "    #         optimizer=tf.keras.optimizers.Adam(learning_rate=0.01),\n",
    "    #         loss=\"mean_absolute_error\",\n",
    "    #     )\n",
    "\n",
    "    return model"
   ]
  },
  {
   "cell_type": "code",
   "execution_count": 19,
   "id": "97f18912",
   "metadata": {
    "execution": {
     "iopub.execute_input": "2022-07-17T19:40:44.035475Z",
     "iopub.status.busy": "2022-07-17T19:40:44.033772Z",
     "iopub.status.idle": "2022-07-17T19:40:44.041736Z",
     "shell.execute_reply": "2022-07-17T19:40:44.040714Z"
    },
    "papermill": {
     "duration": 0.019602,
     "end_time": "2022-07-17T19:40:44.043845",
     "exception": false,
     "start_time": "2022-07-17T19:40:44.024243",
     "status": "completed"
    },
    "tags": []
   },
   "outputs": [
    {
     "data": {
      "text/plain": [
       "28"
      ]
     },
     "execution_count": 19,
     "metadata": {},
     "output_type": "execute_result"
    }
   ],
   "source": [
    "X_train.shape[1]"
   ]
  },
  {
   "cell_type": "code",
   "execution_count": 20,
   "id": "b57985a3",
   "metadata": {
    "execution": {
     "iopub.execute_input": "2022-07-17T19:40:44.062332Z",
     "iopub.status.busy": "2022-07-17T19:40:44.062073Z",
     "iopub.status.idle": "2022-07-17T19:40:44.070344Z",
     "shell.execute_reply": "2022-07-17T19:40:44.069536Z"
    },
    "papermill": {
     "duration": 0.019701,
     "end_time": "2022-07-17T19:40:44.072267",
     "exception": false,
     "start_time": "2022-07-17T19:40:44.052566",
     "status": "completed"
    },
    "tags": []
   },
   "outputs": [
    {
     "data": {
      "text/plain": [
       "42000"
      ]
     },
     "execution_count": 20,
     "metadata": {},
     "output_type": "execute_result"
    }
   ],
   "source": [
    "X.shape[0]"
   ]
  },
  {
   "cell_type": "code",
   "execution_count": 21,
   "id": "b411d4ea",
   "metadata": {
    "execution": {
     "iopub.execute_input": "2022-07-17T19:40:44.090751Z",
     "iopub.status.busy": "2022-07-17T19:40:44.090494Z",
     "iopub.status.idle": "2022-07-17T19:40:47.131597Z",
     "shell.execute_reply": "2022-07-17T19:40:47.130176Z"
    },
    "papermill": {
     "duration": 3.053261,
     "end_time": "2022-07-17T19:40:47.134263",
     "exception": false,
     "start_time": "2022-07-17T19:40:44.081002",
     "status": "completed"
    },
    "tags": []
   },
   "outputs": [
    {
     "name": "stdout",
     "output_type": "stream",
     "text": [
      "x_shape=\n",
      "Model: \"model\"\n",
      "_________________________________________________________________\n",
      "Layer (type)                 Output Shape              Param #   \n",
      "=================================================================\n",
      "input_1 (InputLayer)         [(None, 28, 28, 1)]       0         \n",
      "_________________________________________________________________\n",
      "conv2d (Conv2D)              (None, 28, 28, 64)        640       \n",
      "_________________________________________________________________\n",
      "max_pooling2d (MaxPooling2D) (None, 14, 14, 64)        0         \n",
      "_________________________________________________________________\n",
      "conv2d_1 (Conv2D)            (None, 14, 14, 64)        36928     \n",
      "_________________________________________________________________\n",
      "max_pooling2d_1 (MaxPooling2 (None, 7, 7, 64)          0         \n",
      "_________________________________________________________________\n",
      "flatten (Flatten)            (None, 3136)              0         \n",
      "_________________________________________________________________\n",
      "batch_normalization (BatchNo (None, 3136)              12544     \n",
      "_________________________________________________________________\n",
      "dense (Dense)                (None, 64)                200768    \n",
      "_________________________________________________________________\n",
      "batch_normalization_1 (Batch (None, 64)                256       \n",
      "_________________________________________________________________\n",
      "dense_1 (Dense)              (None, 32)                2080      \n",
      "_________________________________________________________________\n",
      "batch_normalization_2 (Batch (None, 32)                128       \n",
      "_________________________________________________________________\n",
      "dense_2 (Dense)              (None, 10)                330       \n",
      "=================================================================\n",
      "Total params: 253,674\n",
      "Trainable params: 247,210\n",
      "Non-trainable params: 6,464\n",
      "_________________________________________________________________\n"
     ]
    },
    {
     "name": "stderr",
     "output_type": "stream",
     "text": [
      "2022-07-17 19:40:44.194585: I tensorflow/stream_executor/cuda/cuda_gpu_executor.cc:937] successful NUMA node read from SysFS had negative value (-1), but there must be at least one NUMA node, so returning NUMA node zero\n",
      "2022-07-17 19:40:44.309387: I tensorflow/stream_executor/cuda/cuda_gpu_executor.cc:937] successful NUMA node read from SysFS had negative value (-1), but there must be at least one NUMA node, so returning NUMA node zero\n",
      "2022-07-17 19:40:44.310128: I tensorflow/stream_executor/cuda/cuda_gpu_executor.cc:937] successful NUMA node read from SysFS had negative value (-1), but there must be at least one NUMA node, so returning NUMA node zero\n",
      "2022-07-17 19:40:44.311312: I tensorflow/core/platform/cpu_feature_guard.cc:142] This TensorFlow binary is optimized with oneAPI Deep Neural Network Library (oneDNN) to use the following CPU instructions in performance-critical operations:  AVX2 AVX512F FMA\n",
      "To enable them in other operations, rebuild TensorFlow with the appropriate compiler flags.\n",
      "2022-07-17 19:40:44.311629: I tensorflow/stream_executor/cuda/cuda_gpu_executor.cc:937] successful NUMA node read from SysFS had negative value (-1), but there must be at least one NUMA node, so returning NUMA node zero\n",
      "2022-07-17 19:40:44.312329: I tensorflow/stream_executor/cuda/cuda_gpu_executor.cc:937] successful NUMA node read from SysFS had negative value (-1), but there must be at least one NUMA node, so returning NUMA node zero\n",
      "2022-07-17 19:40:44.312971: I tensorflow/stream_executor/cuda/cuda_gpu_executor.cc:937] successful NUMA node read from SysFS had negative value (-1), but there must be at least one NUMA node, so returning NUMA node zero\n",
      "2022-07-17 19:40:46.702712: I tensorflow/stream_executor/cuda/cuda_gpu_executor.cc:937] successful NUMA node read from SysFS had negative value (-1), but there must be at least one NUMA node, so returning NUMA node zero\n",
      "2022-07-17 19:40:46.703601: I tensorflow/stream_executor/cuda/cuda_gpu_executor.cc:937] successful NUMA node read from SysFS had negative value (-1), but there must be at least one NUMA node, so returning NUMA node zero\n",
      "2022-07-17 19:40:46.704301: I tensorflow/stream_executor/cuda/cuda_gpu_executor.cc:937] successful NUMA node read from SysFS had negative value (-1), but there must be at least one NUMA node, so returning NUMA node zero\n",
      "2022-07-17 19:40:46.704914: I tensorflow/core/common_runtime/gpu/gpu_device.cc:1510] Created device /job:localhost/replica:0/task:0/device:GPU:0 with 15403 MB memory:  -> device: 0, name: Tesla P100-PCIE-16GB, pci bus id: 0000:00:04.0, compute capability: 6.0\n"
     ]
    }
   ],
   "source": [
    "model = get_tf_model01(x_shape=(28, 28))\n",
    "\n",
    "model.summary()"
   ]
  },
  {
   "cell_type": "code",
   "execution_count": 22,
   "id": "344b2375",
   "metadata": {
    "execution": {
     "iopub.execute_input": "2022-07-17T19:40:47.154758Z",
     "iopub.status.busy": "2022-07-17T19:40:47.154461Z",
     "iopub.status.idle": "2022-07-17T19:40:48.239626Z",
     "shell.execute_reply": "2022-07-17T19:40:48.238473Z"
    },
    "papermill": {
     "duration": 1.097933,
     "end_time": "2022-07-17T19:40:48.242135",
     "exception": false,
     "start_time": "2022-07-17T19:40:47.144202",
     "status": "completed"
    },
    "tags": []
   },
   "outputs": [
    {
     "data": {
      "image/png": "[encoded data removed]",
      "text/plain": [
       "<IPython.core.display.Image object>"
      ]
     },
     "execution_count": 22,
     "metadata": {},
     "output_type": "execute_result"
    }
   ],
   "source": [
    "keras.utils.plot_model(model)"
   ]
  },
  {
   "cell_type": "code",
   "execution_count": 23,
   "id": "24728c44",
   "metadata": {
    "execution": {
     "iopub.execute_input": "2022-07-17T19:40:48.263783Z",
     "iopub.status.busy": "2022-07-17T19:40:48.263459Z",
     "iopub.status.idle": "2022-07-17T19:41:30.675855Z",
     "shell.execute_reply": "2022-07-17T19:41:30.674828Z"
    },
    "papermill": {
     "duration": 42.426367,
     "end_time": "2022-07-17T19:41:30.679056",
     "exception": false,
     "start_time": "2022-07-17T19:40:48.252689",
     "status": "completed"
    },
    "tags": []
   },
   "outputs": [
    {
     "name": "stderr",
     "output_type": "stream",
     "text": [
      "2022-07-17 19:40:48.559080: I tensorflow/compiler/mlir/mlir_graph_optimization_pass.cc:185] None of the MLIR Optimization Passes are enabled (registered 2)\n"
     ]
    },
    {
     "name": "stdout",
     "output_type": "stream",
     "text": [
      "Epoch 1/10\n"
     ]
    },
    {
     "name": "stderr",
     "output_type": "stream",
     "text": [
      "2022-07-17 19:40:50.644553: I tensorflow/stream_executor/cuda/cuda_dnn.cc:369] Loaded cuDNN version 8005\n"
     ]
    },
    {
     "name": "stdout",
     "output_type": "stream",
     "text": [
      "525/525 [==============================] - 12s 6ms/step - loss: 0.1676 - accuracy: 0.9559 - val_loss: 0.1360 - val_accuracy: 0.9587\n",
      "Epoch 2/10\n",
      "525/525 [==============================] - 3s 6ms/step - loss: 0.0571 - accuracy: 0.9830 - val_loss: 0.0664 - val_accuracy: 0.9790\n",
      "Epoch 3/10\n",
      "525/525 [==============================] - 3s 5ms/step - loss: 0.0395 - accuracy: 0.9875 - val_loss: 0.0566 - val_accuracy: 0.9825\n",
      "Epoch 4/10\n",
      "525/525 [==============================] - 3s 6ms/step - loss: 0.0299 - accuracy: 0.9913 - val_loss: 0.0406 - val_accuracy: 0.9856\n",
      "Epoch 5/10\n",
      "525/525 [==============================] - 3s 6ms/step - loss: 0.0228 - accuracy: 0.9935 - val_loss: 0.0383 - val_accuracy: 0.9875\n",
      "Epoch 6/10\n",
      "525/525 [==============================] - 3s 6ms/step - loss: 0.0185 - accuracy: 0.9940 - val_loss: 0.0393 - val_accuracy: 0.9885\n",
      "Epoch 7/10\n",
      "525/525 [==============================] - 3s 6ms/step - loss: 0.0154 - accuracy: 0.9956 - val_loss: 0.0415 - val_accuracy: 0.9876\n",
      "Epoch 8/10\n",
      "525/525 [==============================] - 3s 6ms/step - loss: 0.0134 - accuracy: 0.9959 - val_loss: 0.0421 - val_accuracy: 0.9893\n",
      "Epoch 9/10\n",
      "525/525 [==============================] - 3s 5ms/step - loss: 0.0099 - accuracy: 0.9968 - val_loss: 0.0322 - val_accuracy: 0.9915\n",
      "Epoch 10/10\n",
      "525/525 [==============================] - 3s 6ms/step - loss: 0.0095 - accuracy: 0.9968 - val_loss: 0.0408 - val_accuracy: 0.9880\n",
      "CPU times: user 34.3 s, sys: 3.3 s, total: 37.6 s\n",
      "Wall time: 42.4 s\n"
     ]
    }
   ],
   "source": [
    "%%time\n",
    "\n",
    "history = model.fit(\n",
    "    X_train,\n",
    "    y_train,\n",
    "    batch_size=64,\n",
    "    epochs=10,\n",
    "    # Suppress logging.\n",
    "    verbose=1,\n",
    "    validation_data=(X_valid, y_valid),\n",
    "    # Calculate validation results on 20% of the training data.\n",
    "#     validation_split = 0.2\n",
    ")"
   ]
  },
  {
   "cell_type": "code",
   "execution_count": 24,
   "id": "4ad66283",
   "metadata": {
    "execution": {
     "iopub.execute_input": "2022-07-17T19:41:30.761046Z",
     "iopub.status.busy": "2022-07-17T19:41:30.760069Z",
     "iopub.status.idle": "2022-07-17T19:41:31.151325Z",
     "shell.execute_reply": "2022-07-17T19:41:31.150377Z"
    },
    "papermill": {
     "duration": 0.433361,
     "end_time": "2022-07-17T19:41:31.153352",
     "exception": false,
     "start_time": "2022-07-17T19:41:30.719991",
     "status": "completed"
    },
    "tags": []
   },
   "outputs": [
    {
     "data": {
      "image/png": "[encoded data removed]",
      "text/plain": [
       "<Figure size 432x288 with 1 Axes>"
      ]
     },
     "metadata": {
      "needs_background": "light"
     },
     "output_type": "display_data"
    },
    {
     "data": {
      "image/png": "[encoded data removed]",
      "text/plain": [
       "<Figure size 432x288 with 1 Axes>"
      ]
     },
     "metadata": {
      "needs_background": "light"
     },
     "output_type": "display_data"
    }
   ],
   "source": [
    "acc = history.history[\"accuracy\"]\n",
    "val_acc = history.history[\"val_accuracy\"]\n",
    "loss = history.history[\"loss\"]\n",
    "val_loss = history.history[\"val_loss\"]\n",
    "\n",
    "epochs = range(1, len(acc) + 1)\n",
    "\n",
    "plt.plot(epochs, acc, \"bo\", label=\"Training acc\")\n",
    "plt.plot(epochs, val_acc, \"b\", label=\"Validation acc\")\n",
    "plt.title(\"Training and validation accuracy\")\n",
    "plt.legend()\n",
    "\n",
    "plt.figure()\n",
    "\n",
    "plt.plot(epochs, loss, \"bo\", label=\"Training loss\")\n",
    "plt.plot(epochs, val_loss, \"b\", label=\"Validation loss\")\n",
    "plt.title(\"Training and validation loss\")\n",
    "plt.legend()\n",
    "\n",
    "plt.show()"
   ]
  },
  {
   "cell_type": "markdown",
   "id": "df989a43",
   "metadata": {
    "papermill": {
     "duration": 0.039352,
     "end_time": "2022-07-17T19:41:31.232482",
     "exception": false,
     "start_time": "2022-07-17T19:41:31.193130",
     "status": "completed"
    },
    "tags": []
   },
   "source": [
    "## Predict and Score"
   ]
  },
  {
   "cell_type": "code",
   "execution_count": 25,
   "id": "a08052a8",
   "metadata": {
    "execution": {
     "iopub.execute_input": "2022-07-17T19:41:31.313274Z",
     "iopub.status.busy": "2022-07-17T19:41:31.312984Z",
     "iopub.status.idle": "2022-07-17T19:41:32.156288Z",
     "shell.execute_reply": "2022-07-17T19:41:32.155411Z"
    },
    "papermill": {
     "duration": 0.885811,
     "end_time": "2022-07-17T19:41:32.158262",
     "exception": false,
     "start_time": "2022-07-17T19:41:31.272451",
     "status": "completed"
    },
    "tags": []
   },
   "outputs": [
    {
     "name": "stdout",
     "output_type": "stream",
     "text": [
      "263/263 [==============================] - 1s 3ms/step - loss: 0.0408 - accuracy: 0.9880\n"
     ]
    },
    {
     "data": {
      "text/plain": [
       "0.9879761934280396"
      ]
     },
     "execution_count": 25,
     "metadata": {},
     "output_type": "execute_result"
    }
   ],
   "source": [
    "test_loss, test_acc = model.evaluate(X_valid, y_valid)\n",
    "test_acc"
   ]
  },
  {
   "cell_type": "code",
   "execution_count": 26,
   "id": "348b214a",
   "metadata": {
    "execution": {
     "iopub.execute_input": "2022-07-17T19:41:32.242281Z",
     "iopub.status.busy": "2022-07-17T19:41:32.241432Z",
     "iopub.status.idle": "2022-07-17T19:41:32.811046Z",
     "shell.execute_reply": "2022-07-17T19:41:32.810122Z"
    },
    "papermill": {
     "duration": 0.614099,
     "end_time": "2022-07-17T19:41:32.813352",
     "exception": false,
     "start_time": "2022-07-17T19:41:32.199253",
     "status": "completed"
    },
    "tags": []
   },
   "outputs": [
    {
     "data": {
      "text/plain": [
       "array([[4.27662314e-07, 2.86364976e-09, 2.41385669e-06, 6.81837491e-07,\n",
       "        4.09490042e-08, 5.12710017e-07, 3.21342412e-07, 2.27010091e-08,\n",
       "        9.99994636e-01, 9.03275861e-07],\n",
       "       [1.44990551e-07, 9.99944687e-01, 1.30574463e-07, 5.01274444e-09,\n",
       "        3.83122569e-05, 5.22229104e-09, 6.43130022e-07, 5.71657529e-06,\n",
       "        4.46210180e-09, 1.03566435e-05],\n",
       "       [1.22378458e-06, 1.74825558e-08, 2.68600822e-08, 2.12046032e-07,\n",
       "        1.05745385e-05, 1.98891030e-06, 1.81736013e-07, 5.29726958e-06,\n",
       "        3.05032677e-06, 9.99977350e-01],\n",
       "       [4.20136558e-07, 7.58757590e-09, 1.21464616e-08, 1.78504919e-07,\n",
       "        1.13525248e-05, 8.38879168e-06, 1.01063542e-07, 5.52623987e-06,\n",
       "        3.73603643e-06, 9.99970317e-01],\n",
       "       [6.05030781e-09, 4.72180420e-11, 4.04699740e-09, 9.15918452e-09,\n",
       "        2.95795077e-09, 1.12240794e-08, 6.21907192e-09, 1.17997834e-09,\n",
       "        1.00000000e+00, 1.71265651e-08]], dtype=float32)"
      ]
     },
     "execution_count": 26,
     "metadata": {},
     "output_type": "execute_result"
    }
   ],
   "source": [
    "valid_preds = model.predict(X_valid)\n",
    "valid_preds[:5]"
   ]
  },
  {
   "cell_type": "code",
   "execution_count": 27,
   "id": "78e0703b",
   "metadata": {
    "execution": {
     "iopub.execute_input": "2022-07-17T19:41:32.896916Z",
     "iopub.status.busy": "2022-07-17T19:41:32.895310Z",
     "iopub.status.idle": "2022-07-17T19:41:32.902738Z",
     "shell.execute_reply": "2022-07-17T19:41:32.901869Z"
    },
    "papermill": {
     "duration": 0.050147,
     "end_time": "2022-07-17T19:41:32.904701",
     "exception": false,
     "start_time": "2022-07-17T19:41:32.854554",
     "status": "completed"
    },
    "tags": []
   },
   "outputs": [],
   "source": [
    "valid_preds = np.argmax(valid_preds, axis=1)"
   ]
  },
  {
   "cell_type": "code",
   "execution_count": 28,
   "id": "035a9764",
   "metadata": {
    "execution": {
     "iopub.execute_input": "2022-07-17T19:41:32.986446Z",
     "iopub.status.busy": "2022-07-17T19:41:32.986106Z",
     "iopub.status.idle": "2022-07-17T19:41:32.990819Z",
     "shell.execute_reply": "2022-07-17T19:41:32.989848Z"
    },
    "papermill": {
     "duration": 0.04812,
     "end_time": "2022-07-17T19:41:32.992780",
     "exception": false,
     "start_time": "2022-07-17T19:41:32.944660",
     "status": "completed"
    },
    "tags": []
   },
   "outputs": [],
   "source": [
    "# show_scores(y_valid, valid_preds)"
   ]
  },
  {
   "cell_type": "code",
   "execution_count": 29,
   "id": "925f372f",
   "metadata": {
    "execution": {
     "iopub.execute_input": "2022-07-17T19:41:33.074687Z",
     "iopub.status.busy": "2022-07-17T19:41:33.074413Z",
     "iopub.status.idle": "2022-07-17T19:41:34.867950Z",
     "shell.execute_reply": "2022-07-17T19:41:34.866542Z"
    },
    "papermill": {
     "duration": 1.837534,
     "end_time": "2022-07-17T19:41:34.871177",
     "exception": false,
     "start_time": "2022-07-17T19:41:33.033643",
     "status": "completed"
    },
    "tags": []
   },
   "outputs": [
    {
     "data": {
      "text/plain": [
       "array([[5.5143339e-09, 9.0827024e-10, 9.9999988e-01, 1.2864144e-09,\n",
       "        3.7920320e-09, 2.4744257e-10, 8.0139129e-10, 7.0030746e-09,\n",
       "        1.7343747e-07, 8.6942264e-10],\n",
       "       [9.9966323e-01, 3.0322692e-05, 2.0146352e-04, 4.6936698e-06,\n",
       "        9.1576118e-07, 9.1509333e-05, 3.1237414e-07, 4.7732665e-06,\n",
       "        2.7320784e-06, 1.2538673e-07],\n",
       "       [2.9013849e-08, 2.4823773e-08, 4.8934298e-06, 5.2873161e-06,\n",
       "        7.1141318e-07, 1.1249672e-06, 1.4055467e-08, 1.9509480e-05,\n",
       "        7.3360438e-06, 9.9996102e-01],\n",
       "       [1.3016926e-01, 1.4122302e-05, 3.8564915e-04, 1.8601741e-04,\n",
       "        7.1977294e-04, 1.7567990e-04, 6.0265930e-04, 7.3477179e-03,\n",
       "        1.3915959e-03, 8.5900742e-01],\n",
       "       [3.1758444e-07, 2.9168784e-06, 4.3456722e-04, 9.9937695e-01,\n",
       "        6.7727643e-07, 4.6639420e-06, 2.6991371e-05, 3.0680174e-05,\n",
       "        1.0053207e-04, 2.1649883e-05]], dtype=float32)"
      ]
     },
     "execution_count": 29,
     "metadata": {},
     "output_type": "execute_result"
    }
   ],
   "source": [
    "preds = model.predict(X_test)\n",
    "preds[:5]"
   ]
  },
  {
   "cell_type": "code",
   "execution_count": 30,
   "id": "2038c440",
   "metadata": {
    "execution": {
     "iopub.execute_input": "2022-07-17T19:41:35.034085Z",
     "iopub.status.busy": "2022-07-17T19:41:35.033287Z",
     "iopub.status.idle": "2022-07-17T19:41:35.042403Z",
     "shell.execute_reply": "2022-07-17T19:41:35.041277Z"
    },
    "papermill": {
     "duration": 0.094197,
     "end_time": "2022-07-17T19:41:35.044935",
     "exception": false,
     "start_time": "2022-07-17T19:41:34.950738",
     "status": "completed"
    },
    "tags": []
   },
   "outputs": [],
   "source": [
    "preds = np.argmax(preds, axis=1)"
   ]
  },
  {
   "cell_type": "markdown",
   "id": "652766d9",
   "metadata": {
    "papermill": {
     "duration": 0.066077,
     "end_time": "2022-07-17T19:41:35.185189",
     "exception": false,
     "start_time": "2022-07-17T19:41:35.119112",
     "status": "completed"
    },
    "tags": []
   },
   "source": [
    "## Submission"
   ]
  },
  {
   "cell_type": "code",
   "execution_count": 31,
   "id": "514d9b3a",
   "metadata": {
    "execution": {
     "iopub.execute_input": "2022-07-17T19:41:35.320092Z",
     "iopub.status.busy": "2022-07-17T19:41:35.319470Z",
     "iopub.status.idle": "2022-07-17T19:41:35.397243Z",
     "shell.execute_reply": "2022-07-17T19:41:35.396390Z"
    },
    "papermill": {
     "duration": 0.147342,
     "end_time": "2022-07-17T19:41:35.399331",
     "exception": false,
     "start_time": "2022-07-17T19:41:35.251989",
     "status": "completed"
    },
    "tags": []
   },
   "outputs": [
    {
     "data": {
      "text/html": [
       "<div>\n",
       "<style scoped>\n",
       "    .dataframe tbody tr th:only-of-type {\n",
       "        vertical-align: middle;\n",
       "    }\n",
       "\n",
       "    .dataframe tbody tr th {\n",
       "        vertical-align: top;\n",
       "    }\n",
       "\n",
       "    .dataframe thead th {\n",
       "        text-align: right;\n",
       "    }\n",
       "</style>\n",
       "<table border=\"1\" class=\"dataframe\">\n",
       "  <thead>\n",
       "    <tr style=\"text-align: right;\">\n",
       "      <th></th>\n",
       "      <th>ImageId</th>\n",
       "      <th>Label</th>\n",
       "    </tr>\n",
       "  </thead>\n",
       "  <tbody>\n",
       "    <tr>\n",
       "      <th>0</th>\n",
       "      <td>1</td>\n",
       "      <td>2</td>\n",
       "    </tr>\n",
       "    <tr>\n",
       "      <th>1</th>\n",
       "      <td>2</td>\n",
       "      <td>0</td>\n",
       "    </tr>\n",
       "    <tr>\n",
       "      <th>2</th>\n",
       "      <td>3</td>\n",
       "      <td>9</td>\n",
       "    </tr>\n",
       "    <tr>\n",
       "      <th>3</th>\n",
       "      <td>4</td>\n",
       "      <td>9</td>\n",
       "    </tr>\n",
       "    <tr>\n",
       "      <th>4</th>\n",
       "      <td>5</td>\n",
       "      <td>3</td>\n",
       "    </tr>\n",
       "  </tbody>\n",
       "</table>\n",
       "</div>"
      ],
      "text/plain": [
       "   ImageId  Label\n",
       "0        1      2\n",
       "1        2      0\n",
       "2        3      9\n",
       "3        4      9\n",
       "4        5      3"
      ]
     },
     "execution_count": 31,
     "metadata": {},
     "output_type": "execute_result"
    }
   ],
   "source": [
    "# Different TARGET name used in test.csv\n",
    "ss = create_submission(\"\", \"Label\", preds)\n",
    "ss"
   ]
  }
 ],
 "metadata": {
  "kernelspec": {
   "display_name": "Python 3",
   "language": "python",
   "name": "python3"
  },
  "language_info": {
   "codemirror_mode": {
    "name": "ipython",
    "version": 3
   },
   "file_extension": ".py",
   "mimetype": "text/x-python",
   "name": "python",
   "nbconvert_exporter": "python",
   "pygments_lexer": "ipython3",
   "version": "3.7.12"
  },
  "papermill": {
   "default_parameters": {},
   "duration": 89.592065,
   "end_time": "2022-07-17T19:41:38.241663",
   "environment_variables": {},
   "exception": null,
   "input_path": "__notebook__.ipynb",
   "output_path": "__notebook__.ipynb",
   "parameters": {},
   "start_time": "2022-07-17T19:40:08.649598",
   "version": "2.3.4"
  }
 },
 "nbformat": 4,
 "nbformat_minor": 5
}
