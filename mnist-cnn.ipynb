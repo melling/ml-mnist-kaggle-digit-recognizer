{
 "cells": [
  {
   "cell_type": "markdown",
   "id": "07d79e4c",
   "metadata": {
    "papermill": {
     "duration": 0.009859,
     "end_time": "2022-07-15T22:03:48.674634",
     "exception": false,
     "start_time": "2022-07-15T22:03:48.664775",
     "status": "completed"
    },
    "tags": []
   },
   "source": [
    "<div style=\"background-color:rgba(128, 0, 128, 0.6);border-radius:5px;display:fill\"><h1 style=\"text-align: center;padding: 12px 0px 12px 0px;\">MNIST: CNN</h1>\n",
    "</div>\n",
    "\n",
    "Problem Type: Multi-classification\n",
    "\n",
    "## Evaluation Metric"
   ]
  },
  {
   "cell_type": "code",
   "execution_count": 1,
   "id": "355ef410",
   "metadata": {
    "execution": {
     "iopub.execute_input": "2022-07-15T22:03:48.695751Z",
     "iopub.status.busy": "2022-07-15T22:03:48.694637Z",
     "iopub.status.idle": "2022-07-15T22:04:04.147930Z",
     "shell.execute_reply": "2022-07-15T22:04:04.146797Z"
    },
    "papermill": {
     "duration": 15.467058,
     "end_time": "2022-07-15T22:04:04.151238",
     "exception": false,
     "start_time": "2022-07-15T22:03:48.684180",
     "status": "completed"
    },
    "tags": []
   },
   "outputs": [
    {
     "name": "stdout",
     "output_type": "stream",
     "text": [
      "\u001b[33mWARNING: Running pip as the 'root' user can result in broken permissions and conflicting behaviour with the system package manager. It is recommended to use a virtual environment instead: https://pip.pypa.io/warnings/venv\u001b[0m\u001b[33m\r\n",
      "\u001b[0m"
     ]
    }
   ],
   "source": [
    "# Black formatter https://black.readthedocs.io/en/stable/\n",
    "\n",
    "! pip install nb-black > /dev/null\n",
    "\n",
    "%load_ext lab_black"
   ]
  },
  {
   "cell_type": "markdown",
   "id": "2326d105",
   "metadata": {
    "papermill": {
     "duration": 0.009104,
     "end_time": "2022-07-15T22:04:04.169507",
     "exception": false,
     "start_time": "2022-07-15T22:04:04.160403",
     "status": "completed"
    },
    "tags": []
   },
   "source": [
    "<div style=\"background-color:rgba(128, 0, 128, 0.6);border-radius:5px;display:fill\"><h1 style=\"text-align: center;padding: 12px 0px 12px 0px;\">Configuration</h1>\n",
    "</div>"
   ]
  },
  {
   "cell_type": "code",
   "execution_count": 2,
   "id": "7e8f6672",
   "metadata": {
    "execution": {
     "iopub.execute_input": "2022-07-15T22:04:04.189761Z",
     "iopub.status.busy": "2022-07-15T22:04:04.189371Z",
     "iopub.status.idle": "2022-07-15T22:04:04.196534Z",
     "shell.execute_reply": "2022-07-15T22:04:04.195142Z"
    },
    "papermill": {
     "duration": 0.020604,
     "end_time": "2022-07-15T22:04:04.199133",
     "exception": false,
     "start_time": "2022-07-15T22:04:04.178529",
     "status": "completed"
    },
    "tags": []
   },
   "outputs": [],
   "source": [
    "TARGET = \"label\""
   ]
  },
  {
   "cell_type": "markdown",
   "id": "0efbffd8",
   "metadata": {
    "papermill": {
     "duration": 0.008997,
     "end_time": "2022-07-15T22:04:04.217122",
     "exception": false,
     "start_time": "2022-07-15T22:04:04.208125",
     "status": "completed"
    },
    "tags": []
   },
   "source": [
    "<div style=\"background-color:rgba(128, 0, 128, 0.6);border-radius:5px;display:fill\"><h1 style=\"text-align: center;padding: 12px 0px 12px 0px;\">Import Libraries</h1>\n",
    "</div>\n",
    "\n",
    "A best practise is to include all libraries here.  However, I will put a few imports farther down where they are first used so beginners can learn with an \"as needed\" approach."
   ]
  },
  {
   "cell_type": "code",
   "execution_count": 3,
   "id": "3a025ab4",
   "metadata": {
    "execution": {
     "iopub.execute_input": "2022-07-15T22:04:04.237137Z",
     "iopub.status.busy": "2022-07-15T22:04:04.236775Z",
     "iopub.status.idle": "2022-07-15T22:04:05.512591Z",
     "shell.execute_reply": "2022-07-15T22:04:05.511444Z"
    },
    "papermill": {
     "duration": 1.289536,
     "end_time": "2022-07-15T22:04:05.515756",
     "exception": false,
     "start_time": "2022-07-15T22:04:04.226220",
     "status": "completed"
    },
    "tags": []
   },
   "outputs": [],
   "source": [
    "import os\n",
    "import time\n",
    "from pathlib import Path\n",
    "\n",
    "import pandas as pd\n",
    "import numpy as np\n",
    "\n",
    "from sklearn.model_selection import train_test_split\n",
    "\n",
    "from sklearn.metrics import f1_score"
   ]
  },
  {
   "cell_type": "markdown",
   "id": "b668a8a8",
   "metadata": {
    "papermill": {
     "duration": 0.008567,
     "end_time": "2022-07-15T22:04:05.533255",
     "exception": false,
     "start_time": "2022-07-15T22:04:05.524688",
     "status": "completed"
    },
    "tags": []
   },
   "source": [
    "<div style=\"background-color:rgba(128, 0, 128, 0.6);border-radius:5px;display:fill\"><h1 style=\"text-align: center;padding: 12px 0px 12px 0px;\">Library</h1>\n",
    "</div>\n",
    "\n",
    "Creating a few functions that we will reuse in each project."
   ]
  },
  {
   "cell_type": "code",
   "execution_count": 4,
   "id": "15537572",
   "metadata": {
    "execution": {
     "iopub.execute_input": "2022-07-15T22:04:05.552804Z",
     "iopub.status.busy": "2022-07-15T22:04:05.552411Z",
     "iopub.status.idle": "2022-07-15T22:04:05.567472Z",
     "shell.execute_reply": "2022-07-15T22:04:05.566345Z"
    },
    "papermill": {
     "duration": 0.028198,
     "end_time": "2022-07-15T22:04:05.570335",
     "exception": false,
     "start_time": "2022-07-15T22:04:05.542137",
     "status": "completed"
    },
    "tags": []
   },
   "outputs": [],
   "source": [
    "def read_data(path):\n",
    "    data_dir = Path(path)\n",
    "\n",
    "    train = pd.read_csv(data_dir / \"train.csv\")\n",
    "    test = pd.read_csv(data_dir / \"test.csv\")\n",
    "    submission_df = pd.read_csv(data_dir / \"sample_submission.csv\")\n",
    "\n",
    "    print(f\"train data: Rows={train.shape[0]}, Columns={train.shape[1]}\")\n",
    "    print(f\"test data : Rows={test.shape[0]}, Columns={test.shape[1]}\")\n",
    "    return train, test, submission_df"
   ]
  },
  {
   "cell_type": "code",
   "execution_count": 5,
   "id": "fba774e5",
   "metadata": {
    "execution": {
     "iopub.execute_input": "2022-07-15T22:04:05.589809Z",
     "iopub.status.busy": "2022-07-15T22:04:05.589418Z",
     "iopub.status.idle": "2022-07-15T22:04:05.605038Z",
     "shell.execute_reply": "2022-07-15T22:04:05.603802Z"
    },
    "papermill": {
     "duration": 0.028087,
     "end_time": "2022-07-15T22:04:05.607399",
     "exception": false,
     "start_time": "2022-07-15T22:04:05.579312",
     "status": "completed"
    },
    "tags": []
   },
   "outputs": [],
   "source": [
    "def create_submission(model_name, target, preds, is_log_target=False):\n",
    "    if is_log_target:\n",
    "        #         preds = np.exp(preds)\n",
    "        preds = np.expm1(preds)\n",
    "\n",
    "    sample_submission[target] = preds\n",
    "    if len(model_name) > 0:\n",
    "        sample_submission.to_csv(f\"submission_{model_name}.csv\", index=False)\n",
    "    else:\n",
    "        sample_submission.to_csv(f\"submission.csv\", index=False)\n",
    "\n",
    "    return sample_submission[:5]"
   ]
  },
  {
   "cell_type": "code",
   "execution_count": 6,
   "id": "8f8cdee1",
   "metadata": {
    "execution": {
     "iopub.execute_input": "2022-07-15T22:04:05.627413Z",
     "iopub.status.busy": "2022-07-15T22:04:05.626693Z",
     "iopub.status.idle": "2022-07-15T22:04:05.640614Z",
     "shell.execute_reply": "2022-07-15T22:04:05.639343Z"
    },
    "papermill": {
     "duration": 0.027372,
     "end_time": "2022-07-15T22:04:05.643709",
     "exception": false,
     "start_time": "2022-07-15T22:04:05.616337",
     "status": "completed"
    },
    "tags": []
   },
   "outputs": [],
   "source": [
    "from sklearn.metrics import mean_absolute_error, mean_squared_error, f1_score\n",
    "\n",
    "\n",
    "def show_scores(gt, yhat):\n",
    "    f1 = f1_score(gt, yhat, average=\"macro\")\n",
    "    mse = mean_squared_error(gt, yhat)\n",
    "    mae = mean_absolute_error(gt, yhat)\n",
    "    rmse = np.sqrt(mse)\n",
    "    #     r2_square = r2_score(gt, yhat)\n",
    "\n",
    "    print(f\"f1: {f1:.4f}\")"
   ]
  },
  {
   "cell_type": "markdown",
   "id": "95c934dc",
   "metadata": {
    "papermill": {
     "duration": 0.008761,
     "end_time": "2022-07-15T22:04:05.662336",
     "exception": false,
     "start_time": "2022-07-15T22:04:05.653575",
     "status": "completed"
    },
    "tags": []
   },
   "source": [
    "<div style=\"background-color:rgba(128, 0, 128, 0.6);border-radius:5px;display:fill\"><h1 style=\"text-align: center;padding: 12px 0px 12px 0px;\">Load Train/Test Data</h1>\n",
    "</div>\n",
    "\n",
    "- train.csv - Data used to build our machine learning model\n",
    "- test.csv - Data used to build our machine learning model. Does not contain the target variable\n",
    "- sample_submission.csv - A file in the proper format to submit test predictions"
   ]
  },
  {
   "cell_type": "code",
   "execution_count": 7,
   "id": "9500e938",
   "metadata": {
    "execution": {
     "iopub.execute_input": "2022-07-15T22:04:05.682010Z",
     "iopub.status.busy": "2022-07-15T22:04:05.681545Z",
     "iopub.status.idle": "2022-07-15T22:04:11.848947Z",
     "shell.execute_reply": "2022-07-15T22:04:11.847600Z"
    },
    "papermill": {
     "duration": 6.180223,
     "end_time": "2022-07-15T22:04:11.851468",
     "exception": false,
     "start_time": "2022-07-15T22:04:05.671245",
     "status": "completed"
    },
    "tags": []
   },
   "outputs": [
    {
     "name": "stdout",
     "output_type": "stream",
     "text": [
      "train data: Rows=42000, Columns=785\n",
      "test data : Rows=28000, Columns=784\n"
     ]
    }
   ],
   "source": [
    "train, test, sample_submission = read_data(\"../input/digit-recognizer\")"
   ]
  },
  {
   "cell_type": "code",
   "execution_count": 8,
   "id": "177e12aa",
   "metadata": {
    "execution": {
     "iopub.execute_input": "2022-07-15T22:04:11.871669Z",
     "iopub.status.busy": "2022-07-15T22:04:11.870561Z",
     "iopub.status.idle": "2022-07-15T22:04:11.899532Z",
     "shell.execute_reply": "2022-07-15T22:04:11.898399Z"
    },
    "papermill": {
     "duration": 0.042031,
     "end_time": "2022-07-15T22:04:11.902305",
     "exception": false,
     "start_time": "2022-07-15T22:04:11.860274",
     "status": "completed"
    },
    "tags": []
   },
   "outputs": [
    {
     "data": {
      "text/html": [
       "<div>\n",
       "<style scoped>\n",
       "    .dataframe tbody tr th:only-of-type {\n",
       "        vertical-align: middle;\n",
       "    }\n",
       "\n",
       "    .dataframe tbody tr th {\n",
       "        vertical-align: top;\n",
       "    }\n",
       "\n",
       "    .dataframe thead th {\n",
       "        text-align: right;\n",
       "    }\n",
       "</style>\n",
       "<table border=\"1\" class=\"dataframe\">\n",
       "  <thead>\n",
       "    <tr style=\"text-align: right;\">\n",
       "      <th></th>\n",
       "      <th>label</th>\n",
       "      <th>pixel0</th>\n",
       "      <th>pixel1</th>\n",
       "      <th>pixel2</th>\n",
       "      <th>pixel3</th>\n",
       "      <th>pixel4</th>\n",
       "      <th>pixel5</th>\n",
       "      <th>pixel6</th>\n",
       "      <th>pixel7</th>\n",
       "      <th>pixel8</th>\n",
       "      <th>...</th>\n",
       "      <th>pixel774</th>\n",
       "      <th>pixel775</th>\n",
       "      <th>pixel776</th>\n",
       "      <th>pixel777</th>\n",
       "      <th>pixel778</th>\n",
       "      <th>pixel779</th>\n",
       "      <th>pixel780</th>\n",
       "      <th>pixel781</th>\n",
       "      <th>pixel782</th>\n",
       "      <th>pixel783</th>\n",
       "    </tr>\n",
       "  </thead>\n",
       "  <tbody>\n",
       "    <tr>\n",
       "      <th>0</th>\n",
       "      <td>1</td>\n",
       "      <td>0</td>\n",
       "      <td>0</td>\n",
       "      <td>0</td>\n",
       "      <td>0</td>\n",
       "      <td>0</td>\n",
       "      <td>0</td>\n",
       "      <td>0</td>\n",
       "      <td>0</td>\n",
       "      <td>0</td>\n",
       "      <td>...</td>\n",
       "      <td>0</td>\n",
       "      <td>0</td>\n",
       "      <td>0</td>\n",
       "      <td>0</td>\n",
       "      <td>0</td>\n",
       "      <td>0</td>\n",
       "      <td>0</td>\n",
       "      <td>0</td>\n",
       "      <td>0</td>\n",
       "      <td>0</td>\n",
       "    </tr>\n",
       "    <tr>\n",
       "      <th>1</th>\n",
       "      <td>0</td>\n",
       "      <td>0</td>\n",
       "      <td>0</td>\n",
       "      <td>0</td>\n",
       "      <td>0</td>\n",
       "      <td>0</td>\n",
       "      <td>0</td>\n",
       "      <td>0</td>\n",
       "      <td>0</td>\n",
       "      <td>0</td>\n",
       "      <td>...</td>\n",
       "      <td>0</td>\n",
       "      <td>0</td>\n",
       "      <td>0</td>\n",
       "      <td>0</td>\n",
       "      <td>0</td>\n",
       "      <td>0</td>\n",
       "      <td>0</td>\n",
       "      <td>0</td>\n",
       "      <td>0</td>\n",
       "      <td>0</td>\n",
       "    </tr>\n",
       "    <tr>\n",
       "      <th>2</th>\n",
       "      <td>1</td>\n",
       "      <td>0</td>\n",
       "      <td>0</td>\n",
       "      <td>0</td>\n",
       "      <td>0</td>\n",
       "      <td>0</td>\n",
       "      <td>0</td>\n",
       "      <td>0</td>\n",
       "      <td>0</td>\n",
       "      <td>0</td>\n",
       "      <td>...</td>\n",
       "      <td>0</td>\n",
       "      <td>0</td>\n",
       "      <td>0</td>\n",
       "      <td>0</td>\n",
       "      <td>0</td>\n",
       "      <td>0</td>\n",
       "      <td>0</td>\n",
       "      <td>0</td>\n",
       "      <td>0</td>\n",
       "      <td>0</td>\n",
       "    </tr>\n",
       "    <tr>\n",
       "      <th>3</th>\n",
       "      <td>4</td>\n",
       "      <td>0</td>\n",
       "      <td>0</td>\n",
       "      <td>0</td>\n",
       "      <td>0</td>\n",
       "      <td>0</td>\n",
       "      <td>0</td>\n",
       "      <td>0</td>\n",
       "      <td>0</td>\n",
       "      <td>0</td>\n",
       "      <td>...</td>\n",
       "      <td>0</td>\n",
       "      <td>0</td>\n",
       "      <td>0</td>\n",
       "      <td>0</td>\n",
       "      <td>0</td>\n",
       "      <td>0</td>\n",
       "      <td>0</td>\n",
       "      <td>0</td>\n",
       "      <td>0</td>\n",
       "      <td>0</td>\n",
       "    </tr>\n",
       "    <tr>\n",
       "      <th>4</th>\n",
       "      <td>0</td>\n",
       "      <td>0</td>\n",
       "      <td>0</td>\n",
       "      <td>0</td>\n",
       "      <td>0</td>\n",
       "      <td>0</td>\n",
       "      <td>0</td>\n",
       "      <td>0</td>\n",
       "      <td>0</td>\n",
       "      <td>0</td>\n",
       "      <td>...</td>\n",
       "      <td>0</td>\n",
       "      <td>0</td>\n",
       "      <td>0</td>\n",
       "      <td>0</td>\n",
       "      <td>0</td>\n",
       "      <td>0</td>\n",
       "      <td>0</td>\n",
       "      <td>0</td>\n",
       "      <td>0</td>\n",
       "      <td>0</td>\n",
       "    </tr>\n",
       "  </tbody>\n",
       "</table>\n",
       "<p>5 rows × 785 columns</p>\n",
       "</div>"
      ],
      "text/plain": [
       "   label  pixel0  pixel1  pixel2  pixel3  pixel4  pixel5  pixel6  pixel7  \\\n",
       "0      1       0       0       0       0       0       0       0       0   \n",
       "1      0       0       0       0       0       0       0       0       0   \n",
       "2      1       0       0       0       0       0       0       0       0   \n",
       "3      4       0       0       0       0       0       0       0       0   \n",
       "4      0       0       0       0       0       0       0       0       0   \n",
       "\n",
       "   pixel8  ...  pixel774  pixel775  pixel776  pixel777  pixel778  pixel779  \\\n",
       "0       0  ...         0         0         0         0         0         0   \n",
       "1       0  ...         0         0         0         0         0         0   \n",
       "2       0  ...         0         0         0         0         0         0   \n",
       "3       0  ...         0         0         0         0         0         0   \n",
       "4       0  ...         0         0         0         0         0         0   \n",
       "\n",
       "   pixel780  pixel781  pixel782  pixel783  \n",
       "0         0         0         0         0  \n",
       "1         0         0         0         0  \n",
       "2         0         0         0         0  \n",
       "3         0         0         0         0  \n",
       "4         0         0         0         0  \n",
       "\n",
       "[5 rows x 785 columns]"
      ]
     },
     "execution_count": 8,
     "metadata": {},
     "output_type": "execute_result"
    }
   ],
   "source": [
    "train.head()"
   ]
  },
  {
   "cell_type": "code",
   "execution_count": 9,
   "id": "797dc082",
   "metadata": {
    "execution": {
     "iopub.execute_input": "2022-07-15T22:04:11.922772Z",
     "iopub.status.busy": "2022-07-15T22:04:11.922390Z",
     "iopub.status.idle": "2022-07-15T22:04:11.933134Z",
     "shell.execute_reply": "2022-07-15T22:04:11.931770Z"
    },
    "papermill": {
     "duration": 0.023917,
     "end_time": "2022-07-15T22:04:11.935484",
     "exception": false,
     "start_time": "2022-07-15T22:04:11.911567",
     "status": "completed"
    },
    "tags": []
   },
   "outputs": [],
   "source": [
    "FEATURES = [\n",
    "    col\n",
    "    for col in train.columns\n",
    "    if col\n",
    "    not in [\n",
    "        \"Id\",\n",
    "        TARGET,\n",
    "        #         TARGET_ENC,\n",
    "    ]\n",
    "]"
   ]
  },
  {
   "cell_type": "code",
   "execution_count": 10,
   "id": "40aaf98a",
   "metadata": {
    "execution": {
     "iopub.execute_input": "2022-07-15T22:04:11.955859Z",
     "iopub.status.busy": "2022-07-15T22:04:11.955461Z",
     "iopub.status.idle": "2022-07-15T22:04:12.337307Z",
     "shell.execute_reply": "2022-07-15T22:04:12.336024Z"
    },
    "papermill": {
     "duration": 0.395244,
     "end_time": "2022-07-15T22:04:12.339975",
     "exception": false,
     "start_time": "2022-07-15T22:04:11.944731",
     "status": "completed"
    },
    "tags": []
   },
   "outputs": [],
   "source": [
    "y = train[TARGET]\n",
    "X = train[FEATURES].copy()\n",
    "\n",
    "X_test = test[FEATURES].copy()"
   ]
  },
  {
   "cell_type": "code",
   "execution_count": 11,
   "id": "28c7cbee",
   "metadata": {
    "execution": {
     "iopub.execute_input": "2022-07-15T22:04:12.360505Z",
     "iopub.status.busy": "2022-07-15T22:04:12.360110Z",
     "iopub.status.idle": "2022-07-15T22:04:12.461659Z",
     "shell.execute_reply": "2022-07-15T22:04:12.460729Z"
    },
    "papermill": {
     "duration": 0.115133,
     "end_time": "2022-07-15T22:04:12.464248",
     "exception": false,
     "start_time": "2022-07-15T22:04:12.349115",
     "status": "completed"
    },
    "tags": []
   },
   "outputs": [],
   "source": [
    "# Normalize the data\n",
    "X = X / 255.0\n",
    "X_test = X_test / 255.0"
   ]
  },
  {
   "cell_type": "code",
   "execution_count": 12,
   "id": "be563a1d",
   "metadata": {
    "execution": {
     "iopub.execute_input": "2022-07-15T22:04:12.484553Z",
     "iopub.status.busy": "2022-07-15T22:04:12.484162Z",
     "iopub.status.idle": "2022-07-15T22:04:12.493367Z",
     "shell.execute_reply": "2022-07-15T22:04:12.492023Z"
    },
    "papermill": {
     "duration": 0.022428,
     "end_time": "2022-07-15T22:04:12.495887",
     "exception": false,
     "start_time": "2022-07-15T22:04:12.473459",
     "status": "completed"
    },
    "tags": []
   },
   "outputs": [],
   "source": [
    "X = X.values.reshape(-1, 28, 28, 1)\n",
    "X_test = X_test.values.reshape(-1, 28, 28, 1)"
   ]
  },
  {
   "cell_type": "code",
   "execution_count": 13,
   "id": "33f81de9",
   "metadata": {
    "execution": {
     "iopub.execute_input": "2022-07-15T22:04:12.517307Z",
     "iopub.status.busy": "2022-07-15T22:04:12.516224Z",
     "iopub.status.idle": "2022-07-15T22:04:12.521480Z",
     "shell.execute_reply": "2022-07-15T22:04:12.520424Z"
    },
    "papermill": {
     "duration": 0.018394,
     "end_time": "2022-07-15T22:04:12.523804",
     "exception": false,
     "start_time": "2022-07-15T22:04:12.505410",
     "status": "completed"
    },
    "tags": []
   },
   "outputs": [],
   "source": [
    "# X[:3]"
   ]
  },
  {
   "cell_type": "code",
   "execution_count": 14,
   "id": "fc6e099b",
   "metadata": {
    "execution": {
     "iopub.execute_input": "2022-07-15T22:04:12.543988Z",
     "iopub.status.busy": "2022-07-15T22:04:12.543582Z",
     "iopub.status.idle": "2022-07-15T22:04:22.464788Z",
     "shell.execute_reply": "2022-07-15T22:04:22.463771Z"
    },
    "papermill": {
     "duration": 9.934366,
     "end_time": "2022-07-15T22:04:22.467342",
     "exception": false,
     "start_time": "2022-07-15T22:04:12.532976",
     "status": "completed"
    },
    "tags": []
   },
   "outputs": [],
   "source": [
    "from keras.utils.np_utils import to_categorical\n",
    "\n",
    "y = to_categorical(y)"
   ]
  },
  {
   "cell_type": "code",
   "execution_count": 15,
   "id": "55778280",
   "metadata": {
    "execution": {
     "iopub.execute_input": "2022-07-15T22:04:22.488275Z",
     "iopub.status.busy": "2022-07-15T22:04:22.487065Z",
     "iopub.status.idle": "2022-07-15T22:04:22.496255Z",
     "shell.execute_reply": "2022-07-15T22:04:22.495215Z"
    },
    "papermill": {
     "duration": 0.02187,
     "end_time": "2022-07-15T22:04:22.498483",
     "exception": false,
     "start_time": "2022-07-15T22:04:22.476613",
     "status": "completed"
    },
    "tags": []
   },
   "outputs": [
    {
     "data": {
      "text/plain": [
       "array([[0., 1., 0., 0., 0., 0., 0., 0., 0., 0.],\n",
       "       [1., 0., 0., 0., 0., 0., 0., 0., 0., 0.],\n",
       "       [0., 1., 0., 0., 0., 0., 0., 0., 0., 0.],\n",
       "       [0., 0., 0., 0., 1., 0., 0., 0., 0., 0.],\n",
       "       [1., 0., 0., 0., 0., 0., 0., 0., 0., 0.]], dtype=float32)"
      ]
     },
     "execution_count": 15,
     "metadata": {},
     "output_type": "execute_result"
    }
   ],
   "source": [
    "y[:5]"
   ]
  },
  {
   "cell_type": "code",
   "execution_count": 16,
   "id": "852a269b",
   "metadata": {
    "execution": {
     "iopub.execute_input": "2022-07-15T22:04:22.519090Z",
     "iopub.status.busy": "2022-07-15T22:04:22.518325Z",
     "iopub.status.idle": "2022-07-15T22:04:22.964192Z",
     "shell.execute_reply": "2022-07-15T22:04:22.963192Z"
    },
    "papermill": {
     "duration": 0.459458,
     "end_time": "2022-07-15T22:04:22.967142",
     "exception": false,
     "start_time": "2022-07-15T22:04:22.507684",
     "status": "completed"
    },
    "tags": []
   },
   "outputs": [
    {
     "data": {
      "text/plain": [
       "((37800, 28, 28, 1), (37800, 10), (4200, 28, 28, 1), (4200, 10))"
      ]
     },
     "execution_count": 16,
     "metadata": {},
     "output_type": "execute_result"
    }
   ],
   "source": [
    "X_train, X_valid, y_train, y_valid = train_test_split(\n",
    "    X,\n",
    "    y,\n",
    "    test_size=0.1,\n",
    "    random_state=42,\n",
    ")\n",
    "X_train.shape, y_train.shape, X_valid.shape, y_valid.shape"
   ]
  },
  {
   "cell_type": "markdown",
   "id": "8d677ecf",
   "metadata": {
    "papermill": {
     "duration": 0.009097,
     "end_time": "2022-07-15T22:04:22.985761",
     "exception": false,
     "start_time": "2022-07-15T22:04:22.976664",
     "status": "completed"
    },
    "tags": []
   },
   "source": [
    "<div style=\"background-color:rgba(128, 0, 128, 0.6);border-radius:5px;display:fill\"><h1 style=\"text-align: center;padding: 12px 0px 12px 0px;\">Create Models</h1>\n",
    "</div>"
   ]
  },
  {
   "cell_type": "code",
   "execution_count": 17,
   "id": "8ce6eaa0",
   "metadata": {
    "execution": {
     "iopub.execute_input": "2022-07-15T22:04:23.007197Z",
     "iopub.status.busy": "2022-07-15T22:04:23.006514Z",
     "iopub.status.idle": "2022-07-15T22:04:23.567161Z",
     "shell.execute_reply": "2022-07-15T22:04:23.565865Z"
    },
    "papermill": {
     "duration": 0.574666,
     "end_time": "2022-07-15T22:04:23.570120",
     "exception": false,
     "start_time": "2022-07-15T22:04:22.995454",
     "status": "completed"
    },
    "tags": []
   },
   "outputs": [],
   "source": [
    "import tensorflow as tf\n",
    "from tensorflow import keras\n",
    "from tensorflow.keras import layers\n",
    "\n",
    "\n",
    "def get_tf_model01(x_shape):\n",
    "    print(f\"x_shape=\")\n",
    "    #     input_shape = (height, width, channels)\n",
    "    inputs = keras.Input(shape=(28, 28, 1))\n",
    "\n",
    "    x = keras.layers.Conv2D(\n",
    "        128,\n",
    "        kernel_size=2,\n",
    "        activation=\"relu\",\n",
    "        padding=\"same\",\n",
    "        input_shape=(28, 28, 1),\n",
    "        kernel_initializer=\"he_normal\",\n",
    "    )(inputs)\n",
    "    x = keras.layers.BatchNormalization()(x)\n",
    "\n",
    "    #     x = keras.layers.MaxPooling2d((2, 2))(x)\n",
    "    #     x = keras.layers.Conv2D(\n",
    "    #         128, activation=\"relu\", padding=\"same\", kernel_initializer=\"he_normal\"\n",
    "    #     )(x)\n",
    "    x = keras.layers.Flatten()(x)\n",
    "#     x = keras.layers.Dense(128, activation=\"relu\")(x)\n",
    "\n",
    "    x = keras.layers.Dense(64, activation=\"relu\")(x)\n",
    "    x = keras.layers.BatchNormalization()(x)\n",
    "    x = keras.layers.Dense(32, activation=\"relu\")(x)\n",
    "    x = keras.layers.BatchNormalization()(x)\n",
    "    #     x = keras.layers.Dropout(0.1)(x)\n",
    "\n",
    "    outputs = keras.layers.Dense(10, activation=\"softmax\")(x)\n",
    "\n",
    "    model = keras.Model(inputs, outputs)\n",
    "\n",
    "    model.compile(\n",
    "        loss=\"categorical_crossentropy\", optimizer=\"rmsprop\", metrics=[\"accuracy\"]\n",
    "    )\n",
    "\n",
    "    #     model.compile(\n",
    "    #         optimizer=tf.keras.optimizers.Adam(learning_rate=0.01),\n",
    "    #         loss=\"mean_absolute_error\",\n",
    "    #     )\n",
    "\n",
    "    return model"
   ]
  },
  {
   "cell_type": "code",
   "execution_count": 18,
   "id": "67a11519",
   "metadata": {
    "execution": {
     "iopub.execute_input": "2022-07-15T22:04:23.591866Z",
     "iopub.status.busy": "2022-07-15T22:04:23.591161Z",
     "iopub.status.idle": "2022-07-15T22:04:23.600145Z",
     "shell.execute_reply": "2022-07-15T22:04:23.599349Z"
    },
    "papermill": {
     "duration": 0.022508,
     "end_time": "2022-07-15T22:04:23.602356",
     "exception": false,
     "start_time": "2022-07-15T22:04:23.579848",
     "status": "completed"
    },
    "tags": []
   },
   "outputs": [
    {
     "data": {
      "text/plain": [
       "28"
      ]
     },
     "execution_count": 18,
     "metadata": {},
     "output_type": "execute_result"
    }
   ],
   "source": [
    "X_train.shape[1]"
   ]
  },
  {
   "cell_type": "code",
   "execution_count": 19,
   "id": "9dbd78a4",
   "metadata": {
    "execution": {
     "iopub.execute_input": "2022-07-15T22:04:23.623478Z",
     "iopub.status.busy": "2022-07-15T22:04:23.622707Z",
     "iopub.status.idle": "2022-07-15T22:04:23.631150Z",
     "shell.execute_reply": "2022-07-15T22:04:23.630319Z"
    },
    "papermill": {
     "duration": 0.021754,
     "end_time": "2022-07-15T22:04:23.633533",
     "exception": false,
     "start_time": "2022-07-15T22:04:23.611779",
     "status": "completed"
    },
    "tags": []
   },
   "outputs": [
    {
     "data": {
      "text/plain": [
       "42000"
      ]
     },
     "execution_count": 19,
     "metadata": {},
     "output_type": "execute_result"
    }
   ],
   "source": [
    "X.shape[0]"
   ]
  },
  {
   "cell_type": "code",
   "execution_count": 20,
   "id": "dd59cfc4",
   "metadata": {
    "execution": {
     "iopub.execute_input": "2022-07-15T22:04:23.655756Z",
     "iopub.status.busy": "2022-07-15T22:04:23.654940Z",
     "iopub.status.idle": "2022-07-15T22:04:23.901700Z",
     "shell.execute_reply": "2022-07-15T22:04:23.900466Z"
    },
    "papermill": {
     "duration": 0.260475,
     "end_time": "2022-07-15T22:04:23.903704",
     "exception": false,
     "start_time": "2022-07-15T22:04:23.643229",
     "status": "completed"
    },
    "tags": []
   },
   "outputs": [
    {
     "name": "stdout",
     "output_type": "stream",
     "text": [
      "x_shape=\n",
      "Model: \"model\"\n",
      "_________________________________________________________________\n",
      "Layer (type)                 Output Shape              Param #   \n",
      "=================================================================\n",
      "input_1 (InputLayer)         [(None, 28, 28, 1)]       0         \n",
      "_________________________________________________________________\n",
      "conv2d (Conv2D)              (None, 28, 28, 128)       640       \n",
      "_________________________________________________________________\n",
      "batch_normalization (BatchNo (None, 28, 28, 128)       512       \n",
      "_________________________________________________________________\n",
      "flatten (Flatten)            (None, 100352)            0         \n",
      "_________________________________________________________________\n",
      "dense (Dense)                (None, 64)                6422592   \n",
      "_________________________________________________________________\n",
      "batch_normalization_1 (Batch (None, 64)                256       \n",
      "_________________________________________________________________\n",
      "dense_1 (Dense)              (None, 32)                2080      \n",
      "_________________________________________________________________\n",
      "batch_normalization_2 (Batch (None, 32)                128       \n",
      "_________________________________________________________________\n",
      "dense_2 (Dense)              (None, 10)                330       \n",
      "=================================================================\n",
      "Total params: 6,426,538\n",
      "Trainable params: 6,426,090\n",
      "Non-trainable params: 448\n",
      "_________________________________________________________________\n"
     ]
    },
    {
     "name": "stderr",
     "output_type": "stream",
     "text": [
      "2022-07-15 22:04:23.713616: I tensorflow/core/common_runtime/process_util.cc:146] Creating new thread pool with default inter op setting: 2. Tune using inter_op_parallelism_threads for best performance.\n"
     ]
    }
   ],
   "source": [
    "model = get_tf_model01(x_shape=(28, 28))\n",
    "\n",
    "model.summary()"
   ]
  },
  {
   "cell_type": "code",
   "execution_count": 21,
   "id": "bfd1270e",
   "metadata": {
    "execution": {
     "iopub.execute_input": "2022-07-15T22:04:23.926445Z",
     "iopub.status.busy": "2022-07-15T22:04:23.925782Z",
     "iopub.status.idle": "2022-07-15T22:11:59.081719Z",
     "shell.execute_reply": "2022-07-15T22:11:59.080436Z"
    },
    "papermill": {
     "duration": 455.170543,
     "end_time": "2022-07-15T22:11:59.084053",
     "exception": false,
     "start_time": "2022-07-15T22:04:23.913510",
     "status": "completed"
    },
    "tags": []
   },
   "outputs": [
    {
     "name": "stderr",
     "output_type": "stream",
     "text": [
      "2022-07-15 22:04:24.194341: I tensorflow/compiler/mlir/mlir_graph_optimization_pass.cc:185] None of the MLIR Optimization Passes are enabled (registered 2)\n"
     ]
    },
    {
     "name": "stdout",
     "output_type": "stream",
     "text": [
      "Epoch 1/10\n",
      "591/591 [==============================] - 47s 77ms/step - loss: 0.2341 - accuracy: 0.9358\n",
      "Epoch 2/10\n",
      "591/591 [==============================] - 46s 78ms/step - loss: 0.0716 - accuracy: 0.9787\n",
      "Epoch 3/10\n",
      "591/591 [==============================] - 45s 76ms/step - loss: 0.0426 - accuracy: 0.9871\n",
      "Epoch 4/10\n",
      "591/591 [==============================] - 45s 76ms/step - loss: 0.0261 - accuracy: 0.9923\n",
      "Epoch 5/10\n",
      "591/591 [==============================] - 45s 77ms/step - loss: 0.0181 - accuracy: 0.9948\n",
      "Epoch 6/10\n",
      "591/591 [==============================] - 45s 77ms/step - loss: 0.0131 - accuracy: 0.9958\n",
      "Epoch 7/10\n",
      "591/591 [==============================] - 46s 77ms/step - loss: 0.0097 - accuracy: 0.9971\n",
      "Epoch 8/10\n",
      "591/591 [==============================] - 45s 76ms/step - loss: 0.0066 - accuracy: 0.9978\n",
      "Epoch 9/10\n",
      "591/591 [==============================] - 45s 76ms/step - loss: 0.0060 - accuracy: 0.9982\n",
      "Epoch 10/10\n",
      "591/591 [==============================] - 45s 77ms/step - loss: 0.0049 - accuracy: 0.9986\n",
      "CPU times: user 25min 55s, sys: 18.2 s, total: 26min 13s\n",
      "Wall time: 7min 35s\n"
     ]
    }
   ],
   "source": [
    "%%time\n",
    "\n",
    "history = model.fit(\n",
    "    X_train,\n",
    "    y_train,\n",
    "    batch_size=64,\n",
    "    epochs=10,\n",
    "    # Suppress logging.\n",
    "    verbose=1,\n",
    "    # Calculate validation results on 20% of the training data.\n",
    "    #     validation_split = 0.2\n",
    ")"
   ]
  },
  {
   "cell_type": "markdown",
   "id": "36e0f7b8",
   "metadata": {
    "papermill": {
     "duration": 0.425666,
     "end_time": "2022-07-15T22:11:59.997590",
     "exception": false,
     "start_time": "2022-07-15T22:11:59.571924",
     "status": "completed"
    },
    "tags": []
   },
   "source": [
    "## Predict and Score"
   ]
  },
  {
   "cell_type": "code",
   "execution_count": 22,
   "id": "672027ea",
   "metadata": {
    "execution": {
     "iopub.execute_input": "2022-07-15T22:12:00.909803Z",
     "iopub.status.busy": "2022-07-15T22:12:00.909430Z",
     "iopub.status.idle": "2022-07-15T22:12:02.226720Z",
     "shell.execute_reply": "2022-07-15T22:12:02.225598Z"
    },
    "papermill": {
     "duration": 1.804441,
     "end_time": "2022-07-15T22:12:02.228957",
     "exception": false,
     "start_time": "2022-07-15T22:12:00.424516",
     "status": "completed"
    },
    "tags": []
   },
   "outputs": [
    {
     "data": {
      "text/plain": [
       "array([[1.69630438e-11, 1.37111911e-09, 2.90043030e-08, 1.67827682e-10,\n",
       "        1.53796442e-08, 3.92691568e-09, 4.34656000e-12, 9.09796977e-12,\n",
       "        1.00000000e+00, 4.94911889e-10],\n",
       "       [1.38435274e-09, 1.00000000e+00, 4.79696949e-10, 2.64218884e-14,\n",
       "        5.30585815e-08, 3.18331884e-12, 3.21631077e-09, 1.68878342e-10,\n",
       "        4.45019820e-11, 6.73642947e-11],\n",
       "       [6.72432350e-08, 4.15579393e-08, 1.36591805e-08, 1.32039006e-07,\n",
       "        1.58085225e-08, 1.72120096e-08, 5.89978111e-09, 8.31810553e-07,\n",
       "        4.37081894e-07, 9.99998450e-01],\n",
       "       [3.30365197e-07, 4.67462002e-07, 2.53389913e-07, 2.18519745e-05,\n",
       "        1.40253107e-08, 1.61280320e-06, 7.74594469e-08, 8.08203622e-05,\n",
       "        4.38610869e-07, 9.99894142e-01],\n",
       "       [1.57371102e-10, 8.67365138e-11, 1.73250494e-11, 3.08587270e-12,\n",
       "        8.55125623e-11, 3.78603926e-10, 1.50718275e-11, 4.70434130e-13,\n",
       "        1.00000000e+00, 1.92575109e-10]], dtype=float32)"
      ]
     },
     "execution_count": 22,
     "metadata": {},
     "output_type": "execute_result"
    }
   ],
   "source": [
    "valid_preds = model.predict(X_valid)\n",
    "valid_preds[:5]"
   ]
  },
  {
   "cell_type": "code",
   "execution_count": 23,
   "id": "a7842053",
   "metadata": {
    "execution": {
     "iopub.execute_input": "2022-07-15T22:12:03.098831Z",
     "iopub.status.busy": "2022-07-15T22:12:03.097811Z",
     "iopub.status.idle": "2022-07-15T22:12:03.105628Z",
     "shell.execute_reply": "2022-07-15T22:12:03.104650Z"
    },
    "papermill": {
     "duration": 0.453035,
     "end_time": "2022-07-15T22:12:03.107831",
     "exception": false,
     "start_time": "2022-07-15T22:12:02.654796",
     "status": "completed"
    },
    "tags": []
   },
   "outputs": [],
   "source": [
    "valid_preds = np.argmax(valid_preds, axis=1)"
   ]
  },
  {
   "cell_type": "code",
   "execution_count": 24,
   "id": "495d3e42",
   "metadata": {
    "execution": {
     "iopub.execute_input": "2022-07-15T22:12:03.956260Z",
     "iopub.status.busy": "2022-07-15T22:12:03.955589Z",
     "iopub.status.idle": "2022-07-15T22:12:03.959996Z",
     "shell.execute_reply": "2022-07-15T22:12:03.959184Z"
    },
    "papermill": {
     "duration": 0.429472,
     "end_time": "2022-07-15T22:12:03.962207",
     "exception": false,
     "start_time": "2022-07-15T22:12:03.532735",
     "status": "completed"
    },
    "tags": []
   },
   "outputs": [],
   "source": [
    "# show_scores(y_valid, valid_preds)\n",
    "\n"
   ]
  },
  {
   "cell_type": "code",
   "execution_count": 25,
   "id": "c15162c2",
   "metadata": {
    "execution": {
     "iopub.execute_input": "2022-07-15T22:12:04.868448Z",
     "iopub.status.busy": "2022-07-15T22:12:04.867473Z",
     "iopub.status.idle": "2022-07-15T22:12:12.665392Z",
     "shell.execute_reply": "2022-07-15T22:12:12.664241Z"
    },
    "papermill": {
     "duration": 8.22405,
     "end_time": "2022-07-15T22:12:12.667979",
     "exception": false,
     "start_time": "2022-07-15T22:12:04.443929",
     "status": "completed"
    },
    "tags": []
   },
   "outputs": [
    {
     "data": {
      "text/plain": [
       "array([[1.5586227e-10, 2.9588956e-11, 1.0000000e+00, 4.1281905e-11,\n",
       "        6.4169205e-11, 4.5531279e-10, 4.1125513e-11, 2.2663273e-12,\n",
       "        7.4930695e-12, 5.8308386e-11],\n",
       "       [9.9954849e-01, 4.7405545e-05, 5.8210167e-06, 3.0203789e-06,\n",
       "        3.7298655e-08, 3.7959695e-04, 1.7506418e-08, 1.4346149e-06,\n",
       "        1.4226627e-05, 2.5906475e-09],\n",
       "       [2.6832194e-09, 1.5041230e-08, 5.2734968e-09, 2.5591009e-09,\n",
       "        1.9717612e-07, 7.7745895e-08, 1.0790237e-08, 1.3952309e-09,\n",
       "        1.2788139e-04, 9.9987173e-01],\n",
       "       [2.8816348e-02, 1.3915295e-04, 1.0586179e-01, 1.3859327e-04,\n",
       "        2.8885523e-04, 7.7502962e-05, 5.2745761e-03, 2.8271940e-02,\n",
       "        7.1850959e-06, 8.3112401e-01],\n",
       "       [4.7463009e-11, 2.0004650e-07, 1.1857518e-07, 9.9999809e-01,\n",
       "        2.6072064e-10, 1.5873356e-06, 8.5184221e-11, 2.3007155e-10,\n",
       "        5.8234896e-08, 8.8400065e-10]], dtype=float32)"
      ]
     },
     "execution_count": 25,
     "metadata": {},
     "output_type": "execute_result"
    }
   ],
   "source": [
    "preds = model.predict(X_test)\n",
    "preds[:5]"
   ]
  },
  {
   "cell_type": "code",
   "execution_count": 26,
   "id": "df9f1ccc",
   "metadata": {
    "execution": {
     "iopub.execute_input": "2022-07-15T22:12:13.515905Z",
     "iopub.status.busy": "2022-07-15T22:12:13.515203Z",
     "iopub.status.idle": "2022-07-15T22:12:13.523260Z",
     "shell.execute_reply": "2022-07-15T22:12:13.522365Z"
    },
    "papermill": {
     "duration": 0.433461,
     "end_time": "2022-07-15T22:12:13.525596",
     "exception": false,
     "start_time": "2022-07-15T22:12:13.092135",
     "status": "completed"
    },
    "tags": []
   },
   "outputs": [],
   "source": [
    "preds = np.argmax(preds, axis=1)"
   ]
  },
  {
   "cell_type": "markdown",
   "id": "e862dbf5",
   "metadata": {
    "papermill": {
     "duration": 0.475368,
     "end_time": "2022-07-15T22:12:14.442332",
     "exception": false,
     "start_time": "2022-07-15T22:12:13.966964",
     "status": "completed"
    },
    "tags": []
   },
   "source": [
    "## Submission"
   ]
  },
  {
   "cell_type": "code",
   "execution_count": 27,
   "id": "3597137b",
   "metadata": {
    "execution": {
     "iopub.execute_input": "2022-07-15T22:12:15.296687Z",
     "iopub.status.busy": "2022-07-15T22:12:15.295838Z",
     "iopub.status.idle": "2022-07-15T22:12:15.357444Z",
     "shell.execute_reply": "2022-07-15T22:12:15.356312Z"
    },
    "papermill": {
     "duration": 0.492846,
     "end_time": "2022-07-15T22:12:15.360024",
     "exception": false,
     "start_time": "2022-07-15T22:12:14.867178",
     "status": "completed"
    },
    "tags": []
   },
   "outputs": [
    {
     "data": {
      "text/html": [
       "<div>\n",
       "<style scoped>\n",
       "    .dataframe tbody tr th:only-of-type {\n",
       "        vertical-align: middle;\n",
       "    }\n",
       "\n",
       "    .dataframe tbody tr th {\n",
       "        vertical-align: top;\n",
       "    }\n",
       "\n",
       "    .dataframe thead th {\n",
       "        text-align: right;\n",
       "    }\n",
       "</style>\n",
       "<table border=\"1\" class=\"dataframe\">\n",
       "  <thead>\n",
       "    <tr style=\"text-align: right;\">\n",
       "      <th></th>\n",
       "      <th>ImageId</th>\n",
       "      <th>Label</th>\n",
       "    </tr>\n",
       "  </thead>\n",
       "  <tbody>\n",
       "    <tr>\n",
       "      <th>0</th>\n",
       "      <td>1</td>\n",
       "      <td>2</td>\n",
       "    </tr>\n",
       "    <tr>\n",
       "      <th>1</th>\n",
       "      <td>2</td>\n",
       "      <td>0</td>\n",
       "    </tr>\n",
       "    <tr>\n",
       "      <th>2</th>\n",
       "      <td>3</td>\n",
       "      <td>9</td>\n",
       "    </tr>\n",
       "    <tr>\n",
       "      <th>3</th>\n",
       "      <td>4</td>\n",
       "      <td>9</td>\n",
       "    </tr>\n",
       "    <tr>\n",
       "      <th>4</th>\n",
       "      <td>5</td>\n",
       "      <td>3</td>\n",
       "    </tr>\n",
       "  </tbody>\n",
       "</table>\n",
       "</div>"
      ],
      "text/plain": [
       "   ImageId  Label\n",
       "0        1      2\n",
       "1        2      0\n",
       "2        3      9\n",
       "3        4      9\n",
       "4        5      3"
      ]
     },
     "execution_count": 27,
     "metadata": {},
     "output_type": "execute_result"
    }
   ],
   "source": [
    "# Different TARGET name used in test.csv\n",
    "ss = create_submission(\"\", \"Label\", preds)\n",
    "ss"
   ]
  }
 ],
 "metadata": {
  "kernelspec": {
   "display_name": "Python 3",
   "language": "python",
   "name": "python3"
  },
  "language_info": {
   "codemirror_mode": {
    "name": "ipython",
    "version": 3
   },
   "file_extension": ".py",
   "mimetype": "text/x-python",
   "name": "python",
   "nbconvert_exporter": "python",
   "pygments_lexer": "ipython3",
   "version": "3.7.12"
  },
  "papermill": {
   "default_parameters": {},
   "duration": 520.313651,
   "end_time": "2022-07-15T22:12:18.509329",
   "environment_variables": {},
   "exception": null,
   "input_path": "__notebook__.ipynb",
   "output_path": "__notebook__.ipynb",
   "parameters": {},
   "start_time": "2022-07-15T22:03:38.195678",
   "version": "2.3.4"
  }
 },
 "nbformat": 4,
 "nbformat_minor": 5
}
