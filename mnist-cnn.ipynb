{
 "cells": [
  {
   "cell_type": "markdown",
   "id": "b5bf12f6",
   "metadata": {
    "papermill": {
     "duration": 0.009297,
     "end_time": "2022-07-25T00:51:31.045429",
     "exception": false,
     "start_time": "2022-07-25T00:51:31.036132",
     "status": "completed"
    },
    "tags": []
   },
   "source": [
    "<div style=\"background-color:rgba(128, 0, 128, 0.6);border-radius:5px;display:fill\"><h1 style=\"text-align: center;padding: 12px 0px 12px 0px;\">MNIST: CNN</h1>\n",
    "</div>\n",
    "\n",
    "Problem Type: Multi-classification\n",
    "\n",
    "## Evaluation Metric"
   ]
  },
  {
   "cell_type": "code",
   "execution_count": 1,
   "id": "0ef5a44d",
   "metadata": {
    "execution": {
     "iopub.execute_input": "2022-07-25T00:51:31.064038Z",
     "iopub.status.busy": "2022-07-25T00:51:31.063175Z",
     "iopub.status.idle": "2022-07-25T00:51:43.386850Z",
     "shell.execute_reply": "2022-07-25T00:51:43.385927Z"
    },
    "papermill": {
     "duration": 12.335731,
     "end_time": "2022-07-25T00:51:43.389342",
     "exception": false,
     "start_time": "2022-07-25T00:51:31.053611",
     "status": "completed"
    },
    "tags": []
   },
   "outputs": [
    {
     "name": "stdout",
     "output_type": "stream",
     "text": [
      "\u001b[33mWARNING: Running pip as the 'root' user can result in broken permissions and conflicting behaviour with the system package manager. It is recommended to use a virtual environment instead: https://pip.pypa.io/warnings/venv\u001b[0m\u001b[33m\r\n",
      "\u001b[0m"
     ]
    }
   ],
   "source": [
    "# Black formatter https://black.readthedocs.io/en/stable/\n",
    "\n",
    "! pip install nb-black > /dev/null\n",
    "\n",
    "%load_ext lab_black"
   ]
  },
  {
   "cell_type": "markdown",
   "id": "f1320d1d",
   "metadata": {
    "papermill": {
     "duration": 0.007885,
     "end_time": "2022-07-25T00:51:43.406023",
     "exception": false,
     "start_time": "2022-07-25T00:51:43.398138",
     "status": "completed"
    },
    "tags": []
   },
   "source": [
    "<div style=\"background-color:rgba(128, 0, 128, 0.6);border-radius:5px;display:fill\"><h1 style=\"text-align: center;padding: 12px 0px 12px 0px;\">Configuration</h1>\n",
    "</div>"
   ]
  },
  {
   "cell_type": "code",
   "execution_count": 2,
   "id": "89a84ab0",
   "metadata": {
    "execution": {
     "iopub.execute_input": "2022-07-25T00:51:43.423623Z",
     "iopub.status.busy": "2022-07-25T00:51:43.423361Z",
     "iopub.status.idle": "2022-07-25T00:51:43.429133Z",
     "shell.execute_reply": "2022-07-25T00:51:43.428230Z"
    },
    "papermill": {
     "duration": 0.016998,
     "end_time": "2022-07-25T00:51:43.431254",
     "exception": false,
     "start_time": "2022-07-25T00:51:43.414256",
     "status": "completed"
    },
    "tags": []
   },
   "outputs": [],
   "source": [
    "data_dir = \"../input/digit-recognizer\""
   ]
  },
  {
   "cell_type": "code",
   "execution_count": 3,
   "id": "fdd0825b",
   "metadata": {
    "execution": {
     "iopub.execute_input": "2022-07-25T00:51:43.448333Z",
     "iopub.status.busy": "2022-07-25T00:51:43.448088Z",
     "iopub.status.idle": "2022-07-25T00:51:43.453526Z",
     "shell.execute_reply": "2022-07-25T00:51:43.452672Z"
    },
    "papermill": {
     "duration": 0.016158,
     "end_time": "2022-07-25T00:51:43.455396",
     "exception": false,
     "start_time": "2022-07-25T00:51:43.439238",
     "status": "completed"
    },
    "tags": []
   },
   "outputs": [],
   "source": [
    "TARGET = \"label\""
   ]
  },
  {
   "cell_type": "markdown",
   "id": "49663edf",
   "metadata": {
    "papermill": {
     "duration": 0.008044,
     "end_time": "2022-07-25T00:51:43.471458",
     "exception": false,
     "start_time": "2022-07-25T00:51:43.463414",
     "status": "completed"
    },
    "tags": []
   },
   "source": [
    "<div style=\"background-color:rgba(128, 0, 128, 0.6);border-radius:5px;display:fill\"><h1 style=\"text-align: center;padding: 12px 0px 12px 0px;\">Import Libraries</h1>\n",
    "</div>\n",
    "\n",
    "A best practise is to include all libraries here.  However, I will put a few imports farther down where they are first used so beginners can learn with an \"as needed\" approach."
   ]
  },
  {
   "cell_type": "code",
   "execution_count": 4,
   "id": "84eec315",
   "metadata": {
    "execution": {
     "iopub.execute_input": "2022-07-25T00:51:43.489103Z",
     "iopub.status.busy": "2022-07-25T00:51:43.488299Z",
     "iopub.status.idle": "2022-07-25T00:51:44.616930Z",
     "shell.execute_reply": "2022-07-25T00:51:44.615928Z"
    },
    "papermill": {
     "duration": 1.140024,
     "end_time": "2022-07-25T00:51:44.619524",
     "exception": false,
     "start_time": "2022-07-25T00:51:43.479500",
     "status": "completed"
    },
    "tags": []
   },
   "outputs": [],
   "source": [
    "import os\n",
    "import time\n",
    "from pathlib import Path\n",
    "\n",
    "import pandas as pd\n",
    "import numpy as np\n",
    "\n",
    "from sklearn.model_selection import train_test_split\n",
    "\n",
    "from sklearn.metrics import f1_score\n",
    "\n",
    "# Visualization Libraries\n",
    "import matplotlib.pylab as plt\n",
    "import seaborn as sns"
   ]
  },
  {
   "cell_type": "markdown",
   "id": "65bf6b11",
   "metadata": {
    "papermill": {
     "duration": 0.008901,
     "end_time": "2022-07-25T00:51:44.637067",
     "exception": false,
     "start_time": "2022-07-25T00:51:44.628166",
     "status": "completed"
    },
    "tags": []
   },
   "source": [
    "<div style=\"background-color:rgba(128, 0, 128, 0.6);border-radius:5px;display:fill\"><h1 style=\"text-align: center;padding: 12px 0px 12px 0px;\">Library</h1>\n",
    "</div>\n",
    "\n",
    "Creating a few functions that we will reuse in each project."
   ]
  },
  {
   "cell_type": "code",
   "execution_count": 5,
   "id": "dc5252dd",
   "metadata": {
    "execution": {
     "iopub.execute_input": "2022-07-25T00:51:44.661153Z",
     "iopub.status.busy": "2022-07-25T00:51:44.660803Z",
     "iopub.status.idle": "2022-07-25T00:51:44.680838Z",
     "shell.execute_reply": "2022-07-25T00:51:44.679506Z"
    },
    "papermill": {
     "duration": 0.038517,
     "end_time": "2022-07-25T00:51:44.683739",
     "exception": false,
     "start_time": "2022-07-25T00:51:44.645222",
     "status": "completed"
    },
    "tags": []
   },
   "outputs": [],
   "source": [
    "def read_data(path):\n",
    "    data_dir = Path(path)\n",
    "\n",
    "    train = pd.read_csv(data_dir / \"train.csv\")\n",
    "    test = pd.read_csv(data_dir / \"test.csv\")\n",
    "    submission_df = pd.read_csv(data_dir / \"sample_submission.csv\")\n",
    "\n",
    "    print(f\"train data: Rows={train.shape[0]}, Columns={train.shape[1]}\")\n",
    "    print(f\"test data : Rows={test.shape[0]}, Columns={test.shape[1]}\")\n",
    "    return train, test, submission_df"
   ]
  },
  {
   "cell_type": "code",
   "execution_count": 6,
   "id": "0b74d09e",
   "metadata": {
    "execution": {
     "iopub.execute_input": "2022-07-25T00:51:44.714536Z",
     "iopub.status.busy": "2022-07-25T00:51:44.714002Z",
     "iopub.status.idle": "2022-07-25T00:51:44.744988Z",
     "shell.execute_reply": "2022-07-25T00:51:44.738982Z"
    },
    "papermill": {
     "duration": 0.051526,
     "end_time": "2022-07-25T00:51:44.747816",
     "exception": false,
     "start_time": "2022-07-25T00:51:44.696290",
     "status": "completed"
    },
    "tags": []
   },
   "outputs": [],
   "source": [
    "def create_submission(model_name, target, preds, is_log_target=False):\n",
    "    if is_log_target:\n",
    "        #         preds = np.exp(preds)\n",
    "        preds = np.expm1(preds)\n",
    "\n",
    "    sample_submission[target] = preds\n",
    "    if len(model_name) > 0:\n",
    "        sample_submission.to_csv(f\"submission_{model_name}.csv\", index=False)\n",
    "    else:\n",
    "        sample_submission.to_csv(f\"submission.csv\", index=False)\n",
    "\n",
    "    return sample_submission[:5]"
   ]
  },
  {
   "cell_type": "code",
   "execution_count": 7,
   "id": "7f4718a9",
   "metadata": {
    "execution": {
     "iopub.execute_input": "2022-07-25T00:51:44.779894Z",
     "iopub.status.busy": "2022-07-25T00:51:44.779468Z",
     "iopub.status.idle": "2022-07-25T00:51:44.797786Z",
     "shell.execute_reply": "2022-07-25T00:51:44.796767Z"
    },
    "papermill": {
     "duration": 0.035471,
     "end_time": "2022-07-25T00:51:44.800696",
     "exception": false,
     "start_time": "2022-07-25T00:51:44.765225",
     "status": "completed"
    },
    "tags": []
   },
   "outputs": [],
   "source": [
    "from sklearn.metrics import mean_absolute_error, mean_squared_error, f1_score\n",
    "\n",
    "\n",
    "def show_scores(gt, yhat):\n",
    "    f1 = f1_score(gt, yhat, average=\"macro\")\n",
    "    mse = mean_squared_error(gt, yhat)\n",
    "    mae = mean_absolute_error(gt, yhat)\n",
    "    rmse = np.sqrt(mse)\n",
    "    #     r2_square = r2_score(gt, yhat)\n",
    "\n",
    "    print(f\"f1: {f1:.4f}\")"
   ]
  },
  {
   "cell_type": "markdown",
   "id": "b359f715",
   "metadata": {
    "papermill": {
     "duration": 0.017218,
     "end_time": "2022-07-25T00:51:44.831392",
     "exception": false,
     "start_time": "2022-07-25T00:51:44.814174",
     "status": "completed"
    },
    "tags": []
   },
   "source": [
    "<div style=\"background-color:rgba(128, 0, 128, 0.6);border-radius:5px;display:fill\"><h1 style=\"text-align: center;padding: 12px 0px 12px 0px;\">Load Train/Test Data</h1>\n",
    "</div>\n",
    "\n",
    "- train.csv - Data used to build our machine learning model\n",
    "- test.csv - Data used to build our machine learning model. Does not contain the target variable\n",
    "- sample_submission.csv - A file in the proper format to submit test predictions"
   ]
  },
  {
   "cell_type": "code",
   "execution_count": 8,
   "id": "cab42d00",
   "metadata": {
    "execution": {
     "iopub.execute_input": "2022-07-25T00:51:44.866539Z",
     "iopub.status.busy": "2022-07-25T00:51:44.866158Z",
     "iopub.status.idle": "2022-07-25T00:51:49.933039Z",
     "shell.execute_reply": "2022-07-25T00:51:49.930754Z"
    },
    "papermill": {
     "duration": 5.08741,
     "end_time": "2022-07-25T00:51:49.935430",
     "exception": false,
     "start_time": "2022-07-25T00:51:44.848020",
     "status": "completed"
    },
    "tags": []
   },
   "outputs": [
    {
     "name": "stdout",
     "output_type": "stream",
     "text": [
      "train data: Rows=42000, Columns=785\n",
      "test data : Rows=28000, Columns=784\n"
     ]
    }
   ],
   "source": [
    "train, test, sample_submission = read_data(data_dir)"
   ]
  },
  {
   "cell_type": "code",
   "execution_count": 9,
   "id": "6fc6f897",
   "metadata": {
    "execution": {
     "iopub.execute_input": "2022-07-25T00:51:49.954332Z",
     "iopub.status.busy": "2022-07-25T00:51:49.953525Z",
     "iopub.status.idle": "2022-07-25T00:51:49.977918Z",
     "shell.execute_reply": "2022-07-25T00:51:49.976909Z"
    },
    "papermill": {
     "duration": 0.036309,
     "end_time": "2022-07-25T00:51:49.980366",
     "exception": false,
     "start_time": "2022-07-25T00:51:49.944057",
     "status": "completed"
    },
    "tags": []
   },
   "outputs": [
    {
     "data": {
      "text/html": [
       "<div>\n",
       "<style scoped>\n",
       "    .dataframe tbody tr th:only-of-type {\n",
       "        vertical-align: middle;\n",
       "    }\n",
       "\n",
       "    .dataframe tbody tr th {\n",
       "        vertical-align: top;\n",
       "    }\n",
       "\n",
       "    .dataframe thead th {\n",
       "        text-align: right;\n",
       "    }\n",
       "</style>\n",
       "<table border=\"1\" class=\"dataframe\">\n",
       "  <thead>\n",
       "    <tr style=\"text-align: right;\">\n",
       "      <th></th>\n",
       "      <th>label</th>\n",
       "      <th>pixel0</th>\n",
       "      <th>pixel1</th>\n",
       "      <th>pixel2</th>\n",
       "      <th>pixel3</th>\n",
       "      <th>pixel4</th>\n",
       "      <th>pixel5</th>\n",
       "      <th>pixel6</th>\n",
       "      <th>pixel7</th>\n",
       "      <th>pixel8</th>\n",
       "      <th>...</th>\n",
       "      <th>pixel774</th>\n",
       "      <th>pixel775</th>\n",
       "      <th>pixel776</th>\n",
       "      <th>pixel777</th>\n",
       "      <th>pixel778</th>\n",
       "      <th>pixel779</th>\n",
       "      <th>pixel780</th>\n",
       "      <th>pixel781</th>\n",
       "      <th>pixel782</th>\n",
       "      <th>pixel783</th>\n",
       "    </tr>\n",
       "  </thead>\n",
       "  <tbody>\n",
       "    <tr>\n",
       "      <th>0</th>\n",
       "      <td>1</td>\n",
       "      <td>0</td>\n",
       "      <td>0</td>\n",
       "      <td>0</td>\n",
       "      <td>0</td>\n",
       "      <td>0</td>\n",
       "      <td>0</td>\n",
       "      <td>0</td>\n",
       "      <td>0</td>\n",
       "      <td>0</td>\n",
       "      <td>...</td>\n",
       "      <td>0</td>\n",
       "      <td>0</td>\n",
       "      <td>0</td>\n",
       "      <td>0</td>\n",
       "      <td>0</td>\n",
       "      <td>0</td>\n",
       "      <td>0</td>\n",
       "      <td>0</td>\n",
       "      <td>0</td>\n",
       "      <td>0</td>\n",
       "    </tr>\n",
       "    <tr>\n",
       "      <th>1</th>\n",
       "      <td>0</td>\n",
       "      <td>0</td>\n",
       "      <td>0</td>\n",
       "      <td>0</td>\n",
       "      <td>0</td>\n",
       "      <td>0</td>\n",
       "      <td>0</td>\n",
       "      <td>0</td>\n",
       "      <td>0</td>\n",
       "      <td>0</td>\n",
       "      <td>...</td>\n",
       "      <td>0</td>\n",
       "      <td>0</td>\n",
       "      <td>0</td>\n",
       "      <td>0</td>\n",
       "      <td>0</td>\n",
       "      <td>0</td>\n",
       "      <td>0</td>\n",
       "      <td>0</td>\n",
       "      <td>0</td>\n",
       "      <td>0</td>\n",
       "    </tr>\n",
       "    <tr>\n",
       "      <th>2</th>\n",
       "      <td>1</td>\n",
       "      <td>0</td>\n",
       "      <td>0</td>\n",
       "      <td>0</td>\n",
       "      <td>0</td>\n",
       "      <td>0</td>\n",
       "      <td>0</td>\n",
       "      <td>0</td>\n",
       "      <td>0</td>\n",
       "      <td>0</td>\n",
       "      <td>...</td>\n",
       "      <td>0</td>\n",
       "      <td>0</td>\n",
       "      <td>0</td>\n",
       "      <td>0</td>\n",
       "      <td>0</td>\n",
       "      <td>0</td>\n",
       "      <td>0</td>\n",
       "      <td>0</td>\n",
       "      <td>0</td>\n",
       "      <td>0</td>\n",
       "    </tr>\n",
       "    <tr>\n",
       "      <th>3</th>\n",
       "      <td>4</td>\n",
       "      <td>0</td>\n",
       "      <td>0</td>\n",
       "      <td>0</td>\n",
       "      <td>0</td>\n",
       "      <td>0</td>\n",
       "      <td>0</td>\n",
       "      <td>0</td>\n",
       "      <td>0</td>\n",
       "      <td>0</td>\n",
       "      <td>...</td>\n",
       "      <td>0</td>\n",
       "      <td>0</td>\n",
       "      <td>0</td>\n",
       "      <td>0</td>\n",
       "      <td>0</td>\n",
       "      <td>0</td>\n",
       "      <td>0</td>\n",
       "      <td>0</td>\n",
       "      <td>0</td>\n",
       "      <td>0</td>\n",
       "    </tr>\n",
       "    <tr>\n",
       "      <th>4</th>\n",
       "      <td>0</td>\n",
       "      <td>0</td>\n",
       "      <td>0</td>\n",
       "      <td>0</td>\n",
       "      <td>0</td>\n",
       "      <td>0</td>\n",
       "      <td>0</td>\n",
       "      <td>0</td>\n",
       "      <td>0</td>\n",
       "      <td>0</td>\n",
       "      <td>...</td>\n",
       "      <td>0</td>\n",
       "      <td>0</td>\n",
       "      <td>0</td>\n",
       "      <td>0</td>\n",
       "      <td>0</td>\n",
       "      <td>0</td>\n",
       "      <td>0</td>\n",
       "      <td>0</td>\n",
       "      <td>0</td>\n",
       "      <td>0</td>\n",
       "    </tr>\n",
       "  </tbody>\n",
       "</table>\n",
       "<p>5 rows × 785 columns</p>\n",
       "</div>"
      ],
      "text/plain": [
       "   label  pixel0  pixel1  pixel2  pixel3  pixel4  pixel5  pixel6  pixel7  \\\n",
       "0      1       0       0       0       0       0       0       0       0   \n",
       "1      0       0       0       0       0       0       0       0       0   \n",
       "2      1       0       0       0       0       0       0       0       0   \n",
       "3      4       0       0       0       0       0       0       0       0   \n",
       "4      0       0       0       0       0       0       0       0       0   \n",
       "\n",
       "   pixel8  ...  pixel774  pixel775  pixel776  pixel777  pixel778  pixel779  \\\n",
       "0       0  ...         0         0         0         0         0         0   \n",
       "1       0  ...         0         0         0         0         0         0   \n",
       "2       0  ...         0         0         0         0         0         0   \n",
       "3       0  ...         0         0         0         0         0         0   \n",
       "4       0  ...         0         0         0         0         0         0   \n",
       "\n",
       "   pixel780  pixel781  pixel782  pixel783  \n",
       "0         0         0         0         0  \n",
       "1         0         0         0         0  \n",
       "2         0         0         0         0  \n",
       "3         0         0         0         0  \n",
       "4         0         0         0         0  \n",
       "\n",
       "[5 rows x 785 columns]"
      ]
     },
     "execution_count": 9,
     "metadata": {},
     "output_type": "execute_result"
    }
   ],
   "source": [
    "train.head()"
   ]
  },
  {
   "cell_type": "code",
   "execution_count": 10,
   "id": "34983d7f",
   "metadata": {
    "execution": {
     "iopub.execute_input": "2022-07-25T00:51:49.999351Z",
     "iopub.status.busy": "2022-07-25T00:51:49.999090Z",
     "iopub.status.idle": "2022-07-25T00:51:50.007581Z",
     "shell.execute_reply": "2022-07-25T00:51:50.006562Z"
    },
    "papermill": {
     "duration": 0.020904,
     "end_time": "2022-07-25T00:51:50.009954",
     "exception": false,
     "start_time": "2022-07-25T00:51:49.989050",
     "status": "completed"
    },
    "tags": []
   },
   "outputs": [],
   "source": [
    "FEATURES = [\n",
    "    col\n",
    "    for col in train.columns\n",
    "    if col\n",
    "    not in [\n",
    "        \"Id\",\n",
    "        TARGET,\n",
    "        #         TARGET_ENC,\n",
    "    ]\n",
    "]"
   ]
  },
  {
   "cell_type": "code",
   "execution_count": 11,
   "id": "4db282e0",
   "metadata": {
    "execution": {
     "iopub.execute_input": "2022-07-25T00:51:50.027833Z",
     "iopub.status.busy": "2022-07-25T00:51:50.027574Z",
     "iopub.status.idle": "2022-07-25T00:51:50.324516Z",
     "shell.execute_reply": "2022-07-25T00:51:50.323567Z"
    },
    "papermill": {
     "duration": 0.308555,
     "end_time": "2022-07-25T00:51:50.326904",
     "exception": false,
     "start_time": "2022-07-25T00:51:50.018349",
     "status": "completed"
    },
    "tags": []
   },
   "outputs": [],
   "source": [
    "y = train[TARGET]\n",
    "X = train[FEATURES].copy()\n",
    "\n",
    "X_test = test[FEATURES].copy()"
   ]
  },
  {
   "cell_type": "code",
   "execution_count": 12,
   "id": "3f19a2f9",
   "metadata": {
    "execution": {
     "iopub.execute_input": "2022-07-25T00:51:50.345669Z",
     "iopub.status.busy": "2022-07-25T00:51:50.345385Z",
     "iopub.status.idle": "2022-07-25T00:51:50.511977Z",
     "shell.execute_reply": "2022-07-25T00:51:50.510905Z"
    },
    "papermill": {
     "duration": 0.178415,
     "end_time": "2022-07-25T00:51:50.514356",
     "exception": false,
     "start_time": "2022-07-25T00:51:50.335941",
     "status": "completed"
    },
    "tags": []
   },
   "outputs": [],
   "source": [
    "# Normalize the data\n",
    "X = X / 255.0\n",
    "X_test = X_test / 255.0"
   ]
  },
  {
   "cell_type": "code",
   "execution_count": 13,
   "id": "3f9a656e",
   "metadata": {
    "execution": {
     "iopub.execute_input": "2022-07-25T00:51:50.544339Z",
     "iopub.status.busy": "2022-07-25T00:51:50.543893Z",
     "iopub.status.idle": "2022-07-25T00:51:50.553026Z",
     "shell.execute_reply": "2022-07-25T00:51:50.551918Z"
    },
    "papermill": {
     "duration": 0.031251,
     "end_time": "2022-07-25T00:51:50.554947",
     "exception": false,
     "start_time": "2022-07-25T00:51:50.523696",
     "status": "completed"
    },
    "tags": []
   },
   "outputs": [],
   "source": [
    "X = X.values.reshape(-1, 28, 28, 1)\n",
    "X_test = X_test.values.reshape(-1, 28, 28, 1)"
   ]
  },
  {
   "cell_type": "code",
   "execution_count": 14,
   "id": "518e524a",
   "metadata": {
    "execution": {
     "iopub.execute_input": "2022-07-25T00:51:50.573851Z",
     "iopub.status.busy": "2022-07-25T00:51:50.573122Z",
     "iopub.status.idle": "2022-07-25T00:51:50.577797Z",
     "shell.execute_reply": "2022-07-25T00:51:50.576806Z"
    },
    "papermill": {
     "duration": 0.01635,
     "end_time": "2022-07-25T00:51:50.579754",
     "exception": false,
     "start_time": "2022-07-25T00:51:50.563404",
     "status": "completed"
    },
    "tags": []
   },
   "outputs": [],
   "source": [
    "# X[:3]"
   ]
  },
  {
   "cell_type": "code",
   "execution_count": 15,
   "id": "7cc981e8",
   "metadata": {
    "execution": {
     "iopub.execute_input": "2022-07-25T00:51:50.597850Z",
     "iopub.status.busy": "2022-07-25T00:51:50.597602Z",
     "iopub.status.idle": "2022-07-25T00:51:55.486986Z",
     "shell.execute_reply": "2022-07-25T00:51:55.486018Z"
    },
    "papermill": {
     "duration": 4.901165,
     "end_time": "2022-07-25T00:51:55.489303",
     "exception": false,
     "start_time": "2022-07-25T00:51:50.588138",
     "status": "completed"
    },
    "tags": []
   },
   "outputs": [],
   "source": [
    "from keras.utils.np_utils import to_categorical\n",
    "\n",
    "y = to_categorical(y)"
   ]
  },
  {
   "cell_type": "code",
   "execution_count": 16,
   "id": "652da746",
   "metadata": {
    "execution": {
     "iopub.execute_input": "2022-07-25T00:51:55.508902Z",
     "iopub.status.busy": "2022-07-25T00:51:55.508356Z",
     "iopub.status.idle": "2022-07-25T00:51:55.517104Z",
     "shell.execute_reply": "2022-07-25T00:51:55.516282Z"
    },
    "papermill": {
     "duration": 0.020897,
     "end_time": "2022-07-25T00:51:55.519033",
     "exception": false,
     "start_time": "2022-07-25T00:51:55.498136",
     "status": "completed"
    },
    "tags": []
   },
   "outputs": [
    {
     "data": {
      "text/plain": [
       "array([[0., 1., 0., 0., 0., 0., 0., 0., 0., 0.],\n",
       "       [1., 0., 0., 0., 0., 0., 0., 0., 0., 0.],\n",
       "       [0., 1., 0., 0., 0., 0., 0., 0., 0., 0.],\n",
       "       [0., 0., 0., 0., 1., 0., 0., 0., 0., 0.],\n",
       "       [1., 0., 0., 0., 0., 0., 0., 0., 0., 0.]], dtype=float32)"
      ]
     },
     "execution_count": 16,
     "metadata": {},
     "output_type": "execute_result"
    }
   ],
   "source": [
    "y[:5]"
   ]
  },
  {
   "cell_type": "code",
   "execution_count": 17,
   "id": "8146dc59",
   "metadata": {
    "execution": {
     "iopub.execute_input": "2022-07-25T00:51:55.537540Z",
     "iopub.status.busy": "2022-07-25T00:51:55.537288Z",
     "iopub.status.idle": "2022-07-25T00:51:55.908433Z",
     "shell.execute_reply": "2022-07-25T00:51:55.907342Z"
    },
    "papermill": {
     "duration": 0.383395,
     "end_time": "2022-07-25T00:51:55.910986",
     "exception": false,
     "start_time": "2022-07-25T00:51:55.527591",
     "status": "completed"
    },
    "tags": []
   },
   "outputs": [
    {
     "data": {
      "text/plain": [
       "((33600, 28, 28, 1), (33600, 10), (8400, 28, 28, 1), (8400, 10))"
      ]
     },
     "execution_count": 17,
     "metadata": {},
     "output_type": "execute_result"
    }
   ],
   "source": [
    "X_train, X_valid, y_train, y_valid = train_test_split(\n",
    "    X,\n",
    "    y,\n",
    "    test_size=0.2,\n",
    "    random_state=42,\n",
    ")\n",
    "X_train.shape, y_train.shape, X_valid.shape, y_valid.shape"
   ]
  },
  {
   "cell_type": "markdown",
   "id": "ab429e82",
   "metadata": {
    "papermill": {
     "duration": 0.008646,
     "end_time": "2022-07-25T00:51:55.928493",
     "exception": false,
     "start_time": "2022-07-25T00:51:55.919847",
     "status": "completed"
    },
    "tags": []
   },
   "source": [
    "<div style=\"background-color:rgba(128, 0, 128, 0.6);border-radius:5px;display:fill\"><h1 style=\"text-align: center;padding: 12px 0px 12px 0px;\">Create Models</h1>\n",
    "</div>"
   ]
  },
  {
   "cell_type": "code",
   "execution_count": 18,
   "id": "f6411741",
   "metadata": {
    "execution": {
     "iopub.execute_input": "2022-07-25T00:51:55.947168Z",
     "iopub.status.busy": "2022-07-25T00:51:55.946856Z",
     "iopub.status.idle": "2022-07-25T00:51:56.324536Z",
     "shell.execute_reply": "2022-07-25T00:51:56.323569Z"
    },
    "papermill": {
     "duration": 0.391383,
     "end_time": "2022-07-25T00:51:56.328531",
     "exception": false,
     "start_time": "2022-07-25T00:51:55.937148",
     "status": "completed"
    },
    "tags": []
   },
   "outputs": [],
   "source": [
    "import tensorflow as tf\n",
    "from tensorflow import keras\n",
    "from tensorflow.keras import layers\n",
    "\n",
    "\n",
    "def get_tf_model01(x_shape):\n",
    "    print(f\"x_shape=\")\n",
    "    #     input_shape = (height, width, channels)\n",
    "    inputs = keras.Input(shape=(28, 28, 1))\n",
    "\n",
    "    x = keras.layers.Conv2D(\n",
    "        64,\n",
    "        kernel_size=3,\n",
    "        activation=\"relu\",\n",
    "        padding=\"same\",\n",
    "        input_shape=(28, 28, 1),\n",
    "        kernel_initializer=\"he_normal\",\n",
    "    )(inputs)\n",
    "    x = keras.layers.MaxPooling2D((2, 2))(x)\n",
    "    x = keras.layers.Conv2D(\n",
    "        64,\n",
    "        kernel_size=3,\n",
    "        activation=\"relu\",\n",
    "        padding=\"same\",\n",
    "        kernel_initializer=\"he_normal\",\n",
    "    )(x)\n",
    "    x = keras.layers.MaxPooling2D((2, 2))(x)\n",
    "\n",
    "    #     x = keras.layers.MaxPooling2d((2, 2))(x)\n",
    "    #     x = keras.layers.Conv2D(\n",
    "    #         128, activation=\"relu\", padding=\"same\", kernel_initializer=\"he_normal\"\n",
    "    #     )(x)\n",
    "    x = keras.layers.Flatten()(x)\n",
    "    x = keras.layers.BatchNormalization()(x)\n",
    "\n",
    "    #     x = keras.layers.Dense(128, activation=\"relu\")(x)\n",
    "\n",
    "    x = keras.layers.Dense(64, activation=\"relu\")(x)\n",
    "    x = keras.layers.BatchNormalization()(x)\n",
    "    x = keras.layers.Dense(32, activation=\"relu\")(x)\n",
    "    x = keras.layers.BatchNormalization()(x)\n",
    "    #     x = keras.layers.Dropout(0.1)(x)\n",
    "\n",
    "    outputs = keras.layers.Dense(10, activation=\"softmax\")(x)\n",
    "\n",
    "    model = keras.Model(inputs, outputs)\n",
    "\n",
    "    model.compile(\n",
    "        loss=\"categorical_crossentropy\",\n",
    "        optimizer=tf.keras.optimizers.Adam(learning_rate=0.01),  # rmsprop\n",
    "        metrics=[\"accuracy\"],\n",
    "    )\n",
    "\n",
    "    #     model.compile(\n",
    "    #         optimizer=tf.keras.optimizers.Adam(learning_rate=0.01),\n",
    "    #         loss=\"mean_absolute_error\",\n",
    "    #     )\n",
    "\n",
    "    return model"
   ]
  },
  {
   "cell_type": "markdown",
   "id": "f0da9db2",
   "metadata": {
    "papermill": {
     "duration": 0.008571,
     "end_time": "2022-07-25T00:51:56.345995",
     "exception": false,
     "start_time": "2022-07-25T00:51:56.337424",
     "status": "completed"
    },
    "tags": []
   },
   "source": [
    "- https://www.kaggle.com/code/shaygu/fast-cnn-for-beginners-0-9955?scriptVersionId=19400310\n",
    "- Light architecture with approximately 50K parameters. \n",
    "- Dropout for avoiding overfitting \n",
    "- BatchNormalization for faster convergence time"
   ]
  },
  {
   "cell_type": "code",
   "execution_count": 19,
   "id": "9f1439c3",
   "metadata": {
    "execution": {
     "iopub.execute_input": "2022-07-25T00:51:56.364685Z",
     "iopub.status.busy": "2022-07-25T00:51:56.364387Z",
     "iopub.status.idle": "2022-07-25T00:51:56.434069Z",
     "shell.execute_reply": "2022-07-25T00:51:56.433183Z"
    },
    "papermill": {
     "duration": 0.081313,
     "end_time": "2022-07-25T00:51:56.435971",
     "exception": false,
     "start_time": "2022-07-25T00:51:56.354658",
     "status": "completed"
    },
    "tags": []
   },
   "outputs": [],
   "source": [
    "from tensorflow.keras.layers import (\n",
    "    Input,\n",
    "    Dense,\n",
    "    Conv2D,\n",
    "    Activation,\n",
    "    Add,\n",
    "    ReLU,\n",
    "    MaxPool2D,\n",
    "    Flatten,\n",
    "    Dropout,\n",
    "    BatchNormalization,\n",
    ")\n",
    "from tensorflow.keras.models import Model\n",
    "\n",
    "\n",
    "def get_model02():\n",
    "    inputs = keras.Input(shape=(28, 28, 1))\n",
    "\n",
    "    #     input = Input(shape=[28, 28, 1])\n",
    "    x = Conv2D(\n",
    "        32, (5, 5), strides=1, padding=\"same\", input_shape=(28, 28, 1), name=\"conv1\"\n",
    "    )(inputs)\n",
    "    x = BatchNormalization(\n",
    "        momentum=0.1, epsilon=1e-5, gamma_initializer=\"uniform\", name=\"batch1\"\n",
    "    )(x)\n",
    "    x = Activation(\"relu\", name=\"relu1\")(x)\n",
    "    # x = Dropout (0.5)(x)\n",
    "    x = Conv2D(32, (5, 5), strides=1, padding=\"same\", name=\"conv2\")(x)\n",
    "    x = BatchNormalization(\n",
    "        momentum=0.1, epsilon=1e-5, gamma_initializer=\"uniform\", name=\"batch2\"\n",
    "    )(x)\n",
    "    x = Activation(\"relu\", name=\"relu2\")(x)\n",
    "    # x = Dropout (0.5)(x)\n",
    "    x = Conv2D(32, (5, 5), strides=1, padding=\"same\", name=\"conv2add\")(x)\n",
    "    x = BatchNormalization(\n",
    "        momentum=0.1, epsilon=1e-5, gamma_initializer=\"uniform\", name=\"batch2add\"\n",
    "    )(x)\n",
    "    x = Activation(\"relu\", name=\"relu2add\")(x)\n",
    "    x = Dropout(0.15)(x)\n",
    "    x = MaxPool2D(pool_size=2, strides=2, padding=\"same\")(x)\n",
    "    x = Conv2D(64, (3, 3), strides=1, padding=\"same\", name=\"conv3\")(x)\n",
    "    x = BatchNormalization(\n",
    "        momentum=0.1, epsilon=1e-5, gamma_initializer=\"uniform\", name=\"batch3\"\n",
    "    )(x)\n",
    "    x = Activation(\"relu\", name=\"relu3\")(x)\n",
    "    x = Conv2D(64, (3, 3), strides=1, padding=\"same\", name=\"conv4\")(x)\n",
    "    x = BatchNormalization(\n",
    "        momentum=0.1, epsilon=1e-5, gamma_initializer=\"uniform\", name=\"batch4\"\n",
    "    )(x)\n",
    "    x = Activation(\"relu\", name=\"relu4\")(x)\n",
    "    x = Conv2D(32, (3, 3), strides=1, padding=\"same\", name=\"conv5\")(x)\n",
    "    x = BatchNormalization(\n",
    "        momentum=0.1, epsilon=1e-5, gamma_initializer=\"uniform\", name=\"batch5\"\n",
    "    )(x)\n",
    "    x = Activation(\"relu\", name=\"relu5\")(x)\n",
    "    x = Dropout(0.15)(x)\n",
    "    x = MaxPool2D(pool_size=2, strides=2)(x)\n",
    "    x = Flatten()(x)\n",
    "    x = Dense(100, name=\"Dense30\")(x)\n",
    "    x = Activation(\"relu\", name=\"relu6\")(x)\n",
    "    x = Dropout(0.05)(x)\n",
    "    x = Dense(10, name=\"Dense10\")(x)\n",
    "    x = Activation(\"softmax\")(x)\n",
    "    model = Model(inputs=inputs, outputs=x)\n",
    "    return model"
   ]
  },
  {
   "cell_type": "code",
   "execution_count": 20,
   "id": "1b09b24f",
   "metadata": {
    "execution": {
     "iopub.execute_input": "2022-07-25T00:51:56.455133Z",
     "iopub.status.busy": "2022-07-25T00:51:56.454311Z",
     "iopub.status.idle": "2022-07-25T00:51:56.461455Z",
     "shell.execute_reply": "2022-07-25T00:51:56.460466Z"
    },
    "papermill": {
     "duration": 0.018926,
     "end_time": "2022-07-25T00:51:56.463581",
     "exception": false,
     "start_time": "2022-07-25T00:51:56.444655",
     "status": "completed"
    },
    "tags": []
   },
   "outputs": [
    {
     "data": {
      "text/plain": [
       "28"
      ]
     },
     "execution_count": 20,
     "metadata": {},
     "output_type": "execute_result"
    }
   ],
   "source": [
    "X_train.shape[1]"
   ]
  },
  {
   "cell_type": "code",
   "execution_count": 21,
   "id": "11e55ac4",
   "metadata": {
    "execution": {
     "iopub.execute_input": "2022-07-25T00:51:56.482720Z",
     "iopub.status.busy": "2022-07-25T00:51:56.482477Z",
     "iopub.status.idle": "2022-07-25T00:51:56.489043Z",
     "shell.execute_reply": "2022-07-25T00:51:56.488215Z"
    },
    "papermill": {
     "duration": 0.018504,
     "end_time": "2022-07-25T00:51:56.490967",
     "exception": false,
     "start_time": "2022-07-25T00:51:56.472463",
     "status": "completed"
    },
    "tags": []
   },
   "outputs": [
    {
     "data": {
      "text/plain": [
       "42000"
      ]
     },
     "execution_count": 21,
     "metadata": {},
     "output_type": "execute_result"
    }
   ],
   "source": [
    "X.shape[0]"
   ]
  },
  {
   "cell_type": "code",
   "execution_count": 22,
   "id": "90df3323",
   "metadata": {
    "execution": {
     "iopub.execute_input": "2022-07-25T00:51:56.510124Z",
     "iopub.status.busy": "2022-07-25T00:51:56.509322Z",
     "iopub.status.idle": "2022-07-25T00:51:59.323212Z",
     "shell.execute_reply": "2022-07-25T00:51:59.320411Z"
    },
    "papermill": {
     "duration": 2.826647,
     "end_time": "2022-07-25T00:51:59.326346",
     "exception": false,
     "start_time": "2022-07-25T00:51:56.499699",
     "status": "completed"
    },
    "tags": []
   },
   "outputs": [
    {
     "name": "stdout",
     "output_type": "stream",
     "text": [
      "x_shape=\n"
     ]
    },
    {
     "name": "stderr",
     "output_type": "stream",
     "text": [
      "2022-07-25 00:51:56.610947: I tensorflow/stream_executor/cuda/cuda_gpu_executor.cc:937] successful NUMA node read from SysFS had negative value (-1), but there must be at least one NUMA node, so returning NUMA node zero\n"
     ]
    },
    {
     "name": "stdout",
     "output_type": "stream",
     "text": [
      "Model: \"model\"\n",
      "_________________________________________________________________\n",
      "Layer (type)                 Output Shape              Param #   \n",
      "=================================================================\n",
      "input_1 (InputLayer)         [(None, 28, 28, 1)]       0         \n",
      "_________________________________________________________________\n",
      "conv2d (Conv2D)              (None, 28, 28, 64)        640       \n",
      "_________________________________________________________________\n",
      "max_pooling2d (MaxPooling2D) (None, 14, 14, 64)        0         \n",
      "_________________________________________________________________\n",
      "conv2d_1 (Conv2D)            (None, 14, 14, 64)        36928     \n",
      "_________________________________________________________________\n",
      "max_pooling2d_1 (MaxPooling2 (None, 7, 7, 64)          0         \n",
      "_________________________________________________________________\n",
      "flatten (Flatten)            (None, 3136)              0         \n",
      "_________________________________________________________________\n",
      "batch_normalization (BatchNo (None, 3136)              12544     \n",
      "_________________________________________________________________\n",
      "dense (Dense)                (None, 64)                200768    \n",
      "_________________________________________________________________\n",
      "batch_normalization_1 (Batch (None, 64)                256       \n",
      "_________________________________________________________________\n",
      "dense_1 (Dense)              (None, 32)                2080      \n",
      "_________________________________________________________________\n",
      "batch_normalization_2 (Batch (None, 32)                128       \n",
      "_________________________________________________________________\n",
      "dense_2 (Dense)              (None, 10)                330       \n",
      "=================================================================\n",
      "Total params: 253,674\n",
      "Trainable params: 247,210\n",
      "Non-trainable params: 6,464\n",
      "_________________________________________________________________\n"
     ]
    },
    {
     "name": "stderr",
     "output_type": "stream",
     "text": [
      "2022-07-25 00:51:56.749667: I tensorflow/stream_executor/cuda/cuda_gpu_executor.cc:937] successful NUMA node read from SysFS had negative value (-1), but there must be at least one NUMA node, so returning NUMA node zero\n",
      "2022-07-25 00:51:56.750400: I tensorflow/stream_executor/cuda/cuda_gpu_executor.cc:937] successful NUMA node read from SysFS had negative value (-1), but there must be at least one NUMA node, so returning NUMA node zero\n",
      "2022-07-25 00:51:56.753586: I tensorflow/core/platform/cpu_feature_guard.cc:142] This TensorFlow binary is optimized with oneAPI Deep Neural Network Library (oneDNN) to use the following CPU instructions in performance-critical operations:  AVX2 AVX512F FMA\n",
      "To enable them in other operations, rebuild TensorFlow with the appropriate compiler flags.\n",
      "2022-07-25 00:51:56.753862: I tensorflow/stream_executor/cuda/cuda_gpu_executor.cc:937] successful NUMA node read from SysFS had negative value (-1), but there must be at least one NUMA node, so returning NUMA node zero\n",
      "2022-07-25 00:51:56.754567: I tensorflow/stream_executor/cuda/cuda_gpu_executor.cc:937] successful NUMA node read from SysFS had negative value (-1), but there must be at least one NUMA node, so returning NUMA node zero\n",
      "2022-07-25 00:51:56.755252: I tensorflow/stream_executor/cuda/cuda_gpu_executor.cc:937] successful NUMA node read from SysFS had negative value (-1), but there must be at least one NUMA node, so returning NUMA node zero\n",
      "2022-07-25 00:51:58.864751: I tensorflow/stream_executor/cuda/cuda_gpu_executor.cc:937] successful NUMA node read from SysFS had negative value (-1), but there must be at least one NUMA node, so returning NUMA node zero\n",
      "2022-07-25 00:51:58.865793: I tensorflow/stream_executor/cuda/cuda_gpu_executor.cc:937] successful NUMA node read from SysFS had negative value (-1), but there must be at least one NUMA node, so returning NUMA node zero\n",
      "2022-07-25 00:51:58.866598: I tensorflow/stream_executor/cuda/cuda_gpu_executor.cc:937] successful NUMA node read from SysFS had negative value (-1), but there must be at least one NUMA node, so returning NUMA node zero\n",
      "2022-07-25 00:51:58.867222: I tensorflow/core/common_runtime/gpu/gpu_device.cc:1510] Created device /job:localhost/replica:0/task:0/device:GPU:0 with 15403 MB memory:  -> device: 0, name: Tesla P100-PCIE-16GB, pci bus id: 0000:00:04.0, compute capability: 6.0\n"
     ]
    }
   ],
   "source": [
    "model = get_tf_model01(x_shape=(28, 28))\n",
    "# model = get_model02()\n",
    "\n",
    "model.summary()"
   ]
  },
  {
   "cell_type": "code",
   "execution_count": 23,
   "id": "87af0bfd",
   "metadata": {
    "execution": {
     "iopub.execute_input": "2022-07-25T00:51:59.347371Z",
     "iopub.status.busy": "2022-07-25T00:51:59.346592Z",
     "iopub.status.idle": "2022-07-25T00:52:00.318237Z",
     "shell.execute_reply": "2022-07-25T00:52:00.317104Z"
    },
    "papermill": {
     "duration": 0.984524,
     "end_time": "2022-07-25T00:52:00.320947",
     "exception": false,
     "start_time": "2022-07-25T00:51:59.336423",
     "status": "completed"
    },
    "tags": []
   },
   "outputs": [
    {
     "data": {
      "image/png": "[encoded data removed]",
      "text/plain": [
       "<IPython.core.display.Image object>"
      ]
     },
     "execution_count": 23,
     "metadata": {},
     "output_type": "execute_result"
    }
   ],
   "source": [
    "keras.utils.plot_model(model)"
   ]
  },
  {
   "cell_type": "code",
   "execution_count": 24,
   "id": "0c5703f3",
   "metadata": {
    "execution": {
     "iopub.execute_input": "2022-07-25T00:52:00.343334Z",
     "iopub.status.busy": "2022-07-25T00:52:00.342429Z",
     "iopub.status.idle": "2022-07-25T00:55:23.417588Z",
     "shell.execute_reply": "2022-07-25T00:55:23.416552Z"
    },
    "papermill": {
     "duration": 203.275472,
     "end_time": "2022-07-25T00:55:23.606765",
     "exception": false,
     "start_time": "2022-07-25T00:52:00.331293",
     "status": "completed"
    },
    "tags": []
   },
   "outputs": [
    {
     "name": "stderr",
     "output_type": "stream",
     "text": [
      "2022-07-25 00:52:00.641404: I tensorflow/compiler/mlir/mlir_graph_optimization_pass.cc:185] None of the MLIR Optimization Passes are enabled (registered 2)\n"
     ]
    },
    {
     "name": "stdout",
     "output_type": "stream",
     "text": [
      "Epoch 1/60\n"
     ]
    },
    {
     "name": "stderr",
     "output_type": "stream",
     "text": [
      "2022-07-25 00:52:02.337148: I tensorflow/stream_executor/cuda/cuda_dnn.cc:369] Loaded cuDNN version 8005\n"
     ]
    },
    {
     "name": "stdout",
     "output_type": "stream",
     "text": [
      "525/525 [==============================] - 10s 5ms/step - loss: 0.1639 - accuracy: 0.9506 - val_loss: 0.0782 - val_accuracy: 0.9781\n",
      "Epoch 2/60\n",
      "525/525 [==============================] - 2s 4ms/step - loss: 0.0690 - accuracy: 0.9789 - val_loss: 0.1380 - val_accuracy: 0.9604\n",
      "Epoch 3/60\n",
      "525/525 [==============================] - 2s 4ms/step - loss: 0.0512 - accuracy: 0.9840 - val_loss: 0.0530 - val_accuracy: 0.9843\n",
      "Epoch 4/60\n",
      "525/525 [==============================] - 2s 5ms/step - loss: 0.0449 - accuracy: 0.9856 - val_loss: 0.0967 - val_accuracy: 0.9721\n",
      "Epoch 5/60\n",
      "525/525 [==============================] - 2s 4ms/step - loss: 0.0398 - accuracy: 0.9873 - val_loss: 0.0893 - val_accuracy: 0.9749\n",
      "Epoch 6/60\n",
      "525/525 [==============================] - 2s 4ms/step - loss: 0.0332 - accuracy: 0.9896 - val_loss: 0.0532 - val_accuracy: 0.9842\n",
      "Epoch 7/60\n",
      "525/525 [==============================] - 2s 4ms/step - loss: 0.0307 - accuracy: 0.9899 - val_loss: 0.0468 - val_accuracy: 0.9870\n",
      "Epoch 8/60\n",
      "525/525 [==============================] - 2s 4ms/step - loss: 0.0245 - accuracy: 0.9917 - val_loss: 0.0510 - val_accuracy: 0.9865\n",
      "Epoch 9/60\n",
      "525/525 [==============================] - 2s 5ms/step - loss: 0.0229 - accuracy: 0.9926 - val_loss: 0.0489 - val_accuracy: 0.9873\n",
      "Epoch 10/60\n",
      "525/525 [==============================] - 2s 4ms/step - loss: 0.0228 - accuracy: 0.9928 - val_loss: 0.0427 - val_accuracy: 0.9887\n",
      "Epoch 11/60\n",
      "525/525 [==============================] - 2s 4ms/step - loss: 0.0211 - accuracy: 0.9930 - val_loss: 0.0613 - val_accuracy: 0.9849\n",
      "Epoch 12/60\n",
      "525/525 [==============================] - 2s 4ms/step - loss: 0.0194 - accuracy: 0.9935 - val_loss: 0.0710 - val_accuracy: 0.9813\n",
      "Epoch 13/60\n",
      "525/525 [==============================] - 3s 6ms/step - loss: 0.0190 - accuracy: 0.9938 - val_loss: 0.0447 - val_accuracy: 0.9881\n",
      "Epoch 14/60\n",
      "525/525 [==============================] - 2s 4ms/step - loss: 0.0156 - accuracy: 0.9951 - val_loss: 0.0425 - val_accuracy: 0.9888\n",
      "Epoch 15/60\n",
      "525/525 [==============================] - 2s 4ms/step - loss: 0.0178 - accuracy: 0.9944 - val_loss: 0.0848 - val_accuracy: 0.9767\n",
      "Epoch 16/60\n",
      "525/525 [==============================] - 2s 4ms/step - loss: 0.0161 - accuracy: 0.9947 - val_loss: 0.0602 - val_accuracy: 0.9856\n",
      "Epoch 17/60\n",
      "525/525 [==============================] - 2s 4ms/step - loss: 0.0122 - accuracy: 0.9956 - val_loss: 0.0410 - val_accuracy: 0.9890\n",
      "Epoch 18/60\n",
      "525/525 [==============================] - 3s 5ms/step - loss: 0.0110 - accuracy: 0.9963 - val_loss: 0.0456 - val_accuracy: 0.9889\n",
      "Epoch 19/60\n",
      "525/525 [==============================] - 3s 5ms/step - loss: 0.0114 - accuracy: 0.9961 - val_loss: 0.0525 - val_accuracy: 0.9856\n",
      "Epoch 20/60\n",
      "525/525 [==============================] - 2s 4ms/step - loss: 0.0122 - accuracy: 0.9961 - val_loss: 0.0374 - val_accuracy: 0.9917\n",
      "Epoch 21/60\n",
      "525/525 [==============================] - 2s 4ms/step - loss: 0.0136 - accuracy: 0.9958 - val_loss: 0.0438 - val_accuracy: 0.9879\n",
      "Epoch 22/60\n",
      "525/525 [==============================] - 3s 5ms/step - loss: 0.0093 - accuracy: 0.9971 - val_loss: 0.0305 - val_accuracy: 0.9929\n",
      "Epoch 23/60\n",
      "525/525 [==============================] - 2s 4ms/step - loss: 0.0169 - accuracy: 0.9943 - val_loss: 0.0698 - val_accuracy: 0.9830\n",
      "Epoch 24/60\n",
      "525/525 [==============================] - 2s 4ms/step - loss: 0.0118 - accuracy: 0.9957 - val_loss: 0.0442 - val_accuracy: 0.9896\n",
      "Epoch 25/60\n",
      "525/525 [==============================] - 2s 4ms/step - loss: 0.0068 - accuracy: 0.9975 - val_loss: 0.0431 - val_accuracy: 0.9901\n",
      "Epoch 26/60\n",
      "525/525 [==============================] - 3s 5ms/step - loss: 0.0097 - accuracy: 0.9967 - val_loss: 0.0921 - val_accuracy: 0.9864\n",
      "Epoch 27/60\n",
      "525/525 [==============================] - 3s 5ms/step - loss: 0.0109 - accuracy: 0.9966 - val_loss: 0.0369 - val_accuracy: 0.9910\n",
      "Epoch 28/60\n",
      "525/525 [==============================] - 2s 4ms/step - loss: 0.0068 - accuracy: 0.9975 - val_loss: 0.0577 - val_accuracy: 0.9871\n",
      "Epoch 29/60\n",
      "525/525 [==============================] - 2s 4ms/step - loss: 0.0127 - accuracy: 0.9959 - val_loss: 0.0429 - val_accuracy: 0.9911\n",
      "Epoch 30/60\n",
      "525/525 [==============================] - 2s 4ms/step - loss: 0.0094 - accuracy: 0.9968 - val_loss: 0.0510 - val_accuracy: 0.9888\n",
      "Epoch 31/60\n",
      "525/525 [==============================] - 2s 5ms/step - loss: 0.0074 - accuracy: 0.9978 - val_loss: 0.0487 - val_accuracy: 0.9912\n",
      "Epoch 32/60\n",
      "525/525 [==============================] - 2s 5ms/step - loss: 0.0076 - accuracy: 0.9975 - val_loss: 0.0705 - val_accuracy: 0.9863\n",
      "Epoch 33/60\n",
      "525/525 [==============================] - 2s 4ms/step - loss: 0.0063 - accuracy: 0.9979 - val_loss: 0.0870 - val_accuracy: 0.9844\n",
      "Epoch 34/60\n",
      "525/525 [==============================] - 2s 4ms/step - loss: 0.0088 - accuracy: 0.9975 - val_loss: 0.0610 - val_accuracy: 0.9875\n",
      "Epoch 35/60\n",
      "525/525 [==============================] - 2s 4ms/step - loss: 0.0070 - accuracy: 0.9980 - val_loss: 0.0662 - val_accuracy: 0.9860\n",
      "Epoch 36/60\n",
      "525/525 [==============================] - 3s 5ms/step - loss: 0.0085 - accuracy: 0.9974 - val_loss: 0.0494 - val_accuracy: 0.9886\n",
      "Epoch 37/60\n",
      "525/525 [==============================] - 2s 4ms/step - loss: 0.0071 - accuracy: 0.9975 - val_loss: 0.0508 - val_accuracy: 0.9892\n",
      "Epoch 38/60\n",
      "525/525 [==============================] - 2s 4ms/step - loss: 0.0055 - accuracy: 0.9980 - val_loss: 0.0609 - val_accuracy: 0.9900\n",
      "Epoch 39/60\n",
      "525/525 [==============================] - 2s 4ms/step - loss: 0.0063 - accuracy: 0.9979 - val_loss: 0.0545 - val_accuracy: 0.9907\n",
      "Epoch 40/60\n",
      "525/525 [==============================] - 2s 4ms/step - loss: 0.0071 - accuracy: 0.9978 - val_loss: 0.0708 - val_accuracy: 0.9868\n",
      "Epoch 41/60\n",
      "525/525 [==============================] - 3s 5ms/step - loss: 0.0067 - accuracy: 0.9979 - val_loss: 0.0793 - val_accuracy: 0.9865\n",
      "Epoch 42/60\n",
      "525/525 [==============================] - 3s 5ms/step - loss: 0.0056 - accuracy: 0.9983 - val_loss: 0.0466 - val_accuracy: 0.9902\n",
      "Epoch 43/60\n",
      "525/525 [==============================] - 2s 4ms/step - loss: 0.0060 - accuracy: 0.9981 - val_loss: 0.0584 - val_accuracy: 0.9906\n",
      "Epoch 44/60\n",
      "525/525 [==============================] - 2s 4ms/step - loss: 0.0065 - accuracy: 0.9976 - val_loss: 0.0830 - val_accuracy: 0.9873\n",
      "Epoch 45/60\n",
      "525/525 [==============================] - 2s 5ms/step - loss: 0.0097 - accuracy: 0.9968 - val_loss: 0.0647 - val_accuracy: 0.9863\n",
      "Epoch 46/60\n",
      "525/525 [==============================] - 2s 4ms/step - loss: 0.0074 - accuracy: 0.9974 - val_loss: 0.0653 - val_accuracy: 0.9883\n",
      "Epoch 47/60\n",
      "525/525 [==============================] - 2s 4ms/step - loss: 0.0041 - accuracy: 0.9987 - val_loss: 0.0529 - val_accuracy: 0.9895\n",
      "Epoch 48/60\n",
      "525/525 [==============================] - 2s 5ms/step - loss: 0.0053 - accuracy: 0.9982 - val_loss: 0.0786 - val_accuracy: 0.9879\n",
      "Epoch 49/60\n",
      "525/525 [==============================] - 2s 4ms/step - loss: 0.0056 - accuracy: 0.9983 - val_loss: 0.0753 - val_accuracy: 0.9861\n",
      "Epoch 50/60\n",
      "525/525 [==============================] - 3s 5ms/step - loss: 0.0054 - accuracy: 0.9982 - val_loss: 0.0743 - val_accuracy: 0.9889\n",
      "Epoch 51/60\n",
      "525/525 [==============================] - 2s 4ms/step - loss: 0.0043 - accuracy: 0.9985 - val_loss: 0.0481 - val_accuracy: 0.9915\n",
      "Epoch 52/60\n",
      "525/525 [==============================] - 2s 4ms/step - loss: 0.0057 - accuracy: 0.9985 - val_loss: 0.0718 - val_accuracy: 0.9868\n",
      "Epoch 53/60\n",
      "525/525 [==============================] - 2s 4ms/step - loss: 0.0041 - accuracy: 0.9984 - val_loss: 0.0482 - val_accuracy: 0.9917\n",
      "Epoch 54/60\n",
      "525/525 [==============================] - 2s 4ms/step - loss: 0.0066 - accuracy: 0.9981 - val_loss: 0.0574 - val_accuracy: 0.9896\n",
      "Epoch 55/60\n",
      "525/525 [==============================] - 3s 5ms/step - loss: 0.0040 - accuracy: 0.9988 - val_loss: 0.0706 - val_accuracy: 0.9894\n",
      "Epoch 56/60\n",
      "525/525 [==============================] - 3s 5ms/step - loss: 0.0055 - accuracy: 0.9985 - val_loss: 0.0583 - val_accuracy: 0.9911\n",
      "Epoch 57/60\n",
      "525/525 [==============================] - 2s 4ms/step - loss: 0.0069 - accuracy: 0.9981 - val_loss: 0.0515 - val_accuracy: 0.9907\n",
      "Epoch 58/60\n",
      "525/525 [==============================] - 2s 5ms/step - loss: 0.0033 - accuracy: 0.9988 - val_loss: 0.0529 - val_accuracy: 0.9906\n",
      "Epoch 59/60\n",
      "525/525 [==============================] - 3s 5ms/step - loss: 0.0035 - accuracy: 0.9990 - val_loss: 0.0618 - val_accuracy: 0.9901\n",
      "Epoch 60/60\n",
      "525/525 [==============================] - 2s 5ms/step - loss: 0.0055 - accuracy: 0.9983 - val_loss: 0.0562 - val_accuracy: 0.9912\n",
      "CPU times: user 2min 40s, sys: 15.1 s, total: 2min 55s\n",
      "Wall time: 3min 23s\n"
     ]
    }
   ],
   "source": [
    "%%time\n",
    "\n",
    "epochs = 60\n",
    "lr_initial = 0.0011\n",
    "# optimizer = tf.keras.optimizers.RMSprop(learning_rate=0.001, rho=0.95, epsilon=1e-08, decay=0.0)\n",
    "# optimizer = tf.keras.optimizers.Adam(learning_rate=lr_initial, \n",
    "#                                      decay=lr_initial / (epochs*1.3))\n",
    "# optimizer = tf.keras.optimizers.Adam(learning_rate=0.01)  # rmsprop\n",
    "\n",
    "# model.compile(optimizer=optimizer,\n",
    "#               loss='sparse_categorical_crossentropy',\n",
    "#               metrics=['accuracy'])\n",
    "# datagen.fit(x_train)\n",
    "batch_size = 64\n",
    "\n",
    "history = model.fit(\n",
    "    X_train,\n",
    "    y_train,\n",
    "    batch_size=batch_size,\n",
    "    epochs=epochs,\n",
    "    # Suppress logging.\n",
    "    verbose=1,\n",
    "    validation_data=(X_valid, y_valid),\n",
    "    # Calculate validation results on 20% of the training data.\n",
    "#     validation_split = 0.2\n",
    ")"
   ]
  },
  {
   "cell_type": "code",
   "execution_count": 25,
   "id": "eacfacf9",
   "metadata": {
    "execution": {
     "iopub.execute_input": "2022-07-25T00:55:24.105837Z",
     "iopub.status.busy": "2022-07-25T00:55:24.104796Z",
     "iopub.status.idle": "2022-07-25T00:55:24.511795Z",
     "shell.execute_reply": "2022-07-25T00:55:24.510818Z"
    },
    "papermill": {
     "duration": 0.657991,
     "end_time": "2022-07-25T00:55:24.513901",
     "exception": false,
     "start_time": "2022-07-25T00:55:23.855910",
     "status": "completed"
    },
    "tags": []
   },
   "outputs": [
    {
     "data": {
      "image/png": "[encoded data removed]",
      "text/plain": [
       "<Figure size 432x288 with 1 Axes>"
      ]
     },
     "metadata": {
      "needs_background": "light"
     },
     "output_type": "display_data"
    },
    {
     "data": {
      "image/png": "[encoded data removed]",
      "text/plain": [
       "<Figure size 432x288 with 1 Axes>"
      ]
     },
     "metadata": {
      "needs_background": "light"
     },
     "output_type": "display_data"
    }
   ],
   "source": [
    "acc = history.history[\"accuracy\"]\n",
    "val_acc = history.history[\"val_accuracy\"]\n",
    "loss = history.history[\"loss\"]\n",
    "val_loss = history.history[\"val_loss\"]\n",
    "\n",
    "epochs = range(1, len(acc) + 1)\n",
    "\n",
    "plt.plot(epochs, acc, \"bo\", label=\"Training acc\")\n",
    "plt.plot(epochs, val_acc, \"b\", label=\"Validation acc\")\n",
    "plt.title(\"Training and validation accuracy\")\n",
    "plt.legend()\n",
    "\n",
    "plt.figure()\n",
    "\n",
    "plt.plot(epochs, loss, \"bo\", label=\"Training loss\")\n",
    "plt.plot(epochs, val_loss, \"b\", label=\"Validation loss\")\n",
    "plt.title(\"Training and validation loss\")\n",
    "plt.legend()\n",
    "\n",
    "plt.show()"
   ]
  },
  {
   "cell_type": "markdown",
   "id": "aa032cd6",
   "metadata": {
    "papermill": {
     "duration": 0.153099,
     "end_time": "2022-07-25T00:55:24.821203",
     "exception": false,
     "start_time": "2022-07-25T00:55:24.668104",
     "status": "completed"
    },
    "tags": []
   },
   "source": [
    "## Predict and Score"
   ]
  },
  {
   "cell_type": "code",
   "execution_count": 26,
   "id": "400c9a29",
   "metadata": {
    "execution": {
     "iopub.execute_input": "2022-07-25T00:55:25.177820Z",
     "iopub.status.busy": "2022-07-25T00:55:25.177473Z",
     "iopub.status.idle": "2022-07-25T00:55:26.526776Z",
     "shell.execute_reply": "2022-07-25T00:55:26.525785Z"
    },
    "papermill": {
     "duration": 1.555158,
     "end_time": "2022-07-25T00:55:26.528905",
     "exception": false,
     "start_time": "2022-07-25T00:55:24.973747",
     "status": "completed"
    },
    "tags": []
   },
   "outputs": [
    {
     "name": "stdout",
     "output_type": "stream",
     "text": [
      "263/263 [==============================] - 1s 3ms/step - loss: 0.0562 - accuracy: 0.9912\n"
     ]
    },
    {
     "data": {
      "text/plain": [
       "0.991190493106842"
      ]
     },
     "execution_count": 26,
     "metadata": {},
     "output_type": "execute_result"
    }
   ],
   "source": [
    "test_loss, test_acc = model.evaluate(X_valid, y_valid)\n",
    "test_acc"
   ]
  },
  {
   "cell_type": "code",
   "execution_count": 27,
   "id": "a0e28cba",
   "metadata": {
    "execution": {
     "iopub.execute_input": "2022-07-25T00:55:26.838247Z",
     "iopub.status.busy": "2022-07-25T00:55:26.837911Z",
     "iopub.status.idle": "2022-07-25T00:55:27.353779Z",
     "shell.execute_reply": "2022-07-25T00:55:27.352851Z"
    },
    "papermill": {
     "duration": 0.673178,
     "end_time": "2022-07-25T00:55:27.356211",
     "exception": false,
     "start_time": "2022-07-25T00:55:26.683033",
     "status": "completed"
    },
    "tags": []
   },
   "outputs": [
    {
     "data": {
      "text/plain": [
       "array([[4.84470862e-14, 2.27127124e-14, 1.31837978e-11, 4.34612023e-16,\n",
       "        1.93468809e-12, 3.31766212e-12, 9.99949923e-17, 5.41967731e-16,\n",
       "        1.00000000e+00, 6.04871209e-10],\n",
       "       [1.18873915e-08, 1.00000000e+00, 2.16904184e-09, 9.73828287e-17,\n",
       "        1.26149430e-13, 3.85533483e-13, 1.90125530e-13, 4.00303879e-09,\n",
       "        1.82056258e-12, 2.83354980e-12],\n",
       "       [7.17390253e-18, 8.11339376e-17, 2.71249770e-18, 9.07767115e-16,\n",
       "        1.45847865e-11, 9.54047005e-15, 4.34772230e-19, 6.54161377e-14,\n",
       "        1.27759081e-15, 1.00000000e+00],\n",
       "       [6.20152734e-21, 7.79341250e-17, 3.52567359e-21, 1.54610076e-18,\n",
       "        3.86007719e-11, 7.93364940e-16, 6.05952965e-22, 1.03616002e-13,\n",
       "        3.71314966e-18, 1.00000000e+00],\n",
       "       [2.39908841e-13, 1.58544930e-13, 2.26851890e-13, 4.50955213e-17,\n",
       "        1.77672785e-12, 9.26092428e-14, 2.87954409e-16, 7.11145635e-17,\n",
       "        1.00000000e+00, 7.63165911e-14]], dtype=float32)"
      ]
     },
     "execution_count": 27,
     "metadata": {},
     "output_type": "execute_result"
    }
   ],
   "source": [
    "valid_preds = model.predict(X_valid)\n",
    "valid_preds[:5]"
   ]
  },
  {
   "cell_type": "code",
   "execution_count": 28,
   "id": "d8fcb1a3",
   "metadata": {
    "execution": {
     "iopub.execute_input": "2022-07-25T00:55:27.668523Z",
     "iopub.status.busy": "2022-07-25T00:55:27.668176Z",
     "iopub.status.idle": "2022-07-25T00:55:27.674740Z",
     "shell.execute_reply": "2022-07-25T00:55:27.673914Z"
    },
    "papermill": {
     "duration": 0.164224,
     "end_time": "2022-07-25T00:55:27.676839",
     "exception": false,
     "start_time": "2022-07-25T00:55:27.512615",
     "status": "completed"
    },
    "tags": []
   },
   "outputs": [],
   "source": [
    "valid_preds = np.argmax(valid_preds, axis=1)"
   ]
  },
  {
   "cell_type": "code",
   "execution_count": 29,
   "id": "6c8a7262",
   "metadata": {
    "execution": {
     "iopub.execute_input": "2022-07-25T00:55:27.987241Z",
     "iopub.status.busy": "2022-07-25T00:55:27.986905Z",
     "iopub.status.idle": "2022-07-25T00:55:27.991718Z",
     "shell.execute_reply": "2022-07-25T00:55:27.990690Z"
    },
    "papermill": {
     "duration": 0.162383,
     "end_time": "2022-07-25T00:55:27.994029",
     "exception": false,
     "start_time": "2022-07-25T00:55:27.831646",
     "status": "completed"
    },
    "tags": []
   },
   "outputs": [],
   "source": [
    "# show_scores(y_valid, valid_preds)"
   ]
  },
  {
   "cell_type": "code",
   "execution_count": 30,
   "id": "15289414",
   "metadata": {
    "execution": {
     "iopub.execute_input": "2022-07-25T00:55:28.305521Z",
     "iopub.status.busy": "2022-07-25T00:55:28.305186Z",
     "iopub.status.idle": "2022-07-25T00:55:31.173043Z",
     "shell.execute_reply": "2022-07-25T00:55:31.172031Z"
    },
    "papermill": {
     "duration": 3.026269,
     "end_time": "2022-07-25T00:55:31.175023",
     "exception": false,
     "start_time": "2022-07-25T00:55:28.148754",
     "status": "completed"
    },
    "tags": []
   },
   "outputs": [
    {
     "data": {
      "text/plain": [
       "array([[2.6339744e-16, 5.3192378e-14, 1.0000000e+00, 6.2927871e-17,\n",
       "        1.6363319e-10, 9.0285274e-16, 2.8074430e-19, 1.1550260e-08,\n",
       "        1.2459989e-09, 8.0311854e-11],\n",
       "       [9.9999917e-01, 7.1091592e-13, 1.8127820e-12, 4.4895226e-11,\n",
       "        1.4494029e-12, 7.8880953e-07, 9.0242608e-10, 2.6828026e-10,\n",
       "        6.8866141e-12, 4.0326831e-10],\n",
       "       [6.1924285e-20, 1.0188895e-18, 2.1366245e-16, 3.2771397e-20,\n",
       "        3.7057319e-12, 1.7443395e-18, 2.1708269e-23, 3.6530945e-14,\n",
       "        1.5822193e-14, 1.0000000e+00],\n",
       "       [9.9926943e-01, 2.0434012e-09, 3.3423657e-06, 1.2890767e-07,\n",
       "        2.8172015e-10, 3.9764828e-07, 1.2973663e-06, 3.5813543e-06,\n",
       "        6.9824740e-04, 2.3664481e-05],\n",
       "       [3.7635750e-18, 4.5590754e-16, 9.8740200e-12, 1.0000000e+00,\n",
       "        3.2372199e-19, 8.6341558e-14, 5.3936513e-15, 2.6382597e-15,\n",
       "        4.3392730e-11, 4.5833837e-16]], dtype=float32)"
      ]
     },
     "execution_count": 30,
     "metadata": {},
     "output_type": "execute_result"
    }
   ],
   "source": [
    "preds = model.predict(X_test)\n",
    "preds[:5]"
   ]
  },
  {
   "cell_type": "code",
   "execution_count": 31,
   "id": "f6cf77aa",
   "metadata": {
    "execution": {
     "iopub.execute_input": "2022-07-25T00:55:31.487407Z",
     "iopub.status.busy": "2022-07-25T00:55:31.487065Z",
     "iopub.status.idle": "2022-07-25T00:55:31.493913Z",
     "shell.execute_reply": "2022-07-25T00:55:31.493143Z"
    },
    "papermill": {
     "duration": 0.165629,
     "end_time": "2022-07-25T00:55:31.495889",
     "exception": false,
     "start_time": "2022-07-25T00:55:31.330260",
     "status": "completed"
    },
    "tags": []
   },
   "outputs": [],
   "source": [
    "preds = np.argmax(preds, axis=1)"
   ]
  },
  {
   "cell_type": "markdown",
   "id": "f44216f4",
   "metadata": {
    "papermill": {
     "duration": 0.192831,
     "end_time": "2022-07-25T00:55:31.844169",
     "exception": false,
     "start_time": "2022-07-25T00:55:31.651338",
     "status": "completed"
    },
    "tags": []
   },
   "source": [
    "## Submission"
   ]
  },
  {
   "cell_type": "code",
   "execution_count": 32,
   "id": "b49be0d4",
   "metadata": {
    "execution": {
     "iopub.execute_input": "2022-07-25T00:55:32.154400Z",
     "iopub.status.busy": "2022-07-25T00:55:32.154052Z",
     "iopub.status.idle": "2022-07-25T00:55:32.207369Z",
     "shell.execute_reply": "2022-07-25T00:55:32.206330Z"
    },
    "papermill": {
     "duration": 0.21247,
     "end_time": "2022-07-25T00:55:32.209595",
     "exception": false,
     "start_time": "2022-07-25T00:55:31.997125",
     "status": "completed"
    },
    "tags": []
   },
   "outputs": [
    {
     "data": {
      "text/html": [
       "<div>\n",
       "<style scoped>\n",
       "    .dataframe tbody tr th:only-of-type {\n",
       "        vertical-align: middle;\n",
       "    }\n",
       "\n",
       "    .dataframe tbody tr th {\n",
       "        vertical-align: top;\n",
       "    }\n",
       "\n",
       "    .dataframe thead th {\n",
       "        text-align: right;\n",
       "    }\n",
       "</style>\n",
       "<table border=\"1\" class=\"dataframe\">\n",
       "  <thead>\n",
       "    <tr style=\"text-align: right;\">\n",
       "      <th></th>\n",
       "      <th>ImageId</th>\n",
       "      <th>Label</th>\n",
       "    </tr>\n",
       "  </thead>\n",
       "  <tbody>\n",
       "    <tr>\n",
       "      <th>0</th>\n",
       "      <td>1</td>\n",
       "      <td>2</td>\n",
       "    </tr>\n",
       "    <tr>\n",
       "      <th>1</th>\n",
       "      <td>2</td>\n",
       "      <td>0</td>\n",
       "    </tr>\n",
       "    <tr>\n",
       "      <th>2</th>\n",
       "      <td>3</td>\n",
       "      <td>9</td>\n",
       "    </tr>\n",
       "    <tr>\n",
       "      <th>3</th>\n",
       "      <td>4</td>\n",
       "      <td>0</td>\n",
       "    </tr>\n",
       "    <tr>\n",
       "      <th>4</th>\n",
       "      <td>5</td>\n",
       "      <td>3</td>\n",
       "    </tr>\n",
       "  </tbody>\n",
       "</table>\n",
       "</div>"
      ],
      "text/plain": [
       "   ImageId  Label\n",
       "0        1      2\n",
       "1        2      0\n",
       "2        3      9\n",
       "3        4      0\n",
       "4        5      3"
      ]
     },
     "execution_count": 32,
     "metadata": {},
     "output_type": "execute_result"
    }
   ],
   "source": [
    "# Different TARGET name used in test.csv\n",
    "ss = create_submission(\"\", \"Label\", preds)\n",
    "ss"
   ]
  }
 ],
 "metadata": {
  "kernelspec": {
   "display_name": "Python 3",
   "language": "python",
   "name": "python3"
  },
  "language_info": {
   "codemirror_mode": {
    "name": "ipython",
    "version": 3
   },
   "file_extension": ".py",
   "mimetype": "text/x-python",
   "name": "python",
   "nbconvert_exporter": "python",
   "pygments_lexer": "ipython3",
   "version": "3.7.12"
  },
  "papermill": {
   "default_parameters": {},
   "duration": 252.430513,
   "end_time": "2022-07-25T00:55:35.438960",
   "environment_variables": {},
   "exception": null,
   "input_path": "__notebook__.ipynb",
   "output_path": "__notebook__.ipynb",
   "parameters": {},
   "start_time": "2022-07-25T00:51:23.008447",
   "version": "2.3.4"
  }
 },
 "nbformat": 4,
 "nbformat_minor": 5
}
