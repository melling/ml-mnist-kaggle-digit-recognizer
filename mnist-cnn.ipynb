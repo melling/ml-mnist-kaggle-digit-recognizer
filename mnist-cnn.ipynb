{
 "cells": [
  {
   "cell_type": "markdown",
   "id": "ddf9f58c",
   "metadata": {
    "papermill": {
     "duration": 0.009593,
     "end_time": "2022-07-17T19:30:10.171678",
     "exception": false,
     "start_time": "2022-07-17T19:30:10.162085",
     "status": "completed"
    },
    "tags": []
   },
   "source": [
    "<div style=\"background-color:rgba(128, 0, 128, 0.6);border-radius:5px;display:fill\"><h1 style=\"text-align: center;padding: 12px 0px 12px 0px;\">MNIST: CNN</h1>\n",
    "</div>\n",
    "\n",
    "Problem Type: Multi-classification\n",
    "\n",
    "## Evaluation Metric"
   ]
  },
  {
   "cell_type": "code",
   "execution_count": 1,
   "id": "25ef9690",
   "metadata": {
    "execution": {
     "iopub.execute_input": "2022-07-17T19:30:10.190379Z",
     "iopub.status.busy": "2022-07-17T19:30:10.189538Z",
     "iopub.status.idle": "2022-07-17T19:30:24.096234Z",
     "shell.execute_reply": "2022-07-17T19:30:24.095268Z"
    },
    "papermill": {
     "duration": 13.918894,
     "end_time": "2022-07-17T19:30:24.098742",
     "exception": false,
     "start_time": "2022-07-17T19:30:10.179848",
     "status": "completed"
    },
    "tags": []
   },
   "outputs": [
    {
     "name": "stdout",
     "output_type": "stream",
     "text": [
      "\u001b[33mWARNING: Running pip as the 'root' user can result in broken permissions and conflicting behaviour with the system package manager. It is recommended to use a virtual environment instead: https://pip.pypa.io/warnings/venv\u001b[0m\u001b[33m\r\n",
      "\u001b[0m"
     ]
    }
   ],
   "source": [
    "# Black formatter https://black.readthedocs.io/en/stable/\n",
    "\n",
    "! pip install nb-black > /dev/null\n",
    "\n",
    "%load_ext lab_black"
   ]
  },
  {
   "cell_type": "markdown",
   "id": "0164c1f9",
   "metadata": {
    "papermill": {
     "duration": 0.007877,
     "end_time": "2022-07-17T19:30:24.115009",
     "exception": false,
     "start_time": "2022-07-17T19:30:24.107132",
     "status": "completed"
    },
    "tags": []
   },
   "source": [
    "<div style=\"background-color:rgba(128, 0, 128, 0.6);border-radius:5px;display:fill\"><h1 style=\"text-align: center;padding: 12px 0px 12px 0px;\">Configuration</h1>\n",
    "</div>"
   ]
  },
  {
   "cell_type": "code",
   "execution_count": 2,
   "id": "af003c6f",
   "metadata": {
    "execution": {
     "iopub.execute_input": "2022-07-17T19:30:24.133158Z",
     "iopub.status.busy": "2022-07-17T19:30:24.132883Z",
     "iopub.status.idle": "2022-07-17T19:30:24.138349Z",
     "shell.execute_reply": "2022-07-17T19:30:24.137410Z"
    },
    "papermill": {
     "duration": 0.016516,
     "end_time": "2022-07-17T19:30:24.140345",
     "exception": false,
     "start_time": "2022-07-17T19:30:24.123829",
     "status": "completed"
    },
    "tags": []
   },
   "outputs": [],
   "source": [
    "data_dir = \"../input/digit-recognizer\""
   ]
  },
  {
   "cell_type": "code",
   "execution_count": 3,
   "id": "6cdf1df0",
   "metadata": {
    "execution": {
     "iopub.execute_input": "2022-07-17T19:30:24.157482Z",
     "iopub.status.busy": "2022-07-17T19:30:24.157233Z",
     "iopub.status.idle": "2022-07-17T19:30:24.162001Z",
     "shell.execute_reply": "2022-07-17T19:30:24.161096Z"
    },
    "papermill": {
     "duration": 0.015484,
     "end_time": "2022-07-17T19:30:24.163882",
     "exception": false,
     "start_time": "2022-07-17T19:30:24.148398",
     "status": "completed"
    },
    "tags": []
   },
   "outputs": [],
   "source": [
    "TARGET = \"label\""
   ]
  },
  {
   "cell_type": "markdown",
   "id": "73a12242",
   "metadata": {
    "papermill": {
     "duration": 0.007824,
     "end_time": "2022-07-17T19:30:24.179916",
     "exception": false,
     "start_time": "2022-07-17T19:30:24.172092",
     "status": "completed"
    },
    "tags": []
   },
   "source": [
    "<div style=\"background-color:rgba(128, 0, 128, 0.6);border-radius:5px;display:fill\"><h1 style=\"text-align: center;padding: 12px 0px 12px 0px;\">Import Libraries</h1>\n",
    "</div>\n",
    "\n",
    "A best practise is to include all libraries here.  However, I will put a few imports farther down where they are first used so beginners can learn with an \"as needed\" approach."
   ]
  },
  {
   "cell_type": "code",
   "execution_count": 4,
   "id": "be99920d",
   "metadata": {
    "execution": {
     "iopub.execute_input": "2022-07-17T19:30:24.197125Z",
     "iopub.status.busy": "2022-07-17T19:30:24.196875Z",
     "iopub.status.idle": "2022-07-17T19:30:25.242103Z",
     "shell.execute_reply": "2022-07-17T19:30:25.241061Z"
    },
    "papermill": {
     "duration": 1.056471,
     "end_time": "2022-07-17T19:30:25.244506",
     "exception": false,
     "start_time": "2022-07-17T19:30:24.188035",
     "status": "completed"
    },
    "tags": []
   },
   "outputs": [],
   "source": [
    "import os\n",
    "import time\n",
    "from pathlib import Path\n",
    "\n",
    "import pandas as pd\n",
    "import numpy as np\n",
    "\n",
    "from sklearn.model_selection import train_test_split\n",
    "\n",
    "from sklearn.metrics import f1_score\n",
    "\n",
    "# Visualization Libraries\n",
    "import matplotlib.pylab as plt\n",
    "import seaborn as sns"
   ]
  },
  {
   "cell_type": "markdown",
   "id": "00165961",
   "metadata": {
    "papermill": {
     "duration": 0.01335,
     "end_time": "2022-07-17T19:30:25.271911",
     "exception": false,
     "start_time": "2022-07-17T19:30:25.258561",
     "status": "completed"
    },
    "tags": []
   },
   "source": [
    "<div style=\"background-color:rgba(128, 0, 128, 0.6);border-radius:5px;display:fill\"><h1 style=\"text-align: center;padding: 12px 0px 12px 0px;\">Library</h1>\n",
    "</div>\n",
    "\n",
    "Creating a few functions that we will reuse in each project."
   ]
  },
  {
   "cell_type": "code",
   "execution_count": 5,
   "id": "bb826042",
   "metadata": {
    "execution": {
     "iopub.execute_input": "2022-07-17T19:30:25.300639Z",
     "iopub.status.busy": "2022-07-17T19:30:25.300317Z",
     "iopub.status.idle": "2022-07-17T19:30:25.323715Z",
     "shell.execute_reply": "2022-07-17T19:30:25.322657Z"
    },
    "papermill": {
     "duration": 0.040413,
     "end_time": "2022-07-17T19:30:25.326141",
     "exception": false,
     "start_time": "2022-07-17T19:30:25.285728",
     "status": "completed"
    },
    "tags": []
   },
   "outputs": [],
   "source": [
    "def read_data(path):\n",
    "    data_dir = Path(path)\n",
    "\n",
    "    train = pd.read_csv(data_dir / \"train.csv\")\n",
    "    test = pd.read_csv(data_dir / \"test.csv\")\n",
    "    submission_df = pd.read_csv(data_dir / \"sample_submission.csv\")\n",
    "\n",
    "    print(f\"train data: Rows={train.shape[0]}, Columns={train.shape[1]}\")\n",
    "    print(f\"test data : Rows={test.shape[0]}, Columns={test.shape[1]}\")\n",
    "    return train, test, submission_df"
   ]
  },
  {
   "cell_type": "code",
   "execution_count": 6,
   "id": "a0f961b0",
   "metadata": {
    "execution": {
     "iopub.execute_input": "2022-07-17T19:30:25.355806Z",
     "iopub.status.busy": "2022-07-17T19:30:25.355445Z",
     "iopub.status.idle": "2022-07-17T19:30:25.378213Z",
     "shell.execute_reply": "2022-07-17T19:30:25.377240Z"
    },
    "papermill": {
     "duration": 0.039995,
     "end_time": "2022-07-17T19:30:25.380424",
     "exception": false,
     "start_time": "2022-07-17T19:30:25.340429",
     "status": "completed"
    },
    "tags": []
   },
   "outputs": [],
   "source": [
    "def create_submission(model_name, target, preds, is_log_target=False):\n",
    "    if is_log_target:\n",
    "        #         preds = np.exp(preds)\n",
    "        preds = np.expm1(preds)\n",
    "\n",
    "    sample_submission[target] = preds\n",
    "    if len(model_name) > 0:\n",
    "        sample_submission.to_csv(f\"submission_{model_name}.csv\", index=False)\n",
    "    else:\n",
    "        sample_submission.to_csv(f\"submission.csv\", index=False)\n",
    "\n",
    "    return sample_submission[:5]"
   ]
  },
  {
   "cell_type": "code",
   "execution_count": 7,
   "id": "5a81af14",
   "metadata": {
    "execution": {
     "iopub.execute_input": "2022-07-17T19:30:25.409973Z",
     "iopub.status.busy": "2022-07-17T19:30:25.409551Z",
     "iopub.status.idle": "2022-07-17T19:30:25.427354Z",
     "shell.execute_reply": "2022-07-17T19:30:25.426355Z"
    },
    "papermill": {
     "duration": 0.035227,
     "end_time": "2022-07-17T19:30:25.429894",
     "exception": false,
     "start_time": "2022-07-17T19:30:25.394667",
     "status": "completed"
    },
    "tags": []
   },
   "outputs": [],
   "source": [
    "from sklearn.metrics import mean_absolute_error, mean_squared_error, f1_score\n",
    "\n",
    "\n",
    "def show_scores(gt, yhat):\n",
    "    f1 = f1_score(gt, yhat, average=\"macro\")\n",
    "    mse = mean_squared_error(gt, yhat)\n",
    "    mae = mean_absolute_error(gt, yhat)\n",
    "    rmse = np.sqrt(mse)\n",
    "    #     r2_square = r2_score(gt, yhat)\n",
    "\n",
    "    print(f\"f1: {f1:.4f}\")"
   ]
  },
  {
   "cell_type": "markdown",
   "id": "3cedfd45",
   "metadata": {
    "papermill": {
     "duration": 0.013593,
     "end_time": "2022-07-17T19:30:25.457490",
     "exception": false,
     "start_time": "2022-07-17T19:30:25.443897",
     "status": "completed"
    },
    "tags": []
   },
   "source": [
    "<div style=\"background-color:rgba(128, 0, 128, 0.6);border-radius:5px;display:fill\"><h1 style=\"text-align: center;padding: 12px 0px 12px 0px;\">Load Train/Test Data</h1>\n",
    "</div>\n",
    "\n",
    "- train.csv - Data used to build our machine learning model\n",
    "- test.csv - Data used to build our machine learning model. Does not contain the target variable\n",
    "- sample_submission.csv - A file in the proper format to submit test predictions"
   ]
  },
  {
   "cell_type": "code",
   "execution_count": 8,
   "id": "b9f584b0",
   "metadata": {
    "execution": {
     "iopub.execute_input": "2022-07-17T19:30:25.486818Z",
     "iopub.status.busy": "2022-07-17T19:30:25.486383Z",
     "iopub.status.idle": "2022-07-17T19:30:30.434118Z",
     "shell.execute_reply": "2022-07-17T19:30:30.432932Z"
    },
    "papermill": {
     "duration": 4.965698,
     "end_time": "2022-07-17T19:30:30.436895",
     "exception": false,
     "start_time": "2022-07-17T19:30:25.471197",
     "status": "completed"
    },
    "tags": []
   },
   "outputs": [
    {
     "name": "stdout",
     "output_type": "stream",
     "text": [
      "train data: Rows=42000, Columns=785\n",
      "test data : Rows=28000, Columns=784\n"
     ]
    }
   ],
   "source": [
    "train, test, sample_submission = read_data(data_dir)"
   ]
  },
  {
   "cell_type": "code",
   "execution_count": 9,
   "id": "26bad0f2",
   "metadata": {
    "execution": {
     "iopub.execute_input": "2022-07-17T19:30:30.455724Z",
     "iopub.status.busy": "2022-07-17T19:30:30.454926Z",
     "iopub.status.idle": "2022-07-17T19:30:30.478849Z",
     "shell.execute_reply": "2022-07-17T19:30:30.477787Z"
    },
    "papermill": {
     "duration": 0.035424,
     "end_time": "2022-07-17T19:30:30.481327",
     "exception": false,
     "start_time": "2022-07-17T19:30:30.445903",
     "status": "completed"
    },
    "tags": []
   },
   "outputs": [
    {
     "data": {
      "text/html": [
       "<div>\n",
       "<style scoped>\n",
       "    .dataframe tbody tr th:only-of-type {\n",
       "        vertical-align: middle;\n",
       "    }\n",
       "\n",
       "    .dataframe tbody tr th {\n",
       "        vertical-align: top;\n",
       "    }\n",
       "\n",
       "    .dataframe thead th {\n",
       "        text-align: right;\n",
       "    }\n",
       "</style>\n",
       "<table border=\"1\" class=\"dataframe\">\n",
       "  <thead>\n",
       "    <tr style=\"text-align: right;\">\n",
       "      <th></th>\n",
       "      <th>label</th>\n",
       "      <th>pixel0</th>\n",
       "      <th>pixel1</th>\n",
       "      <th>pixel2</th>\n",
       "      <th>pixel3</th>\n",
       "      <th>pixel4</th>\n",
       "      <th>pixel5</th>\n",
       "      <th>pixel6</th>\n",
       "      <th>pixel7</th>\n",
       "      <th>pixel8</th>\n",
       "      <th>...</th>\n",
       "      <th>pixel774</th>\n",
       "      <th>pixel775</th>\n",
       "      <th>pixel776</th>\n",
       "      <th>pixel777</th>\n",
       "      <th>pixel778</th>\n",
       "      <th>pixel779</th>\n",
       "      <th>pixel780</th>\n",
       "      <th>pixel781</th>\n",
       "      <th>pixel782</th>\n",
       "      <th>pixel783</th>\n",
       "    </tr>\n",
       "  </thead>\n",
       "  <tbody>\n",
       "    <tr>\n",
       "      <th>0</th>\n",
       "      <td>1</td>\n",
       "      <td>0</td>\n",
       "      <td>0</td>\n",
       "      <td>0</td>\n",
       "      <td>0</td>\n",
       "      <td>0</td>\n",
       "      <td>0</td>\n",
       "      <td>0</td>\n",
       "      <td>0</td>\n",
       "      <td>0</td>\n",
       "      <td>...</td>\n",
       "      <td>0</td>\n",
       "      <td>0</td>\n",
       "      <td>0</td>\n",
       "      <td>0</td>\n",
       "      <td>0</td>\n",
       "      <td>0</td>\n",
       "      <td>0</td>\n",
       "      <td>0</td>\n",
       "      <td>0</td>\n",
       "      <td>0</td>\n",
       "    </tr>\n",
       "    <tr>\n",
       "      <th>1</th>\n",
       "      <td>0</td>\n",
       "      <td>0</td>\n",
       "      <td>0</td>\n",
       "      <td>0</td>\n",
       "      <td>0</td>\n",
       "      <td>0</td>\n",
       "      <td>0</td>\n",
       "      <td>0</td>\n",
       "      <td>0</td>\n",
       "      <td>0</td>\n",
       "      <td>...</td>\n",
       "      <td>0</td>\n",
       "      <td>0</td>\n",
       "      <td>0</td>\n",
       "      <td>0</td>\n",
       "      <td>0</td>\n",
       "      <td>0</td>\n",
       "      <td>0</td>\n",
       "      <td>0</td>\n",
       "      <td>0</td>\n",
       "      <td>0</td>\n",
       "    </tr>\n",
       "    <tr>\n",
       "      <th>2</th>\n",
       "      <td>1</td>\n",
       "      <td>0</td>\n",
       "      <td>0</td>\n",
       "      <td>0</td>\n",
       "      <td>0</td>\n",
       "      <td>0</td>\n",
       "      <td>0</td>\n",
       "      <td>0</td>\n",
       "      <td>0</td>\n",
       "      <td>0</td>\n",
       "      <td>...</td>\n",
       "      <td>0</td>\n",
       "      <td>0</td>\n",
       "      <td>0</td>\n",
       "      <td>0</td>\n",
       "      <td>0</td>\n",
       "      <td>0</td>\n",
       "      <td>0</td>\n",
       "      <td>0</td>\n",
       "      <td>0</td>\n",
       "      <td>0</td>\n",
       "    </tr>\n",
       "    <tr>\n",
       "      <th>3</th>\n",
       "      <td>4</td>\n",
       "      <td>0</td>\n",
       "      <td>0</td>\n",
       "      <td>0</td>\n",
       "      <td>0</td>\n",
       "      <td>0</td>\n",
       "      <td>0</td>\n",
       "      <td>0</td>\n",
       "      <td>0</td>\n",
       "      <td>0</td>\n",
       "      <td>...</td>\n",
       "      <td>0</td>\n",
       "      <td>0</td>\n",
       "      <td>0</td>\n",
       "      <td>0</td>\n",
       "      <td>0</td>\n",
       "      <td>0</td>\n",
       "      <td>0</td>\n",
       "      <td>0</td>\n",
       "      <td>0</td>\n",
       "      <td>0</td>\n",
       "    </tr>\n",
       "    <tr>\n",
       "      <th>4</th>\n",
       "      <td>0</td>\n",
       "      <td>0</td>\n",
       "      <td>0</td>\n",
       "      <td>0</td>\n",
       "      <td>0</td>\n",
       "      <td>0</td>\n",
       "      <td>0</td>\n",
       "      <td>0</td>\n",
       "      <td>0</td>\n",
       "      <td>0</td>\n",
       "      <td>...</td>\n",
       "      <td>0</td>\n",
       "      <td>0</td>\n",
       "      <td>0</td>\n",
       "      <td>0</td>\n",
       "      <td>0</td>\n",
       "      <td>0</td>\n",
       "      <td>0</td>\n",
       "      <td>0</td>\n",
       "      <td>0</td>\n",
       "      <td>0</td>\n",
       "    </tr>\n",
       "  </tbody>\n",
       "</table>\n",
       "<p>5 rows × 785 columns</p>\n",
       "</div>"
      ],
      "text/plain": [
       "   label  pixel0  pixel1  pixel2  pixel3  pixel4  pixel5  pixel6  pixel7  \\\n",
       "0      1       0       0       0       0       0       0       0       0   \n",
       "1      0       0       0       0       0       0       0       0       0   \n",
       "2      1       0       0       0       0       0       0       0       0   \n",
       "3      4       0       0       0       0       0       0       0       0   \n",
       "4      0       0       0       0       0       0       0       0       0   \n",
       "\n",
       "   pixel8  ...  pixel774  pixel775  pixel776  pixel777  pixel778  pixel779  \\\n",
       "0       0  ...         0         0         0         0         0         0   \n",
       "1       0  ...         0         0         0         0         0         0   \n",
       "2       0  ...         0         0         0         0         0         0   \n",
       "3       0  ...         0         0         0         0         0         0   \n",
       "4       0  ...         0         0         0         0         0         0   \n",
       "\n",
       "   pixel780  pixel781  pixel782  pixel783  \n",
       "0         0         0         0         0  \n",
       "1         0         0         0         0  \n",
       "2         0         0         0         0  \n",
       "3         0         0         0         0  \n",
       "4         0         0         0         0  \n",
       "\n",
       "[5 rows x 785 columns]"
      ]
     },
     "execution_count": 9,
     "metadata": {},
     "output_type": "execute_result"
    }
   ],
   "source": [
    "train.head()"
   ]
  },
  {
   "cell_type": "code",
   "execution_count": 10,
   "id": "e23e0e10",
   "metadata": {
    "execution": {
     "iopub.execute_input": "2022-07-17T19:30:30.499520Z",
     "iopub.status.busy": "2022-07-17T19:30:30.499263Z",
     "iopub.status.idle": "2022-07-17T19:30:30.507770Z",
     "shell.execute_reply": "2022-07-17T19:30:30.506638Z"
    },
    "papermill": {
     "duration": 0.019831,
     "end_time": "2022-07-17T19:30:30.509692",
     "exception": false,
     "start_time": "2022-07-17T19:30:30.489861",
     "status": "completed"
    },
    "tags": []
   },
   "outputs": [],
   "source": [
    "FEATURES = [\n",
    "    col\n",
    "    for col in train.columns\n",
    "    if col\n",
    "    not in [\n",
    "        \"Id\",\n",
    "        TARGET,\n",
    "        #         TARGET_ENC,\n",
    "    ]\n",
    "]"
   ]
  },
  {
   "cell_type": "code",
   "execution_count": 11,
   "id": "78d09e8d",
   "metadata": {
    "execution": {
     "iopub.execute_input": "2022-07-17T19:30:30.527537Z",
     "iopub.status.busy": "2022-07-17T19:30:30.527291Z",
     "iopub.status.idle": "2022-07-17T19:30:30.826902Z",
     "shell.execute_reply": "2022-07-17T19:30:30.825647Z"
    },
    "papermill": {
     "duration": 0.311808,
     "end_time": "2022-07-17T19:30:30.829958",
     "exception": false,
     "start_time": "2022-07-17T19:30:30.518150",
     "status": "completed"
    },
    "tags": []
   },
   "outputs": [],
   "source": [
    "y = train[TARGET]\n",
    "X = train[FEATURES].copy()\n",
    "\n",
    "X_test = test[FEATURES].copy()"
   ]
  },
  {
   "cell_type": "code",
   "execution_count": 12,
   "id": "1f690054",
   "metadata": {
    "execution": {
     "iopub.execute_input": "2022-07-17T19:30:30.848561Z",
     "iopub.status.busy": "2022-07-17T19:30:30.848283Z",
     "iopub.status.idle": "2022-07-17T19:30:31.015478Z",
     "shell.execute_reply": "2022-07-17T19:30:31.014509Z"
    },
    "papermill": {
     "duration": 0.17937,
     "end_time": "2022-07-17T19:30:31.018127",
     "exception": false,
     "start_time": "2022-07-17T19:30:30.838757",
     "status": "completed"
    },
    "tags": []
   },
   "outputs": [],
   "source": [
    "# Normalize the data\n",
    "X = X / 255.0\n",
    "X_test = X_test / 255.0"
   ]
  },
  {
   "cell_type": "code",
   "execution_count": 13,
   "id": "ef4bfd7d",
   "metadata": {
    "execution": {
     "iopub.execute_input": "2022-07-17T19:30:31.037010Z",
     "iopub.status.busy": "2022-07-17T19:30:31.036725Z",
     "iopub.status.idle": "2022-07-17T19:30:31.044491Z",
     "shell.execute_reply": "2022-07-17T19:30:31.043485Z"
    },
    "papermill": {
     "duration": 0.0193,
     "end_time": "2022-07-17T19:30:31.046658",
     "exception": false,
     "start_time": "2022-07-17T19:30:31.027358",
     "status": "completed"
    },
    "tags": []
   },
   "outputs": [],
   "source": [
    "X = X.values.reshape(-1, 28, 28, 1)\n",
    "X_test = X_test.values.reshape(-1, 28, 28, 1)"
   ]
  },
  {
   "cell_type": "code",
   "execution_count": 14,
   "id": "00323fb7",
   "metadata": {
    "execution": {
     "iopub.execute_input": "2022-07-17T19:30:31.064428Z",
     "iopub.status.busy": "2022-07-17T19:30:31.064174Z",
     "iopub.status.idle": "2022-07-17T19:30:31.069125Z",
     "shell.execute_reply": "2022-07-17T19:30:31.068272Z"
    },
    "papermill": {
     "duration": 0.016094,
     "end_time": "2022-07-17T19:30:31.071085",
     "exception": false,
     "start_time": "2022-07-17T19:30:31.054991",
     "status": "completed"
    },
    "tags": []
   },
   "outputs": [],
   "source": [
    "# X[:3]"
   ]
  },
  {
   "cell_type": "code",
   "execution_count": 15,
   "id": "2ced25f0",
   "metadata": {
    "execution": {
     "iopub.execute_input": "2022-07-17T19:30:31.088948Z",
     "iopub.status.busy": "2022-07-17T19:30:31.088703Z",
     "iopub.status.idle": "2022-07-17T19:30:35.230456Z",
     "shell.execute_reply": "2022-07-17T19:30:35.229467Z"
    },
    "papermill": {
     "duration": 4.153481,
     "end_time": "2022-07-17T19:30:35.233005",
     "exception": false,
     "start_time": "2022-07-17T19:30:31.079524",
     "status": "completed"
    },
    "tags": []
   },
   "outputs": [],
   "source": [
    "from keras.utils.np_utils import to_categorical\n",
    "\n",
    "y = to_categorical(y)"
   ]
  },
  {
   "cell_type": "code",
   "execution_count": 16,
   "id": "7d3b8561",
   "metadata": {
    "execution": {
     "iopub.execute_input": "2022-07-17T19:30:35.252826Z",
     "iopub.status.busy": "2022-07-17T19:30:35.251683Z",
     "iopub.status.idle": "2022-07-17T19:30:35.260071Z",
     "shell.execute_reply": "2022-07-17T19:30:35.259001Z"
    },
    "papermill": {
     "duration": 0.020482,
     "end_time": "2022-07-17T19:30:35.262348",
     "exception": false,
     "start_time": "2022-07-17T19:30:35.241866",
     "status": "completed"
    },
    "tags": []
   },
   "outputs": [
    {
     "data": {
      "text/plain": [
       "array([[0., 1., 0., 0., 0., 0., 0., 0., 0., 0.],\n",
       "       [1., 0., 0., 0., 0., 0., 0., 0., 0., 0.],\n",
       "       [0., 1., 0., 0., 0., 0., 0., 0., 0., 0.],\n",
       "       [0., 0., 0., 0., 1., 0., 0., 0., 0., 0.],\n",
       "       [1., 0., 0., 0., 0., 0., 0., 0., 0., 0.]], dtype=float32)"
      ]
     },
     "execution_count": 16,
     "metadata": {},
     "output_type": "execute_result"
    }
   ],
   "source": [
    "y[:5]"
   ]
  },
  {
   "cell_type": "code",
   "execution_count": 17,
   "id": "ecc1ccc3",
   "metadata": {
    "execution": {
     "iopub.execute_input": "2022-07-17T19:30:35.280579Z",
     "iopub.status.busy": "2022-07-17T19:30:35.280323Z",
     "iopub.status.idle": "2022-07-17T19:30:35.662583Z",
     "shell.execute_reply": "2022-07-17T19:30:35.661117Z"
    },
    "papermill": {
     "duration": 0.394445,
     "end_time": "2022-07-17T19:30:35.665348",
     "exception": false,
     "start_time": "2022-07-17T19:30:35.270903",
     "status": "completed"
    },
    "tags": []
   },
   "outputs": [
    {
     "data": {
      "text/plain": [
       "((37800, 28, 28, 1), (37800, 10), (4200, 28, 28, 1), (4200, 10))"
      ]
     },
     "execution_count": 17,
     "metadata": {},
     "output_type": "execute_result"
    }
   ],
   "source": [
    "X_train, X_valid, y_train, y_valid = train_test_split(\n",
    "    X,\n",
    "    y,\n",
    "    test_size=0.1,\n",
    "    random_state=42,\n",
    ")\n",
    "X_train.shape, y_train.shape, X_valid.shape, y_valid.shape"
   ]
  },
  {
   "cell_type": "markdown",
   "id": "579725fa",
   "metadata": {
    "papermill": {
     "duration": 0.00905,
     "end_time": "2022-07-17T19:30:35.683886",
     "exception": false,
     "start_time": "2022-07-17T19:30:35.674836",
     "status": "completed"
    },
    "tags": []
   },
   "source": [
    "<div style=\"background-color:rgba(128, 0, 128, 0.6);border-radius:5px;display:fill\"><h1 style=\"text-align: center;padding: 12px 0px 12px 0px;\">Create Models</h1>\n",
    "</div>"
   ]
  },
  {
   "cell_type": "code",
   "execution_count": 18,
   "id": "bcffcb3d",
   "metadata": {
    "execution": {
     "iopub.execute_input": "2022-07-17T19:30:35.702507Z",
     "iopub.status.busy": "2022-07-17T19:30:35.702223Z",
     "iopub.status.idle": "2022-07-17T19:30:36.104210Z",
     "shell.execute_reply": "2022-07-17T19:30:36.102899Z"
    },
    "papermill": {
     "duration": 0.415244,
     "end_time": "2022-07-17T19:30:36.107720",
     "exception": false,
     "start_time": "2022-07-17T19:30:35.692476",
     "status": "completed"
    },
    "tags": []
   },
   "outputs": [],
   "source": [
    "### import tensorflow as tf\n",
    "from tensorflow import keras\n",
    "from tensorflow.keras import layers\n",
    "\n",
    "\n",
    "def get_tf_model01(x_shape):\n",
    "    print(f\"x_shape=\")\n",
    "    #     input_shape = (height, width, channels)\n",
    "    inputs = keras.Input(shape=(28, 28, 1))\n",
    "\n",
    "    x = keras.layers.Conv2D(\n",
    "        64,\n",
    "        kernel_size=3,\n",
    "        activation=\"relu\",\n",
    "        padding=\"same\",\n",
    "        input_shape=(28, 28, 1),\n",
    "        kernel_initializer=\"he_normal\",\n",
    "    )(inputs)\n",
    "    x = keras.layers.MaxPooling2D((2, 2))(x)\n",
    "    x = keras.layers.Conv2D(\n",
    "        64,\n",
    "        kernel_size=3,\n",
    "        activation=\"relu\",\n",
    "        padding=\"same\",\n",
    "        kernel_initializer=\"he_normal\",\n",
    "    )(x)\n",
    "    x = keras.layers.MaxPooling2D((2, 2))(x)\n",
    "\n",
    "    #     x = keras.layers.MaxPooling2d((2, 2))(x)\n",
    "    #     x = keras.layers.Conv2D(\n",
    "    #         128, activation=\"relu\", padding=\"same\", kernel_initializer=\"he_normal\"\n",
    "    #     )(x)\n",
    "    x = keras.layers.Flatten()(x)\n",
    "    x = keras.layers.BatchNormalization()(x)\n",
    "\n",
    "    #     x = keras.layers.Dense(128, activation=\"relu\")(x)\n",
    "\n",
    "    x = keras.layers.Dense(64, activation=\"relu\")(x)\n",
    "    x = keras.layers.BatchNormalization()(x)\n",
    "    x = keras.layers.Dense(32, activation=\"relu\")(x)\n",
    "    x = keras.layers.BatchNormalization()(x)\n",
    "    #     x = keras.layers.Dropout(0.1)(x)\n",
    "\n",
    "    outputs = keras.layers.Dense(10, activation=\"softmax\")(x)\n",
    "\n",
    "    model = keras.Model(inputs, outputs)\n",
    "\n",
    "    model.compile(\n",
    "        loss=\"categorical_crossentropy\",\n",
    "        optimizer=\"rmsprop\",\n",
    "        metrics=[\"accuracy\"],\n",
    "    )\n",
    "\n",
    "    #     model.compile(\n",
    "    #         optimizer=tf.keras.optimizers.Adam(learning_rate=0.01),\n",
    "    #         loss=\"mean_absolute_error\",\n",
    "    #     )\n",
    "\n",
    "    return model"
   ]
  },
  {
   "cell_type": "code",
   "execution_count": 19,
   "id": "e27ac9c0",
   "metadata": {
    "execution": {
     "iopub.execute_input": "2022-07-17T19:30:36.139165Z",
     "iopub.status.busy": "2022-07-17T19:30:36.138810Z",
     "iopub.status.idle": "2022-07-17T19:30:36.146556Z",
     "shell.execute_reply": "2022-07-17T19:30:36.145645Z"
    },
    "papermill": {
     "duration": 0.024805,
     "end_time": "2022-07-17T19:30:36.148826",
     "exception": false,
     "start_time": "2022-07-17T19:30:36.124021",
     "status": "completed"
    },
    "tags": []
   },
   "outputs": [
    {
     "data": {
      "text/plain": [
       "28"
      ]
     },
     "execution_count": 19,
     "metadata": {},
     "output_type": "execute_result"
    }
   ],
   "source": [
    "X_train.shape[1]"
   ]
  },
  {
   "cell_type": "code",
   "execution_count": 20,
   "id": "40a66c66",
   "metadata": {
    "execution": {
     "iopub.execute_input": "2022-07-17T19:30:36.178210Z",
     "iopub.status.busy": "2022-07-17T19:30:36.177884Z",
     "iopub.status.idle": "2022-07-17T19:30:36.185227Z",
     "shell.execute_reply": "2022-07-17T19:30:36.184396Z"
    },
    "papermill": {
     "duration": 0.024854,
     "end_time": "2022-07-17T19:30:36.187562",
     "exception": false,
     "start_time": "2022-07-17T19:30:36.162708",
     "status": "completed"
    },
    "tags": []
   },
   "outputs": [
    {
     "data": {
      "text/plain": [
       "42000"
      ]
     },
     "execution_count": 20,
     "metadata": {},
     "output_type": "execute_result"
    }
   ],
   "source": [
    "X.shape[0]"
   ]
  },
  {
   "cell_type": "code",
   "execution_count": 21,
   "id": "ed1acd04",
   "metadata": {
    "execution": {
     "iopub.execute_input": "2022-07-17T19:30:36.216996Z",
     "iopub.status.busy": "2022-07-17T19:30:36.216681Z",
     "iopub.status.idle": "2022-07-17T19:30:38.600639Z",
     "shell.execute_reply": "2022-07-17T19:30:38.595239Z"
    },
    "papermill": {
     "duration": 2.401591,
     "end_time": "2022-07-17T19:30:38.603164",
     "exception": false,
     "start_time": "2022-07-17T19:30:36.201573",
     "status": "completed"
    },
    "tags": []
   },
   "outputs": [
    {
     "name": "stdout",
     "output_type": "stream",
     "text": [
      "x_shape=\n"
     ]
    },
    {
     "name": "stderr",
     "output_type": "stream",
     "text": [
      "2022-07-17 19:30:36.326685: I tensorflow/stream_executor/cuda/cuda_gpu_executor.cc:937] successful NUMA node read from SysFS had negative value (-1), but there must be at least one NUMA node, so returning NUMA node zero\n",
      "2022-07-17 19:30:36.446341: I tensorflow/stream_executor/cuda/cuda_gpu_executor.cc:937] successful NUMA node read from SysFS had negative value (-1), but there must be at least one NUMA node, so returning NUMA node zero\n",
      "2022-07-17 19:30:36.447081: I tensorflow/stream_executor/cuda/cuda_gpu_executor.cc:937] successful NUMA node read from SysFS had negative value (-1), but there must be at least one NUMA node, so returning NUMA node zero\n"
     ]
    },
    {
     "name": "stdout",
     "output_type": "stream",
     "text": [
      "Model: \"model\"\n",
      "_________________________________________________________________\n",
      "Layer (type)                 Output Shape              Param #   \n",
      "=================================================================\n",
      "input_1 (InputLayer)         [(None, 28, 28, 1)]       0         \n",
      "_________________________________________________________________\n",
      "conv2d (Conv2D)              (None, 28, 28, 64)        640       \n",
      "_________________________________________________________________\n",
      "max_pooling2d (MaxPooling2D) (None, 14, 14, 64)        0         \n",
      "_________________________________________________________________\n",
      "conv2d_1 (Conv2D)            (None, 14, 14, 64)        36928     \n",
      "_________________________________________________________________\n",
      "max_pooling2d_1 (MaxPooling2 (None, 7, 7, 64)          0         \n",
      "_________________________________________________________________\n",
      "flatten (Flatten)            (None, 3136)              0         \n",
      "_________________________________________________________________\n",
      "batch_normalization (BatchNo (None, 3136)              12544     \n",
      "_________________________________________________________________\n",
      "dense (Dense)                (None, 64)                200768    \n",
      "_________________________________________________________________\n",
      "batch_normalization_1 (Batch (None, 64)                256       \n",
      "_________________________________________________________________\n",
      "dense_1 (Dense)              (None, 32)                2080      \n",
      "_________________________________________________________________\n",
      "batch_normalization_2 (Batch (None, 32)                128       \n",
      "_________________________________________________________________\n",
      "dense_2 (Dense)              (None, 10)                330       \n",
      "=================================================================\n",
      "Total params: 253,674\n",
      "Trainable params: 247,210\n",
      "Non-trainable params: 6,464\n",
      "_________________________________________________________________\n"
     ]
    },
    {
     "name": "stderr",
     "output_type": "stream",
     "text": [
      "2022-07-17 19:30:36.449140: I tensorflow/core/platform/cpu_feature_guard.cc:142] This TensorFlow binary is optimized with oneAPI Deep Neural Network Library (oneDNN) to use the following CPU instructions in performance-critical operations:  AVX2 AVX512F FMA\n",
      "To enable them in other operations, rebuild TensorFlow with the appropriate compiler flags.\n",
      "2022-07-17 19:30:36.449521: I tensorflow/stream_executor/cuda/cuda_gpu_executor.cc:937] successful NUMA node read from SysFS had negative value (-1), but there must be at least one NUMA node, so returning NUMA node zero\n",
      "2022-07-17 19:30:36.450741: I tensorflow/stream_executor/cuda/cuda_gpu_executor.cc:937] successful NUMA node read from SysFS had negative value (-1), but there must be at least one NUMA node, so returning NUMA node zero\n",
      "2022-07-17 19:30:36.451891: I tensorflow/stream_executor/cuda/cuda_gpu_executor.cc:937] successful NUMA node read from SysFS had negative value (-1), but there must be at least one NUMA node, so returning NUMA node zero\n",
      "2022-07-17 19:30:38.179357: I tensorflow/stream_executor/cuda/cuda_gpu_executor.cc:937] successful NUMA node read from SysFS had negative value (-1), but there must be at least one NUMA node, so returning NUMA node zero\n",
      "2022-07-17 19:30:38.180191: I tensorflow/stream_executor/cuda/cuda_gpu_executor.cc:937] successful NUMA node read from SysFS had negative value (-1), but there must be at least one NUMA node, so returning NUMA node zero\n",
      "2022-07-17 19:30:38.180903: I tensorflow/stream_executor/cuda/cuda_gpu_executor.cc:937] successful NUMA node read from SysFS had negative value (-1), but there must be at least one NUMA node, so returning NUMA node zero\n",
      "2022-07-17 19:30:38.181491: I tensorflow/core/common_runtime/gpu/gpu_device.cc:1510] Created device /job:localhost/replica:0/task:0/device:GPU:0 with 15403 MB memory:  -> device: 0, name: Tesla P100-PCIE-16GB, pci bus id: 0000:00:04.0, compute capability: 6.0\n"
     ]
    }
   ],
   "source": [
    "model = get_tf_model01(x_shape=(28, 28))\n",
    "\n",
    "model.summary()"
   ]
  },
  {
   "cell_type": "code",
   "execution_count": 22,
   "id": "61c7ff0c",
   "metadata": {
    "execution": {
     "iopub.execute_input": "2022-07-17T19:30:38.623048Z",
     "iopub.status.busy": "2022-07-17T19:30:38.622772Z",
     "iopub.status.idle": "2022-07-17T19:30:39.522682Z",
     "shell.execute_reply": "2022-07-17T19:30:39.521618Z"
    },
    "papermill": {
     "duration": 0.912206,
     "end_time": "2022-07-17T19:30:39.524937",
     "exception": false,
     "start_time": "2022-07-17T19:30:38.612731",
     "status": "completed"
    },
    "tags": []
   },
   "outputs": [
    {
     "data": {
      "image/png": "[encoded data removed]",
      "text/plain": [
       "<IPython.core.display.Image object>"
      ]
     },
     "execution_count": 22,
     "metadata": {},
     "output_type": "execute_result"
    }
   ],
   "source": [
    "keras.utils.plot_model(model)"
   ]
  },
  {
   "cell_type": "code",
   "execution_count": 23,
   "id": "49d593ad",
   "metadata": {
    "execution": {
     "iopub.execute_input": "2022-07-17T19:30:39.547519Z",
     "iopub.status.busy": "2022-07-17T19:30:39.546108Z",
     "iopub.status.idle": "2022-07-17T19:31:18.481732Z",
     "shell.execute_reply": "2022-07-17T19:31:18.480575Z"
    },
    "papermill": {
     "duration": 38.949229,
     "end_time": "2022-07-17T19:31:18.484380",
     "exception": false,
     "start_time": "2022-07-17T19:30:39.535151",
     "status": "completed"
    },
    "tags": []
   },
   "outputs": [
    {
     "name": "stderr",
     "output_type": "stream",
     "text": [
      "2022-07-17 19:30:39.816913: I tensorflow/compiler/mlir/mlir_graph_optimization_pass.cc:185] None of the MLIR Optimization Passes are enabled (registered 2)\n"
     ]
    },
    {
     "name": "stdout",
     "output_type": "stream",
     "text": [
      "Epoch 1/10\n"
     ]
    },
    {
     "name": "stderr",
     "output_type": "stream",
     "text": [
      "2022-07-17 19:30:41.817499: I tensorflow/stream_executor/cuda/cuda_dnn.cc:369] Loaded cuDNN version 8005\n"
     ]
    },
    {
     "name": "stdout",
     "output_type": "stream",
     "text": [
      "473/473 [==============================] - 11s 7ms/step - loss: 0.1839 - accuracy: 0.9501 - val_loss: 0.1359 - val_accuracy: 0.9562\n",
      "Epoch 2/10\n",
      "473/473 [==============================] - 3s 6ms/step - loss: 0.0555 - accuracy: 0.9826 - val_loss: 0.1013 - val_accuracy: 0.9728\n",
      "Epoch 3/10\n",
      "473/473 [==============================] - 3s 6ms/step - loss: 0.0374 - accuracy: 0.9876 - val_loss: 0.1348 - val_accuracy: 0.9619\n",
      "Epoch 4/10\n",
      "473/473 [==============================] - 3s 7ms/step - loss: 0.0281 - accuracy: 0.9908 - val_loss: 0.0714 - val_accuracy: 0.9796\n",
      "Epoch 5/10\n",
      "473/473 [==============================] - 3s 6ms/step - loss: 0.0217 - accuracy: 0.9936 - val_loss: 0.0613 - val_accuracy: 0.9832\n",
      "Epoch 6/10\n",
      "473/473 [==============================] - 3s 6ms/step - loss: 0.0169 - accuracy: 0.9941 - val_loss: 0.0544 - val_accuracy: 0.9854\n",
      "Epoch 7/10\n",
      "473/473 [==============================] - 3s 6ms/step - loss: 0.0136 - accuracy: 0.9956 - val_loss: 0.0671 - val_accuracy: 0.9820\n",
      "Epoch 8/10\n",
      "473/473 [==============================] - 3s 7ms/step - loss: 0.0113 - accuracy: 0.9961 - val_loss: 0.0560 - val_accuracy: 0.9866\n",
      "Epoch 9/10\n",
      "473/473 [==============================] - 3s 6ms/step - loss: 0.0095 - accuracy: 0.9967 - val_loss: 0.0592 - val_accuracy: 0.9849\n",
      "Epoch 10/10\n",
      "473/473 [==============================] - 3s 7ms/step - loss: 0.0087 - accuracy: 0.9974 - val_loss: 0.0606 - val_accuracy: 0.9857\n",
      "CPU times: user 39.7 s, sys: 4.35 s, total: 44 s\n",
      "Wall time: 38.9 s\n"
     ]
    }
   ],
   "source": [
    "%%time\n",
    "\n",
    "history = model.fit(\n",
    "    X_train,\n",
    "    y_train,\n",
    "    batch_size=64,\n",
    "    epochs=10,\n",
    "    # Suppress logging.\n",
    "    verbose=1,\n",
    "    # Calculate validation results on 20% of the training data.\n",
    "    validation_split = 0.2\n",
    ")"
   ]
  },
  {
   "cell_type": "code",
   "execution_count": 24,
   "id": "3bac07c0",
   "metadata": {
    "execution": {
     "iopub.execute_input": "2022-07-17T19:31:18.568323Z",
     "iopub.status.busy": "2022-07-17T19:31:18.568013Z",
     "iopub.status.idle": "2022-07-17T19:31:18.956475Z",
     "shell.execute_reply": "2022-07-17T19:31:18.955529Z"
    },
    "papermill": {
     "duration": 0.434547,
     "end_time": "2022-07-17T19:31:18.961053",
     "exception": false,
     "start_time": "2022-07-17T19:31:18.526506",
     "status": "completed"
    },
    "tags": []
   },
   "outputs": [
    {
     "data": {
      "image/png": "[encoded data removed]",
      "text/plain": [
       "<Figure size 432x288 with 1 Axes>"
      ]
     },
     "metadata": {
      "needs_background": "light"
     },
     "output_type": "display_data"
    },
    {
     "data": {
      "image/png": "[encoded data removed]",
      "text/plain": [
       "<Figure size 432x288 with 1 Axes>"
      ]
     },
     "metadata": {
      "needs_background": "light"
     },
     "output_type": "display_data"
    }
   ],
   "source": [
    "acc = history.history[\"accuracy\"]\n",
    "val_acc = history.history[\"val_accuracy\"]\n",
    "loss = history.history[\"loss\"]\n",
    "val_loss = history.history[\"val_loss\"]\n",
    "\n",
    "epochs = range(1, len(acc) + 1)\n",
    "\n",
    "plt.plot(epochs, acc, \"bo\", label=\"Training acc\")\n",
    "plt.plot(epochs, val_acc, \"b\", label=\"Validation acc\")\n",
    "plt.title(\"Training and validation accuracy\")\n",
    "plt.legend()\n",
    "\n",
    "plt.figure()\n",
    "\n",
    "plt.plot(epochs, loss, \"bo\", label=\"Training loss\")\n",
    "plt.plot(epochs, val_loss, \"b\", label=\"Validation loss\")\n",
    "plt.title(\"Training and validation loss\")\n",
    "plt.legend()\n",
    "\n",
    "plt.show()"
   ]
  },
  {
   "cell_type": "markdown",
   "id": "287b02f3",
   "metadata": {
    "papermill": {
     "duration": 0.041173,
     "end_time": "2022-07-17T19:31:19.043642",
     "exception": false,
     "start_time": "2022-07-17T19:31:19.002469",
     "status": "completed"
    },
    "tags": []
   },
   "source": [
    "## Predict and Score"
   ]
  },
  {
   "cell_type": "code",
   "execution_count": 25,
   "id": "83465725",
   "metadata": {
    "execution": {
     "iopub.execute_input": "2022-07-17T19:31:19.128048Z",
     "iopub.status.busy": "2022-07-17T19:31:19.127402Z",
     "iopub.status.idle": "2022-07-17T19:31:19.816473Z",
     "shell.execute_reply": "2022-07-17T19:31:19.815569Z"
    },
    "papermill": {
     "duration": 0.733304,
     "end_time": "2022-07-17T19:31:19.818551",
     "exception": false,
     "start_time": "2022-07-17T19:31:19.085247",
     "status": "completed"
    },
    "tags": []
   },
   "outputs": [
    {
     "name": "stdout",
     "output_type": "stream",
     "text": [
      "132/132 [==============================] - 0s 3ms/step - loss: 0.0519 - accuracy: 0.9881\n"
     ]
    },
    {
     "data": {
      "text/plain": [
       "0.988095223903656"
      ]
     },
     "execution_count": 25,
     "metadata": {},
     "output_type": "execute_result"
    }
   ],
   "source": [
    "test_loss, test_acc = model.evaluate(X_valid, y_valid)\n",
    "test_acc"
   ]
  },
  {
   "cell_type": "code",
   "execution_count": 26,
   "id": "4d22948a",
   "metadata": {
    "execution": {
     "iopub.execute_input": "2022-07-17T19:31:19.905206Z",
     "iopub.status.busy": "2022-07-17T19:31:19.904899Z",
     "iopub.status.idle": "2022-07-17T19:31:20.447183Z",
     "shell.execute_reply": "2022-07-17T19:31:20.446227Z"
    },
    "papermill": {
     "duration": 0.588084,
     "end_time": "2022-07-17T19:31:20.450048",
     "exception": false,
     "start_time": "2022-07-17T19:31:19.861964",
     "status": "completed"
    },
    "tags": []
   },
   "outputs": [
    {
     "data": {
      "text/plain": [
       "array([[4.50310678e-09, 7.53239637e-10, 1.06846734e-07, 1.48867557e-10,\n",
       "        9.61560076e-09, 4.69598416e-10, 4.85784124e-09, 5.48133405e-09,\n",
       "        9.99999881e-01, 1.48438151e-08],\n",
       "       [1.80863875e-08, 9.99999642e-01, 4.90933849e-10, 9.12615730e-12,\n",
       "        1.81870959e-07, 7.35310868e-10, 5.14775200e-09, 2.28995262e-07,\n",
       "        4.99497368e-08, 2.14320273e-09],\n",
       "       [4.16620383e-09, 1.08063523e-08, 1.11241205e-09, 1.23810452e-07,\n",
       "        1.16617218e-06, 4.71770782e-08, 1.90388164e-07, 4.72804906e-08,\n",
       "        3.80878014e-08, 9.99998450e-01],\n",
       "       [5.32657385e-09, 1.02101767e-08, 2.82422619e-09, 1.10203572e-07,\n",
       "        1.59790829e-07, 1.28353548e-07, 3.89760899e-08, 1.02698805e-05,\n",
       "        2.91938733e-07, 9.99989033e-01],\n",
       "       [3.00590131e-09, 7.24619809e-10, 8.93434127e-09, 7.49930074e-09,\n",
       "        2.74865517e-08, 2.40876741e-09, 1.77570811e-08, 5.11833287e-09,\n",
       "        9.99999881e-01, 2.37514950e-08]], dtype=float32)"
      ]
     },
     "execution_count": 26,
     "metadata": {},
     "output_type": "execute_result"
    }
   ],
   "source": [
    "valid_preds = model.predict(X_valid)\n",
    "valid_preds[:5]"
   ]
  },
  {
   "cell_type": "code",
   "execution_count": 27,
   "id": "b04eaa33",
   "metadata": {
    "execution": {
     "iopub.execute_input": "2022-07-17T19:31:20.557340Z",
     "iopub.status.busy": "2022-07-17T19:31:20.556485Z",
     "iopub.status.idle": "2022-07-17T19:31:20.563523Z",
     "shell.execute_reply": "2022-07-17T19:31:20.562644Z"
    },
    "papermill": {
     "duration": 0.051761,
     "end_time": "2022-07-17T19:31:20.565652",
     "exception": false,
     "start_time": "2022-07-17T19:31:20.513891",
     "status": "completed"
    },
    "tags": []
   },
   "outputs": [],
   "source": [
    "valid_preds = np.argmax(valid_preds, axis=1)"
   ]
  },
  {
   "cell_type": "code",
   "execution_count": 28,
   "id": "2de4f009",
   "metadata": {
    "execution": {
     "iopub.execute_input": "2022-07-17T19:31:20.651659Z",
     "iopub.status.busy": "2022-07-17T19:31:20.651348Z",
     "iopub.status.idle": "2022-07-17T19:31:20.655988Z",
     "shell.execute_reply": "2022-07-17T19:31:20.654960Z"
    },
    "papermill": {
     "duration": 0.050064,
     "end_time": "2022-07-17T19:31:20.658229",
     "exception": false,
     "start_time": "2022-07-17T19:31:20.608165",
     "status": "completed"
    },
    "tags": []
   },
   "outputs": [],
   "source": [
    "# show_scores(y_valid, valid_preds)"
   ]
  },
  {
   "cell_type": "code",
   "execution_count": 29,
   "id": "8d0a7bb4",
   "metadata": {
    "execution": {
     "iopub.execute_input": "2022-07-17T19:31:20.743169Z",
     "iopub.status.busy": "2022-07-17T19:31:20.742872Z",
     "iopub.status.idle": "2022-07-17T19:31:23.618472Z",
     "shell.execute_reply": "2022-07-17T19:31:23.617538Z"
    },
    "papermill": {
     "duration": 2.920544,
     "end_time": "2022-07-17T19:31:23.620583",
     "exception": false,
     "start_time": "2022-07-17T19:31:20.700039",
     "status": "completed"
    },
    "tags": []
   },
   "outputs": [
    {
     "data": {
      "text/plain": [
       "array([[1.69554895e-07, 6.13572624e-08, 9.99999762e-01, 3.38160007e-08,\n",
       "        6.96885527e-09, 1.83738731e-08, 1.15865095e-08, 1.89490135e-09,\n",
       "        2.62553765e-08, 2.01962287e-08],\n",
       "       [9.99998093e-01, 5.16096001e-08, 2.33891441e-07, 3.49247142e-09,\n",
       "        2.81711787e-09, 1.47509195e-06, 1.66222023e-07, 2.27655228e-08,\n",
       "        4.01211908e-09, 5.22707708e-08],\n",
       "       [2.17207100e-10, 1.78160860e-07, 4.55526683e-09, 3.44269750e-08,\n",
       "        3.44624386e-05, 7.95981165e-08, 3.41332225e-07, 9.67034168e-08,\n",
       "        1.22090148e-06, 9.99963641e-01],\n",
       "       [2.94398576e-01, 2.14070747e-06, 2.19643829e-04, 4.34816990e-04,\n",
       "        5.04004402e-06, 1.39242920e-05, 3.67164575e-05, 2.91805877e-03,\n",
       "        7.02662102e-04, 7.01268435e-01],\n",
       "       [1.31951666e-07, 4.77159503e-08, 4.79112032e-06, 9.99976754e-01,\n",
       "        1.06690919e-07, 1.46977777e-06, 1.11038014e-06, 8.37643839e-08,\n",
       "        1.03247075e-05, 5.15432794e-06]], dtype=float32)"
      ]
     },
     "execution_count": 29,
     "metadata": {},
     "output_type": "execute_result"
    }
   ],
   "source": [
    "preds = model.predict(X_test)\n",
    "preds[:5]"
   ]
  },
  {
   "cell_type": "code",
   "execution_count": 30,
   "id": "862d1560",
   "metadata": {
    "execution": {
     "iopub.execute_input": "2022-07-17T19:31:23.709382Z",
     "iopub.status.busy": "2022-07-17T19:31:23.709081Z",
     "iopub.status.idle": "2022-07-17T19:31:23.715858Z",
     "shell.execute_reply": "2022-07-17T19:31:23.714993Z"
    },
    "papermill": {
     "duration": 0.053784,
     "end_time": "2022-07-17T19:31:23.717839",
     "exception": false,
     "start_time": "2022-07-17T19:31:23.664055",
     "status": "completed"
    },
    "tags": []
   },
   "outputs": [],
   "source": [
    "preds = np.argmax(preds, axis=1)"
   ]
  },
  {
   "cell_type": "markdown",
   "id": "4c6987c6",
   "metadata": {
    "papermill": {
     "duration": 0.042149,
     "end_time": "2022-07-17T19:31:23.802390",
     "exception": false,
     "start_time": "2022-07-17T19:31:23.760241",
     "status": "completed"
    },
    "tags": []
   },
   "source": [
    "## Submission"
   ]
  },
  {
   "cell_type": "code",
   "execution_count": 31,
   "id": "0ebdaa57",
   "metadata": {
    "execution": {
     "iopub.execute_input": "2022-07-17T19:31:23.888066Z",
     "iopub.status.busy": "2022-07-17T19:31:23.887759Z",
     "iopub.status.idle": "2022-07-17T19:31:23.939829Z",
     "shell.execute_reply": "2022-07-17T19:31:23.938739Z"
    },
    "papermill": {
     "duration": 0.097501,
     "end_time": "2022-07-17T19:31:23.941732",
     "exception": false,
     "start_time": "2022-07-17T19:31:23.844231",
     "status": "completed"
    },
    "tags": []
   },
   "outputs": [
    {
     "data": {
      "text/html": [
       "<div>\n",
       "<style scoped>\n",
       "    .dataframe tbody tr th:only-of-type {\n",
       "        vertical-align: middle;\n",
       "    }\n",
       "\n",
       "    .dataframe tbody tr th {\n",
       "        vertical-align: top;\n",
       "    }\n",
       "\n",
       "    .dataframe thead th {\n",
       "        text-align: right;\n",
       "    }\n",
       "</style>\n",
       "<table border=\"1\" class=\"dataframe\">\n",
       "  <thead>\n",
       "    <tr style=\"text-align: right;\">\n",
       "      <th></th>\n",
       "      <th>ImageId</th>\n",
       "      <th>Label</th>\n",
       "    </tr>\n",
       "  </thead>\n",
       "  <tbody>\n",
       "    <tr>\n",
       "      <th>0</th>\n",
       "      <td>1</td>\n",
       "      <td>2</td>\n",
       "    </tr>\n",
       "    <tr>\n",
       "      <th>1</th>\n",
       "      <td>2</td>\n",
       "      <td>0</td>\n",
       "    </tr>\n",
       "    <tr>\n",
       "      <th>2</th>\n",
       "      <td>3</td>\n",
       "      <td>9</td>\n",
       "    </tr>\n",
       "    <tr>\n",
       "      <th>3</th>\n",
       "      <td>4</td>\n",
       "      <td>9</td>\n",
       "    </tr>\n",
       "    <tr>\n",
       "      <th>4</th>\n",
       "      <td>5</td>\n",
       "      <td>3</td>\n",
       "    </tr>\n",
       "  </tbody>\n",
       "</table>\n",
       "</div>"
      ],
      "text/plain": [
       "   ImageId  Label\n",
       "0        1      2\n",
       "1        2      0\n",
       "2        3      9\n",
       "3        4      9\n",
       "4        5      3"
      ]
     },
     "execution_count": 31,
     "metadata": {},
     "output_type": "execute_result"
    }
   ],
   "source": [
    "# Different TARGET name used in test.csv\n",
    "ss = create_submission(\"\", \"Label\", preds)\n",
    "ss"
   ]
  }
 ],
 "metadata": {
  "kernelspec": {
   "display_name": "Python 3",
   "language": "python",
   "name": "python3"
  },
  "language_info": {
   "codemirror_mode": {
    "name": "ipython",
    "version": 3
   },
   "file_extension": ".py",
   "mimetype": "text/x-python",
   "name": "python",
   "nbconvert_exporter": "python",
   "pygments_lexer": "ipython3",
   "version": "3.7.12"
  },
  "papermill": {
   "default_parameters": {},
   "duration": 85.472483,
   "end_time": "2022-07-17T19:31:27.657879",
   "environment_variables": {},
   "exception": null,
   "input_path": "__notebook__.ipynb",
   "output_path": "__notebook__.ipynb",
   "parameters": {},
   "start_time": "2022-07-17T19:30:02.185396",
   "version": "2.3.4"
  }
 },
 "nbformat": 4,
 "nbformat_minor": 5
}
