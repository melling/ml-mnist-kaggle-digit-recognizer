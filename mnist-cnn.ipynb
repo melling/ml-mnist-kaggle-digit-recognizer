{
 "cells": [
  {
   "cell_type": "markdown",
   "id": "65936015",
   "metadata": {
    "papermill": {
     "duration": 0.009193,
     "end_time": "2022-07-24T22:05:06.931537",
     "exception": false,
     "start_time": "2022-07-24T22:05:06.922344",
     "status": "completed"
    },
    "tags": []
   },
   "source": [
    "<div style=\"background-color:rgba(128, 0, 128, 0.6);border-radius:5px;display:fill\"><h1 style=\"text-align: center;padding: 12px 0px 12px 0px;\">MNIST: CNN</h1>\n",
    "</div>\n",
    "\n",
    "Problem Type: Multi-classification\n",
    "\n",
    "## Evaluation Metric"
   ]
  },
  {
   "cell_type": "code",
   "execution_count": 1,
   "id": "50e6e87c",
   "metadata": {
    "execution": {
     "iopub.execute_input": "2022-07-24T22:05:06.950446Z",
     "iopub.status.busy": "2022-07-24T22:05:06.949578Z",
     "iopub.status.idle": "2022-07-24T22:05:19.455338Z",
     "shell.execute_reply": "2022-07-24T22:05:19.454231Z"
    },
    "papermill": {
     "duration": 12.518492,
     "end_time": "2022-07-24T22:05:19.458234",
     "exception": false,
     "start_time": "2022-07-24T22:05:06.939742",
     "status": "completed"
    },
    "tags": []
   },
   "outputs": [
    {
     "name": "stdout",
     "output_type": "stream",
     "text": [
      "\u001b[33mWARNING: Running pip as the 'root' user can result in broken permissions and conflicting behaviour with the system package manager. It is recommended to use a virtual environment instead: https://pip.pypa.io/warnings/venv\u001b[0m\u001b[33m\r\n",
      "\u001b[0m"
     ]
    }
   ],
   "source": [
    "# Black formatter https://black.readthedocs.io/en/stable/\n",
    "\n",
    "! pip install nb-black > /dev/null\n",
    "\n",
    "%load_ext lab_black"
   ]
  },
  {
   "cell_type": "markdown",
   "id": "10b6b22a",
   "metadata": {
    "papermill": {
     "duration": 0.008249,
     "end_time": "2022-07-24T22:05:19.474972",
     "exception": false,
     "start_time": "2022-07-24T22:05:19.466723",
     "status": "completed"
    },
    "tags": []
   },
   "source": [
    "<div style=\"background-color:rgba(128, 0, 128, 0.6);border-radius:5px;display:fill\"><h1 style=\"text-align: center;padding: 12px 0px 12px 0px;\">Configuration</h1>\n",
    "</div>"
   ]
  },
  {
   "cell_type": "code",
   "execution_count": 2,
   "id": "f39915e3",
   "metadata": {
    "execution": {
     "iopub.execute_input": "2022-07-24T22:05:19.493006Z",
     "iopub.status.busy": "2022-07-24T22:05:19.492205Z",
     "iopub.status.idle": "2022-07-24T22:05:19.498430Z",
     "shell.execute_reply": "2022-07-24T22:05:19.497524Z"
    },
    "papermill": {
     "duration": 0.017235,
     "end_time": "2022-07-24T22:05:19.500338",
     "exception": false,
     "start_time": "2022-07-24T22:05:19.483103",
     "status": "completed"
    },
    "tags": []
   },
   "outputs": [],
   "source": [
    "data_dir = \"../input/digit-recognizer\""
   ]
  },
  {
   "cell_type": "code",
   "execution_count": 3,
   "id": "be96b030",
   "metadata": {
    "execution": {
     "iopub.execute_input": "2022-07-24T22:05:19.518319Z",
     "iopub.status.busy": "2022-07-24T22:05:19.517517Z",
     "iopub.status.idle": "2022-07-24T22:05:19.522675Z",
     "shell.execute_reply": "2022-07-24T22:05:19.521849Z"
    },
    "papermill": {
     "duration": 0.015927,
     "end_time": "2022-07-24T22:05:19.524558",
     "exception": false,
     "start_time": "2022-07-24T22:05:19.508631",
     "status": "completed"
    },
    "tags": []
   },
   "outputs": [],
   "source": [
    "TARGET = \"label\""
   ]
  },
  {
   "cell_type": "markdown",
   "id": "4abfccbd",
   "metadata": {
    "papermill": {
     "duration": 0.00839,
     "end_time": "2022-07-24T22:05:19.541239",
     "exception": false,
     "start_time": "2022-07-24T22:05:19.532849",
     "status": "completed"
    },
    "tags": []
   },
   "source": [
    "<div style=\"background-color:rgba(128, 0, 128, 0.6);border-radius:5px;display:fill\"><h1 style=\"text-align: center;padding: 12px 0px 12px 0px;\">Import Libraries</h1>\n",
    "</div>\n",
    "\n",
    "A best practise is to include all libraries here.  However, I will put a few imports farther down where they are first used so beginners can learn with an \"as needed\" approach."
   ]
  },
  {
   "cell_type": "code",
   "execution_count": 4,
   "id": "044516d5",
   "metadata": {
    "execution": {
     "iopub.execute_input": "2022-07-24T22:05:19.559098Z",
     "iopub.status.busy": "2022-07-24T22:05:19.558338Z",
     "iopub.status.idle": "2022-07-24T22:05:20.674413Z",
     "shell.execute_reply": "2022-07-24T22:05:20.673310Z"
    },
    "papermill": {
     "duration": 1.127824,
     "end_time": "2022-07-24T22:05:20.677231",
     "exception": false,
     "start_time": "2022-07-24T22:05:19.549407",
     "status": "completed"
    },
    "tags": []
   },
   "outputs": [],
   "source": [
    "import os\n",
    "import time\n",
    "from pathlib import Path\n",
    "\n",
    "import pandas as pd\n",
    "import numpy as np\n",
    "\n",
    "from sklearn.model_selection import train_test_split\n",
    "\n",
    "from sklearn.metrics import f1_score\n",
    "\n",
    "# Visualization Libraries\n",
    "import matplotlib.pylab as plt\n",
    "import seaborn as sns"
   ]
  },
  {
   "cell_type": "markdown",
   "id": "759cd8f0",
   "metadata": {
    "papermill": {
     "duration": 0.007928,
     "end_time": "2022-07-24T22:05:20.693719",
     "exception": false,
     "start_time": "2022-07-24T22:05:20.685791",
     "status": "completed"
    },
    "tags": []
   },
   "source": [
    "<div style=\"background-color:rgba(128, 0, 128, 0.6);border-radius:5px;display:fill\"><h1 style=\"text-align: center;padding: 12px 0px 12px 0px;\">Library</h1>\n",
    "</div>\n",
    "\n",
    "Creating a few functions that we will reuse in each project."
   ]
  },
  {
   "cell_type": "code",
   "execution_count": 5,
   "id": "08537409",
   "metadata": {
    "execution": {
     "iopub.execute_input": "2022-07-24T22:05:20.711567Z",
     "iopub.status.busy": "2022-07-24T22:05:20.710701Z",
     "iopub.status.idle": "2022-07-24T22:05:20.723217Z",
     "shell.execute_reply": "2022-07-24T22:05:20.722387Z"
    },
    "papermill": {
     "duration": 0.02323,
     "end_time": "2022-07-24T22:05:20.724971",
     "exception": false,
     "start_time": "2022-07-24T22:05:20.701741",
     "status": "completed"
    },
    "tags": []
   },
   "outputs": [],
   "source": [
    "def read_data(path):\n",
    "    data_dir = Path(path)\n",
    "\n",
    "    train = pd.read_csv(data_dir / \"train.csv\")\n",
    "    test = pd.read_csv(data_dir / \"test.csv\")\n",
    "    submission_df = pd.read_csv(data_dir / \"sample_submission.csv\")\n",
    "\n",
    "    print(f\"train data: Rows={train.shape[0]}, Columns={train.shape[1]}\")\n",
    "    print(f\"test data : Rows={test.shape[0]}, Columns={test.shape[1]}\")\n",
    "    return train, test, submission_df"
   ]
  },
  {
   "cell_type": "code",
   "execution_count": 6,
   "id": "df713479",
   "metadata": {
    "execution": {
     "iopub.execute_input": "2022-07-24T22:05:20.743422Z",
     "iopub.status.busy": "2022-07-24T22:05:20.742104Z",
     "iopub.status.idle": "2022-07-24T22:05:20.755380Z",
     "shell.execute_reply": "2022-07-24T22:05:20.754552Z"
    },
    "papermill": {
     "duration": 0.024067,
     "end_time": "2022-07-24T22:05:20.757218",
     "exception": false,
     "start_time": "2022-07-24T22:05:20.733151",
     "status": "completed"
    },
    "tags": []
   },
   "outputs": [],
   "source": [
    "def create_submission(model_name, target, preds, is_log_target=False):\n",
    "    if is_log_target:\n",
    "        #         preds = np.exp(preds)\n",
    "        preds = np.expm1(preds)\n",
    "\n",
    "    sample_submission[target] = preds\n",
    "    if len(model_name) > 0:\n",
    "        sample_submission.to_csv(f\"submission_{model_name}.csv\", index=False)\n",
    "    else:\n",
    "        sample_submission.to_csv(f\"submission.csv\", index=False)\n",
    "\n",
    "    return sample_submission[:5]"
   ]
  },
  {
   "cell_type": "code",
   "execution_count": 7,
   "id": "1962dd79",
   "metadata": {
    "execution": {
     "iopub.execute_input": "2022-07-24T22:05:20.774585Z",
     "iopub.status.busy": "2022-07-24T22:05:20.774341Z",
     "iopub.status.idle": "2022-07-24T22:05:20.784785Z",
     "shell.execute_reply": "2022-07-24T22:05:20.783797Z"
    },
    "papermill": {
     "duration": 0.021422,
     "end_time": "2022-07-24T22:05:20.787050",
     "exception": false,
     "start_time": "2022-07-24T22:05:20.765628",
     "status": "completed"
    },
    "tags": []
   },
   "outputs": [],
   "source": [
    "from sklearn.metrics import mean_absolute_error, mean_squared_error, f1_score\n",
    "\n",
    "\n",
    "def show_scores(gt, yhat):\n",
    "    f1 = f1_score(gt, yhat, average=\"macro\")\n",
    "    mse = mean_squared_error(gt, yhat)\n",
    "    mae = mean_absolute_error(gt, yhat)\n",
    "    rmse = np.sqrt(mse)\n",
    "    #     r2_square = r2_score(gt, yhat)\n",
    "\n",
    "    print(f\"f1: {f1:.4f}\")"
   ]
  },
  {
   "cell_type": "markdown",
   "id": "bea235ce",
   "metadata": {
    "papermill": {
     "duration": 0.008364,
     "end_time": "2022-07-24T22:05:20.803392",
     "exception": false,
     "start_time": "2022-07-24T22:05:20.795028",
     "status": "completed"
    },
    "tags": []
   },
   "source": [
    "<div style=\"background-color:rgba(128, 0, 128, 0.6);border-radius:5px;display:fill\"><h1 style=\"text-align: center;padding: 12px 0px 12px 0px;\">Load Train/Test Data</h1>\n",
    "</div>\n",
    "\n",
    "- train.csv - Data used to build our machine learning model\n",
    "- test.csv - Data used to build our machine learning model. Does not contain the target variable\n",
    "- sample_submission.csv - A file in the proper format to submit test predictions"
   ]
  },
  {
   "cell_type": "code",
   "execution_count": 8,
   "id": "1a1de34c",
   "metadata": {
    "execution": {
     "iopub.execute_input": "2022-07-24T22:05:20.821468Z",
     "iopub.status.busy": "2022-07-24T22:05:20.820564Z",
     "iopub.status.idle": "2022-07-24T22:05:25.568674Z",
     "shell.execute_reply": "2022-07-24T22:05:25.567441Z"
    },
    "papermill": {
     "duration": 4.760024,
     "end_time": "2022-07-24T22:05:25.571454",
     "exception": false,
     "start_time": "2022-07-24T22:05:20.811430",
     "status": "completed"
    },
    "tags": []
   },
   "outputs": [
    {
     "name": "stdout",
     "output_type": "stream",
     "text": [
      "train data: Rows=42000, Columns=785\n",
      "test data : Rows=28000, Columns=784\n"
     ]
    }
   ],
   "source": [
    "train, test, sample_submission = read_data(data_dir)"
   ]
  },
  {
   "cell_type": "code",
   "execution_count": 9,
   "id": "22051c8c",
   "metadata": {
    "execution": {
     "iopub.execute_input": "2022-07-24T22:05:25.589639Z",
     "iopub.status.busy": "2022-07-24T22:05:25.589365Z",
     "iopub.status.idle": "2022-07-24T22:05:25.613710Z",
     "shell.execute_reply": "2022-07-24T22:05:25.612785Z"
    },
    "papermill": {
     "duration": 0.035399,
     "end_time": "2022-07-24T22:05:25.615691",
     "exception": false,
     "start_time": "2022-07-24T22:05:25.580292",
     "status": "completed"
    },
    "tags": []
   },
   "outputs": [
    {
     "data": {
      "text/html": [
       "<div>\n",
       "<style scoped>\n",
       "    .dataframe tbody tr th:only-of-type {\n",
       "        vertical-align: middle;\n",
       "    }\n",
       "\n",
       "    .dataframe tbody tr th {\n",
       "        vertical-align: top;\n",
       "    }\n",
       "\n",
       "    .dataframe thead th {\n",
       "        text-align: right;\n",
       "    }\n",
       "</style>\n",
       "<table border=\"1\" class=\"dataframe\">\n",
       "  <thead>\n",
       "    <tr style=\"text-align: right;\">\n",
       "      <th></th>\n",
       "      <th>label</th>\n",
       "      <th>pixel0</th>\n",
       "      <th>pixel1</th>\n",
       "      <th>pixel2</th>\n",
       "      <th>pixel3</th>\n",
       "      <th>pixel4</th>\n",
       "      <th>pixel5</th>\n",
       "      <th>pixel6</th>\n",
       "      <th>pixel7</th>\n",
       "      <th>pixel8</th>\n",
       "      <th>...</th>\n",
       "      <th>pixel774</th>\n",
       "      <th>pixel775</th>\n",
       "      <th>pixel776</th>\n",
       "      <th>pixel777</th>\n",
       "      <th>pixel778</th>\n",
       "      <th>pixel779</th>\n",
       "      <th>pixel780</th>\n",
       "      <th>pixel781</th>\n",
       "      <th>pixel782</th>\n",
       "      <th>pixel783</th>\n",
       "    </tr>\n",
       "  </thead>\n",
       "  <tbody>\n",
       "    <tr>\n",
       "      <th>0</th>\n",
       "      <td>1</td>\n",
       "      <td>0</td>\n",
       "      <td>0</td>\n",
       "      <td>0</td>\n",
       "      <td>0</td>\n",
       "      <td>0</td>\n",
       "      <td>0</td>\n",
       "      <td>0</td>\n",
       "      <td>0</td>\n",
       "      <td>0</td>\n",
       "      <td>...</td>\n",
       "      <td>0</td>\n",
       "      <td>0</td>\n",
       "      <td>0</td>\n",
       "      <td>0</td>\n",
       "      <td>0</td>\n",
       "      <td>0</td>\n",
       "      <td>0</td>\n",
       "      <td>0</td>\n",
       "      <td>0</td>\n",
       "      <td>0</td>\n",
       "    </tr>\n",
       "    <tr>\n",
       "      <th>1</th>\n",
       "      <td>0</td>\n",
       "      <td>0</td>\n",
       "      <td>0</td>\n",
       "      <td>0</td>\n",
       "      <td>0</td>\n",
       "      <td>0</td>\n",
       "      <td>0</td>\n",
       "      <td>0</td>\n",
       "      <td>0</td>\n",
       "      <td>0</td>\n",
       "      <td>...</td>\n",
       "      <td>0</td>\n",
       "      <td>0</td>\n",
       "      <td>0</td>\n",
       "      <td>0</td>\n",
       "      <td>0</td>\n",
       "      <td>0</td>\n",
       "      <td>0</td>\n",
       "      <td>0</td>\n",
       "      <td>0</td>\n",
       "      <td>0</td>\n",
       "    </tr>\n",
       "    <tr>\n",
       "      <th>2</th>\n",
       "      <td>1</td>\n",
       "      <td>0</td>\n",
       "      <td>0</td>\n",
       "      <td>0</td>\n",
       "      <td>0</td>\n",
       "      <td>0</td>\n",
       "      <td>0</td>\n",
       "      <td>0</td>\n",
       "      <td>0</td>\n",
       "      <td>0</td>\n",
       "      <td>...</td>\n",
       "      <td>0</td>\n",
       "      <td>0</td>\n",
       "      <td>0</td>\n",
       "      <td>0</td>\n",
       "      <td>0</td>\n",
       "      <td>0</td>\n",
       "      <td>0</td>\n",
       "      <td>0</td>\n",
       "      <td>0</td>\n",
       "      <td>0</td>\n",
       "    </tr>\n",
       "    <tr>\n",
       "      <th>3</th>\n",
       "      <td>4</td>\n",
       "      <td>0</td>\n",
       "      <td>0</td>\n",
       "      <td>0</td>\n",
       "      <td>0</td>\n",
       "      <td>0</td>\n",
       "      <td>0</td>\n",
       "      <td>0</td>\n",
       "      <td>0</td>\n",
       "      <td>0</td>\n",
       "      <td>...</td>\n",
       "      <td>0</td>\n",
       "      <td>0</td>\n",
       "      <td>0</td>\n",
       "      <td>0</td>\n",
       "      <td>0</td>\n",
       "      <td>0</td>\n",
       "      <td>0</td>\n",
       "      <td>0</td>\n",
       "      <td>0</td>\n",
       "      <td>0</td>\n",
       "    </tr>\n",
       "    <tr>\n",
       "      <th>4</th>\n",
       "      <td>0</td>\n",
       "      <td>0</td>\n",
       "      <td>0</td>\n",
       "      <td>0</td>\n",
       "      <td>0</td>\n",
       "      <td>0</td>\n",
       "      <td>0</td>\n",
       "      <td>0</td>\n",
       "      <td>0</td>\n",
       "      <td>0</td>\n",
       "      <td>...</td>\n",
       "      <td>0</td>\n",
       "      <td>0</td>\n",
       "      <td>0</td>\n",
       "      <td>0</td>\n",
       "      <td>0</td>\n",
       "      <td>0</td>\n",
       "      <td>0</td>\n",
       "      <td>0</td>\n",
       "      <td>0</td>\n",
       "      <td>0</td>\n",
       "    </tr>\n",
       "  </tbody>\n",
       "</table>\n",
       "<p>5 rows × 785 columns</p>\n",
       "</div>"
      ],
      "text/plain": [
       "   label  pixel0  pixel1  pixel2  pixel3  pixel4  pixel5  pixel6  pixel7  \\\n",
       "0      1       0       0       0       0       0       0       0       0   \n",
       "1      0       0       0       0       0       0       0       0       0   \n",
       "2      1       0       0       0       0       0       0       0       0   \n",
       "3      4       0       0       0       0       0       0       0       0   \n",
       "4      0       0       0       0       0       0       0       0       0   \n",
       "\n",
       "   pixel8  ...  pixel774  pixel775  pixel776  pixel777  pixel778  pixel779  \\\n",
       "0       0  ...         0         0         0         0         0         0   \n",
       "1       0  ...         0         0         0         0         0         0   \n",
       "2       0  ...         0         0         0         0         0         0   \n",
       "3       0  ...         0         0         0         0         0         0   \n",
       "4       0  ...         0         0         0         0         0         0   \n",
       "\n",
       "   pixel780  pixel781  pixel782  pixel783  \n",
       "0         0         0         0         0  \n",
       "1         0         0         0         0  \n",
       "2         0         0         0         0  \n",
       "3         0         0         0         0  \n",
       "4         0         0         0         0  \n",
       "\n",
       "[5 rows x 785 columns]"
      ]
     },
     "execution_count": 9,
     "metadata": {},
     "output_type": "execute_result"
    }
   ],
   "source": [
    "train.head()"
   ]
  },
  {
   "cell_type": "code",
   "execution_count": 10,
   "id": "2fe105fe",
   "metadata": {
    "execution": {
     "iopub.execute_input": "2022-07-24T22:05:25.634652Z",
     "iopub.status.busy": "2022-07-24T22:05:25.633858Z",
     "iopub.status.idle": "2022-07-24T22:05:25.642610Z",
     "shell.execute_reply": "2022-07-24T22:05:25.641789Z"
    },
    "papermill": {
     "duration": 0.020012,
     "end_time": "2022-07-24T22:05:25.644639",
     "exception": false,
     "start_time": "2022-07-24T22:05:25.624627",
     "status": "completed"
    },
    "tags": []
   },
   "outputs": [],
   "source": [
    "FEATURES = [\n",
    "    col\n",
    "    for col in train.columns\n",
    "    if col\n",
    "    not in [\n",
    "        \"Id\",\n",
    "        TARGET,\n",
    "        #         TARGET_ENC,\n",
    "    ]\n",
    "]"
   ]
  },
  {
   "cell_type": "code",
   "execution_count": 11,
   "id": "8a663f3c",
   "metadata": {
    "execution": {
     "iopub.execute_input": "2022-07-24T22:05:25.662535Z",
     "iopub.status.busy": "2022-07-24T22:05:25.662260Z",
     "iopub.status.idle": "2022-07-24T22:05:25.961044Z",
     "shell.execute_reply": "2022-07-24T22:05:25.960064Z"
    },
    "papermill": {
     "duration": 0.310542,
     "end_time": "2022-07-24T22:05:25.963576",
     "exception": false,
     "start_time": "2022-07-24T22:05:25.653034",
     "status": "completed"
    },
    "tags": []
   },
   "outputs": [],
   "source": [
    "y = train[TARGET]\n",
    "X = train[FEATURES].copy()\n",
    "\n",
    "X_test = test[FEATURES].copy()"
   ]
  },
  {
   "cell_type": "code",
   "execution_count": 12,
   "id": "d80f7436",
   "metadata": {
    "execution": {
     "iopub.execute_input": "2022-07-24T22:05:25.981965Z",
     "iopub.status.busy": "2022-07-24T22:05:25.981672Z",
     "iopub.status.idle": "2022-07-24T22:05:26.156216Z",
     "shell.execute_reply": "2022-07-24T22:05:26.155177Z"
    },
    "papermill": {
     "duration": 0.186269,
     "end_time": "2022-07-24T22:05:26.158588",
     "exception": false,
     "start_time": "2022-07-24T22:05:25.972319",
     "status": "completed"
    },
    "tags": []
   },
   "outputs": [],
   "source": [
    "# Normalize the data\n",
    "X = X / 255.0\n",
    "X_test = X_test / 255.0"
   ]
  },
  {
   "cell_type": "code",
   "execution_count": 13,
   "id": "bb3158f4",
   "metadata": {
    "execution": {
     "iopub.execute_input": "2022-07-24T22:05:26.177486Z",
     "iopub.status.busy": "2022-07-24T22:05:26.177208Z",
     "iopub.status.idle": "2022-07-24T22:05:26.184764Z",
     "shell.execute_reply": "2022-07-24T22:05:26.183878Z"
    },
    "papermill": {
     "duration": 0.019195,
     "end_time": "2022-07-24T22:05:26.187011",
     "exception": false,
     "start_time": "2022-07-24T22:05:26.167816",
     "status": "completed"
    },
    "tags": []
   },
   "outputs": [],
   "source": [
    "X = X.values.reshape(-1, 28, 28, 1)\n",
    "X_test = X_test.values.reshape(-1, 28, 28, 1)"
   ]
  },
  {
   "cell_type": "code",
   "execution_count": 14,
   "id": "9143832b",
   "metadata": {
    "execution": {
     "iopub.execute_input": "2022-07-24T22:05:26.205604Z",
     "iopub.status.busy": "2022-07-24T22:05:26.205357Z",
     "iopub.status.idle": "2022-07-24T22:05:26.210411Z",
     "shell.execute_reply": "2022-07-24T22:05:26.209605Z"
    },
    "papermill": {
     "duration": 0.016179,
     "end_time": "2022-07-24T22:05:26.212292",
     "exception": false,
     "start_time": "2022-07-24T22:05:26.196113",
     "status": "completed"
    },
    "tags": []
   },
   "outputs": [],
   "source": [
    "# X[:3]"
   ]
  },
  {
   "cell_type": "code",
   "execution_count": 15,
   "id": "98c62ff9",
   "metadata": {
    "execution": {
     "iopub.execute_input": "2022-07-24T22:05:26.230830Z",
     "iopub.status.busy": "2022-07-24T22:05:26.230144Z",
     "iopub.status.idle": "2022-07-24T22:05:31.359672Z",
     "shell.execute_reply": "2022-07-24T22:05:31.358699Z"
    },
    "papermill": {
     "duration": 5.141015,
     "end_time": "2022-07-24T22:05:31.361976",
     "exception": false,
     "start_time": "2022-07-24T22:05:26.220961",
     "status": "completed"
    },
    "tags": []
   },
   "outputs": [],
   "source": [
    "from keras.utils.np_utils import to_categorical\n",
    "\n",
    "y = to_categorical(y)"
   ]
  },
  {
   "cell_type": "code",
   "execution_count": 16,
   "id": "4480f5eb",
   "metadata": {
    "execution": {
     "iopub.execute_input": "2022-07-24T22:05:31.381459Z",
     "iopub.status.busy": "2022-07-24T22:05:31.380971Z",
     "iopub.status.idle": "2022-07-24T22:05:31.389332Z",
     "shell.execute_reply": "2022-07-24T22:05:31.388451Z"
    },
    "papermill": {
     "duration": 0.020641,
     "end_time": "2022-07-24T22:05:31.391580",
     "exception": false,
     "start_time": "2022-07-24T22:05:31.370939",
     "status": "completed"
    },
    "tags": []
   },
   "outputs": [
    {
     "data": {
      "text/plain": [
       "array([[0., 1., 0., 0., 0., 0., 0., 0., 0., 0.],\n",
       "       [1., 0., 0., 0., 0., 0., 0., 0., 0., 0.],\n",
       "       [0., 1., 0., 0., 0., 0., 0., 0., 0., 0.],\n",
       "       [0., 0., 0., 0., 1., 0., 0., 0., 0., 0.],\n",
       "       [1., 0., 0., 0., 0., 0., 0., 0., 0., 0.]], dtype=float32)"
      ]
     },
     "execution_count": 16,
     "metadata": {},
     "output_type": "execute_result"
    }
   ],
   "source": [
    "y[:5]"
   ]
  },
  {
   "cell_type": "code",
   "execution_count": 17,
   "id": "f59c1da0",
   "metadata": {
    "execution": {
     "iopub.execute_input": "2022-07-24T22:05:31.410050Z",
     "iopub.status.busy": "2022-07-24T22:05:31.409787Z",
     "iopub.status.idle": "2022-07-24T22:05:31.778682Z",
     "shell.execute_reply": "2022-07-24T22:05:31.777759Z"
    },
    "papermill": {
     "duration": 0.380766,
     "end_time": "2022-07-24T22:05:31.781036",
     "exception": false,
     "start_time": "2022-07-24T22:05:31.400270",
     "status": "completed"
    },
    "tags": []
   },
   "outputs": [
    {
     "data": {
      "text/plain": [
       "((33600, 28, 28, 1), (33600, 10), (8400, 28, 28, 1), (8400, 10))"
      ]
     },
     "execution_count": 17,
     "metadata": {},
     "output_type": "execute_result"
    }
   ],
   "source": [
    "X_train, X_valid, y_train, y_valid = train_test_split(\n",
    "    X,\n",
    "    y,\n",
    "    test_size=0.2,\n",
    "    random_state=42,\n",
    ")\n",
    "X_train.shape, y_train.shape, X_valid.shape, y_valid.shape"
   ]
  },
  {
   "cell_type": "markdown",
   "id": "27964193",
   "metadata": {
    "papermill": {
     "duration": 0.00865,
     "end_time": "2022-07-24T22:05:31.798757",
     "exception": false,
     "start_time": "2022-07-24T22:05:31.790107",
     "status": "completed"
    },
    "tags": []
   },
   "source": [
    "<div style=\"background-color:rgba(128, 0, 128, 0.6);border-radius:5px;display:fill\"><h1 style=\"text-align: center;padding: 12px 0px 12px 0px;\">Create Models</h1>\n",
    "</div>"
   ]
  },
  {
   "cell_type": "code",
   "execution_count": 18,
   "id": "31f88c12",
   "metadata": {
    "execution": {
     "iopub.execute_input": "2022-07-24T22:05:31.817074Z",
     "iopub.status.busy": "2022-07-24T22:05:31.816781Z",
     "iopub.status.idle": "2022-07-24T22:05:32.213607Z",
     "shell.execute_reply": "2022-07-24T22:05:32.212692Z"
    },
    "papermill": {
     "duration": 0.408768,
     "end_time": "2022-07-24T22:05:32.216134",
     "exception": false,
     "start_time": "2022-07-24T22:05:31.807366",
     "status": "completed"
    },
    "tags": []
   },
   "outputs": [],
   "source": [
    "import tensorflow as tf\n",
    "from tensorflow import keras\n",
    "from tensorflow.keras import layers\n",
    "\n",
    "\n",
    "def get_tf_model01(x_shape):\n",
    "    print(f\"x_shape=\")\n",
    "    #     input_shape = (height, width, channels)\n",
    "    inputs = keras.Input(shape=(28, 28, 1))\n",
    "\n",
    "    x = keras.layers.Conv2D(\n",
    "        64,\n",
    "        kernel_size=3,\n",
    "        activation=\"relu\",\n",
    "        padding=\"same\",\n",
    "        input_shape=(28, 28, 1),\n",
    "        kernel_initializer=\"he_normal\",\n",
    "    )(inputs)\n",
    "    x = keras.layers.MaxPooling2D((2, 2))(x)\n",
    "    x = keras.layers.Conv2D(\n",
    "        64,\n",
    "        kernel_size=3,\n",
    "        activation=\"relu\",\n",
    "        padding=\"same\",\n",
    "        kernel_initializer=\"he_normal\",\n",
    "    )(x)\n",
    "    x = keras.layers.MaxPooling2D((2, 2))(x)\n",
    "\n",
    "    #     x = keras.layers.MaxPooling2d((2, 2))(x)\n",
    "    #     x = keras.layers.Conv2D(\n",
    "    #         128, activation=\"relu\", padding=\"same\", kernel_initializer=\"he_normal\"\n",
    "    #     )(x)\n",
    "    x = keras.layers.Flatten()(x)\n",
    "    x = keras.layers.BatchNormalization()(x)\n",
    "\n",
    "    #     x = keras.layers.Dense(128, activation=\"relu\")(x)\n",
    "\n",
    "    x = keras.layers.Dense(64, activation=\"relu\")(x)\n",
    "    x = keras.layers.BatchNormalization()(x)\n",
    "    x = keras.layers.Dense(32, activation=\"relu\")(x)\n",
    "    x = keras.layers.BatchNormalization()(x)\n",
    "    #     x = keras.layers.Dropout(0.1)(x)\n",
    "\n",
    "    outputs = keras.layers.Dense(10, activation=\"softmax\")(x)\n",
    "\n",
    "    model = keras.Model(inputs, outputs)\n",
    "\n",
    "    model.compile(\n",
    "        loss=\"categorical_crossentropy\",\n",
    "        optimizer=tf.keras.optimizers.Adam(learning_rate=0.01), # rmsprop\n",
    "        metrics=[\"accuracy\"],\n",
    "    )\n",
    "\n",
    "    #     model.compile(\n",
    "    #         optimizer=tf.keras.optimizers.Adam(learning_rate=0.01),\n",
    "    #         loss=\"mean_absolute_error\",\n",
    "    #     )\n",
    "\n",
    "    return model"
   ]
  },
  {
   "cell_type": "code",
   "execution_count": 19,
   "id": "e4223dfa",
   "metadata": {
    "execution": {
     "iopub.execute_input": "2022-07-24T22:05:32.234874Z",
     "iopub.status.busy": "2022-07-24T22:05:32.234604Z",
     "iopub.status.idle": "2022-07-24T22:05:32.241321Z",
     "shell.execute_reply": "2022-07-24T22:05:32.240388Z"
    },
    "papermill": {
     "duration": 0.018159,
     "end_time": "2022-07-24T22:05:32.243252",
     "exception": false,
     "start_time": "2022-07-24T22:05:32.225093",
     "status": "completed"
    },
    "tags": []
   },
   "outputs": [
    {
     "data": {
      "text/plain": [
       "28"
      ]
     },
     "execution_count": 19,
     "metadata": {},
     "output_type": "execute_result"
    }
   ],
   "source": [
    "X_train.shape[1]"
   ]
  },
  {
   "cell_type": "code",
   "execution_count": 20,
   "id": "a111c90d",
   "metadata": {
    "execution": {
     "iopub.execute_input": "2022-07-24T22:05:32.261774Z",
     "iopub.status.busy": "2022-07-24T22:05:32.261532Z",
     "iopub.status.idle": "2022-07-24T22:05:32.268408Z",
     "shell.execute_reply": "2022-07-24T22:05:32.267557Z"
    },
    "papermill": {
     "duration": 0.018504,
     "end_time": "2022-07-24T22:05:32.270471",
     "exception": false,
     "start_time": "2022-07-24T22:05:32.251967",
     "status": "completed"
    },
    "tags": []
   },
   "outputs": [
    {
     "data": {
      "text/plain": [
       "42000"
      ]
     },
     "execution_count": 20,
     "metadata": {},
     "output_type": "execute_result"
    }
   ],
   "source": [
    "X.shape[0]"
   ]
  },
  {
   "cell_type": "code",
   "execution_count": 21,
   "id": "b065fce5",
   "metadata": {
    "execution": {
     "iopub.execute_input": "2022-07-24T22:05:32.289382Z",
     "iopub.status.busy": "2022-07-24T22:05:32.288597Z",
     "iopub.status.idle": "2022-07-24T22:05:35.162415Z",
     "shell.execute_reply": "2022-07-24T22:05:35.160951Z"
    },
    "papermill": {
     "duration": 2.885677,
     "end_time": "2022-07-24T22:05:35.164871",
     "exception": false,
     "start_time": "2022-07-24T22:05:32.279194",
     "status": "completed"
    },
    "tags": []
   },
   "outputs": [
    {
     "name": "stdout",
     "output_type": "stream",
     "text": [
      "x_shape=\n",
      "Model: \"model\"\n",
      "_________________________________________________________________\n",
      "Layer (type)                 Output Shape              Param #   \n",
      "=================================================================\n",
      "input_1 (InputLayer)         [(None, 28, 28, 1)]       0         \n",
      "_________________________________________________________________\n",
      "conv2d (Conv2D)              (None, 28, 28, 64)        640       \n",
      "_________________________________________________________________\n",
      "max_pooling2d (MaxPooling2D) (None, 14, 14, 64)        0         \n",
      "_________________________________________________________________\n",
      "conv2d_1 (Conv2D)            (None, 14, 14, 64)        36928     \n",
      "_________________________________________________________________\n",
      "max_pooling2d_1 (MaxPooling2 (None, 7, 7, 64)          0         \n",
      "_________________________________________________________________\n",
      "flatten (Flatten)            (None, 3136)              0         \n",
      "_________________________________________________________________\n",
      "batch_normalization (BatchNo (None, 3136)              12544     \n",
      "_________________________________________________________________\n",
      "dense (Dense)                (None, 64)                200768    \n",
      "_________________________________________________________________\n",
      "batch_normalization_1 (Batch (None, 64)                256       \n",
      "_________________________________________________________________\n",
      "dense_1 (Dense)              (None, 32)                2080      \n",
      "_________________________________________________________________\n",
      "batch_normalization_2 (Batch (None, 32)                128       \n",
      "_________________________________________________________________\n",
      "dense_2 (Dense)              (None, 10)                330       \n",
      "=================================================================\n",
      "Total params: 253,674\n",
      "Trainable params: 247,210\n",
      "Non-trainable params: 6,464\n",
      "_________________________________________________________________\n"
     ]
    },
    {
     "name": "stderr",
     "output_type": "stream",
     "text": [
      "2022-07-24 22:05:32.390969: I tensorflow/stream_executor/cuda/cuda_gpu_executor.cc:937] successful NUMA node read from SysFS had negative value (-1), but there must be at least one NUMA node, so returning NUMA node zero\n",
      "2022-07-24 22:05:32.530962: I tensorflow/stream_executor/cuda/cuda_gpu_executor.cc:937] successful NUMA node read from SysFS had negative value (-1), but there must be at least one NUMA node, so returning NUMA node zero\n",
      "2022-07-24 22:05:32.531716: I tensorflow/stream_executor/cuda/cuda_gpu_executor.cc:937] successful NUMA node read from SysFS had negative value (-1), but there must be at least one NUMA node, so returning NUMA node zero\n",
      "2022-07-24 22:05:32.533746: I tensorflow/core/platform/cpu_feature_guard.cc:142] This TensorFlow binary is optimized with oneAPI Deep Neural Network Library (oneDNN) to use the following CPU instructions in performance-critical operations:  AVX2 AVX512F FMA\n",
      "To enable them in other operations, rebuild TensorFlow with the appropriate compiler flags.\n",
      "2022-07-24 22:05:32.534077: I tensorflow/stream_executor/cuda/cuda_gpu_executor.cc:937] successful NUMA node read from SysFS had negative value (-1), but there must be at least one NUMA node, so returning NUMA node zero\n",
      "2022-07-24 22:05:32.534775: I tensorflow/stream_executor/cuda/cuda_gpu_executor.cc:937] successful NUMA node read from SysFS had negative value (-1), but there must be at least one NUMA node, so returning NUMA node zero\n",
      "2022-07-24 22:05:32.535431: I tensorflow/stream_executor/cuda/cuda_gpu_executor.cc:937] successful NUMA node read from SysFS had negative value (-1), but there must be at least one NUMA node, so returning NUMA node zero\n",
      "2022-07-24 22:05:34.734176: I tensorflow/stream_executor/cuda/cuda_gpu_executor.cc:937] successful NUMA node read from SysFS had negative value (-1), but there must be at least one NUMA node, so returning NUMA node zero\n",
      "2022-07-24 22:05:34.734995: I tensorflow/stream_executor/cuda/cuda_gpu_executor.cc:937] successful NUMA node read from SysFS had negative value (-1), but there must be at least one NUMA node, so returning NUMA node zero\n",
      "2022-07-24 22:05:34.735654: I tensorflow/stream_executor/cuda/cuda_gpu_executor.cc:937] successful NUMA node read from SysFS had negative value (-1), but there must be at least one NUMA node, so returning NUMA node zero\n",
      "2022-07-24 22:05:34.736269: I tensorflow/core/common_runtime/gpu/gpu_device.cc:1510] Created device /job:localhost/replica:0/task:0/device:GPU:0 with 15403 MB memory:  -> device: 0, name: Tesla P100-PCIE-16GB, pci bus id: 0000:00:04.0, compute capability: 6.0\n"
     ]
    }
   ],
   "source": [
    "model = get_tf_model01(x_shape=(28, 28))\n",
    "\n",
    "model.summary()"
   ]
  },
  {
   "cell_type": "code",
   "execution_count": 22,
   "id": "5afdbb87",
   "metadata": {
    "execution": {
     "iopub.execute_input": "2022-07-24T22:05:35.185030Z",
     "iopub.status.busy": "2022-07-24T22:05:35.184738Z",
     "iopub.status.idle": "2022-07-24T22:05:36.142409Z",
     "shell.execute_reply": "2022-07-24T22:05:36.141279Z"
    },
    "papermill": {
     "duration": 0.969879,
     "end_time": "2022-07-24T22:05:36.144700",
     "exception": false,
     "start_time": "2022-07-24T22:05:35.174821",
     "status": "completed"
    },
    "tags": []
   },
   "outputs": [
    {
     "data": {
      "image/png": "[encoded data removed]",
      "text/plain": [
       "<IPython.core.display.Image object>"
      ]
     },
     "execution_count": 22,
     "metadata": {},
     "output_type": "execute_result"
    }
   ],
   "source": [
    "keras.utils.plot_model(model)"
   ]
  },
  {
   "cell_type": "code",
   "execution_count": 23,
   "id": "8303ff32",
   "metadata": {
    "execution": {
     "iopub.execute_input": "2022-07-24T22:05:36.166744Z",
     "iopub.status.busy": "2022-07-24T22:05:36.165892Z",
     "iopub.status.idle": "2022-07-24T22:06:18.307240Z",
     "shell.execute_reply": "2022-07-24T22:06:18.306183Z"
    },
    "papermill": {
     "duration": 42.154934,
     "end_time": "2022-07-24T22:06:18.309950",
     "exception": false,
     "start_time": "2022-07-24T22:05:36.155016",
     "status": "completed"
    },
    "tags": []
   },
   "outputs": [
    {
     "name": "stderr",
     "output_type": "stream",
     "text": [
      "2022-07-24 22:05:36.457300: I tensorflow/compiler/mlir/mlir_graph_optimization_pass.cc:185] None of the MLIR Optimization Passes are enabled (registered 2)\n"
     ]
    },
    {
     "name": "stdout",
     "output_type": "stream",
     "text": [
      "Epoch 1/10\n"
     ]
    },
    {
     "name": "stderr",
     "output_type": "stream",
     "text": [
      "2022-07-24 22:05:38.223486: I tensorflow/stream_executor/cuda/cuda_dnn.cc:369] Loaded cuDNN version 8005\n"
     ]
    },
    {
     "name": "stdout",
     "output_type": "stream",
     "text": [
      "525/525 [==============================] - 10s 5ms/step - loss: 0.1634 - accuracy: 0.9507 - val_loss: 0.0902 - val_accuracy: 0.9718\n",
      "Epoch 2/10\n",
      "525/525 [==============================] - 2s 4ms/step - loss: 0.0661 - accuracy: 0.9797 - val_loss: 0.2238 - val_accuracy: 0.9354\n",
      "Epoch 3/10\n",
      "525/525 [==============================] - 2s 4ms/step - loss: 0.0477 - accuracy: 0.9851 - val_loss: 0.0666 - val_accuracy: 0.9788\n",
      "Epoch 4/10\n",
      "525/525 [==============================] - 3s 5ms/step - loss: 0.0404 - accuracy: 0.9871 - val_loss: 0.0622 - val_accuracy: 0.9818\n",
      "Epoch 5/10\n",
      "525/525 [==============================] - 2s 4ms/step - loss: 0.0353 - accuracy: 0.9897 - val_loss: 0.0520 - val_accuracy: 0.9856\n",
      "Epoch 6/10\n",
      "525/525 [==============================] - 2s 5ms/step - loss: 0.0280 - accuracy: 0.9913 - val_loss: 0.0450 - val_accuracy: 0.9868\n",
      "Epoch 7/10\n",
      "525/525 [==============================] - 2s 4ms/step - loss: 0.0291 - accuracy: 0.9907 - val_loss: 0.0727 - val_accuracy: 0.9833\n",
      "Epoch 8/10\n",
      "525/525 [==============================] - 2s 5ms/step - loss: 0.0249 - accuracy: 0.9920 - val_loss: 0.0680 - val_accuracy: 0.9802\n",
      "Epoch 9/10\n",
      "525/525 [==============================] - 3s 5ms/step - loss: 0.0221 - accuracy: 0.9930 - val_loss: 0.0444 - val_accuracy: 0.9870\n",
      "Epoch 10/10\n",
      "525/525 [==============================] - 2s 4ms/step - loss: 0.0205 - accuracy: 0.9934 - val_loss: 0.0581 - val_accuracy: 0.9851\n",
      "CPU times: user 28.5 s, sys: 3.35 s, total: 31.8 s\n",
      "Wall time: 42.1 s\n"
     ]
    }
   ],
   "source": [
    "%%time\n",
    "\n",
    "history = model.fit(\n",
    "    X_train,\n",
    "    y_train,\n",
    "    batch_size=64,\n",
    "    epochs=10,\n",
    "    # Suppress logging.\n",
    "    verbose=1,\n",
    "    validation_data=(X_valid, y_valid),\n",
    "    # Calculate validation results on 20% of the training data.\n",
    "#     validation_split = 0.2\n",
    ")"
   ]
  },
  {
   "cell_type": "code",
   "execution_count": 24,
   "id": "b948529f",
   "metadata": {
    "execution": {
     "iopub.execute_input": "2022-07-24T22:06:18.380251Z",
     "iopub.status.busy": "2022-07-24T22:06:18.379950Z",
     "iopub.status.idle": "2022-07-24T22:06:18.783220Z",
     "shell.execute_reply": "2022-07-24T22:06:18.782280Z"
    },
    "papermill": {
     "duration": 0.440468,
     "end_time": "2022-07-24T22:06:18.785215",
     "exception": false,
     "start_time": "2022-07-24T22:06:18.344747",
     "status": "completed"
    },
    "tags": []
   },
   "outputs": [
    {
     "data": {
      "image/png": "[encoded data removed]",
      "text/plain": [
       "<Figure size 432x288 with 1 Axes>"
      ]
     },
     "metadata": {
      "needs_background": "light"
     },
     "output_type": "display_data"
    },
    {
     "data": {
      "image/png": "[encoded data removed]",
      "text/plain": [
       "<Figure size 432x288 with 1 Axes>"
      ]
     },
     "metadata": {
      "needs_background": "light"
     },
     "output_type": "display_data"
    }
   ],
   "source": [
    "acc = history.history[\"accuracy\"]\n",
    "val_acc = history.history[\"val_accuracy\"]\n",
    "loss = history.history[\"loss\"]\n",
    "val_loss = history.history[\"val_loss\"]\n",
    "\n",
    "epochs = range(1, len(acc) + 1)\n",
    "\n",
    "plt.plot(epochs, acc, \"bo\", label=\"Training acc\")\n",
    "plt.plot(epochs, val_acc, \"b\", label=\"Validation acc\")\n",
    "plt.title(\"Training and validation accuracy\")\n",
    "plt.legend()\n",
    "\n",
    "plt.figure()\n",
    "\n",
    "plt.plot(epochs, loss, \"bo\", label=\"Training loss\")\n",
    "plt.plot(epochs, val_loss, \"b\", label=\"Validation loss\")\n",
    "plt.title(\"Training and validation loss\")\n",
    "plt.legend()\n",
    "\n",
    "plt.show()"
   ]
  },
  {
   "cell_type": "markdown",
   "id": "af59b329",
   "metadata": {
    "papermill": {
     "duration": 0.034382,
     "end_time": "2022-07-24T22:06:18.854801",
     "exception": false,
     "start_time": "2022-07-24T22:06:18.820419",
     "status": "completed"
    },
    "tags": []
   },
   "source": [
    "## Predict and Score"
   ]
  },
  {
   "cell_type": "code",
   "execution_count": 25,
   "id": "cd76a349",
   "metadata": {
    "execution": {
     "iopub.execute_input": "2022-07-24T22:06:18.925809Z",
     "iopub.status.busy": "2022-07-24T22:06:18.925508Z",
     "iopub.status.idle": "2022-07-24T22:06:19.717978Z",
     "shell.execute_reply": "2022-07-24T22:06:19.716926Z"
    },
    "papermill": {
     "duration": 0.829918,
     "end_time": "2022-07-24T22:06:19.720240",
     "exception": false,
     "start_time": "2022-07-24T22:06:18.890322",
     "status": "completed"
    },
    "tags": []
   },
   "outputs": [
    {
     "name": "stdout",
     "output_type": "stream",
     "text": [
      "263/263 [==============================] - 1s 3ms/step - loss: 0.0581 - accuracy: 0.9851\n"
     ]
    },
    {
     "data": {
      "text/plain": [
       "0.9851190447807312"
      ]
     },
     "execution_count": 25,
     "metadata": {},
     "output_type": "execute_result"
    }
   ],
   "source": [
    "test_loss, test_acc = model.evaluate(X_valid, y_valid)\n",
    "test_acc"
   ]
  },
  {
   "cell_type": "code",
   "execution_count": 26,
   "id": "14676988",
   "metadata": {
    "execution": {
     "iopub.execute_input": "2022-07-24T22:06:19.793378Z",
     "iopub.status.busy": "2022-07-24T22:06:19.791955Z",
     "iopub.status.idle": "2022-07-24T22:06:20.311913Z",
     "shell.execute_reply": "2022-07-24T22:06:20.310876Z"
    },
    "papermill": {
     "duration": 0.558824,
     "end_time": "2022-07-24T22:06:20.314330",
     "exception": false,
     "start_time": "2022-07-24T22:06:19.755506",
     "status": "completed"
    },
    "tags": []
   },
   "outputs": [
    {
     "data": {
      "text/plain": [
       "array([[2.33911783e-06, 6.24365498e-07, 1.06575999e-05, 3.72876130e-09,\n",
       "        1.14128881e-07, 1.57101065e-09, 5.95848746e-07, 2.68065570e-08,\n",
       "        9.99985337e-01, 3.83897429e-07],\n",
       "       [3.22947957e-09, 9.99996662e-01, 4.68657602e-09, 2.03252367e-12,\n",
       "        5.44777841e-08, 2.16924867e-10, 4.34617098e-09, 3.30419721e-06,\n",
       "        1.82033109e-08, 9.96854332e-09],\n",
       "       [1.06791326e-07, 3.22926103e-10, 7.61357821e-09, 5.14908960e-09,\n",
       "        7.23781523e-06, 2.47439083e-08, 2.94241476e-09, 2.17965983e-08,\n",
       "        2.79154278e-07, 9.99992371e-01],\n",
       "       [6.97095800e-07, 3.34270460e-08, 8.52106382e-07, 5.07649816e-07,\n",
       "        8.43861053e-05, 6.25206127e-08, 5.22512567e-09, 1.59572475e-04,\n",
       "        4.62913249e-06, 9.99749243e-01],\n",
       "       [8.53208846e-08, 2.34984228e-08, 9.15565046e-09, 4.92620389e-09,\n",
       "        5.98531491e-09, 3.52409444e-08, 5.45351838e-07, 1.14207344e-09,\n",
       "        9.99999285e-01, 2.59604582e-09]], dtype=float32)"
      ]
     },
     "execution_count": 26,
     "metadata": {},
     "output_type": "execute_result"
    }
   ],
   "source": [
    "valid_preds = model.predict(X_valid)\n",
    "valid_preds[:5]"
   ]
  },
  {
   "cell_type": "code",
   "execution_count": 27,
   "id": "4903bf4a",
   "metadata": {
    "execution": {
     "iopub.execute_input": "2022-07-24T22:06:20.390996Z",
     "iopub.status.busy": "2022-07-24T22:06:20.389566Z",
     "iopub.status.idle": "2022-07-24T22:06:20.396396Z",
     "shell.execute_reply": "2022-07-24T22:06:20.395581Z"
    },
    "papermill": {
     "duration": 0.044934,
     "end_time": "2022-07-24T22:06:20.398407",
     "exception": false,
     "start_time": "2022-07-24T22:06:20.353473",
     "status": "completed"
    },
    "tags": []
   },
   "outputs": [],
   "source": [
    "valid_preds = np.argmax(valid_preds, axis=1)"
   ]
  },
  {
   "cell_type": "code",
   "execution_count": 28,
   "id": "bcafeac2",
   "metadata": {
    "execution": {
     "iopub.execute_input": "2022-07-24T22:06:20.470394Z",
     "iopub.status.busy": "2022-07-24T22:06:20.470120Z",
     "iopub.status.idle": "2022-07-24T22:06:20.475436Z",
     "shell.execute_reply": "2022-07-24T22:06:20.474575Z"
    },
    "papermill": {
     "duration": 0.044012,
     "end_time": "2022-07-24T22:06:20.477366",
     "exception": false,
     "start_time": "2022-07-24T22:06:20.433354",
     "status": "completed"
    },
    "tags": []
   },
   "outputs": [],
   "source": [
    "# show_scores(y_valid, valid_preds)"
   ]
  },
  {
   "cell_type": "code",
   "execution_count": 29,
   "id": "1a5dd9d3",
   "metadata": {
    "execution": {
     "iopub.execute_input": "2022-07-24T22:06:20.550367Z",
     "iopub.status.busy": "2022-07-24T22:06:20.550084Z",
     "iopub.status.idle": "2022-07-24T22:06:22.203795Z",
     "shell.execute_reply": "2022-07-24T22:06:22.202840Z"
    },
    "papermill": {
     "duration": 1.692663,
     "end_time": "2022-07-24T22:06:22.205941",
     "exception": false,
     "start_time": "2022-07-24T22:06:20.513278",
     "status": "completed"
    },
    "tags": []
   },
   "outputs": [
    {
     "data": {
      "text/plain": [
       "array([[3.65270658e-09, 4.59136444e-08, 9.99996066e-01, 3.82666985e-06,\n",
       "        5.19664145e-10, 3.12095877e-10, 1.35399851e-08, 1.26317872e-07,\n",
       "        4.05544434e-08, 6.09593098e-10],\n",
       "       [9.99896526e-01, 3.71194034e-07, 6.43845510e-08, 4.91375522e-06,\n",
       "        4.49021827e-11, 3.12016482e-07, 9.75720905e-05, 7.71508724e-08,\n",
       "        2.01701922e-09, 8.69482975e-08],\n",
       "       [1.23890388e-07, 1.03223829e-08, 1.23726329e-06, 1.96999856e-08,\n",
       "        7.57831094e-06, 5.10546849e-09, 1.44868446e-08, 9.64249924e-09,\n",
       "        1.85623594e-05, 9.99972463e-01],\n",
       "       [9.96909797e-01, 5.15672468e-07, 6.80157927e-06, 2.27739092e-05,\n",
       "        2.00756153e-06, 2.19322814e-07, 9.10397939e-05, 4.13225462e-05,\n",
       "        1.10517925e-04, 2.81500653e-03],\n",
       "       [5.98421801e-09, 2.15969044e-06, 2.53269391e-05, 9.99968529e-01,\n",
       "        9.58242513e-11, 9.07558757e-08, 7.97999178e-08, 1.06951904e-06,\n",
       "        2.83627014e-06, 2.73490972e-08]], dtype=float32)"
      ]
     },
     "execution_count": 29,
     "metadata": {},
     "output_type": "execute_result"
    }
   ],
   "source": [
    "preds = model.predict(X_test)\n",
    "preds[:5]"
   ]
  },
  {
   "cell_type": "code",
   "execution_count": 30,
   "id": "6de899b4",
   "metadata": {
    "execution": {
     "iopub.execute_input": "2022-07-24T22:06:22.279125Z",
     "iopub.status.busy": "2022-07-24T22:06:22.278551Z",
     "iopub.status.idle": "2022-07-24T22:06:22.285511Z",
     "shell.execute_reply": "2022-07-24T22:06:22.284694Z"
    },
    "papermill": {
     "duration": 0.045328,
     "end_time": "2022-07-24T22:06:22.287365",
     "exception": false,
     "start_time": "2022-07-24T22:06:22.242037",
     "status": "completed"
    },
    "tags": []
   },
   "outputs": [],
   "source": [
    "preds = np.argmax(preds, axis=1)"
   ]
  },
  {
   "cell_type": "markdown",
   "id": "0b9fbcf8",
   "metadata": {
    "papermill": {
     "duration": 0.035097,
     "end_time": "2022-07-24T22:06:22.358320",
     "exception": false,
     "start_time": "2022-07-24T22:06:22.323223",
     "status": "completed"
    },
    "tags": []
   },
   "source": [
    "## Submission"
   ]
  },
  {
   "cell_type": "code",
   "execution_count": 31,
   "id": "aade7e49",
   "metadata": {
    "execution": {
     "iopub.execute_input": "2022-07-24T22:06:22.429339Z",
     "iopub.status.busy": "2022-07-24T22:06:22.429051Z",
     "iopub.status.idle": "2022-07-24T22:06:22.479614Z",
     "shell.execute_reply": "2022-07-24T22:06:22.478644Z"
    },
    "papermill": {
     "duration": 0.088554,
     "end_time": "2022-07-24T22:06:22.481512",
     "exception": false,
     "start_time": "2022-07-24T22:06:22.392958",
     "status": "completed"
    },
    "tags": []
   },
   "outputs": [
    {
     "data": {
      "text/html": [
       "<div>\n",
       "<style scoped>\n",
       "    .dataframe tbody tr th:only-of-type {\n",
       "        vertical-align: middle;\n",
       "    }\n",
       "\n",
       "    .dataframe tbody tr th {\n",
       "        vertical-align: top;\n",
       "    }\n",
       "\n",
       "    .dataframe thead th {\n",
       "        text-align: right;\n",
       "    }\n",
       "</style>\n",
       "<table border=\"1\" class=\"dataframe\">\n",
       "  <thead>\n",
       "    <tr style=\"text-align: right;\">\n",
       "      <th></th>\n",
       "      <th>ImageId</th>\n",
       "      <th>Label</th>\n",
       "    </tr>\n",
       "  </thead>\n",
       "  <tbody>\n",
       "    <tr>\n",
       "      <th>0</th>\n",
       "      <td>1</td>\n",
       "      <td>2</td>\n",
       "    </tr>\n",
       "    <tr>\n",
       "      <th>1</th>\n",
       "      <td>2</td>\n",
       "      <td>0</td>\n",
       "    </tr>\n",
       "    <tr>\n",
       "      <th>2</th>\n",
       "      <td>3</td>\n",
       "      <td>9</td>\n",
       "    </tr>\n",
       "    <tr>\n",
       "      <th>3</th>\n",
       "      <td>4</td>\n",
       "      <td>0</td>\n",
       "    </tr>\n",
       "    <tr>\n",
       "      <th>4</th>\n",
       "      <td>5</td>\n",
       "      <td>3</td>\n",
       "    </tr>\n",
       "  </tbody>\n",
       "</table>\n",
       "</div>"
      ],
      "text/plain": [
       "   ImageId  Label\n",
       "0        1      2\n",
       "1        2      0\n",
       "2        3      9\n",
       "3        4      0\n",
       "4        5      3"
      ]
     },
     "execution_count": 31,
     "metadata": {},
     "output_type": "execute_result"
    }
   ],
   "source": [
    "# Different TARGET name used in test.csv\n",
    "ss = create_submission(\"\", \"Label\", preds)\n",
    "ss"
   ]
  }
 ],
 "metadata": {
  "kernelspec": {
   "display_name": "Python 3",
   "language": "python",
   "name": "python3"
  },
  "language_info": {
   "codemirror_mode": {
    "name": "ipython",
    "version": 3
   },
   "file_extension": ".py",
   "mimetype": "text/x-python",
   "name": "python",
   "nbconvert_exporter": "python",
   "pygments_lexer": "ipython3",
   "version": "3.7.12"
  },
  "papermill": {
   "default_parameters": {},
   "duration": 86.34138,
   "end_time": "2022-07-24T22:06:25.354413",
   "environment_variables": {},
   "exception": null,
   "input_path": "__notebook__.ipynb",
   "output_path": "__notebook__.ipynb",
   "parameters": {},
   "start_time": "2022-07-24T22:04:59.013033",
   "version": "2.3.4"
  }
 },
 "nbformat": 4,
 "nbformat_minor": 5
}
