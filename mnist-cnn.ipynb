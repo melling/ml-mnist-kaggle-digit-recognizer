{
 "cells": [
  {
   "cell_type": "markdown",
   "id": "73690c0a",
   "metadata": {
    "papermill": {
     "duration": 0.008801,
     "end_time": "2022-07-17T15:18:27.502721",
     "exception": false,
     "start_time": "2022-07-17T15:18:27.493920",
     "status": "completed"
    },
    "tags": []
   },
   "source": [
    "<div style=\"background-color:rgba(128, 0, 128, 0.6);border-radius:5px;display:fill\"><h1 style=\"text-align: center;padding: 12px 0px 12px 0px;\">MNIST: CNN</h1>\n",
    "</div>\n",
    "\n",
    "Problem Type: Multi-classification\n",
    "\n",
    "## Evaluation Metric"
   ]
  },
  {
   "cell_type": "code",
   "execution_count": 1,
   "id": "fbf54600",
   "metadata": {
    "execution": {
     "iopub.execute_input": "2022-07-17T15:18:27.520347Z",
     "iopub.status.busy": "2022-07-17T15:18:27.519369Z",
     "iopub.status.idle": "2022-07-17T15:18:40.781872Z",
     "shell.execute_reply": "2022-07-17T15:18:40.780860Z"
    },
    "papermill": {
     "duration": 13.274221,
     "end_time": "2022-07-17T15:18:40.784742",
     "exception": false,
     "start_time": "2022-07-17T15:18:27.510521",
     "status": "completed"
    },
    "tags": []
   },
   "outputs": [
    {
     "name": "stdout",
     "output_type": "stream",
     "text": [
      "\u001b[33mWARNING: Running pip as the 'root' user can result in broken permissions and conflicting behaviour with the system package manager. It is recommended to use a virtual environment instead: https://pip.pypa.io/warnings/venv\u001b[0m\u001b[33m\r\n",
      "\u001b[0m"
     ]
    }
   ],
   "source": [
    "# Black formatter https://black.readthedocs.io/en/stable/\n",
    "\n",
    "! pip install nb-black > /dev/null\n",
    "\n",
    "%load_ext lab_black"
   ]
  },
  {
   "cell_type": "markdown",
   "id": "5ce0d9f9",
   "metadata": {
    "papermill": {
     "duration": 0.008124,
     "end_time": "2022-07-17T15:18:40.801131",
     "exception": false,
     "start_time": "2022-07-17T15:18:40.793007",
     "status": "completed"
    },
    "tags": []
   },
   "source": [
    "<div style=\"background-color:rgba(128, 0, 128, 0.6);border-radius:5px;display:fill\"><h1 style=\"text-align: center;padding: 12px 0px 12px 0px;\">Configuration</h1>\n",
    "</div>"
   ]
  },
  {
   "cell_type": "code",
   "execution_count": 2,
   "id": "717c7551",
   "metadata": {
    "execution": {
     "iopub.execute_input": "2022-07-17T15:18:40.817933Z",
     "iopub.status.busy": "2022-07-17T15:18:40.817528Z",
     "iopub.status.idle": "2022-07-17T15:18:40.824131Z",
     "shell.execute_reply": "2022-07-17T15:18:40.823262Z"
    },
    "papermill": {
     "duration": 0.017352,
     "end_time": "2022-07-17T15:18:40.826160",
     "exception": false,
     "start_time": "2022-07-17T15:18:40.808808",
     "status": "completed"
    },
    "tags": []
   },
   "outputs": [],
   "source": [
    "TARGET = \"label\""
   ]
  },
  {
   "cell_type": "markdown",
   "id": "7c06b59a",
   "metadata": {
    "papermill": {
     "duration": 0.00771,
     "end_time": "2022-07-17T15:18:40.841470",
     "exception": false,
     "start_time": "2022-07-17T15:18:40.833760",
     "status": "completed"
    },
    "tags": []
   },
   "source": [
    "<div style=\"background-color:rgba(128, 0, 128, 0.6);border-radius:5px;display:fill\"><h1 style=\"text-align: center;padding: 12px 0px 12px 0px;\">Import Libraries</h1>\n",
    "</div>\n",
    "\n",
    "A best practise is to include all libraries here.  However, I will put a few imports farther down where they are first used so beginners can learn with an \"as needed\" approach."
   ]
  },
  {
   "cell_type": "code",
   "execution_count": 3,
   "id": "075ce248",
   "metadata": {
    "execution": {
     "iopub.execute_input": "2022-07-17T15:18:40.858699Z",
     "iopub.status.busy": "2022-07-17T15:18:40.858388Z",
     "iopub.status.idle": "2022-07-17T15:18:42.207505Z",
     "shell.execute_reply": "2022-07-17T15:18:42.206547Z"
    },
    "papermill": {
     "duration": 1.361579,
     "end_time": "2022-07-17T15:18:42.210862",
     "exception": false,
     "start_time": "2022-07-17T15:18:40.849283",
     "status": "completed"
    },
    "tags": []
   },
   "outputs": [],
   "source": [
    "import os\n",
    "import time\n",
    "from pathlib import Path\n",
    "\n",
    "import pandas as pd\n",
    "import numpy as np\n",
    "\n",
    "from sklearn.model_selection import train_test_split\n",
    "\n",
    "from sklearn.metrics import f1_score\n",
    "\n",
    "# Visualization Libraries\n",
    "import matplotlib.pylab as plt\n",
    "import seaborn as sns"
   ]
  },
  {
   "cell_type": "markdown",
   "id": "7f064353",
   "metadata": {
    "papermill": {
     "duration": 0.012301,
     "end_time": "2022-07-17T15:18:42.236350",
     "exception": false,
     "start_time": "2022-07-17T15:18:42.224049",
     "status": "completed"
    },
    "tags": []
   },
   "source": [
    "<div style=\"background-color:rgba(128, 0, 128, 0.6);border-radius:5px;display:fill\"><h1 style=\"text-align: center;padding: 12px 0px 12px 0px;\">Library</h1>\n",
    "</div>\n",
    "\n",
    "Creating a few functions that we will reuse in each project."
   ]
  },
  {
   "cell_type": "code",
   "execution_count": 4,
   "id": "77ccf600",
   "metadata": {
    "execution": {
     "iopub.execute_input": "2022-07-17T15:18:42.264032Z",
     "iopub.status.busy": "2022-07-17T15:18:42.263674Z",
     "iopub.status.idle": "2022-07-17T15:18:42.282601Z",
     "shell.execute_reply": "2022-07-17T15:18:42.281755Z"
    },
    "papermill": {
     "duration": 0.035778,
     "end_time": "2022-07-17T15:18:42.285133",
     "exception": false,
     "start_time": "2022-07-17T15:18:42.249355",
     "status": "completed"
    },
    "tags": []
   },
   "outputs": [],
   "source": [
    "def read_data(path):\n",
    "    data_dir = Path(path)\n",
    "\n",
    "    train = pd.read_csv(data_dir / \"train.csv\")\n",
    "    test = pd.read_csv(data_dir / \"test.csv\")\n",
    "    submission_df = pd.read_csv(data_dir / \"sample_submission.csv\")\n",
    "\n",
    "    print(f\"train data: Rows={train.shape[0]}, Columns={train.shape[1]}\")\n",
    "    print(f\"test data : Rows={test.shape[0]}, Columns={test.shape[1]}\")\n",
    "    return train, test, submission_df"
   ]
  },
  {
   "cell_type": "code",
   "execution_count": 5,
   "id": "08fa3fe3",
   "metadata": {
    "execution": {
     "iopub.execute_input": "2022-07-17T15:18:42.313889Z",
     "iopub.status.busy": "2022-07-17T15:18:42.313541Z",
     "iopub.status.idle": "2022-07-17T15:18:42.332542Z",
     "shell.execute_reply": "2022-07-17T15:18:42.331666Z"
    },
    "papermill": {
     "duration": 0.036656,
     "end_time": "2022-07-17T15:18:42.335198",
     "exception": false,
     "start_time": "2022-07-17T15:18:42.298542",
     "status": "completed"
    },
    "tags": []
   },
   "outputs": [],
   "source": [
    "def create_submission(model_name, target, preds, is_log_target=False):\n",
    "    if is_log_target:\n",
    "        #         preds = np.exp(preds)\n",
    "        preds = np.expm1(preds)\n",
    "\n",
    "    sample_submission[target] = preds\n",
    "    if len(model_name) > 0:\n",
    "        sample_submission.to_csv(f\"submission_{model_name}.csv\", index=False)\n",
    "    else:\n",
    "        sample_submission.to_csv(f\"submission.csv\", index=False)\n",
    "\n",
    "    return sample_submission[:5]"
   ]
  },
  {
   "cell_type": "code",
   "execution_count": 6,
   "id": "ec84878d",
   "metadata": {
    "execution": {
     "iopub.execute_input": "2022-07-17T15:18:42.362394Z",
     "iopub.status.busy": "2022-07-17T15:18:42.361960Z",
     "iopub.status.idle": "2022-07-17T15:18:42.378994Z",
     "shell.execute_reply": "2022-07-17T15:18:42.378184Z"
    },
    "papermill": {
     "duration": 0.033411,
     "end_time": "2022-07-17T15:18:42.381628",
     "exception": false,
     "start_time": "2022-07-17T15:18:42.348217",
     "status": "completed"
    },
    "tags": []
   },
   "outputs": [],
   "source": [
    "from sklearn.metrics import mean_absolute_error, mean_squared_error, f1_score\n",
    "\n",
    "\n",
    "def show_scores(gt, yhat):\n",
    "    f1 = f1_score(gt, yhat, average=\"macro\")\n",
    "    mse = mean_squared_error(gt, yhat)\n",
    "    mae = mean_absolute_error(gt, yhat)\n",
    "    rmse = np.sqrt(mse)\n",
    "    #     r2_square = r2_score(gt, yhat)\n",
    "\n",
    "    print(f\"f1: {f1:.4f}\")"
   ]
  },
  {
   "cell_type": "markdown",
   "id": "cfa3b158",
   "metadata": {
    "papermill": {
     "duration": 0.013287,
     "end_time": "2022-07-17T15:18:42.407471",
     "exception": false,
     "start_time": "2022-07-17T15:18:42.394184",
     "status": "completed"
    },
    "tags": []
   },
   "source": [
    "<div style=\"background-color:rgba(128, 0, 128, 0.6);border-radius:5px;display:fill\"><h1 style=\"text-align: center;padding: 12px 0px 12px 0px;\">Load Train/Test Data</h1>\n",
    "</div>\n",
    "\n",
    "- train.csv - Data used to build our machine learning model\n",
    "- test.csv - Data used to build our machine learning model. Does not contain the target variable\n",
    "- sample_submission.csv - A file in the proper format to submit test predictions"
   ]
  },
  {
   "cell_type": "code",
   "execution_count": 7,
   "id": "21238323",
   "metadata": {
    "execution": {
     "iopub.execute_input": "2022-07-17T15:18:42.435887Z",
     "iopub.status.busy": "2022-07-17T15:18:42.435542Z",
     "iopub.status.idle": "2022-07-17T15:18:47.267848Z",
     "shell.execute_reply": "2022-07-17T15:18:47.266782Z"
    },
    "papermill": {
     "duration": 4.849309,
     "end_time": "2022-07-17T15:18:47.270078",
     "exception": false,
     "start_time": "2022-07-17T15:18:42.420769",
     "status": "completed"
    },
    "tags": []
   },
   "outputs": [
    {
     "name": "stdout",
     "output_type": "stream",
     "text": [
      "train data: Rows=42000, Columns=785\n",
      "test data : Rows=28000, Columns=784\n"
     ]
    }
   ],
   "source": [
    "train, test, sample_submission = read_data(\"../input/digit-recognizer\")"
   ]
  },
  {
   "cell_type": "code",
   "execution_count": 8,
   "id": "67662f96",
   "metadata": {
    "execution": {
     "iopub.execute_input": "2022-07-17T15:18:47.288724Z",
     "iopub.status.busy": "2022-07-17T15:18:47.287143Z",
     "iopub.status.idle": "2022-07-17T15:18:47.312125Z",
     "shell.execute_reply": "2022-07-17T15:18:47.311025Z"
    },
    "papermill": {
     "duration": 0.036647,
     "end_time": "2022-07-17T15:18:47.314875",
     "exception": false,
     "start_time": "2022-07-17T15:18:47.278228",
     "status": "completed"
    },
    "tags": []
   },
   "outputs": [
    {
     "data": {
      "text/html": [
       "<div>\n",
       "<style scoped>\n",
       "    .dataframe tbody tr th:only-of-type {\n",
       "        vertical-align: middle;\n",
       "    }\n",
       "\n",
       "    .dataframe tbody tr th {\n",
       "        vertical-align: top;\n",
       "    }\n",
       "\n",
       "    .dataframe thead th {\n",
       "        text-align: right;\n",
       "    }\n",
       "</style>\n",
       "<table border=\"1\" class=\"dataframe\">\n",
       "  <thead>\n",
       "    <tr style=\"text-align: right;\">\n",
       "      <th></th>\n",
       "      <th>label</th>\n",
       "      <th>pixel0</th>\n",
       "      <th>pixel1</th>\n",
       "      <th>pixel2</th>\n",
       "      <th>pixel3</th>\n",
       "      <th>pixel4</th>\n",
       "      <th>pixel5</th>\n",
       "      <th>pixel6</th>\n",
       "      <th>pixel7</th>\n",
       "      <th>pixel8</th>\n",
       "      <th>...</th>\n",
       "      <th>pixel774</th>\n",
       "      <th>pixel775</th>\n",
       "      <th>pixel776</th>\n",
       "      <th>pixel777</th>\n",
       "      <th>pixel778</th>\n",
       "      <th>pixel779</th>\n",
       "      <th>pixel780</th>\n",
       "      <th>pixel781</th>\n",
       "      <th>pixel782</th>\n",
       "      <th>pixel783</th>\n",
       "    </tr>\n",
       "  </thead>\n",
       "  <tbody>\n",
       "    <tr>\n",
       "      <th>0</th>\n",
       "      <td>1</td>\n",
       "      <td>0</td>\n",
       "      <td>0</td>\n",
       "      <td>0</td>\n",
       "      <td>0</td>\n",
       "      <td>0</td>\n",
       "      <td>0</td>\n",
       "      <td>0</td>\n",
       "      <td>0</td>\n",
       "      <td>0</td>\n",
       "      <td>...</td>\n",
       "      <td>0</td>\n",
       "      <td>0</td>\n",
       "      <td>0</td>\n",
       "      <td>0</td>\n",
       "      <td>0</td>\n",
       "      <td>0</td>\n",
       "      <td>0</td>\n",
       "      <td>0</td>\n",
       "      <td>0</td>\n",
       "      <td>0</td>\n",
       "    </tr>\n",
       "    <tr>\n",
       "      <th>1</th>\n",
       "      <td>0</td>\n",
       "      <td>0</td>\n",
       "      <td>0</td>\n",
       "      <td>0</td>\n",
       "      <td>0</td>\n",
       "      <td>0</td>\n",
       "      <td>0</td>\n",
       "      <td>0</td>\n",
       "      <td>0</td>\n",
       "      <td>0</td>\n",
       "      <td>...</td>\n",
       "      <td>0</td>\n",
       "      <td>0</td>\n",
       "      <td>0</td>\n",
       "      <td>0</td>\n",
       "      <td>0</td>\n",
       "      <td>0</td>\n",
       "      <td>0</td>\n",
       "      <td>0</td>\n",
       "      <td>0</td>\n",
       "      <td>0</td>\n",
       "    </tr>\n",
       "    <tr>\n",
       "      <th>2</th>\n",
       "      <td>1</td>\n",
       "      <td>0</td>\n",
       "      <td>0</td>\n",
       "      <td>0</td>\n",
       "      <td>0</td>\n",
       "      <td>0</td>\n",
       "      <td>0</td>\n",
       "      <td>0</td>\n",
       "      <td>0</td>\n",
       "      <td>0</td>\n",
       "      <td>...</td>\n",
       "      <td>0</td>\n",
       "      <td>0</td>\n",
       "      <td>0</td>\n",
       "      <td>0</td>\n",
       "      <td>0</td>\n",
       "      <td>0</td>\n",
       "      <td>0</td>\n",
       "      <td>0</td>\n",
       "      <td>0</td>\n",
       "      <td>0</td>\n",
       "    </tr>\n",
       "    <tr>\n",
       "      <th>3</th>\n",
       "      <td>4</td>\n",
       "      <td>0</td>\n",
       "      <td>0</td>\n",
       "      <td>0</td>\n",
       "      <td>0</td>\n",
       "      <td>0</td>\n",
       "      <td>0</td>\n",
       "      <td>0</td>\n",
       "      <td>0</td>\n",
       "      <td>0</td>\n",
       "      <td>...</td>\n",
       "      <td>0</td>\n",
       "      <td>0</td>\n",
       "      <td>0</td>\n",
       "      <td>0</td>\n",
       "      <td>0</td>\n",
       "      <td>0</td>\n",
       "      <td>0</td>\n",
       "      <td>0</td>\n",
       "      <td>0</td>\n",
       "      <td>0</td>\n",
       "    </tr>\n",
       "    <tr>\n",
       "      <th>4</th>\n",
       "      <td>0</td>\n",
       "      <td>0</td>\n",
       "      <td>0</td>\n",
       "      <td>0</td>\n",
       "      <td>0</td>\n",
       "      <td>0</td>\n",
       "      <td>0</td>\n",
       "      <td>0</td>\n",
       "      <td>0</td>\n",
       "      <td>0</td>\n",
       "      <td>...</td>\n",
       "      <td>0</td>\n",
       "      <td>0</td>\n",
       "      <td>0</td>\n",
       "      <td>0</td>\n",
       "      <td>0</td>\n",
       "      <td>0</td>\n",
       "      <td>0</td>\n",
       "      <td>0</td>\n",
       "      <td>0</td>\n",
       "      <td>0</td>\n",
       "    </tr>\n",
       "  </tbody>\n",
       "</table>\n",
       "<p>5 rows × 785 columns</p>\n",
       "</div>"
      ],
      "text/plain": [
       "   label  pixel0  pixel1  pixel2  pixel3  pixel4  pixel5  pixel6  pixel7  \\\n",
       "0      1       0       0       0       0       0       0       0       0   \n",
       "1      0       0       0       0       0       0       0       0       0   \n",
       "2      1       0       0       0       0       0       0       0       0   \n",
       "3      4       0       0       0       0       0       0       0       0   \n",
       "4      0       0       0       0       0       0       0       0       0   \n",
       "\n",
       "   pixel8  ...  pixel774  pixel775  pixel776  pixel777  pixel778  pixel779  \\\n",
       "0       0  ...         0         0         0         0         0         0   \n",
       "1       0  ...         0         0         0         0         0         0   \n",
       "2       0  ...         0         0         0         0         0         0   \n",
       "3       0  ...         0         0         0         0         0         0   \n",
       "4       0  ...         0         0         0         0         0         0   \n",
       "\n",
       "   pixel780  pixel781  pixel782  pixel783  \n",
       "0         0         0         0         0  \n",
       "1         0         0         0         0  \n",
       "2         0         0         0         0  \n",
       "3         0         0         0         0  \n",
       "4         0         0         0         0  \n",
       "\n",
       "[5 rows x 785 columns]"
      ]
     },
     "execution_count": 8,
     "metadata": {},
     "output_type": "execute_result"
    }
   ],
   "source": [
    "train.head()"
   ]
  },
  {
   "cell_type": "code",
   "execution_count": 9,
   "id": "7efe1e6e",
   "metadata": {
    "execution": {
     "iopub.execute_input": "2022-07-17T15:18:47.332221Z",
     "iopub.status.busy": "2022-07-17T15:18:47.331965Z",
     "iopub.status.idle": "2022-07-17T15:18:47.340175Z",
     "shell.execute_reply": "2022-07-17T15:18:47.339128Z"
    },
    "papermill": {
     "duration": 0.019362,
     "end_time": "2022-07-17T15:18:47.342417",
     "exception": false,
     "start_time": "2022-07-17T15:18:47.323055",
     "status": "completed"
    },
    "tags": []
   },
   "outputs": [],
   "source": [
    "FEATURES = [\n",
    "    col\n",
    "    for col in train.columns\n",
    "    if col\n",
    "    not in [\n",
    "        \"Id\",\n",
    "        TARGET,\n",
    "        #         TARGET_ENC,\n",
    "    ]\n",
    "]"
   ]
  },
  {
   "cell_type": "code",
   "execution_count": 10,
   "id": "92550c5c",
   "metadata": {
    "execution": {
     "iopub.execute_input": "2022-07-17T15:18:47.360060Z",
     "iopub.status.busy": "2022-07-17T15:18:47.359311Z",
     "iopub.status.idle": "2022-07-17T15:18:47.658007Z",
     "shell.execute_reply": "2022-07-17T15:18:47.656895Z"
    },
    "papermill": {
     "duration": 0.310385,
     "end_time": "2022-07-17T15:18:47.660726",
     "exception": false,
     "start_time": "2022-07-17T15:18:47.350341",
     "status": "completed"
    },
    "tags": []
   },
   "outputs": [],
   "source": [
    "y = train[TARGET]\n",
    "X = train[FEATURES].copy()\n",
    "\n",
    "X_test = test[FEATURES].copy()"
   ]
  },
  {
   "cell_type": "code",
   "execution_count": 11,
   "id": "ab9886f0",
   "metadata": {
    "execution": {
     "iopub.execute_input": "2022-07-17T15:18:47.681032Z",
     "iopub.status.busy": "2022-07-17T15:18:47.679415Z",
     "iopub.status.idle": "2022-07-17T15:18:47.849730Z",
     "shell.execute_reply": "2022-07-17T15:18:47.848742Z"
    },
    "papermill": {
     "duration": 0.182461,
     "end_time": "2022-07-17T15:18:47.852112",
     "exception": false,
     "start_time": "2022-07-17T15:18:47.669651",
     "status": "completed"
    },
    "tags": []
   },
   "outputs": [],
   "source": [
    "# Normalize the data\n",
    "X = X / 255.0\n",
    "X_test = X_test / 255.0"
   ]
  },
  {
   "cell_type": "code",
   "execution_count": 12,
   "id": "855c8cca",
   "metadata": {
    "execution": {
     "iopub.execute_input": "2022-07-17T15:18:47.871813Z",
     "iopub.status.busy": "2022-07-17T15:18:47.870380Z",
     "iopub.status.idle": "2022-07-17T15:18:47.878664Z",
     "shell.execute_reply": "2022-07-17T15:18:47.877775Z"
    },
    "papermill": {
     "duration": 0.019297,
     "end_time": "2022-07-17T15:18:47.880675",
     "exception": false,
     "start_time": "2022-07-17T15:18:47.861378",
     "status": "completed"
    },
    "tags": []
   },
   "outputs": [],
   "source": [
    "X = X.values.reshape(-1, 28, 28, 1)\n",
    "X_test = X_test.values.reshape(-1, 28, 28, 1)"
   ]
  },
  {
   "cell_type": "code",
   "execution_count": 13,
   "id": "cd1386bf",
   "metadata": {
    "execution": {
     "iopub.execute_input": "2022-07-17T15:18:47.899345Z",
     "iopub.status.busy": "2022-07-17T15:18:47.898012Z",
     "iopub.status.idle": "2022-07-17T15:18:47.903539Z",
     "shell.execute_reply": "2022-07-17T15:18:47.902697Z"
    },
    "papermill": {
     "duration": 0.016665,
     "end_time": "2022-07-17T15:18:47.905624",
     "exception": false,
     "start_time": "2022-07-17T15:18:47.888959",
     "status": "completed"
    },
    "tags": []
   },
   "outputs": [],
   "source": [
    "# X[:3]"
   ]
  },
  {
   "cell_type": "code",
   "execution_count": 14,
   "id": "05cdc1a7",
   "metadata": {
    "execution": {
     "iopub.execute_input": "2022-07-17T15:18:47.923852Z",
     "iopub.status.busy": "2022-07-17T15:18:47.922498Z",
     "iopub.status.idle": "2022-07-17T15:18:53.514719Z",
     "shell.execute_reply": "2022-07-17T15:18:53.513748Z"
    },
    "papermill": {
     "duration": 5.60347,
     "end_time": "2022-07-17T15:18:53.517102",
     "exception": false,
     "start_time": "2022-07-17T15:18:47.913632",
     "status": "completed"
    },
    "tags": []
   },
   "outputs": [],
   "source": [
    "from keras.utils.np_utils import to_categorical\n",
    "\n",
    "y = to_categorical(y)"
   ]
  },
  {
   "cell_type": "code",
   "execution_count": 15,
   "id": "dc5b05c0",
   "metadata": {
    "execution": {
     "iopub.execute_input": "2022-07-17T15:18:53.536474Z",
     "iopub.status.busy": "2022-07-17T15:18:53.534798Z",
     "iopub.status.idle": "2022-07-17T15:18:53.544786Z",
     "shell.execute_reply": "2022-07-17T15:18:53.543823Z"
    },
    "papermill": {
     "duration": 0.021334,
     "end_time": "2022-07-17T15:18:53.546884",
     "exception": false,
     "start_time": "2022-07-17T15:18:53.525550",
     "status": "completed"
    },
    "tags": []
   },
   "outputs": [
    {
     "data": {
      "text/plain": [
       "array([[0., 1., 0., 0., 0., 0., 0., 0., 0., 0.],\n",
       "       [1., 0., 0., 0., 0., 0., 0., 0., 0., 0.],\n",
       "       [0., 1., 0., 0., 0., 0., 0., 0., 0., 0.],\n",
       "       [0., 0., 0., 0., 1., 0., 0., 0., 0., 0.],\n",
       "       [1., 0., 0., 0., 0., 0., 0., 0., 0., 0.]], dtype=float32)"
      ]
     },
     "execution_count": 15,
     "metadata": {},
     "output_type": "execute_result"
    }
   ],
   "source": [
    "y[:5]"
   ]
  },
  {
   "cell_type": "code",
   "execution_count": 16,
   "id": "3e9c196b",
   "metadata": {
    "execution": {
     "iopub.execute_input": "2022-07-17T15:18:53.564555Z",
     "iopub.status.busy": "2022-07-17T15:18:53.564295Z",
     "iopub.status.idle": "2022-07-17T15:18:53.942252Z",
     "shell.execute_reply": "2022-07-17T15:18:53.941356Z"
    },
    "papermill": {
     "duration": 0.389161,
     "end_time": "2022-07-17T15:18:53.944373",
     "exception": false,
     "start_time": "2022-07-17T15:18:53.555212",
     "status": "completed"
    },
    "tags": []
   },
   "outputs": [
    {
     "data": {
      "text/plain": [
       "((37800, 28, 28, 1), (37800, 10), (4200, 28, 28, 1), (4200, 10))"
      ]
     },
     "execution_count": 16,
     "metadata": {},
     "output_type": "execute_result"
    }
   ],
   "source": [
    "X_train, X_valid, y_train, y_valid = train_test_split(\n",
    "    X,\n",
    "    y,\n",
    "    test_size=0.1,\n",
    "    random_state=42,\n",
    ")\n",
    "X_train.shape, y_train.shape, X_valid.shape, y_valid.shape"
   ]
  },
  {
   "cell_type": "markdown",
   "id": "5d496890",
   "metadata": {
    "papermill": {
     "duration": 0.008714,
     "end_time": "2022-07-17T15:18:53.961859",
     "exception": false,
     "start_time": "2022-07-17T15:18:53.953145",
     "status": "completed"
    },
    "tags": []
   },
   "source": [
    "<div style=\"background-color:rgba(128, 0, 128, 0.6);border-radius:5px;display:fill\"><h1 style=\"text-align: center;padding: 12px 0px 12px 0px;\">Create Models</h1>\n",
    "</div>"
   ]
  },
  {
   "cell_type": "code",
   "execution_count": 17,
   "id": "c51c162e",
   "metadata": {
    "execution": {
     "iopub.execute_input": "2022-07-17T15:18:53.980223Z",
     "iopub.status.busy": "2022-07-17T15:18:53.979351Z",
     "iopub.status.idle": "2022-07-17T15:18:54.397995Z",
     "shell.execute_reply": "2022-07-17T15:18:54.397031Z"
    },
    "papermill": {
     "duration": 0.430148,
     "end_time": "2022-07-17T15:18:54.400268",
     "exception": false,
     "start_time": "2022-07-17T15:18:53.970120",
     "status": "completed"
    },
    "tags": []
   },
   "outputs": [],
   "source": [
    "### import tensorflow as tf\n",
    "from tensorflow import keras\n",
    "from tensorflow.keras import layers\n",
    "\n",
    "\n",
    "def get_tf_model01(x_shape):\n",
    "    print(f\"x_shape=\")\n",
    "    #     input_shape = (height, width, channels)\n",
    "    inputs = keras.Input(shape=(28, 28, 1))\n",
    "\n",
    "    x = keras.layers.Conv2D(\n",
    "        64,\n",
    "        kernel_size=3,\n",
    "        activation=\"relu\",\n",
    "        padding=\"same\",\n",
    "        input_shape=(28, 28, 1),\n",
    "        kernel_initializer=\"he_normal\",\n",
    "    )(inputs)\n",
    "    x = keras.layers.MaxPooling2D((2, 2))(x)\n",
    "    x = keras.layers.Conv2D(\n",
    "        64,\n",
    "        kernel_size=3,\n",
    "        activation=\"relu\",\n",
    "        padding=\"same\",\n",
    "        kernel_initializer=\"he_normal\",\n",
    "    )(x)\n",
    "    x = keras.layers.MaxPooling2D((2, 2))(x)\n",
    "\n",
    "    #     x = keras.layers.MaxPooling2d((2, 2))(x)\n",
    "    #     x = keras.layers.Conv2D(\n",
    "    #         128, activation=\"relu\", padding=\"same\", kernel_initializer=\"he_normal\"\n",
    "    #     )(x)\n",
    "    x = keras.layers.Flatten()(x)\n",
    "    x = keras.layers.BatchNormalization()(x)\n",
    "\n",
    "    #     x = keras.layers.Dense(128, activation=\"relu\")(x)\n",
    "\n",
    "    x = keras.layers.Dense(64, activation=\"relu\")(x)\n",
    "    x = keras.layers.BatchNormalization()(x)\n",
    "    x = keras.layers.Dense(32, activation=\"relu\")(x)\n",
    "    x = keras.layers.BatchNormalization()(x)\n",
    "    #     x = keras.layers.Dropout(0.1)(x)\n",
    "\n",
    "    outputs = keras.layers.Dense(10, activation=\"softmax\")(x)\n",
    "\n",
    "    model = keras.Model(inputs, outputs)\n",
    "\n",
    "    model.compile(\n",
    "        loss=\"categorical_crossentropy\",\n",
    "        optimizer=\"rmsprop\",\n",
    "        metrics=[\"accuracy\"],\n",
    "    )\n",
    "\n",
    "    #     model.compile(\n",
    "    #         optimizer=tf.keras.optimizers.Adam(learning_rate=0.01),\n",
    "    #         loss=\"mean_absolute_error\",\n",
    "    #     )\n",
    "\n",
    "    return model"
   ]
  },
  {
   "cell_type": "code",
   "execution_count": 18,
   "id": "44bffa17",
   "metadata": {
    "execution": {
     "iopub.execute_input": "2022-07-17T15:18:54.419674Z",
     "iopub.status.busy": "2022-07-17T15:18:54.418250Z",
     "iopub.status.idle": "2022-07-17T15:18:54.427890Z",
     "shell.execute_reply": "2022-07-17T15:18:54.427020Z"
    },
    "papermill": {
     "duration": 0.021036,
     "end_time": "2022-07-17T15:18:54.429815",
     "exception": false,
     "start_time": "2022-07-17T15:18:54.408779",
     "status": "completed"
    },
    "tags": []
   },
   "outputs": [
    {
     "data": {
      "text/plain": [
       "28"
      ]
     },
     "execution_count": 18,
     "metadata": {},
     "output_type": "execute_result"
    }
   ],
   "source": [
    "X_train.shape[1]"
   ]
  },
  {
   "cell_type": "code",
   "execution_count": 19,
   "id": "54ad294a",
   "metadata": {
    "execution": {
     "iopub.execute_input": "2022-07-17T15:18:54.448815Z",
     "iopub.status.busy": "2022-07-17T15:18:54.447317Z",
     "iopub.status.idle": "2022-07-17T15:18:54.454878Z",
     "shell.execute_reply": "2022-07-17T15:18:54.454066Z"
    },
    "papermill": {
     "duration": 0.018649,
     "end_time": "2022-07-17T15:18:54.456832",
     "exception": false,
     "start_time": "2022-07-17T15:18:54.438183",
     "status": "completed"
    },
    "tags": []
   },
   "outputs": [
    {
     "data": {
      "text/plain": [
       "42000"
      ]
     },
     "execution_count": 19,
     "metadata": {},
     "output_type": "execute_result"
    }
   ],
   "source": [
    "X.shape[0]"
   ]
  },
  {
   "cell_type": "code",
   "execution_count": 20,
   "id": "da24d500",
   "metadata": {
    "execution": {
     "iopub.execute_input": "2022-07-17T15:18:54.475206Z",
     "iopub.status.busy": "2022-07-17T15:18:54.474539Z",
     "iopub.status.idle": "2022-07-17T15:18:57.465070Z",
     "shell.execute_reply": "2022-07-17T15:18:57.463293Z"
    },
    "papermill": {
     "duration": 3.002426,
     "end_time": "2022-07-17T15:18:57.467665",
     "exception": false,
     "start_time": "2022-07-17T15:18:54.465239",
     "status": "completed"
    },
    "tags": []
   },
   "outputs": [
    {
     "name": "stdout",
     "output_type": "stream",
     "text": [
      "x_shape=\n",
      "Model: \"model\"\n",
      "_________________________________________________________________\n",
      "Layer (type)                 Output Shape              Param #   \n",
      "=================================================================\n",
      "input_1 (InputLayer)         [(None, 28, 28, 1)]       0         \n",
      "_________________________________________________________________\n",
      "conv2d (Conv2D)              (None, 28, 28, 64)        640       \n",
      "_________________________________________________________________\n",
      "max_pooling2d (MaxPooling2D) (None, 14, 14, 64)        0         \n",
      "_________________________________________________________________\n",
      "conv2d_1 (Conv2D)            (None, 14, 14, 64)        36928     \n",
      "_________________________________________________________________\n",
      "max_pooling2d_1 (MaxPooling2 (None, 7, 7, 64)          0         \n",
      "_________________________________________________________________\n",
      "flatten (Flatten)            (None, 3136)              0         \n",
      "_________________________________________________________________\n",
      "batch_normalization (BatchNo (None, 3136)              12544     \n",
      "_________________________________________________________________\n",
      "dense (Dense)                (None, 64)                200768    \n",
      "_________________________________________________________________\n",
      "batch_normalization_1 (Batch (None, 64)                256       \n",
      "_________________________________________________________________\n",
      "dense_1 (Dense)              (None, 32)                2080      \n",
      "_________________________________________________________________\n",
      "batch_normalization_2 (Batch (None, 32)                128       \n",
      "_________________________________________________________________\n",
      "dense_2 (Dense)              (None, 10)                330       \n",
      "=================================================================\n",
      "Total params: 253,674\n",
      "Trainable params: 247,210\n",
      "Non-trainable params: 6,464\n",
      "_________________________________________________________________\n"
     ]
    },
    {
     "name": "stderr",
     "output_type": "stream",
     "text": [
      "2022-07-17 15:18:54.577639: I tensorflow/stream_executor/cuda/cuda_gpu_executor.cc:937] successful NUMA node read from SysFS had negative value (-1), but there must be at least one NUMA node, so returning NUMA node zero\n",
      "2022-07-17 15:18:54.685656: I tensorflow/stream_executor/cuda/cuda_gpu_executor.cc:937] successful NUMA node read from SysFS had negative value (-1), but there must be at least one NUMA node, so returning NUMA node zero\n",
      "2022-07-17 15:18:54.686366: I tensorflow/stream_executor/cuda/cuda_gpu_executor.cc:937] successful NUMA node read from SysFS had negative value (-1), but there must be at least one NUMA node, so returning NUMA node zero\n",
      "2022-07-17 15:18:54.687890: I tensorflow/core/platform/cpu_feature_guard.cc:142] This TensorFlow binary is optimized with oneAPI Deep Neural Network Library (oneDNN) to use the following CPU instructions in performance-critical operations:  AVX2 AVX512F FMA\n",
      "To enable them in other operations, rebuild TensorFlow with the appropriate compiler flags.\n",
      "2022-07-17 15:18:54.688207: I tensorflow/stream_executor/cuda/cuda_gpu_executor.cc:937] successful NUMA node read from SysFS had negative value (-1), but there must be at least one NUMA node, so returning NUMA node zero\n",
      "2022-07-17 15:18:54.689230: I tensorflow/stream_executor/cuda/cuda_gpu_executor.cc:937] successful NUMA node read from SysFS had negative value (-1), but there must be at least one NUMA node, so returning NUMA node zero\n",
      "2022-07-17 15:18:54.690299: I tensorflow/stream_executor/cuda/cuda_gpu_executor.cc:937] successful NUMA node read from SysFS had negative value (-1), but there must be at least one NUMA node, so returning NUMA node zero\n",
      "2022-07-17 15:18:57.028959: I tensorflow/stream_executor/cuda/cuda_gpu_executor.cc:937] successful NUMA node read from SysFS had negative value (-1), but there must be at least one NUMA node, so returning NUMA node zero\n",
      "2022-07-17 15:18:57.029823: I tensorflow/stream_executor/cuda/cuda_gpu_executor.cc:937] successful NUMA node read from SysFS had negative value (-1), but there must be at least one NUMA node, so returning NUMA node zero\n",
      "2022-07-17 15:18:57.030501: I tensorflow/stream_executor/cuda/cuda_gpu_executor.cc:937] successful NUMA node read from SysFS had negative value (-1), but there must be at least one NUMA node, so returning NUMA node zero\n",
      "2022-07-17 15:18:57.031116: I tensorflow/core/common_runtime/gpu/gpu_device.cc:1510] Created device /job:localhost/replica:0/task:0/device:GPU:0 with 15403 MB memory:  -> device: 0, name: Tesla P100-PCIE-16GB, pci bus id: 0000:00:04.0, compute capability: 6.0\n"
     ]
    }
   ],
   "source": [
    "model = get_tf_model01(x_shape=(28, 28))\n",
    "\n",
    "model.summary()"
   ]
  },
  {
   "cell_type": "code",
   "execution_count": 21,
   "id": "13baa6a9",
   "metadata": {
    "execution": {
     "iopub.execute_input": "2022-07-17T15:18:57.486682Z",
     "iopub.status.busy": "2022-07-17T15:18:57.486369Z",
     "iopub.status.idle": "2022-07-17T15:19:38.076394Z",
     "shell.execute_reply": "2022-07-17T15:19:38.075466Z"
    },
    "papermill": {
     "duration": 40.602074,
     "end_time": "2022-07-17T15:19:38.078690",
     "exception": false,
     "start_time": "2022-07-17T15:18:57.476616",
     "status": "completed"
    },
    "tags": []
   },
   "outputs": [
    {
     "name": "stderr",
     "output_type": "stream",
     "text": [
      "2022-07-17 15:18:57.759710: I tensorflow/compiler/mlir/mlir_graph_optimization_pass.cc:185] None of the MLIR Optimization Passes are enabled (registered 2)\n"
     ]
    },
    {
     "name": "stdout",
     "output_type": "stream",
     "text": [
      "Epoch 1/10\n"
     ]
    },
    {
     "name": "stderr",
     "output_type": "stream",
     "text": [
      "2022-07-17 15:18:59.915558: I tensorflow/stream_executor/cuda/cuda_dnn.cc:369] Loaded cuDNN version 8005\n"
     ]
    },
    {
     "name": "stdout",
     "output_type": "stream",
     "text": [
      "473/473 [==============================] - 12s 7ms/step - loss: 0.1760 - accuracy: 0.9542 - val_loss: 0.0950 - val_accuracy: 0.9729\n",
      "Epoch 2/10\n",
      "473/473 [==============================] - 3s 7ms/step - loss: 0.0574 - accuracy: 0.9821 - val_loss: 0.0535 - val_accuracy: 0.9836\n",
      "Epoch 3/10\n",
      "473/473 [==============================] - 4s 8ms/step - loss: 0.0391 - accuracy: 0.9879 - val_loss: 0.0602 - val_accuracy: 0.9813\n",
      "Epoch 4/10\n",
      "473/473 [==============================] - 3s 6ms/step - loss: 0.0293 - accuracy: 0.9910 - val_loss: 0.0602 - val_accuracy: 0.9824\n",
      "Epoch 5/10\n",
      "473/473 [==============================] - 3s 6ms/step - loss: 0.0247 - accuracy: 0.9928 - val_loss: 0.0549 - val_accuracy: 0.9835\n",
      "Epoch 6/10\n",
      "473/473 [==============================] - 3s 7ms/step - loss: 0.0176 - accuracy: 0.9946 - val_loss: 0.0591 - val_accuracy: 0.9856\n",
      "Epoch 7/10\n",
      "473/473 [==============================] - 3s 7ms/step - loss: 0.0151 - accuracy: 0.9953 - val_loss: 0.0466 - val_accuracy: 0.9889\n",
      "Epoch 8/10\n",
      "473/473 [==============================] - 3s 6ms/step - loss: 0.0124 - accuracy: 0.9958 - val_loss: 0.0486 - val_accuracy: 0.9877\n",
      "Epoch 9/10\n",
      "473/473 [==============================] - 3s 7ms/step - loss: 0.0101 - accuracy: 0.9968 - val_loss: 0.0532 - val_accuracy: 0.9870\n",
      "Epoch 10/10\n",
      "473/473 [==============================] - 3s 6ms/step - loss: 0.0077 - accuracy: 0.9974 - val_loss: 0.0633 - val_accuracy: 0.9856\n",
      "CPU times: user 40.6 s, sys: 4.31 s, total: 44.9 s\n",
      "Wall time: 40.6 s\n"
     ]
    }
   ],
   "source": [
    "%%time\n",
    "\n",
    "history = model.fit(\n",
    "    X_train,\n",
    "    y_train,\n",
    "    batch_size=64,\n",
    "    epochs=10,\n",
    "    # Suppress logging.\n",
    "    verbose=1,\n",
    "    # Calculate validation results on 20% of the training data.\n",
    "    validation_split = 0.2\n",
    ")"
   ]
  },
  {
   "cell_type": "code",
   "execution_count": 22,
   "id": "dc0dea27",
   "metadata": {
    "execution": {
     "iopub.execute_input": "2022-07-17T15:19:38.165773Z",
     "iopub.status.busy": "2022-07-17T15:19:38.164957Z",
     "iopub.status.idle": "2022-07-17T15:19:38.561358Z",
     "shell.execute_reply": "2022-07-17T15:19:38.560481Z"
    },
    "papermill": {
     "duration": 0.441018,
     "end_time": "2022-07-17T15:19:38.563302",
     "exception": false,
     "start_time": "2022-07-17T15:19:38.122284",
     "status": "completed"
    },
    "tags": []
   },
   "outputs": [
    {
     "data": {
      "image/png": "[encoded data removed]",
      "text/plain": [
       "<Figure size 432x288 with 1 Axes>"
      ]
     },
     "metadata": {
      "needs_background": "light"
     },
     "output_type": "display_data"
    },
    {
     "data": {
      "image/png": "[encoded data removed]",
      "text/plain": [
       "<Figure size 432x288 with 1 Axes>"
      ]
     },
     "metadata": {
      "needs_background": "light"
     },
     "output_type": "display_data"
    }
   ],
   "source": [
    "acc = history.history[\"accuracy\"]\n",
    "val_acc = history.history[\"val_accuracy\"]\n",
    "loss = history.history[\"loss\"]\n",
    "val_loss = history.history[\"val_loss\"]\n",
    "\n",
    "epochs = range(1, len(acc) + 1)\n",
    "\n",
    "plt.plot(epochs, acc, \"bo\", label=\"Training acc\")\n",
    "plt.plot(epochs, val_acc, \"b\", label=\"Validation acc\")\n",
    "plt.title(\"Training and validation accuracy\")\n",
    "plt.legend()\n",
    "\n",
    "plt.figure()\n",
    "\n",
    "plt.plot(epochs, loss, \"bo\", label=\"Training loss\")\n",
    "plt.plot(epochs, val_loss, \"b\", label=\"Validation loss\")\n",
    "plt.title(\"Training and validation loss\")\n",
    "plt.legend()\n",
    "\n",
    "plt.show()"
   ]
  },
  {
   "cell_type": "markdown",
   "id": "086e5d44",
   "metadata": {
    "papermill": {
     "duration": 0.042608,
     "end_time": "2022-07-17T15:19:38.647849",
     "exception": false,
     "start_time": "2022-07-17T15:19:38.605241",
     "status": "completed"
    },
    "tags": []
   },
   "source": [
    "## Predict and Score"
   ]
  },
  {
   "cell_type": "code",
   "execution_count": 23,
   "id": "f4bc175b",
   "metadata": {
    "execution": {
     "iopub.execute_input": "2022-07-17T15:19:38.733301Z",
     "iopub.status.busy": "2022-07-17T15:19:38.733008Z",
     "iopub.status.idle": "2022-07-17T15:19:39.168420Z",
     "shell.execute_reply": "2022-07-17T15:19:39.167500Z"
    },
    "papermill": {
     "duration": 0.480013,
     "end_time": "2022-07-17T15:19:39.170474",
     "exception": false,
     "start_time": "2022-07-17T15:19:38.690461",
     "status": "completed"
    },
    "tags": []
   },
   "outputs": [
    {
     "name": "stdout",
     "output_type": "stream",
     "text": [
      "132/132 [==============================] - 0s 3ms/step - loss: 0.0454 - accuracy: 0.9864\n"
     ]
    },
    {
     "data": {
      "text/plain": [
       "0.9864285588264465"
      ]
     },
     "execution_count": 23,
     "metadata": {},
     "output_type": "execute_result"
    }
   ],
   "source": [
    "test_loss, test_acc = model.evaluate(X_valid, y_valid)\n",
    "test_acc"
   ]
  },
  {
   "cell_type": "code",
   "execution_count": 24,
   "id": "bac8a61f",
   "metadata": {
    "execution": {
     "iopub.execute_input": "2022-07-17T15:19:39.259430Z",
     "iopub.status.busy": "2022-07-17T15:19:39.258474Z",
     "iopub.status.idle": "2022-07-17T15:19:39.615521Z",
     "shell.execute_reply": "2022-07-17T15:19:39.614528Z"
    },
    "papermill": {
     "duration": 0.403009,
     "end_time": "2022-07-17T15:19:39.617665",
     "exception": false,
     "start_time": "2022-07-17T15:19:39.214656",
     "status": "completed"
    },
    "tags": []
   },
   "outputs": [
    {
     "data": {
      "text/plain": [
       "array([[5.30582298e-08, 4.65914463e-09, 5.63776496e-07, 2.32324382e-07,\n",
       "        1.43650269e-09, 5.69421443e-09, 1.48852164e-09, 2.28751307e-09,\n",
       "        9.99999046e-01, 6.76443648e-08],\n",
       "       [1.46022181e-08, 9.99999046e-01, 1.45252734e-08, 3.76396372e-08,\n",
       "        8.09812150e-07, 1.05719124e-07, 1.51044706e-08, 5.65113023e-09,\n",
       "        1.15802496e-08, 2.31181847e-08],\n",
       "       [7.06324528e-08, 1.93007779e-08, 3.47993314e-08, 1.52322300e-05,\n",
       "        1.48746005e-06, 5.46676006e-07, 1.02396820e-08, 1.39450117e-06,\n",
       "        5.54899504e-09, 9.99981165e-01],\n",
       "       [1.18903891e-07, 6.16261620e-09, 1.83456120e-06, 1.69641510e-06,\n",
       "        2.40136815e-05, 1.69604641e-06, 5.15119325e-08, 3.67464847e-04,\n",
       "        5.37328404e-09, 9.99603093e-01],\n",
       "       [4.37114477e-06, 1.60062697e-07, 5.03921456e-06, 2.94643155e-06,\n",
       "        1.34323315e-07, 3.22327224e-07, 1.18771432e-07, 3.63003601e-08,\n",
       "        9.99985695e-01, 1.13566682e-06]], dtype=float32)"
      ]
     },
     "execution_count": 24,
     "metadata": {},
     "output_type": "execute_result"
    }
   ],
   "source": [
    "valid_preds = model.predict(X_valid)\n",
    "valid_preds[:5]"
   ]
  },
  {
   "cell_type": "code",
   "execution_count": 25,
   "id": "bc030533",
   "metadata": {
    "execution": {
     "iopub.execute_input": "2022-07-17T15:19:39.705039Z",
     "iopub.status.busy": "2022-07-17T15:19:39.704523Z",
     "iopub.status.idle": "2022-07-17T15:19:39.710735Z",
     "shell.execute_reply": "2022-07-17T15:19:39.709831Z"
    },
    "papermill": {
     "duration": 0.051244,
     "end_time": "2022-07-17T15:19:39.712836",
     "exception": false,
     "start_time": "2022-07-17T15:19:39.661592",
     "status": "completed"
    },
    "tags": []
   },
   "outputs": [],
   "source": [
    "valid_preds = np.argmax(valid_preds, axis=1)"
   ]
  },
  {
   "cell_type": "code",
   "execution_count": 26,
   "id": "2504cbaa",
   "metadata": {
    "execution": {
     "iopub.execute_input": "2022-07-17T15:19:39.800033Z",
     "iopub.status.busy": "2022-07-17T15:19:39.799773Z",
     "iopub.status.idle": "2022-07-17T15:19:39.804142Z",
     "shell.execute_reply": "2022-07-17T15:19:39.803144Z"
    },
    "papermill": {
     "duration": 0.050554,
     "end_time": "2022-07-17T15:19:39.806284",
     "exception": false,
     "start_time": "2022-07-17T15:19:39.755730",
     "status": "completed"
    },
    "tags": []
   },
   "outputs": [],
   "source": [
    "# show_scores(y_valid, valid_preds)"
   ]
  },
  {
   "cell_type": "code",
   "execution_count": 27,
   "id": "e4fee789",
   "metadata": {
    "execution": {
     "iopub.execute_input": "2022-07-17T15:19:39.892822Z",
     "iopub.status.busy": "2022-07-17T15:19:39.892548Z",
     "iopub.status.idle": "2022-07-17T15:19:41.665455Z",
     "shell.execute_reply": "2022-07-17T15:19:41.664513Z"
    },
    "papermill": {
     "duration": 1.819103,
     "end_time": "2022-07-17T15:19:41.667758",
     "exception": false,
     "start_time": "2022-07-17T15:19:39.848655",
     "status": "completed"
    },
    "tags": []
   },
   "outputs": [
    {
     "data": {
      "text/plain": [
       "array([[1.30181007e-07, 5.65698377e-09, 9.99998689e-01, 5.94973093e-09,\n",
       "        1.86369917e-07, 2.34041622e-08, 3.79722053e-07, 5.76549553e-07,\n",
       "        5.00368191e-09, 1.24229595e-08],\n",
       "       [9.99978542e-01, 2.83778235e-07, 5.62378126e-08, 8.36760705e-08,\n",
       "        5.36068212e-09, 1.25450815e-05, 6.41506460e-07, 7.58401802e-06,\n",
       "        4.83881095e-08, 2.73194615e-07],\n",
       "       [2.07415987e-08, 3.12364114e-06, 3.27075031e-05, 5.71369446e-06,\n",
       "        4.18553973e-05, 7.72653766e-06, 1.81710309e-08, 9.05355250e-07,\n",
       "        6.77090384e-09, 9.99907970e-01],\n",
       "       [9.09877181e-01, 8.67203127e-08, 4.73686047e-02, 5.03604424e-05,\n",
       "        1.14375280e-06, 1.61134960e-06, 3.10451264e-06, 3.27717606e-03,\n",
       "        2.23732841e-05, 3.93983535e-02],\n",
       "       [1.50472124e-09, 1.14958301e-08, 4.53430715e-07, 9.99999046e-01,\n",
       "        1.29804496e-08, 1.56767371e-07, 8.27000246e-09, 1.41741898e-08,\n",
       "        2.43496725e-08, 2.24999212e-07]], dtype=float32)"
      ]
     },
     "execution_count": 27,
     "metadata": {},
     "output_type": "execute_result"
    }
   ],
   "source": [
    "preds = model.predict(X_test)\n",
    "preds[:5]"
   ]
  },
  {
   "cell_type": "code",
   "execution_count": 28,
   "id": "e070742b",
   "metadata": {
    "execution": {
     "iopub.execute_input": "2022-07-17T15:19:41.755028Z",
     "iopub.status.busy": "2022-07-17T15:19:41.754750Z",
     "iopub.status.idle": "2022-07-17T15:19:41.761392Z",
     "shell.execute_reply": "2022-07-17T15:19:41.760509Z"
    },
    "papermill": {
     "duration": 0.051129,
     "end_time": "2022-07-17T15:19:41.763353",
     "exception": false,
     "start_time": "2022-07-17T15:19:41.712224",
     "status": "completed"
    },
    "tags": []
   },
   "outputs": [],
   "source": [
    "preds = np.argmax(preds, axis=1)"
   ]
  },
  {
   "cell_type": "markdown",
   "id": "bc0191a0",
   "metadata": {
    "papermill": {
     "duration": 0.04218,
     "end_time": "2022-07-17T15:19:41.847613",
     "exception": false,
     "start_time": "2022-07-17T15:19:41.805433",
     "status": "completed"
    },
    "tags": []
   },
   "source": [
    "## Submission"
   ]
  },
  {
   "cell_type": "code",
   "execution_count": 29,
   "id": "9b677022",
   "metadata": {
    "execution": {
     "iopub.execute_input": "2022-07-17T15:19:41.934265Z",
     "iopub.status.busy": "2022-07-17T15:19:41.934004Z",
     "iopub.status.idle": "2022-07-17T15:19:41.986179Z",
     "shell.execute_reply": "2022-07-17T15:19:41.985211Z"
    },
    "papermill": {
     "duration": 0.098034,
     "end_time": "2022-07-17T15:19:41.988223",
     "exception": false,
     "start_time": "2022-07-17T15:19:41.890189",
     "status": "completed"
    },
    "tags": []
   },
   "outputs": [
    {
     "data": {
      "text/html": [
       "<div>\n",
       "<style scoped>\n",
       "    .dataframe tbody tr th:only-of-type {\n",
       "        vertical-align: middle;\n",
       "    }\n",
       "\n",
       "    .dataframe tbody tr th {\n",
       "        vertical-align: top;\n",
       "    }\n",
       "\n",
       "    .dataframe thead th {\n",
       "        text-align: right;\n",
       "    }\n",
       "</style>\n",
       "<table border=\"1\" class=\"dataframe\">\n",
       "  <thead>\n",
       "    <tr style=\"text-align: right;\">\n",
       "      <th></th>\n",
       "      <th>ImageId</th>\n",
       "      <th>Label</th>\n",
       "    </tr>\n",
       "  </thead>\n",
       "  <tbody>\n",
       "    <tr>\n",
       "      <th>0</th>\n",
       "      <td>1</td>\n",
       "      <td>2</td>\n",
       "    </tr>\n",
       "    <tr>\n",
       "      <th>1</th>\n",
       "      <td>2</td>\n",
       "      <td>0</td>\n",
       "    </tr>\n",
       "    <tr>\n",
       "      <th>2</th>\n",
       "      <td>3</td>\n",
       "      <td>9</td>\n",
       "    </tr>\n",
       "    <tr>\n",
       "      <th>3</th>\n",
       "      <td>4</td>\n",
       "      <td>0</td>\n",
       "    </tr>\n",
       "    <tr>\n",
       "      <th>4</th>\n",
       "      <td>5</td>\n",
       "      <td>3</td>\n",
       "    </tr>\n",
       "  </tbody>\n",
       "</table>\n",
       "</div>"
      ],
      "text/plain": [
       "   ImageId  Label\n",
       "0        1      2\n",
       "1        2      0\n",
       "2        3      9\n",
       "3        4      0\n",
       "4        5      3"
      ]
     },
     "execution_count": 29,
     "metadata": {},
     "output_type": "execute_result"
    }
   ],
   "source": [
    "# Different TARGET name used in test.csv\n",
    "ss = create_submission(\"\", \"Label\", preds)\n",
    "ss"
   ]
  }
 ],
 "metadata": {
  "kernelspec": {
   "display_name": "Python 3",
   "language": "python",
   "name": "python3"
  },
  "language_info": {
   "codemirror_mode": {
    "name": "ipython",
    "version": 3
   },
   "file_extension": ".py",
   "mimetype": "text/x-python",
   "name": "python",
   "nbconvert_exporter": "python",
   "pygments_lexer": "ipython3",
   "version": "3.7.12"
  },
  "papermill": {
   "default_parameters": {},
   "duration": 86.440156,
   "end_time": "2022-07-17T15:19:45.446864",
   "environment_variables": {},
   "exception": null,
   "input_path": "__notebook__.ipynb",
   "output_path": "__notebook__.ipynb",
   "parameters": {},
   "start_time": "2022-07-17T15:18:19.006708",
   "version": "2.3.4"
  }
 },
 "nbformat": 4,
 "nbformat_minor": 5
}
