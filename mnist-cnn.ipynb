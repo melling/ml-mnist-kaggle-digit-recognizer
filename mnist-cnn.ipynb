{
 "cells": [
  {
   "cell_type": "markdown",
   "id": "85d7647f",
   "metadata": {
    "papermill": {
     "duration": 0.00803,
     "end_time": "2022-07-16T00:22:01.474442",
     "exception": false,
     "start_time": "2022-07-16T00:22:01.466412",
     "status": "completed"
    },
    "tags": []
   },
   "source": [
    "<div style=\"background-color:rgba(128, 0, 128, 0.6);border-radius:5px;display:fill\"><h1 style=\"text-align: center;padding: 12px 0px 12px 0px;\">MNIST: CNN</h1>\n",
    "</div>\n",
    "\n",
    "Problem Type: Multi-classification\n",
    "\n",
    "## Evaluation Metric"
   ]
  },
  {
   "cell_type": "code",
   "execution_count": 1,
   "id": "d24b1b39",
   "metadata": {
    "execution": {
     "iopub.execute_input": "2022-07-16T00:22:01.491119Z",
     "iopub.status.busy": "2022-07-16T00:22:01.490267Z",
     "iopub.status.idle": "2022-07-16T00:22:15.004261Z",
     "shell.execute_reply": "2022-07-16T00:22:15.003298Z"
    },
    "papermill": {
     "duration": 13.525264,
     "end_time": "2022-07-16T00:22:15.006764",
     "exception": false,
     "start_time": "2022-07-16T00:22:01.481500",
     "status": "completed"
    },
    "tags": []
   },
   "outputs": [
    {
     "name": "stdout",
     "output_type": "stream",
     "text": [
      "\u001b[33mWARNING: Running pip as the 'root' user can result in broken permissions and conflicting behaviour with the system package manager. It is recommended to use a virtual environment instead: https://pip.pypa.io/warnings/venv\u001b[0m\u001b[33m\r\n",
      "\u001b[0m"
     ]
    }
   ],
   "source": [
    "# Black formatter https://black.readthedocs.io/en/stable/\n",
    "\n",
    "! pip install nb-black > /dev/null\n",
    "\n",
    "%load_ext lab_black"
   ]
  },
  {
   "cell_type": "markdown",
   "id": "dd396b62",
   "metadata": {
    "papermill": {
     "duration": 0.006904,
     "end_time": "2022-07-16T00:22:15.021618",
     "exception": false,
     "start_time": "2022-07-16T00:22:15.014714",
     "status": "completed"
    },
    "tags": []
   },
   "source": [
    "<div style=\"background-color:rgba(128, 0, 128, 0.6);border-radius:5px;display:fill\"><h1 style=\"text-align: center;padding: 12px 0px 12px 0px;\">Configuration</h1>\n",
    "</div>"
   ]
  },
  {
   "cell_type": "code",
   "execution_count": 2,
   "id": "8302934e",
   "metadata": {
    "execution": {
     "iopub.execute_input": "2022-07-16T00:22:15.036978Z",
     "iopub.status.busy": "2022-07-16T00:22:15.036682Z",
     "iopub.status.idle": "2022-07-16T00:22:15.042294Z",
     "shell.execute_reply": "2022-07-16T00:22:15.041304Z"
    },
    "papermill": {
     "duration": 0.015977,
     "end_time": "2022-07-16T00:22:15.044666",
     "exception": false,
     "start_time": "2022-07-16T00:22:15.028689",
     "status": "completed"
    },
    "tags": []
   },
   "outputs": [],
   "source": [
    "TARGET = \"label\""
   ]
  },
  {
   "cell_type": "markdown",
   "id": "35ffb5a6",
   "metadata": {
    "papermill": {
     "duration": 0.006753,
     "end_time": "2022-07-16T00:22:15.058416",
     "exception": false,
     "start_time": "2022-07-16T00:22:15.051663",
     "status": "completed"
    },
    "tags": []
   },
   "source": [
    "<div style=\"background-color:rgba(128, 0, 128, 0.6);border-radius:5px;display:fill\"><h1 style=\"text-align: center;padding: 12px 0px 12px 0px;\">Import Libraries</h1>\n",
    "</div>\n",
    "\n",
    "A best practise is to include all libraries here.  However, I will put a few imports farther down where they are first used so beginners can learn with an \"as needed\" approach."
   ]
  },
  {
   "cell_type": "code",
   "execution_count": 3,
   "id": "de377490",
   "metadata": {
    "execution": {
     "iopub.execute_input": "2022-07-16T00:22:15.073887Z",
     "iopub.status.busy": "2022-07-16T00:22:15.073111Z",
     "iopub.status.idle": "2022-07-16T00:22:16.122819Z",
     "shell.execute_reply": "2022-07-16T00:22:16.121730Z"
    },
    "papermill": {
     "duration": 1.05992,
     "end_time": "2022-07-16T00:22:16.125218",
     "exception": false,
     "start_time": "2022-07-16T00:22:15.065298",
     "status": "completed"
    },
    "tags": []
   },
   "outputs": [],
   "source": [
    "import os\n",
    "import time\n",
    "from pathlib import Path\n",
    "\n",
    "import pandas as pd\n",
    "import numpy as np\n",
    "\n",
    "from sklearn.model_selection import train_test_split\n",
    "\n",
    "from sklearn.metrics import f1_score"
   ]
  },
  {
   "cell_type": "markdown",
   "id": "79fe9285",
   "metadata": {
    "papermill": {
     "duration": 0.007344,
     "end_time": "2022-07-16T00:22:16.140257",
     "exception": false,
     "start_time": "2022-07-16T00:22:16.132913",
     "status": "completed"
    },
    "tags": []
   },
   "source": [
    "<div style=\"background-color:rgba(128, 0, 128, 0.6);border-radius:5px;display:fill\"><h1 style=\"text-align: center;padding: 12px 0px 12px 0px;\">Library</h1>\n",
    "</div>\n",
    "\n",
    "Creating a few functions that we will reuse in each project."
   ]
  },
  {
   "cell_type": "code",
   "execution_count": 4,
   "id": "d540a676",
   "metadata": {
    "execution": {
     "iopub.execute_input": "2022-07-16T00:22:16.155796Z",
     "iopub.status.busy": "2022-07-16T00:22:16.155483Z",
     "iopub.status.idle": "2022-07-16T00:22:16.167348Z",
     "shell.execute_reply": "2022-07-16T00:22:16.166298Z"
    },
    "papermill": {
     "duration": 0.021985,
     "end_time": "2022-07-16T00:22:16.169600",
     "exception": false,
     "start_time": "2022-07-16T00:22:16.147615",
     "status": "completed"
    },
    "tags": []
   },
   "outputs": [],
   "source": [
    "def read_data(path):\n",
    "    data_dir = Path(path)\n",
    "\n",
    "    train = pd.read_csv(data_dir / \"train.csv\")\n",
    "    test = pd.read_csv(data_dir / \"test.csv\")\n",
    "    submission_df = pd.read_csv(data_dir / \"sample_submission.csv\")\n",
    "\n",
    "    print(f\"train data: Rows={train.shape[0]}, Columns={train.shape[1]}\")\n",
    "    print(f\"test data : Rows={test.shape[0]}, Columns={test.shape[1]}\")\n",
    "    return train, test, submission_df"
   ]
  },
  {
   "cell_type": "code",
   "execution_count": 5,
   "id": "bd4a8146",
   "metadata": {
    "execution": {
     "iopub.execute_input": "2022-07-16T00:22:16.184508Z",
     "iopub.status.busy": "2022-07-16T00:22:16.184253Z",
     "iopub.status.idle": "2022-07-16T00:22:16.196454Z",
     "shell.execute_reply": "2022-07-16T00:22:16.195346Z"
    },
    "papermill": {
     "duration": 0.022149,
     "end_time": "2022-07-16T00:22:16.198657",
     "exception": false,
     "start_time": "2022-07-16T00:22:16.176508",
     "status": "completed"
    },
    "tags": []
   },
   "outputs": [],
   "source": [
    "def create_submission(model_name, target, preds, is_log_target=False):\n",
    "    if is_log_target:\n",
    "        #         preds = np.exp(preds)\n",
    "        preds = np.expm1(preds)\n",
    "\n",
    "    sample_submission[target] = preds\n",
    "    if len(model_name) > 0:\n",
    "        sample_submission.to_csv(f\"submission_{model_name}.csv\", index=False)\n",
    "    else:\n",
    "        sample_submission.to_csv(f\"submission.csv\", index=False)\n",
    "\n",
    "    return sample_submission[:5]"
   ]
  },
  {
   "cell_type": "code",
   "execution_count": 6,
   "id": "2582dda4",
   "metadata": {
    "execution": {
     "iopub.execute_input": "2022-07-16T00:22:16.213777Z",
     "iopub.status.busy": "2022-07-16T00:22:16.213485Z",
     "iopub.status.idle": "2022-07-16T00:22:16.224921Z",
     "shell.execute_reply": "2022-07-16T00:22:16.224076Z"
    },
    "papermill": {
     "duration": 0.021233,
     "end_time": "2022-07-16T00:22:16.226908",
     "exception": false,
     "start_time": "2022-07-16T00:22:16.205675",
     "status": "completed"
    },
    "tags": []
   },
   "outputs": [],
   "source": [
    "from sklearn.metrics import mean_absolute_error, mean_squared_error, f1_score\n",
    "\n",
    "\n",
    "def show_scores(gt, yhat):\n",
    "    f1 = f1_score(gt, yhat, average=\"macro\")\n",
    "    mse = mean_squared_error(gt, yhat)\n",
    "    mae = mean_absolute_error(gt, yhat)\n",
    "    rmse = np.sqrt(mse)\n",
    "    #     r2_square = r2_score(gt, yhat)\n",
    "\n",
    "    print(f\"f1: {f1:.4f}\")"
   ]
  },
  {
   "cell_type": "markdown",
   "id": "5b410151",
   "metadata": {
    "papermill": {
     "duration": 0.006821,
     "end_time": "2022-07-16T00:22:16.241552",
     "exception": false,
     "start_time": "2022-07-16T00:22:16.234731",
     "status": "completed"
    },
    "tags": []
   },
   "source": [
    "<div style=\"background-color:rgba(128, 0, 128, 0.6);border-radius:5px;display:fill\"><h1 style=\"text-align: center;padding: 12px 0px 12px 0px;\">Load Train/Test Data</h1>\n",
    "</div>\n",
    "\n",
    "- train.csv - Data used to build our machine learning model\n",
    "- test.csv - Data used to build our machine learning model. Does not contain the target variable\n",
    "- sample_submission.csv - A file in the proper format to submit test predictions"
   ]
  },
  {
   "cell_type": "code",
   "execution_count": 7,
   "id": "b35ad8fa",
   "metadata": {
    "execution": {
     "iopub.execute_input": "2022-07-16T00:22:16.257006Z",
     "iopub.status.busy": "2022-07-16T00:22:16.256716Z",
     "iopub.status.idle": "2022-07-16T00:22:21.087375Z",
     "shell.execute_reply": "2022-07-16T00:22:21.086089Z"
    },
    "papermill": {
     "duration": 4.84075,
     "end_time": "2022-07-16T00:22:21.089460",
     "exception": false,
     "start_time": "2022-07-16T00:22:16.248710",
     "status": "completed"
    },
    "tags": []
   },
   "outputs": [
    {
     "name": "stdout",
     "output_type": "stream",
     "text": [
      "train data: Rows=42000, Columns=785\n",
      "test data : Rows=28000, Columns=784\n"
     ]
    }
   ],
   "source": [
    "train, test, sample_submission = read_data(\"../input/digit-recognizer\")"
   ]
  },
  {
   "cell_type": "code",
   "execution_count": 8,
   "id": "ce438025",
   "metadata": {
    "execution": {
     "iopub.execute_input": "2022-07-16T00:22:21.105886Z",
     "iopub.status.busy": "2022-07-16T00:22:21.105590Z",
     "iopub.status.idle": "2022-07-16T00:22:21.130800Z",
     "shell.execute_reply": "2022-07-16T00:22:21.129822Z"
    },
    "papermill": {
     "duration": 0.035863,
     "end_time": "2022-07-16T00:22:21.132997",
     "exception": false,
     "start_time": "2022-07-16T00:22:21.097134",
     "status": "completed"
    },
    "tags": []
   },
   "outputs": [
    {
     "data": {
      "text/html": [
       "<div>\n",
       "<style scoped>\n",
       "    .dataframe tbody tr th:only-of-type {\n",
       "        vertical-align: middle;\n",
       "    }\n",
       "\n",
       "    .dataframe tbody tr th {\n",
       "        vertical-align: top;\n",
       "    }\n",
       "\n",
       "    .dataframe thead th {\n",
       "        text-align: right;\n",
       "    }\n",
       "</style>\n",
       "<table border=\"1\" class=\"dataframe\">\n",
       "  <thead>\n",
       "    <tr style=\"text-align: right;\">\n",
       "      <th></th>\n",
       "      <th>label</th>\n",
       "      <th>pixel0</th>\n",
       "      <th>pixel1</th>\n",
       "      <th>pixel2</th>\n",
       "      <th>pixel3</th>\n",
       "      <th>pixel4</th>\n",
       "      <th>pixel5</th>\n",
       "      <th>pixel6</th>\n",
       "      <th>pixel7</th>\n",
       "      <th>pixel8</th>\n",
       "      <th>...</th>\n",
       "      <th>pixel774</th>\n",
       "      <th>pixel775</th>\n",
       "      <th>pixel776</th>\n",
       "      <th>pixel777</th>\n",
       "      <th>pixel778</th>\n",
       "      <th>pixel779</th>\n",
       "      <th>pixel780</th>\n",
       "      <th>pixel781</th>\n",
       "      <th>pixel782</th>\n",
       "      <th>pixel783</th>\n",
       "    </tr>\n",
       "  </thead>\n",
       "  <tbody>\n",
       "    <tr>\n",
       "      <th>0</th>\n",
       "      <td>1</td>\n",
       "      <td>0</td>\n",
       "      <td>0</td>\n",
       "      <td>0</td>\n",
       "      <td>0</td>\n",
       "      <td>0</td>\n",
       "      <td>0</td>\n",
       "      <td>0</td>\n",
       "      <td>0</td>\n",
       "      <td>0</td>\n",
       "      <td>...</td>\n",
       "      <td>0</td>\n",
       "      <td>0</td>\n",
       "      <td>0</td>\n",
       "      <td>0</td>\n",
       "      <td>0</td>\n",
       "      <td>0</td>\n",
       "      <td>0</td>\n",
       "      <td>0</td>\n",
       "      <td>0</td>\n",
       "      <td>0</td>\n",
       "    </tr>\n",
       "    <tr>\n",
       "      <th>1</th>\n",
       "      <td>0</td>\n",
       "      <td>0</td>\n",
       "      <td>0</td>\n",
       "      <td>0</td>\n",
       "      <td>0</td>\n",
       "      <td>0</td>\n",
       "      <td>0</td>\n",
       "      <td>0</td>\n",
       "      <td>0</td>\n",
       "      <td>0</td>\n",
       "      <td>...</td>\n",
       "      <td>0</td>\n",
       "      <td>0</td>\n",
       "      <td>0</td>\n",
       "      <td>0</td>\n",
       "      <td>0</td>\n",
       "      <td>0</td>\n",
       "      <td>0</td>\n",
       "      <td>0</td>\n",
       "      <td>0</td>\n",
       "      <td>0</td>\n",
       "    </tr>\n",
       "    <tr>\n",
       "      <th>2</th>\n",
       "      <td>1</td>\n",
       "      <td>0</td>\n",
       "      <td>0</td>\n",
       "      <td>0</td>\n",
       "      <td>0</td>\n",
       "      <td>0</td>\n",
       "      <td>0</td>\n",
       "      <td>0</td>\n",
       "      <td>0</td>\n",
       "      <td>0</td>\n",
       "      <td>...</td>\n",
       "      <td>0</td>\n",
       "      <td>0</td>\n",
       "      <td>0</td>\n",
       "      <td>0</td>\n",
       "      <td>0</td>\n",
       "      <td>0</td>\n",
       "      <td>0</td>\n",
       "      <td>0</td>\n",
       "      <td>0</td>\n",
       "      <td>0</td>\n",
       "    </tr>\n",
       "    <tr>\n",
       "      <th>3</th>\n",
       "      <td>4</td>\n",
       "      <td>0</td>\n",
       "      <td>0</td>\n",
       "      <td>0</td>\n",
       "      <td>0</td>\n",
       "      <td>0</td>\n",
       "      <td>0</td>\n",
       "      <td>0</td>\n",
       "      <td>0</td>\n",
       "      <td>0</td>\n",
       "      <td>...</td>\n",
       "      <td>0</td>\n",
       "      <td>0</td>\n",
       "      <td>0</td>\n",
       "      <td>0</td>\n",
       "      <td>0</td>\n",
       "      <td>0</td>\n",
       "      <td>0</td>\n",
       "      <td>0</td>\n",
       "      <td>0</td>\n",
       "      <td>0</td>\n",
       "    </tr>\n",
       "    <tr>\n",
       "      <th>4</th>\n",
       "      <td>0</td>\n",
       "      <td>0</td>\n",
       "      <td>0</td>\n",
       "      <td>0</td>\n",
       "      <td>0</td>\n",
       "      <td>0</td>\n",
       "      <td>0</td>\n",
       "      <td>0</td>\n",
       "      <td>0</td>\n",
       "      <td>0</td>\n",
       "      <td>...</td>\n",
       "      <td>0</td>\n",
       "      <td>0</td>\n",
       "      <td>0</td>\n",
       "      <td>0</td>\n",
       "      <td>0</td>\n",
       "      <td>0</td>\n",
       "      <td>0</td>\n",
       "      <td>0</td>\n",
       "      <td>0</td>\n",
       "      <td>0</td>\n",
       "    </tr>\n",
       "  </tbody>\n",
       "</table>\n",
       "<p>5 rows × 785 columns</p>\n",
       "</div>"
      ],
      "text/plain": [
       "   label  pixel0  pixel1  pixel2  pixel3  pixel4  pixel5  pixel6  pixel7  \\\n",
       "0      1       0       0       0       0       0       0       0       0   \n",
       "1      0       0       0       0       0       0       0       0       0   \n",
       "2      1       0       0       0       0       0       0       0       0   \n",
       "3      4       0       0       0       0       0       0       0       0   \n",
       "4      0       0       0       0       0       0       0       0       0   \n",
       "\n",
       "   pixel8  ...  pixel774  pixel775  pixel776  pixel777  pixel778  pixel779  \\\n",
       "0       0  ...         0         0         0         0         0         0   \n",
       "1       0  ...         0         0         0         0         0         0   \n",
       "2       0  ...         0         0         0         0         0         0   \n",
       "3       0  ...         0         0         0         0         0         0   \n",
       "4       0  ...         0         0         0         0         0         0   \n",
       "\n",
       "   pixel780  pixel781  pixel782  pixel783  \n",
       "0         0         0         0         0  \n",
       "1         0         0         0         0  \n",
       "2         0         0         0         0  \n",
       "3         0         0         0         0  \n",
       "4         0         0         0         0  \n",
       "\n",
       "[5 rows x 785 columns]"
      ]
     },
     "execution_count": 8,
     "metadata": {},
     "output_type": "execute_result"
    }
   ],
   "source": [
    "train.head()"
   ]
  },
  {
   "cell_type": "code",
   "execution_count": 9,
   "id": "b6971609",
   "metadata": {
    "execution": {
     "iopub.execute_input": "2022-07-16T00:22:21.149971Z",
     "iopub.status.busy": "2022-07-16T00:22:21.149668Z",
     "iopub.status.idle": "2022-07-16T00:22:21.158320Z",
     "shell.execute_reply": "2022-07-16T00:22:21.157308Z"
    },
    "papermill": {
     "duration": 0.019975,
     "end_time": "2022-07-16T00:22:21.160702",
     "exception": false,
     "start_time": "2022-07-16T00:22:21.140727",
     "status": "completed"
    },
    "tags": []
   },
   "outputs": [],
   "source": [
    "FEATURES = [\n",
    "    col\n",
    "    for col in train.columns\n",
    "    if col\n",
    "    not in [\n",
    "        \"Id\",\n",
    "        TARGET,\n",
    "        #         TARGET_ENC,\n",
    "    ]\n",
    "]"
   ]
  },
  {
   "cell_type": "code",
   "execution_count": 10,
   "id": "d7a1e434",
   "metadata": {
    "execution": {
     "iopub.execute_input": "2022-07-16T00:22:21.176842Z",
     "iopub.status.busy": "2022-07-16T00:22:21.176569Z",
     "iopub.status.idle": "2022-07-16T00:22:21.476358Z",
     "shell.execute_reply": "2022-07-16T00:22:21.475315Z"
    },
    "papermill": {
     "duration": 0.310892,
     "end_time": "2022-07-16T00:22:21.479083",
     "exception": false,
     "start_time": "2022-07-16T00:22:21.168191",
     "status": "completed"
    },
    "tags": []
   },
   "outputs": [],
   "source": [
    "y = train[TARGET]\n",
    "X = train[FEATURES].copy()\n",
    "\n",
    "X_test = test[FEATURES].copy()"
   ]
  },
  {
   "cell_type": "code",
   "execution_count": 11,
   "id": "a15191fe",
   "metadata": {
    "execution": {
     "iopub.execute_input": "2022-07-16T00:22:21.497890Z",
     "iopub.status.busy": "2022-07-16T00:22:21.496246Z",
     "iopub.status.idle": "2022-07-16T00:22:21.665809Z",
     "shell.execute_reply": "2022-07-16T00:22:21.664918Z"
    },
    "papermill": {
     "duration": 0.181221,
     "end_time": "2022-07-16T00:22:21.668517",
     "exception": false,
     "start_time": "2022-07-16T00:22:21.487296",
     "status": "completed"
    },
    "tags": []
   },
   "outputs": [],
   "source": [
    "# Normalize the data\n",
    "X = X / 255.0\n",
    "X_test = X_test / 255.0"
   ]
  },
  {
   "cell_type": "code",
   "execution_count": 12,
   "id": "2de91697",
   "metadata": {
    "execution": {
     "iopub.execute_input": "2022-07-16T00:22:21.685048Z",
     "iopub.status.busy": "2022-07-16T00:22:21.684743Z",
     "iopub.status.idle": "2022-07-16T00:22:21.692675Z",
     "shell.execute_reply": "2022-07-16T00:22:21.691663Z"
    },
    "papermill": {
     "duration": 0.018638,
     "end_time": "2022-07-16T00:22:21.694849",
     "exception": false,
     "start_time": "2022-07-16T00:22:21.676211",
     "status": "completed"
    },
    "tags": []
   },
   "outputs": [],
   "source": [
    "X = X.values.reshape(-1, 28, 28, 1)\n",
    "X_test = X_test.values.reshape(-1, 28, 28, 1)"
   ]
  },
  {
   "cell_type": "code",
   "execution_count": 13,
   "id": "87cf6dcc",
   "metadata": {
    "execution": {
     "iopub.execute_input": "2022-07-16T00:22:21.711119Z",
     "iopub.status.busy": "2022-07-16T00:22:21.710843Z",
     "iopub.status.idle": "2022-07-16T00:22:21.715273Z",
     "shell.execute_reply": "2022-07-16T00:22:21.714210Z"
    },
    "papermill": {
     "duration": 0.015448,
     "end_time": "2022-07-16T00:22:21.717872",
     "exception": false,
     "start_time": "2022-07-16T00:22:21.702424",
     "status": "completed"
    },
    "tags": []
   },
   "outputs": [],
   "source": [
    "# X[:3]"
   ]
  },
  {
   "cell_type": "code",
   "execution_count": 14,
   "id": "e333d9a1",
   "metadata": {
    "execution": {
     "iopub.execute_input": "2022-07-16T00:22:21.733517Z",
     "iopub.status.busy": "2022-07-16T00:22:21.733273Z",
     "iopub.status.idle": "2022-07-16T00:22:27.538926Z",
     "shell.execute_reply": "2022-07-16T00:22:27.538003Z"
    },
    "papermill": {
     "duration": 5.81613,
     "end_time": "2022-07-16T00:22:27.541233",
     "exception": false,
     "start_time": "2022-07-16T00:22:21.725103",
     "status": "completed"
    },
    "tags": []
   },
   "outputs": [],
   "source": [
    "from keras.utils.np_utils import to_categorical\n",
    "\n",
    "y = to_categorical(y)"
   ]
  },
  {
   "cell_type": "code",
   "execution_count": 15,
   "id": "e425ce3a",
   "metadata": {
    "execution": {
     "iopub.execute_input": "2022-07-16T00:22:27.558303Z",
     "iopub.status.busy": "2022-07-16T00:22:27.557779Z",
     "iopub.status.idle": "2022-07-16T00:22:27.566590Z",
     "shell.execute_reply": "2022-07-16T00:22:27.565590Z"
    },
    "papermill": {
     "duration": 0.019843,
     "end_time": "2022-07-16T00:22:27.568861",
     "exception": false,
     "start_time": "2022-07-16T00:22:27.549018",
     "status": "completed"
    },
    "tags": []
   },
   "outputs": [
    {
     "data": {
      "text/plain": [
       "array([[0., 1., 0., 0., 0., 0., 0., 0., 0., 0.],\n",
       "       [1., 0., 0., 0., 0., 0., 0., 0., 0., 0.],\n",
       "       [0., 1., 0., 0., 0., 0., 0., 0., 0., 0.],\n",
       "       [0., 0., 0., 0., 1., 0., 0., 0., 0., 0.],\n",
       "       [1., 0., 0., 0., 0., 0., 0., 0., 0., 0.]], dtype=float32)"
      ]
     },
     "execution_count": 15,
     "metadata": {},
     "output_type": "execute_result"
    }
   ],
   "source": [
    "y[:5]"
   ]
  },
  {
   "cell_type": "code",
   "execution_count": 16,
   "id": "533528bc",
   "metadata": {
    "execution": {
     "iopub.execute_input": "2022-07-16T00:22:27.585052Z",
     "iopub.status.busy": "2022-07-16T00:22:27.584770Z",
     "iopub.status.idle": "2022-07-16T00:22:27.963897Z",
     "shell.execute_reply": "2022-07-16T00:22:27.963003Z"
    },
    "papermill": {
     "duration": 0.389397,
     "end_time": "2022-07-16T00:22:27.965831",
     "exception": false,
     "start_time": "2022-07-16T00:22:27.576434",
     "status": "completed"
    },
    "tags": []
   },
   "outputs": [
    {
     "data": {
      "text/plain": [
       "((37800, 28, 28, 1), (37800, 10), (4200, 28, 28, 1), (4200, 10))"
      ]
     },
     "execution_count": 16,
     "metadata": {},
     "output_type": "execute_result"
    }
   ],
   "source": [
    "X_train, X_valid, y_train, y_valid = train_test_split(\n",
    "    X,\n",
    "    y,\n",
    "    test_size=0.1,\n",
    "    random_state=42,\n",
    ")\n",
    "X_train.shape, y_train.shape, X_valid.shape, y_valid.shape"
   ]
  },
  {
   "cell_type": "markdown",
   "id": "de638cba",
   "metadata": {
    "papermill": {
     "duration": 0.007626,
     "end_time": "2022-07-16T00:22:27.981697",
     "exception": false,
     "start_time": "2022-07-16T00:22:27.974071",
     "status": "completed"
    },
    "tags": []
   },
   "source": [
    "<div style=\"background-color:rgba(128, 0, 128, 0.6);border-radius:5px;display:fill\"><h1 style=\"text-align: center;padding: 12px 0px 12px 0px;\">Create Models</h1>\n",
    "</div>"
   ]
  },
  {
   "cell_type": "code",
   "execution_count": 17,
   "id": "b0307e06",
   "metadata": {
    "execution": {
     "iopub.execute_input": "2022-07-16T00:22:27.998090Z",
     "iopub.status.busy": "2022-07-16T00:22:27.997774Z",
     "iopub.status.idle": "2022-07-16T00:22:28.416756Z",
     "shell.execute_reply": "2022-07-16T00:22:28.415826Z"
    },
    "papermill": {
     "duration": 0.429867,
     "end_time": "2022-07-16T00:22:28.419113",
     "exception": false,
     "start_time": "2022-07-16T00:22:27.989246",
     "status": "completed"
    },
    "tags": []
   },
   "outputs": [],
   "source": [
    "### import tensorflow as tf\n",
    "from tensorflow import keras\n",
    "from tensorflow.keras import layers\n",
    "\n",
    "\n",
    "def get_tf_model01(x_shape):\n",
    "    print(f\"x_shape=\")\n",
    "    #     input_shape = (height, width, channels)\n",
    "    inputs = keras.Input(shape=(28, 28, 1))\n",
    "\n",
    "    x = keras.layers.Conv2D(\n",
    "        32,\n",
    "        kernel_size=3,\n",
    "        activation=\"relu\",\n",
    "        padding=\"same\",\n",
    "        input_shape=(28, 28, 1),\n",
    "        kernel_initializer=\"he_normal\",\n",
    "    )(inputs)\n",
    "\n",
    "    x = keras.layers.Conv2D(\n",
    "        64,\n",
    "        kernel_size=3,\n",
    "        activation=\"relu\",\n",
    "        padding=\"same\",\n",
    "        kernel_initializer=\"he_normal\",\n",
    "    )(x)\n",
    "\n",
    "    x = keras.layers.BatchNormalization()(x)\n",
    "\n",
    "    #     x = keras.layers.MaxPooling2d((2, 2))(x)\n",
    "    #     x = keras.layers.Conv2D(\n",
    "    #         128, activation=\"relu\", padding=\"same\", kernel_initializer=\"he_normal\"\n",
    "    #     )(x)\n",
    "    x = keras.layers.Flatten()(x)\n",
    "    #     x = keras.layers.Dense(128, activation=\"relu\")(x)\n",
    "\n",
    "    x = keras.layers.Dense(64, activation=\"relu\")(x)\n",
    "    x = keras.layers.BatchNormalization()(x)\n",
    "    x = keras.layers.Dense(32, activation=\"relu\")(x)\n",
    "    x = keras.layers.BatchNormalization()(x)\n",
    "    #     x = keras.layers.Dropout(0.1)(x)\n",
    "\n",
    "    outputs = keras.layers.Dense(10, activation=\"softmax\")(x)\n",
    "\n",
    "    model = keras.Model(inputs, outputs)\n",
    "\n",
    "    model.compile(\n",
    "        loss=\"categorical_crossentropy\", optimizer=\"rmsprop\", metrics=[\"accuracy\"]\n",
    "    )\n",
    "\n",
    "    #     model.compile(\n",
    "    #         optimizer=tf.keras.optimizers.Adam(learning_rate=0.01),\n",
    "    #         loss=\"mean_absolute_error\",\n",
    "    #     )\n",
    "\n",
    "    return model"
   ]
  },
  {
   "cell_type": "code",
   "execution_count": 18,
   "id": "980b0cbf",
   "metadata": {
    "execution": {
     "iopub.execute_input": "2022-07-16T00:22:28.435918Z",
     "iopub.status.busy": "2022-07-16T00:22:28.435630Z",
     "iopub.status.idle": "2022-07-16T00:22:28.442534Z",
     "shell.execute_reply": "2022-07-16T00:22:28.441637Z"
    },
    "papermill": {
     "duration": 0.017262,
     "end_time": "2022-07-16T00:22:28.444358",
     "exception": false,
     "start_time": "2022-07-16T00:22:28.427096",
     "status": "completed"
    },
    "tags": []
   },
   "outputs": [
    {
     "data": {
      "text/plain": [
       "28"
      ]
     },
     "execution_count": 18,
     "metadata": {},
     "output_type": "execute_result"
    }
   ],
   "source": [
    "X_train.shape[1]"
   ]
  },
  {
   "cell_type": "code",
   "execution_count": 19,
   "id": "60090eb7",
   "metadata": {
    "execution": {
     "iopub.execute_input": "2022-07-16T00:22:28.461323Z",
     "iopub.status.busy": "2022-07-16T00:22:28.460549Z",
     "iopub.status.idle": "2022-07-16T00:22:28.467726Z",
     "shell.execute_reply": "2022-07-16T00:22:28.466874Z"
    },
    "papermill": {
     "duration": 0.01759,
     "end_time": "2022-07-16T00:22:28.469638",
     "exception": false,
     "start_time": "2022-07-16T00:22:28.452048",
     "status": "completed"
    },
    "tags": []
   },
   "outputs": [
    {
     "data": {
      "text/plain": [
       "42000"
      ]
     },
     "execution_count": 19,
     "metadata": {},
     "output_type": "execute_result"
    }
   ],
   "source": [
    "X.shape[0]"
   ]
  },
  {
   "cell_type": "code",
   "execution_count": 20,
   "id": "e4bf1aa7",
   "metadata": {
    "execution": {
     "iopub.execute_input": "2022-07-16T00:22:28.486914Z",
     "iopub.status.busy": "2022-07-16T00:22:28.486628Z",
     "iopub.status.idle": "2022-07-16T00:22:31.615758Z",
     "shell.execute_reply": "2022-07-16T00:22:31.614788Z"
    },
    "papermill": {
     "duration": 3.140858,
     "end_time": "2022-07-16T00:22:31.618560",
     "exception": false,
     "start_time": "2022-07-16T00:22:28.477702",
     "status": "completed"
    },
    "tags": []
   },
   "outputs": [
    {
     "name": "stdout",
     "output_type": "stream",
     "text": [
      "x_shape=\n"
     ]
    },
    {
     "name": "stderr",
     "output_type": "stream",
     "text": [
      "2022-07-16 00:22:28.593030: I tensorflow/stream_executor/cuda/cuda_gpu_executor.cc:937] successful NUMA node read from SysFS had negative value (-1), but there must be at least one NUMA node, so returning NUMA node zero\n",
      "2022-07-16 00:22:28.705470: I tensorflow/stream_executor/cuda/cuda_gpu_executor.cc:937] successful NUMA node read from SysFS had negative value (-1), but there must be at least one NUMA node, so returning NUMA node zero\n",
      "2022-07-16 00:22:28.706241: I tensorflow/stream_executor/cuda/cuda_gpu_executor.cc:937] successful NUMA node read from SysFS had negative value (-1), but there must be at least one NUMA node, so returning NUMA node zero\n",
      "2022-07-16 00:22:28.707875: I tensorflow/core/platform/cpu_feature_guard.cc:142] This TensorFlow binary is optimized with oneAPI Deep Neural Network Library (oneDNN) to use the following CPU instructions in performance-critical operations:  AVX2 AVX512F FMA\n",
      "To enable them in other operations, rebuild TensorFlow with the appropriate compiler flags.\n",
      "2022-07-16 00:22:28.708227: I tensorflow/stream_executor/cuda/cuda_gpu_executor.cc:937] successful NUMA node read from SysFS had negative value (-1), but there must be at least one NUMA node, so returning NUMA node zero\n",
      "2022-07-16 00:22:28.709172: I tensorflow/stream_executor/cuda/cuda_gpu_executor.cc:937] successful NUMA node read from SysFS had negative value (-1), but there must be at least one NUMA node, so returning NUMA node zero\n",
      "2022-07-16 00:22:28.710047: I tensorflow/stream_executor/cuda/cuda_gpu_executor.cc:937] successful NUMA node read from SysFS had negative value (-1), but there must be at least one NUMA node, so returning NUMA node zero\n",
      "2022-07-16 00:22:31.190086: I tensorflow/stream_executor/cuda/cuda_gpu_executor.cc:937] successful NUMA node read from SysFS had negative value (-1), but there must be at least one NUMA node, so returning NUMA node zero\n",
      "2022-07-16 00:22:31.190878: I tensorflow/stream_executor/cuda/cuda_gpu_executor.cc:937] successful NUMA node read from SysFS had negative value (-1), but there must be at least one NUMA node, so returning NUMA node zero\n",
      "2022-07-16 00:22:31.191566: I tensorflow/stream_executor/cuda/cuda_gpu_executor.cc:937] successful NUMA node read from SysFS had negative value (-1), but there must be at least one NUMA node, so returning NUMA node zero\n",
      "2022-07-16 00:22:31.192180: I tensorflow/core/common_runtime/gpu/gpu_device.cc:1510] Created device /job:localhost/replica:0/task:0/device:GPU:0 with 15403 MB memory:  -> device: 0, name: Tesla P100-PCIE-16GB, pci bus id: 0000:00:04.0, compute capability: 6.0\n"
     ]
    },
    {
     "name": "stdout",
     "output_type": "stream",
     "text": [
      "Model: \"model\"\n",
      "_________________________________________________________________\n",
      "Layer (type)                 Output Shape              Param #   \n",
      "=================================================================\n",
      "input_1 (InputLayer)         [(None, 28, 28, 1)]       0         \n",
      "_________________________________________________________________\n",
      "conv2d (Conv2D)              (None, 28, 28, 32)        320       \n",
      "_________________________________________________________________\n",
      "conv2d_1 (Conv2D)            (None, 28, 28, 64)        18496     \n",
      "_________________________________________________________________\n",
      "batch_normalization (BatchNo (None, 28, 28, 64)        256       \n",
      "_________________________________________________________________\n",
      "flatten (Flatten)            (None, 50176)             0         \n",
      "_________________________________________________________________\n",
      "dense (Dense)                (None, 64)                3211328   \n",
      "_________________________________________________________________\n",
      "batch_normalization_1 (Batch (None, 64)                256       \n",
      "_________________________________________________________________\n",
      "dense_1 (Dense)              (None, 32)                2080      \n",
      "_________________________________________________________________\n",
      "batch_normalization_2 (Batch (None, 32)                128       \n",
      "_________________________________________________________________\n",
      "dense_2 (Dense)              (None, 10)                330       \n",
      "=================================================================\n",
      "Total params: 3,233,194\n",
      "Trainable params: 3,232,874\n",
      "Non-trainable params: 320\n",
      "_________________________________________________________________\n"
     ]
    }
   ],
   "source": [
    "model = get_tf_model01(x_shape=(28, 28))\n",
    "\n",
    "model.summary()"
   ]
  },
  {
   "cell_type": "code",
   "execution_count": 21,
   "id": "e734454e",
   "metadata": {
    "execution": {
     "iopub.execute_input": "2022-07-16T00:22:31.637303Z",
     "iopub.status.busy": "2022-07-16T00:22:31.636445Z",
     "iopub.status.idle": "2022-07-16T00:23:54.954543Z",
     "shell.execute_reply": "2022-07-16T00:23:54.949994Z"
    },
    "papermill": {
     "duration": 83.385391,
     "end_time": "2022-07-16T00:23:55.012880",
     "exception": false,
     "start_time": "2022-07-16T00:22:31.627489",
     "status": "completed"
    },
    "tags": []
   },
   "outputs": [
    {
     "name": "stderr",
     "output_type": "stream",
     "text": [
      "2022-07-16 00:22:31.961774: I tensorflow/compiler/mlir/mlir_graph_optimization_pass.cc:185] None of the MLIR Optimization Passes are enabled (registered 2)\n"
     ]
    },
    {
     "name": "stdout",
     "output_type": "stream",
     "text": [
      "Epoch 1/10\n"
     ]
    },
    {
     "name": "stderr",
     "output_type": "stream",
     "text": [
      "2022-07-16 00:22:33.991551: I tensorflow/stream_executor/cuda/cuda_dnn.cc:369] Loaded cuDNN version 8005\n"
     ]
    },
    {
     "name": "stdout",
     "output_type": "stream",
     "text": [
      "591/591 [==============================] - 12s 6ms/step - loss: 0.1578 - accuracy: 0.9584\n",
      "Epoch 2/10\n",
      "591/591 [==============================] - 4s 7ms/step - loss: 0.0447 - accuracy: 0.9862\n",
      "Epoch 3/10\n",
      "591/591 [==============================] - 4s 6ms/step - loss: 0.0234 - accuracy: 0.9927\n",
      "Epoch 4/10\n",
      "591/591 [==============================] - 4s 6ms/step - loss: 0.0151 - accuracy: 0.9952\n",
      "Epoch 5/10\n",
      "591/591 [==============================] - 4s 7ms/step - loss: 0.0095 - accuracy: 0.9971\n",
      "Epoch 6/10\n",
      "591/591 [==============================] - 4s 6ms/step - loss: 0.0059 - accuracy: 0.9981\n",
      "Epoch 7/10\n",
      "591/591 [==============================] - 4s 6ms/step - loss: 0.0055 - accuracy: 0.9983\n",
      "Epoch 8/10\n",
      "591/591 [==============================] - 4s 7ms/step - loss: 0.0041 - accuracy: 0.9987\n",
      "Epoch 9/10\n",
      "591/591 [==============================] - 4s 7ms/step - loss: 0.0030 - accuracy: 0.9991\n",
      "Epoch 10/10\n",
      "591/591 [==============================] - 4s 6ms/step - loss: 0.0026 - accuracy: 0.9992\n",
      "CPU times: user 46 s, sys: 4.27 s, total: 50.2 s\n",
      "Wall time: 1min 23s\n"
     ]
    }
   ],
   "source": [
    "%%time\n",
    "\n",
    "history = model.fit(\n",
    "    X_train,\n",
    "    y_train,\n",
    "    batch_size=64,\n",
    "    epochs=10,\n",
    "    # Suppress logging.\n",
    "    verbose=1,\n",
    "    # Calculate validation results on 20% of the training data.\n",
    "    #     validation_split = 0.2\n",
    ")"
   ]
  },
  {
   "cell_type": "markdown",
   "id": "a87bd9e1",
   "metadata": {
    "papermill": {
     "duration": 0.054171,
     "end_time": "2022-07-16T00:23:55.124621",
     "exception": false,
     "start_time": "2022-07-16T00:23:55.070450",
     "status": "completed"
    },
    "tags": []
   },
   "source": [
    "## Predict and Score"
   ]
  },
  {
   "cell_type": "code",
   "execution_count": 22,
   "id": "8a528e59",
   "metadata": {
    "execution": {
     "iopub.execute_input": "2022-07-16T00:23:55.230508Z",
     "iopub.status.busy": "2022-07-16T00:23:55.229636Z",
     "iopub.status.idle": "2022-07-16T00:23:55.597857Z",
     "shell.execute_reply": "2022-07-16T00:23:55.596970Z"
    },
    "papermill": {
     "duration": 0.42294,
     "end_time": "2022-07-16T00:23:55.600108",
     "exception": false,
     "start_time": "2022-07-16T00:23:55.177168",
     "status": "completed"
    },
    "tags": []
   },
   "outputs": [
    {
     "data": {
      "text/plain": [
       "array([[3.0732251e-06, 1.0587127e-06, 5.8235810e-04, 8.8470509e-10,\n",
       "        1.2973078e-06, 3.4643719e-07, 1.3323972e-06, 9.1176481e-08,\n",
       "        9.9941015e-01, 3.4648610e-07],\n",
       "       [5.7223730e-08, 9.9995899e-01, 2.7493572e-05, 1.3918042e-09,\n",
       "        2.2313044e-08, 7.6055153e-09, 9.2684587e-07, 1.2000393e-05,\n",
       "        5.2321769e-07, 7.1589201e-09],\n",
       "       [5.1604253e-08, 1.8434207e-08, 4.3133892e-09, 6.1713314e-07,\n",
       "        1.5253330e-06, 3.1509689e-08, 7.7818434e-08, 8.5403443e-08,\n",
       "        1.3894257e-07, 9.9999750e-01],\n",
       "       [9.1883848e-08, 1.8713788e-08, 6.5768049e-09, 7.2114758e-06,\n",
       "        1.7932705e-07, 1.2353209e-07, 1.5527924e-08, 2.0043764e-05,\n",
       "        1.7356815e-06, 9.9997056e-01],\n",
       "       [2.7263537e-08, 1.4967165e-08, 3.5183443e-09, 3.8314644e-07,\n",
       "        1.5101374e-07, 3.9330450e-09, 1.7274605e-09, 1.3018780e-09,\n",
       "        9.9999940e-01, 1.7633880e-08]], dtype=float32)"
      ]
     },
     "execution_count": 22,
     "metadata": {},
     "output_type": "execute_result"
    }
   ],
   "source": [
    "valid_preds = model.predict(X_valid)\n",
    "valid_preds[:5]"
   ]
  },
  {
   "cell_type": "code",
   "execution_count": 23,
   "id": "9c16f734",
   "metadata": {
    "execution": {
     "iopub.execute_input": "2022-07-16T00:23:55.706425Z",
     "iopub.status.busy": "2022-07-16T00:23:55.706103Z",
     "iopub.status.idle": "2022-07-16T00:23:55.712454Z",
     "shell.execute_reply": "2022-07-16T00:23:55.711604Z"
    },
    "papermill": {
     "duration": 0.061518,
     "end_time": "2022-07-16T00:23:55.714379",
     "exception": false,
     "start_time": "2022-07-16T00:23:55.652861",
     "status": "completed"
    },
    "tags": []
   },
   "outputs": [],
   "source": [
    "valid_preds = np.argmax(valid_preds, axis=1)"
   ]
  },
  {
   "cell_type": "code",
   "execution_count": 24,
   "id": "8be136f6",
   "metadata": {
    "execution": {
     "iopub.execute_input": "2022-07-16T00:23:55.819691Z",
     "iopub.status.busy": "2022-07-16T00:23:55.819382Z",
     "iopub.status.idle": "2022-07-16T00:23:55.823805Z",
     "shell.execute_reply": "2022-07-16T00:23:55.822812Z"
    },
    "papermill": {
     "duration": 0.060227,
     "end_time": "2022-07-16T00:23:55.826084",
     "exception": false,
     "start_time": "2022-07-16T00:23:55.765857",
     "status": "completed"
    },
    "tags": []
   },
   "outputs": [],
   "source": [
    "# show_scores(y_valid, valid_preds)\n",
    "\n"
   ]
  },
  {
   "cell_type": "code",
   "execution_count": 25,
   "id": "68a98517",
   "metadata": {
    "execution": {
     "iopub.execute_input": "2022-07-16T00:23:55.932927Z",
     "iopub.status.busy": "2022-07-16T00:23:55.932617Z",
     "iopub.status.idle": "2022-07-16T00:23:58.798906Z",
     "shell.execute_reply": "2022-07-16T00:23:58.797957Z"
    },
    "papermill": {
     "duration": 2.92267,
     "end_time": "2022-07-16T00:23:58.801096",
     "exception": false,
     "start_time": "2022-07-16T00:23:55.878426",
     "status": "completed"
    },
    "tags": []
   },
   "outputs": [
    {
     "data": {
      "text/plain": [
       "array([[8.21539711e-12, 1.36976444e-10, 1.00000000e+00, 1.03808585e-11,\n",
       "        3.77372550e-10, 1.46870138e-11, 1.12966622e-10, 2.59443400e-09,\n",
       "        8.15164380e-10, 1.65625222e-10],\n",
       "       [9.99999881e-01, 9.26401622e-10, 4.86625495e-08, 1.08789010e-07,\n",
       "        1.83756264e-08, 5.13247611e-10, 9.17959309e-09, 8.36763725e-09,\n",
       "        4.41490533e-09, 2.00085670e-10],\n",
       "       [1.09288081e-08, 3.21950964e-08, 5.23863673e-05, 3.82275033e-07,\n",
       "        1.30585777e-05, 3.59982164e-06, 2.11486508e-07, 2.36613346e-06,\n",
       "        6.83198095e-07, 9.99927282e-01],\n",
       "       [5.38967688e-05, 7.47786331e-08, 7.80241010e-07, 9.58836477e-09,\n",
       "        6.70143254e-06, 1.49296469e-08, 8.55520227e-07, 7.39828192e-06,\n",
       "        1.21802384e-06, 9.99929070e-01],\n",
       "       [7.54491174e-12, 4.26977377e-11, 1.91947919e-07, 9.99999762e-01,\n",
       "        1.59255553e-10, 4.02456124e-11, 2.26388810e-10, 3.65143638e-10,\n",
       "        3.10518367e-09, 5.32157859e-11]], dtype=float32)"
      ]
     },
     "execution_count": 25,
     "metadata": {},
     "output_type": "execute_result"
    }
   ],
   "source": [
    "preds = model.predict(X_test)\n",
    "preds[:5]"
   ]
  },
  {
   "cell_type": "code",
   "execution_count": 26,
   "id": "d3bbb48e",
   "metadata": {
    "execution": {
     "iopub.execute_input": "2022-07-16T00:23:58.910478Z",
     "iopub.status.busy": "2022-07-16T00:23:58.910162Z",
     "iopub.status.idle": "2022-07-16T00:23:58.917042Z",
     "shell.execute_reply": "2022-07-16T00:23:58.916098Z"
    },
    "papermill": {
     "duration": 0.06304,
     "end_time": "2022-07-16T00:23:58.919219",
     "exception": false,
     "start_time": "2022-07-16T00:23:58.856179",
     "status": "completed"
    },
    "tags": []
   },
   "outputs": [],
   "source": [
    "preds = np.argmax(preds, axis=1)"
   ]
  },
  {
   "cell_type": "markdown",
   "id": "f993fe31",
   "metadata": {
    "papermill": {
     "duration": 0.05245,
     "end_time": "2022-07-16T00:23:59.023987",
     "exception": false,
     "start_time": "2022-07-16T00:23:58.971537",
     "status": "completed"
    },
    "tags": []
   },
   "source": [
    "## Submission"
   ]
  },
  {
   "cell_type": "code",
   "execution_count": 27,
   "id": "696e9acd",
   "metadata": {
    "execution": {
     "iopub.execute_input": "2022-07-16T00:23:59.132984Z",
     "iopub.status.busy": "2022-07-16T00:23:59.132638Z",
     "iopub.status.idle": "2022-07-16T00:23:59.186810Z",
     "shell.execute_reply": "2022-07-16T00:23:59.185715Z"
    },
    "papermill": {
     "duration": 0.110485,
     "end_time": "2022-07-16T00:23:59.189209",
     "exception": false,
     "start_time": "2022-07-16T00:23:59.078724",
     "status": "completed"
    },
    "tags": []
   },
   "outputs": [
    {
     "data": {
      "text/html": [
       "<div>\n",
       "<style scoped>\n",
       "    .dataframe tbody tr th:only-of-type {\n",
       "        vertical-align: middle;\n",
       "    }\n",
       "\n",
       "    .dataframe tbody tr th {\n",
       "        vertical-align: top;\n",
       "    }\n",
       "\n",
       "    .dataframe thead th {\n",
       "        text-align: right;\n",
       "    }\n",
       "</style>\n",
       "<table border=\"1\" class=\"dataframe\">\n",
       "  <thead>\n",
       "    <tr style=\"text-align: right;\">\n",
       "      <th></th>\n",
       "      <th>ImageId</th>\n",
       "      <th>Label</th>\n",
       "    </tr>\n",
       "  </thead>\n",
       "  <tbody>\n",
       "    <tr>\n",
       "      <th>0</th>\n",
       "      <td>1</td>\n",
       "      <td>2</td>\n",
       "    </tr>\n",
       "    <tr>\n",
       "      <th>1</th>\n",
       "      <td>2</td>\n",
       "      <td>0</td>\n",
       "    </tr>\n",
       "    <tr>\n",
       "      <th>2</th>\n",
       "      <td>3</td>\n",
       "      <td>9</td>\n",
       "    </tr>\n",
       "    <tr>\n",
       "      <th>3</th>\n",
       "      <td>4</td>\n",
       "      <td>9</td>\n",
       "    </tr>\n",
       "    <tr>\n",
       "      <th>4</th>\n",
       "      <td>5</td>\n",
       "      <td>3</td>\n",
       "    </tr>\n",
       "  </tbody>\n",
       "</table>\n",
       "</div>"
      ],
      "text/plain": [
       "   ImageId  Label\n",
       "0        1      2\n",
       "1        2      0\n",
       "2        3      9\n",
       "3        4      9\n",
       "4        5      3"
      ]
     },
     "execution_count": 27,
     "metadata": {},
     "output_type": "execute_result"
    }
   ],
   "source": [
    "# Different TARGET name used in test.csv\n",
    "ss = create_submission(\"\", \"Label\", preds)\n",
    "ss"
   ]
  }
 ],
 "metadata": {
  "kernelspec": {
   "display_name": "Python 3",
   "language": "python",
   "name": "python3"
  },
  "language_info": {
   "codemirror_mode": {
    "name": "ipython",
    "version": 3
   },
   "file_extension": ".py",
   "mimetype": "text/x-python",
   "name": "python",
   "nbconvert_exporter": "python",
   "pygments_lexer": "ipython3",
   "version": "3.7.12"
  },
  "papermill": {
   "default_parameters": {},
   "duration": 129.517925,
   "end_time": "2022-07-16T00:24:02.393193",
   "environment_variables": {},
   "exception": null,
   "input_path": "__notebook__.ipynb",
   "output_path": "__notebook__.ipynb",
   "parameters": {},
   "start_time": "2022-07-16T00:21:52.875268",
   "version": "2.3.4"
  }
 },
 "nbformat": 4,
 "nbformat_minor": 5
}
