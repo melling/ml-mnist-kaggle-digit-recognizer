{
 "cells": [
  {
   "cell_type": "markdown",
   "id": "69db6d6f",
   "metadata": {
    "papermill": {
     "duration": 0.009577,
     "end_time": "2022-07-25T01:20:52.141965",
     "exception": false,
     "start_time": "2022-07-25T01:20:52.132388",
     "status": "completed"
    },
    "tags": []
   },
   "source": [
    "<div style=\"background-color:rgba(128, 0, 128, 0.6);border-radius:5px;display:fill\"><h1 style=\"text-align: center;padding: 12px 0px 12px 0px;\">MNIST: CNN</h1>\n",
    "</div>\n",
    "\n",
    "Problem Type: Multi-classification\n",
    "\n",
    "## Evaluation Metric"
   ]
  },
  {
   "cell_type": "code",
   "execution_count": 1,
   "id": "b2e33ebc",
   "metadata": {
    "execution": {
     "iopub.execute_input": "2022-07-25T01:20:52.186957Z",
     "iopub.status.busy": "2022-07-25T01:20:52.186312Z",
     "iopub.status.idle": "2022-07-25T01:21:05.569314Z",
     "shell.execute_reply": "2022-07-25T01:21:05.568289Z"
    },
    "papermill": {
     "duration": 13.411137,
     "end_time": "2022-07-25T01:21:05.571837",
     "exception": false,
     "start_time": "2022-07-25T01:20:52.160700",
     "status": "completed"
    },
    "tags": []
   },
   "outputs": [
    {
     "name": "stdout",
     "output_type": "stream",
     "text": [
      "\u001b[33mWARNING: Running pip as the 'root' user can result in broken permissions and conflicting behaviour with the system package manager. It is recommended to use a virtual environment instead: https://pip.pypa.io/warnings/venv\u001b[0m\u001b[33m\r\n",
      "\u001b[0m"
     ]
    }
   ],
   "source": [
    "# Black formatter https://black.readthedocs.io/en/stable/\n",
    "\n",
    "! pip install nb-black > /dev/null\n",
    "\n",
    "%load_ext lab_black"
   ]
  },
  {
   "cell_type": "markdown",
   "id": "7896f99c",
   "metadata": {
    "papermill": {
     "duration": 0.008253,
     "end_time": "2022-07-25T01:21:05.588757",
     "exception": false,
     "start_time": "2022-07-25T01:21:05.580504",
     "status": "completed"
    },
    "tags": []
   },
   "source": [
    "<div style=\"background-color:rgba(128, 0, 128, 0.6);border-radius:5px;display:fill\"><h1 style=\"text-align: center;padding: 12px 0px 12px 0px;\">Configuration</h1>\n",
    "</div>"
   ]
  },
  {
   "cell_type": "code",
   "execution_count": 2,
   "id": "760c791e",
   "metadata": {
    "execution": {
     "iopub.execute_input": "2022-07-25T01:21:05.607282Z",
     "iopub.status.busy": "2022-07-25T01:21:05.606491Z",
     "iopub.status.idle": "2022-07-25T01:21:05.612597Z",
     "shell.execute_reply": "2022-07-25T01:21:05.611798Z"
    },
    "papermill": {
     "duration": 0.017392,
     "end_time": "2022-07-25T01:21:05.614505",
     "exception": false,
     "start_time": "2022-07-25T01:21:05.597113",
     "status": "completed"
    },
    "tags": []
   },
   "outputs": [],
   "source": [
    "data_dir = \"../input/digit-recognizer\""
   ]
  },
  {
   "cell_type": "code",
   "execution_count": 3,
   "id": "4f48c35d",
   "metadata": {
    "execution": {
     "iopub.execute_input": "2022-07-25T01:21:05.632895Z",
     "iopub.status.busy": "2022-07-25T01:21:05.632170Z",
     "iopub.status.idle": "2022-07-25T01:21:05.637009Z",
     "shell.execute_reply": "2022-07-25T01:21:05.636137Z"
    },
    "papermill": {
     "duration": 0.016102,
     "end_time": "2022-07-25T01:21:05.638968",
     "exception": false,
     "start_time": "2022-07-25T01:21:05.622866",
     "status": "completed"
    },
    "tags": []
   },
   "outputs": [],
   "source": [
    "TARGET = \"label\""
   ]
  },
  {
   "cell_type": "markdown",
   "id": "0aed0871",
   "metadata": {
    "papermill": {
     "duration": 0.008271,
     "end_time": "2022-07-25T01:21:05.655720",
     "exception": false,
     "start_time": "2022-07-25T01:21:05.647449",
     "status": "completed"
    },
    "tags": []
   },
   "source": [
    "<div style=\"background-color:rgba(128, 0, 128, 0.6);border-radius:5px;display:fill\"><h1 style=\"text-align: center;padding: 12px 0px 12px 0px;\">Import Libraries</h1>\n",
    "</div>\n",
    "\n",
    "A best practise is to include all libraries here.  However, I will put a few imports farther down where they are first used so beginners can learn with an \"as needed\" approach."
   ]
  },
  {
   "cell_type": "code",
   "execution_count": 4,
   "id": "3a748b3d",
   "metadata": {
    "execution": {
     "iopub.execute_input": "2022-07-25T01:21:05.673533Z",
     "iopub.status.busy": "2022-07-25T01:21:05.673257Z",
     "iopub.status.idle": "2022-07-25T01:21:06.737519Z",
     "shell.execute_reply": "2022-07-25T01:21:06.736608Z"
    },
    "papermill": {
     "duration": 1.075954,
     "end_time": "2022-07-25T01:21:06.739928",
     "exception": false,
     "start_time": "2022-07-25T01:21:05.663974",
     "status": "completed"
    },
    "tags": []
   },
   "outputs": [],
   "source": [
    "import os\n",
    "import time\n",
    "from pathlib import Path\n",
    "\n",
    "import pandas as pd\n",
    "import numpy as np\n",
    "\n",
    "from sklearn.model_selection import train_test_split\n",
    "\n",
    "from sklearn.metrics import f1_score\n",
    "\n",
    "# Visualization Libraries\n",
    "import matplotlib.pylab as plt\n",
    "import seaborn as sns"
   ]
  },
  {
   "cell_type": "markdown",
   "id": "8591bfdd",
   "metadata": {
    "papermill": {
     "duration": 0.008993,
     "end_time": "2022-07-25T01:21:06.757910",
     "exception": false,
     "start_time": "2022-07-25T01:21:06.748917",
     "status": "completed"
    },
    "tags": []
   },
   "source": [
    "<div style=\"background-color:rgba(128, 0, 128, 0.6);border-radius:5px;display:fill\"><h1 style=\"text-align: center;padding: 12px 0px 12px 0px;\">Library</h1>\n",
    "</div>\n",
    "\n",
    "Creating a few functions that we will reuse in each project."
   ]
  },
  {
   "cell_type": "code",
   "execution_count": 5,
   "id": "43a2c3a4",
   "metadata": {
    "execution": {
     "iopub.execute_input": "2022-07-25T01:21:06.776224Z",
     "iopub.status.busy": "2022-07-25T01:21:06.775505Z",
     "iopub.status.idle": "2022-07-25T01:21:06.788040Z",
     "shell.execute_reply": "2022-07-25T01:21:06.787190Z"
    },
    "papermill": {
     "duration": 0.023784,
     "end_time": "2022-07-25T01:21:06.790003",
     "exception": false,
     "start_time": "2022-07-25T01:21:06.766219",
     "status": "completed"
    },
    "tags": []
   },
   "outputs": [],
   "source": [
    "def read_data(path):\n",
    "    data_dir = Path(path)\n",
    "\n",
    "    train = pd.read_csv(data_dir / \"train.csv\")\n",
    "    test = pd.read_csv(data_dir / \"test.csv\")\n",
    "    submission_df = pd.read_csv(data_dir / \"sample_submission.csv\")\n",
    "\n",
    "    print(f\"train data: Rows={train.shape[0]}, Columns={train.shape[1]}\")\n",
    "    print(f\"test data : Rows={test.shape[0]}, Columns={test.shape[1]}\")\n",
    "    return train, test, submission_df"
   ]
  },
  {
   "cell_type": "code",
   "execution_count": 6,
   "id": "98b3273c",
   "metadata": {
    "execution": {
     "iopub.execute_input": "2022-07-25T01:21:06.807997Z",
     "iopub.status.busy": "2022-07-25T01:21:06.807739Z",
     "iopub.status.idle": "2022-07-25T01:21:06.820654Z",
     "shell.execute_reply": "2022-07-25T01:21:06.819679Z"
    },
    "papermill": {
     "duration": 0.02412,
     "end_time": "2022-07-25T01:21:06.822431",
     "exception": false,
     "start_time": "2022-07-25T01:21:06.798311",
     "status": "completed"
    },
    "tags": []
   },
   "outputs": [],
   "source": [
    "def create_submission(model_name, target, preds, is_log_target=False):\n",
    "    if is_log_target:\n",
    "        #         preds = np.exp(preds)\n",
    "        preds = np.expm1(preds)\n",
    "\n",
    "    sample_submission[target] = preds\n",
    "    if len(model_name) > 0:\n",
    "        sample_submission.to_csv(f\"submission_{model_name}.csv\", index=False)\n",
    "    else:\n",
    "        sample_submission.to_csv(f\"submission.csv\", index=False)\n",
    "\n",
    "    return sample_submission[:5]"
   ]
  },
  {
   "cell_type": "code",
   "execution_count": 7,
   "id": "7c21dc74",
   "metadata": {
    "execution": {
     "iopub.execute_input": "2022-07-25T01:21:06.841346Z",
     "iopub.status.busy": "2022-07-25T01:21:06.840536Z",
     "iopub.status.idle": "2022-07-25T01:21:06.851752Z",
     "shell.execute_reply": "2022-07-25T01:21:06.850686Z"
    },
    "papermill": {
     "duration": 0.023198,
     "end_time": "2022-07-25T01:21:06.854068",
     "exception": false,
     "start_time": "2022-07-25T01:21:06.830870",
     "status": "completed"
    },
    "tags": []
   },
   "outputs": [],
   "source": [
    "from sklearn.metrics import mean_absolute_error, mean_squared_error, f1_score\n",
    "\n",
    "\n",
    "def show_scores(gt, yhat):\n",
    "    f1 = f1_score(gt, yhat, average=\"macro\")\n",
    "    mse = mean_squared_error(gt, yhat)\n",
    "    mae = mean_absolute_error(gt, yhat)\n",
    "    rmse = np.sqrt(mse)\n",
    "    #     r2_square = r2_score(gt, yhat)\n",
    "\n",
    "    print(f\"f1: {f1:.4f}\")"
   ]
  },
  {
   "cell_type": "markdown",
   "id": "b41f1dbf",
   "metadata": {
    "papermill": {
     "duration": 0.008252,
     "end_time": "2022-07-25T01:21:06.870604",
     "exception": false,
     "start_time": "2022-07-25T01:21:06.862352",
     "status": "completed"
    },
    "tags": []
   },
   "source": [
    "<div style=\"background-color:rgba(128, 0, 128, 0.6);border-radius:5px;display:fill\"><h1 style=\"text-align: center;padding: 12px 0px 12px 0px;\">Load Train/Test Data</h1>\n",
    "</div>\n",
    "\n",
    "- train.csv - Data used to build our machine learning model\n",
    "- test.csv - Data used to build our machine learning model. Does not contain the target variable\n",
    "- sample_submission.csv - A file in the proper format to submit test predictions"
   ]
  },
  {
   "cell_type": "code",
   "execution_count": 8,
   "id": "be2a0d80",
   "metadata": {
    "execution": {
     "iopub.execute_input": "2022-07-25T01:21:06.889159Z",
     "iopub.status.busy": "2022-07-25T01:21:06.888319Z",
     "iopub.status.idle": "2022-07-25T01:21:11.691563Z",
     "shell.execute_reply": "2022-07-25T01:21:11.690442Z"
    },
    "papermill": {
     "duration": 4.814728,
     "end_time": "2022-07-25T01:21:11.693678",
     "exception": false,
     "start_time": "2022-07-25T01:21:06.878950",
     "status": "completed"
    },
    "tags": []
   },
   "outputs": [
    {
     "name": "stdout",
     "output_type": "stream",
     "text": [
      "train data: Rows=42000, Columns=785\n",
      "test data : Rows=28000, Columns=784\n"
     ]
    }
   ],
   "source": [
    "train, test, sample_submission = read_data(data_dir)"
   ]
  },
  {
   "cell_type": "code",
   "execution_count": 9,
   "id": "457314e0",
   "metadata": {
    "execution": {
     "iopub.execute_input": "2022-07-25T01:21:11.713443Z",
     "iopub.status.busy": "2022-07-25T01:21:11.712066Z",
     "iopub.status.idle": "2022-07-25T01:21:11.736683Z",
     "shell.execute_reply": "2022-07-25T01:21:11.735677Z"
    },
    "papermill": {
     "duration": 0.036322,
     "end_time": "2022-07-25T01:21:11.738987",
     "exception": false,
     "start_time": "2022-07-25T01:21:11.702665",
     "status": "completed"
    },
    "tags": []
   },
   "outputs": [
    {
     "data": {
      "text/html": [
       "<div>\n",
       "<style scoped>\n",
       "    .dataframe tbody tr th:only-of-type {\n",
       "        vertical-align: middle;\n",
       "    }\n",
       "\n",
       "    .dataframe tbody tr th {\n",
       "        vertical-align: top;\n",
       "    }\n",
       "\n",
       "    .dataframe thead th {\n",
       "        text-align: right;\n",
       "    }\n",
       "</style>\n",
       "<table border=\"1\" class=\"dataframe\">\n",
       "  <thead>\n",
       "    <tr style=\"text-align: right;\">\n",
       "      <th></th>\n",
       "      <th>label</th>\n",
       "      <th>pixel0</th>\n",
       "      <th>pixel1</th>\n",
       "      <th>pixel2</th>\n",
       "      <th>pixel3</th>\n",
       "      <th>pixel4</th>\n",
       "      <th>pixel5</th>\n",
       "      <th>pixel6</th>\n",
       "      <th>pixel7</th>\n",
       "      <th>pixel8</th>\n",
       "      <th>...</th>\n",
       "      <th>pixel774</th>\n",
       "      <th>pixel775</th>\n",
       "      <th>pixel776</th>\n",
       "      <th>pixel777</th>\n",
       "      <th>pixel778</th>\n",
       "      <th>pixel779</th>\n",
       "      <th>pixel780</th>\n",
       "      <th>pixel781</th>\n",
       "      <th>pixel782</th>\n",
       "      <th>pixel783</th>\n",
       "    </tr>\n",
       "  </thead>\n",
       "  <tbody>\n",
       "    <tr>\n",
       "      <th>0</th>\n",
       "      <td>1</td>\n",
       "      <td>0</td>\n",
       "      <td>0</td>\n",
       "      <td>0</td>\n",
       "      <td>0</td>\n",
       "      <td>0</td>\n",
       "      <td>0</td>\n",
       "      <td>0</td>\n",
       "      <td>0</td>\n",
       "      <td>0</td>\n",
       "      <td>...</td>\n",
       "      <td>0</td>\n",
       "      <td>0</td>\n",
       "      <td>0</td>\n",
       "      <td>0</td>\n",
       "      <td>0</td>\n",
       "      <td>0</td>\n",
       "      <td>0</td>\n",
       "      <td>0</td>\n",
       "      <td>0</td>\n",
       "      <td>0</td>\n",
       "    </tr>\n",
       "    <tr>\n",
       "      <th>1</th>\n",
       "      <td>0</td>\n",
       "      <td>0</td>\n",
       "      <td>0</td>\n",
       "      <td>0</td>\n",
       "      <td>0</td>\n",
       "      <td>0</td>\n",
       "      <td>0</td>\n",
       "      <td>0</td>\n",
       "      <td>0</td>\n",
       "      <td>0</td>\n",
       "      <td>...</td>\n",
       "      <td>0</td>\n",
       "      <td>0</td>\n",
       "      <td>0</td>\n",
       "      <td>0</td>\n",
       "      <td>0</td>\n",
       "      <td>0</td>\n",
       "      <td>0</td>\n",
       "      <td>0</td>\n",
       "      <td>0</td>\n",
       "      <td>0</td>\n",
       "    </tr>\n",
       "    <tr>\n",
       "      <th>2</th>\n",
       "      <td>1</td>\n",
       "      <td>0</td>\n",
       "      <td>0</td>\n",
       "      <td>0</td>\n",
       "      <td>0</td>\n",
       "      <td>0</td>\n",
       "      <td>0</td>\n",
       "      <td>0</td>\n",
       "      <td>0</td>\n",
       "      <td>0</td>\n",
       "      <td>...</td>\n",
       "      <td>0</td>\n",
       "      <td>0</td>\n",
       "      <td>0</td>\n",
       "      <td>0</td>\n",
       "      <td>0</td>\n",
       "      <td>0</td>\n",
       "      <td>0</td>\n",
       "      <td>0</td>\n",
       "      <td>0</td>\n",
       "      <td>0</td>\n",
       "    </tr>\n",
       "    <tr>\n",
       "      <th>3</th>\n",
       "      <td>4</td>\n",
       "      <td>0</td>\n",
       "      <td>0</td>\n",
       "      <td>0</td>\n",
       "      <td>0</td>\n",
       "      <td>0</td>\n",
       "      <td>0</td>\n",
       "      <td>0</td>\n",
       "      <td>0</td>\n",
       "      <td>0</td>\n",
       "      <td>...</td>\n",
       "      <td>0</td>\n",
       "      <td>0</td>\n",
       "      <td>0</td>\n",
       "      <td>0</td>\n",
       "      <td>0</td>\n",
       "      <td>0</td>\n",
       "      <td>0</td>\n",
       "      <td>0</td>\n",
       "      <td>0</td>\n",
       "      <td>0</td>\n",
       "    </tr>\n",
       "    <tr>\n",
       "      <th>4</th>\n",
       "      <td>0</td>\n",
       "      <td>0</td>\n",
       "      <td>0</td>\n",
       "      <td>0</td>\n",
       "      <td>0</td>\n",
       "      <td>0</td>\n",
       "      <td>0</td>\n",
       "      <td>0</td>\n",
       "      <td>0</td>\n",
       "      <td>0</td>\n",
       "      <td>...</td>\n",
       "      <td>0</td>\n",
       "      <td>0</td>\n",
       "      <td>0</td>\n",
       "      <td>0</td>\n",
       "      <td>0</td>\n",
       "      <td>0</td>\n",
       "      <td>0</td>\n",
       "      <td>0</td>\n",
       "      <td>0</td>\n",
       "      <td>0</td>\n",
       "    </tr>\n",
       "  </tbody>\n",
       "</table>\n",
       "<p>5 rows × 785 columns</p>\n",
       "</div>"
      ],
      "text/plain": [
       "   label  pixel0  pixel1  pixel2  pixel3  pixel4  pixel5  pixel6  pixel7  \\\n",
       "0      1       0       0       0       0       0       0       0       0   \n",
       "1      0       0       0       0       0       0       0       0       0   \n",
       "2      1       0       0       0       0       0       0       0       0   \n",
       "3      4       0       0       0       0       0       0       0       0   \n",
       "4      0       0       0       0       0       0       0       0       0   \n",
       "\n",
       "   pixel8  ...  pixel774  pixel775  pixel776  pixel777  pixel778  pixel779  \\\n",
       "0       0  ...         0         0         0         0         0         0   \n",
       "1       0  ...         0         0         0         0         0         0   \n",
       "2       0  ...         0         0         0         0         0         0   \n",
       "3       0  ...         0         0         0         0         0         0   \n",
       "4       0  ...         0         0         0         0         0         0   \n",
       "\n",
       "   pixel780  pixel781  pixel782  pixel783  \n",
       "0         0         0         0         0  \n",
       "1         0         0         0         0  \n",
       "2         0         0         0         0  \n",
       "3         0         0         0         0  \n",
       "4         0         0         0         0  \n",
       "\n",
       "[5 rows x 785 columns]"
      ]
     },
     "execution_count": 9,
     "metadata": {},
     "output_type": "execute_result"
    }
   ],
   "source": [
    "train.head()"
   ]
  },
  {
   "cell_type": "code",
   "execution_count": 10,
   "id": "ad9cc61e",
   "metadata": {
    "execution": {
     "iopub.execute_input": "2022-07-25T01:21:11.760318Z",
     "iopub.status.busy": "2022-07-25T01:21:11.759732Z",
     "iopub.status.idle": "2022-07-25T01:21:11.775340Z",
     "shell.execute_reply": "2022-07-25T01:21:11.773799Z"
    },
    "papermill": {
     "duration": 0.029786,
     "end_time": "2022-07-25T01:21:11.777950",
     "exception": false,
     "start_time": "2022-07-25T01:21:11.748164",
     "status": "completed"
    },
    "tags": []
   },
   "outputs": [],
   "source": [
    "FEATURES = [\n",
    "    col\n",
    "    for col in train.columns\n",
    "    if col\n",
    "    not in [\n",
    "        \"Id\",\n",
    "        TARGET,\n",
    "        #         TARGET_ENC,\n",
    "    ]\n",
    "]"
   ]
  },
  {
   "cell_type": "code",
   "execution_count": 11,
   "id": "4e01a221",
   "metadata": {
    "execution": {
     "iopub.execute_input": "2022-07-25T01:21:11.796952Z",
     "iopub.status.busy": "2022-07-25T01:21:11.796687Z",
     "iopub.status.idle": "2022-07-25T01:21:12.094654Z",
     "shell.execute_reply": "2022-07-25T01:21:12.093657Z"
    },
    "papermill": {
     "duration": 0.31036,
     "end_time": "2022-07-25T01:21:12.097193",
     "exception": false,
     "start_time": "2022-07-25T01:21:11.786833",
     "status": "completed"
    },
    "tags": []
   },
   "outputs": [],
   "source": [
    "y = train[TARGET]\n",
    "X = train[FEATURES].copy()\n",
    "\n",
    "X_test = test[FEATURES].copy()"
   ]
  },
  {
   "cell_type": "code",
   "execution_count": 12,
   "id": "1c6cf921",
   "metadata": {
    "execution": {
     "iopub.execute_input": "2022-07-25T01:21:12.116503Z",
     "iopub.status.busy": "2022-07-25T01:21:12.116222Z",
     "iopub.status.idle": "2022-07-25T01:21:12.282099Z",
     "shell.execute_reply": "2022-07-25T01:21:12.281144Z"
    },
    "papermill": {
     "duration": 0.1783,
     "end_time": "2022-07-25T01:21:12.284510",
     "exception": false,
     "start_time": "2022-07-25T01:21:12.106210",
     "status": "completed"
    },
    "tags": []
   },
   "outputs": [],
   "source": [
    "# Normalize the data\n",
    "X = X / 255.0\n",
    "X_test = X_test / 255.0"
   ]
  },
  {
   "cell_type": "code",
   "execution_count": 13,
   "id": "c6c50238",
   "metadata": {
    "execution": {
     "iopub.execute_input": "2022-07-25T01:21:12.304007Z",
     "iopub.status.busy": "2022-07-25T01:21:12.303511Z",
     "iopub.status.idle": "2022-07-25T01:21:12.311123Z",
     "shell.execute_reply": "2022-07-25T01:21:12.310182Z"
    },
    "papermill": {
     "duration": 0.019744,
     "end_time": "2022-07-25T01:21:12.313258",
     "exception": false,
     "start_time": "2022-07-25T01:21:12.293514",
     "status": "completed"
    },
    "tags": []
   },
   "outputs": [],
   "source": [
    "X = X.values.reshape(-1, 28, 28, 1)\n",
    "X_test = X_test.values.reshape(-1, 28, 28, 1)"
   ]
  },
  {
   "cell_type": "code",
   "execution_count": 14,
   "id": "d4063607",
   "metadata": {
    "execution": {
     "iopub.execute_input": "2022-07-25T01:21:12.332252Z",
     "iopub.status.busy": "2022-07-25T01:21:12.331724Z",
     "iopub.status.idle": "2022-07-25T01:21:12.336252Z",
     "shell.execute_reply": "2022-07-25T01:21:12.335174Z"
    },
    "papermill": {
     "duration": 0.016886,
     "end_time": "2022-07-25T01:21:12.339053",
     "exception": false,
     "start_time": "2022-07-25T01:21:12.322167",
     "status": "completed"
    },
    "tags": []
   },
   "outputs": [],
   "source": [
    "# X[:3]"
   ]
  },
  {
   "cell_type": "code",
   "execution_count": 15,
   "id": "132eb85e",
   "metadata": {
    "execution": {
     "iopub.execute_input": "2022-07-25T01:21:12.358088Z",
     "iopub.status.busy": "2022-07-25T01:21:12.357793Z",
     "iopub.status.idle": "2022-07-25T01:21:17.289512Z",
     "shell.execute_reply": "2022-07-25T01:21:17.288566Z"
    },
    "papermill": {
     "duration": 4.944169,
     "end_time": "2022-07-25T01:21:17.291854",
     "exception": false,
     "start_time": "2022-07-25T01:21:12.347685",
     "status": "completed"
    },
    "tags": []
   },
   "outputs": [],
   "source": [
    "from keras.utils.np_utils import to_categorical\n",
    "\n",
    "y = to_categorical(y)"
   ]
  },
  {
   "cell_type": "code",
   "execution_count": 16,
   "id": "b92c576b",
   "metadata": {
    "execution": {
     "iopub.execute_input": "2022-07-25T01:21:17.312386Z",
     "iopub.status.busy": "2022-07-25T01:21:17.311574Z",
     "iopub.status.idle": "2022-07-25T01:21:17.321188Z",
     "shell.execute_reply": "2022-07-25T01:21:17.320299Z"
    },
    "papermill": {
     "duration": 0.022123,
     "end_time": "2022-07-25T01:21:17.323196",
     "exception": false,
     "start_time": "2022-07-25T01:21:17.301073",
     "status": "completed"
    },
    "tags": []
   },
   "outputs": [
    {
     "data": {
      "text/plain": [
       "array([[0., 1., 0., 0., 0., 0., 0., 0., 0., 0.],\n",
       "       [1., 0., 0., 0., 0., 0., 0., 0., 0., 0.],\n",
       "       [0., 1., 0., 0., 0., 0., 0., 0., 0., 0.],\n",
       "       [0., 0., 0., 0., 1., 0., 0., 0., 0., 0.],\n",
       "       [1., 0., 0., 0., 0., 0., 0., 0., 0., 0.]], dtype=float32)"
      ]
     },
     "execution_count": 16,
     "metadata": {},
     "output_type": "execute_result"
    }
   ],
   "source": [
    "y[:5]"
   ]
  },
  {
   "cell_type": "code",
   "execution_count": 17,
   "id": "835fbccf",
   "metadata": {
    "execution": {
     "iopub.execute_input": "2022-07-25T01:21:17.343159Z",
     "iopub.status.busy": "2022-07-25T01:21:17.342295Z",
     "iopub.status.idle": "2022-07-25T01:21:17.722297Z",
     "shell.execute_reply": "2022-07-25T01:21:17.721291Z"
    },
    "papermill": {
     "duration": 0.392072,
     "end_time": "2022-07-25T01:21:17.724424",
     "exception": false,
     "start_time": "2022-07-25T01:21:17.332352",
     "status": "completed"
    },
    "tags": []
   },
   "outputs": [
    {
     "data": {
      "text/plain": [
       "((33600, 28, 28, 1), (33600, 10), (8400, 28, 28, 1), (8400, 10))"
      ]
     },
     "execution_count": 17,
     "metadata": {},
     "output_type": "execute_result"
    }
   ],
   "source": [
    "X_train, X_valid, y_train, y_valid = train_test_split(\n",
    "    X,\n",
    "    y,\n",
    "    test_size=0.2,\n",
    "    random_state=42,\n",
    ")\n",
    "X_train.shape, y_train.shape, X_valid.shape, y_valid.shape"
   ]
  },
  {
   "cell_type": "markdown",
   "id": "ba22eadf",
   "metadata": {
    "papermill": {
     "duration": 0.008943,
     "end_time": "2022-07-25T01:21:17.742503",
     "exception": false,
     "start_time": "2022-07-25T01:21:17.733560",
     "status": "completed"
    },
    "tags": []
   },
   "source": [
    "<div style=\"background-color:rgba(128, 0, 128, 0.6);border-radius:5px;display:fill\"><h1 style=\"text-align: center;padding: 12px 0px 12px 0px;\">Create Models</h1>\n",
    "</div>"
   ]
  },
  {
   "cell_type": "code",
   "execution_count": 18,
   "id": "b83d88a3",
   "metadata": {
    "execution": {
     "iopub.execute_input": "2022-07-25T01:21:17.761780Z",
     "iopub.status.busy": "2022-07-25T01:21:17.761486Z",
     "iopub.status.idle": "2022-07-25T01:21:18.146240Z",
     "shell.execute_reply": "2022-07-25T01:21:18.145287Z"
    },
    "papermill": {
     "duration": 0.397461,
     "end_time": "2022-07-25T01:21:18.148921",
     "exception": false,
     "start_time": "2022-07-25T01:21:17.751460",
     "status": "completed"
    },
    "tags": []
   },
   "outputs": [],
   "source": [
    "import tensorflow as tf\n",
    "from tensorflow import keras\n",
    "from tensorflow.keras import layers\n",
    "\n",
    "\n",
    "def get_tf_model01(x_shape):\n",
    "    print(f\"x_shape=\")\n",
    "    #     input_shape = (height, width, channels)\n",
    "    inputs = keras.Input(shape=(28, 28, 1))\n",
    "\n",
    "    x = keras.layers.Conv2D(\n",
    "        64,\n",
    "        kernel_size=3,\n",
    "        activation=\"relu\",\n",
    "        padding=\"same\",\n",
    "        input_shape=(28, 28, 1),\n",
    "        kernel_initializer=\"he_normal\",\n",
    "    )(inputs)\n",
    "    x = keras.layers.MaxPooling2D((2, 2))(x)\n",
    "    x = keras.layers.Conv2D(\n",
    "        64,\n",
    "        kernel_size=3,\n",
    "        activation=\"relu\",\n",
    "        padding=\"same\",\n",
    "        kernel_initializer=\"he_normal\",\n",
    "    )(x)\n",
    "    x = keras.layers.MaxPooling2D((2, 2))(x)\n",
    "\n",
    "    #     x = keras.layers.MaxPooling2d((2, 2))(x)\n",
    "    #     x = keras.layers.Conv2D(\n",
    "    #         128, activation=\"relu\", padding=\"same\", kernel_initializer=\"he_normal\"\n",
    "    #     )(x)\n",
    "    x = keras.layers.Flatten()(x)\n",
    "    x = keras.layers.BatchNormalization()(x)\n",
    "\n",
    "    #     x = keras.layers.Dense(128, activation=\"relu\")(x)\n",
    "\n",
    "    x = keras.layers.Dense(64, activation=\"relu\")(x)\n",
    "    x = keras.layers.BatchNormalization()(x)\n",
    "    x = keras.layers.Dense(32, activation=\"relu\")(x)\n",
    "    x = keras.layers.BatchNormalization()(x)\n",
    "    #     x = keras.layers.Dropout(0.1)(x)\n",
    "\n",
    "    outputs = keras.layers.Dense(10, activation=\"softmax\")(x)\n",
    "\n",
    "    model = keras.Model(inputs, outputs)\n",
    "\n",
    "    model.compile(\n",
    "        loss=\"categorical_crossentropy\",\n",
    "        optimizer=tf.keras.optimizers.Adam(learning_rate=0.01),  # rmsprop\n",
    "        metrics=[\"accuracy\"],\n",
    "    )\n",
    "\n",
    "    #     model.compile(\n",
    "    #         optimizer=tf.keras.optimizers.Adam(learning_rate=0.01),\n",
    "    #         loss=\"mean_absolute_error\",\n",
    "    #     )\n",
    "\n",
    "    return model"
   ]
  },
  {
   "cell_type": "code",
   "execution_count": 19,
   "id": "22580072",
   "metadata": {
    "execution": {
     "iopub.execute_input": "2022-07-25T01:21:18.168846Z",
     "iopub.status.busy": "2022-07-25T01:21:18.168537Z",
     "iopub.status.idle": "2022-07-25T01:21:18.239950Z",
     "shell.execute_reply": "2022-07-25T01:21:18.239054Z"
    },
    "papermill": {
     "duration": 0.083888,
     "end_time": "2022-07-25T01:21:18.241985",
     "exception": false,
     "start_time": "2022-07-25T01:21:18.158097",
     "status": "completed"
    },
    "tags": []
   },
   "outputs": [],
   "source": [
    "def get_tf_model02(x_shape):\n",
    "    print(f\"x_shape=\")\n",
    "    #     input_shape = (height, width, channels)\n",
    "    inputs = keras.Input(shape=(28, 28, 1))\n",
    "\n",
    "    x = Conv2D(\n",
    "        32, (5, 5), strides=1, padding=\"same\", input_shape=(28, 28, 1), name=\"conv1\"\n",
    "    )(inputs)\n",
    "    x = BatchNormalization(\n",
    "        momentum=0.1, epsilon=1e-5, gamma_initializer=\"uniform\", name=\"batch1\"\n",
    "    )(x)\n",
    "    x = Activation(\"relu\", name=\"relu1\")(x)\n",
    "    # x = Dropout (0.5)(x)\n",
    "    x = Conv2D(32, (5, 5), strides=1, padding=\"same\", name=\"conv2\")(x)\n",
    "    x = BatchNormalization(\n",
    "        momentum=0.1, epsilon=1e-5, gamma_initializer=\"uniform\", name=\"batch2\"\n",
    "    )(x)\n",
    "    x = Activation(\"relu\", name=\"relu2\")(x)\n",
    "    # x = Dropout (0.5)(x)\n",
    "    x = Conv2D(32, (5, 5), strides=1, padding=\"same\", name=\"conv2add\")(x)\n",
    "    x = BatchNormalization(\n",
    "        momentum=0.1, epsilon=1e-5, gamma_initializer=\"uniform\", name=\"batch2add\"\n",
    "    )(x)\n",
    "    x = Activation(\"relu\", name=\"relu2add\")(x)\n",
    "    x = Dropout(0.15)(x)\n",
    "    x = keras.layers.MaxPooling2D((2, 2))(x)\n",
    "\n",
    "    x = Conv2D(64, (3, 3), strides=1, padding=\"same\", name=\"conv3\")(x)\n",
    "    x = BatchNormalization(\n",
    "        momentum=0.1, epsilon=1e-5, gamma_initializer=\"uniform\", name=\"batch3\"\n",
    "    )(x)\n",
    "    x = Activation(\"relu\", name=\"relu3\")(x)\n",
    "    x = Conv2D(64, (3, 3), strides=1, padding=\"same\", name=\"conv4\")(x)\n",
    "    x = BatchNormalization(\n",
    "        momentum=0.1, epsilon=1e-5, gamma_initializer=\"uniform\", name=\"batch4\"\n",
    "    )(x)\n",
    "    x = Activation(\"relu\", name=\"relu4\")(x)\n",
    "    x = Conv2D(32, (3, 3), strides=1, padding=\"same\", name=\"conv5\")(x)\n",
    "    x = BatchNormalization(\n",
    "        momentum=0.1, epsilon=1e-5, gamma_initializer=\"uniform\", name=\"batch5\"\n",
    "    )(x)\n",
    "    x = Activation(\"relu\", name=\"relu5\")(x)\n",
    "    x = Dropout(0.15)(x)\n",
    "    x = keras.layers.MaxPooling2D(pool_size=2, strides=2)(x)\n",
    "    x = keras.layers.Flatten()(x)\n",
    "\n",
    "    x = Dense(100, name=\"Dense30\")(x)\n",
    "    x = Activation(\"relu\", name=\"relu6\")(x)\n",
    "    x = Dropout(0.05)(x)\n",
    "    x = Dense(10, name=\"Dense10\")(x)\n",
    "    outputs = Activation(\"softmax\")(x)\n",
    "\n",
    "    #     x = keras.layers.BatchNormalization()(x)\n",
    "\n",
    "    #     x = keras.layers.Dense(64, activation=\"relu\")(x)\n",
    "    #     x = keras.layers.BatchNormalization()(x)\n",
    "    #     x = keras.layers.Dense(32, activation=\"relu\")(x)\n",
    "    #     x = keras.layers.BatchNormalization()(x)\n",
    "    #     #     x = keras.layers.Dropout(0.1)(x)\n",
    "\n",
    "    #     outputs = keras.layers.Dense(10, activation=\"softmax\")(x)\n",
    "\n",
    "    model = keras.Model(inputs, outputs)\n",
    "\n",
    "    model.compile(\n",
    "        loss=\"categorical_crossentropy\",\n",
    "        optimizer=tf.keras.optimizers.Adam(learning_rate=0.01),  # rmsprop\n",
    "        metrics=[\"accuracy\"],\n",
    "    )\n",
    "\n",
    "    #     model.compile(\n",
    "    #         optimizer=tf.keras.optimizers.Adam(learning_rate=0.01),\n",
    "    #         loss=\"mean_absolute_error\",\n",
    "    #     )\n",
    "\n",
    "    return model"
   ]
  },
  {
   "cell_type": "markdown",
   "id": "a4ed9b17",
   "metadata": {
    "papermill": {
     "duration": 0.008708,
     "end_time": "2022-07-25T01:21:18.259597",
     "exception": false,
     "start_time": "2022-07-25T01:21:18.250889",
     "status": "completed"
    },
    "tags": []
   },
   "source": [
    "- https://www.kaggle.com/code/shaygu/fast-cnn-for-beginners-0-9955?scriptVersionId=19400310\n",
    "- Light architecture with approximately 50K parameters. \n",
    "- Dropout for avoiding overfitting \n",
    "- BatchNormalization for faster convergence time"
   ]
  },
  {
   "cell_type": "code",
   "execution_count": 20,
   "id": "e0b1e8f7",
   "metadata": {
    "execution": {
     "iopub.execute_input": "2022-07-25T01:21:18.278824Z",
     "iopub.status.busy": "2022-07-25T01:21:18.278536Z",
     "iopub.status.idle": "2022-07-25T01:21:18.346797Z",
     "shell.execute_reply": "2022-07-25T01:21:18.346000Z"
    },
    "papermill": {
     "duration": 0.080478,
     "end_time": "2022-07-25T01:21:18.348915",
     "exception": false,
     "start_time": "2022-07-25T01:21:18.268437",
     "status": "completed"
    },
    "tags": []
   },
   "outputs": [],
   "source": [
    "from tensorflow.keras.layers import (\n",
    "    Input,\n",
    "    Dense,\n",
    "    Conv2D,\n",
    "    Activation,\n",
    "    Add,\n",
    "    ReLU,\n",
    "    MaxPool2D,\n",
    "    Flatten,\n",
    "    Dropout,\n",
    "    BatchNormalization,\n",
    ")\n",
    "from tensorflow.keras.models import Model\n",
    "\n",
    "\n",
    "def get_model02():\n",
    "    inputs = keras.Input(shape=(28, 28, 1))\n",
    "\n",
    "    #     input = Input(shape=[28, 28, 1])\n",
    "    x = Conv2D(\n",
    "        32, (5, 5), strides=1, padding=\"same\", input_shape=(28, 28, 1), name=\"conv1\"\n",
    "    )(inputs)\n",
    "    x = BatchNormalization(\n",
    "        momentum=0.1, epsilon=1e-5, gamma_initializer=\"uniform\", name=\"batch1\"\n",
    "    )(x)\n",
    "    x = Activation(\"relu\", name=\"relu1\")(x)\n",
    "    # x = Dropout (0.5)(x)\n",
    "    x = Conv2D(32, (5, 5), strides=1, padding=\"same\", name=\"conv2\")(x)\n",
    "    x = BatchNormalization(\n",
    "        momentum=0.1, epsilon=1e-5, gamma_initializer=\"uniform\", name=\"batch2\"\n",
    "    )(x)\n",
    "    x = Activation(\"relu\", name=\"relu2\")(x)\n",
    "    # x = Dropout (0.5)(x)\n",
    "    x = Conv2D(32, (5, 5), strides=1, padding=\"same\", name=\"conv2add\")(x)\n",
    "    x = BatchNormalization(\n",
    "        momentum=0.1, epsilon=1e-5, gamma_initializer=\"uniform\", name=\"batch2add\"\n",
    "    )(x)\n",
    "    x = Activation(\"relu\", name=\"relu2add\")(x)\n",
    "    x = Dropout(0.15)(x)\n",
    "    x = MaxPool2D(pool_size=2, strides=2, padding=\"same\")(x)\n",
    "\n",
    "    # ---\n",
    "    x = Conv2D(64, (3, 3), strides=1, padding=\"same\", name=\"conv3\")(x)\n",
    "    x = BatchNormalization(\n",
    "        momentum=0.1, epsilon=1e-5, gamma_initializer=\"uniform\", name=\"batch3\"\n",
    "    )(x)\n",
    "    x = Activation(\"relu\", name=\"relu3\")(x)\n",
    "    x = Conv2D(64, (3, 3), strides=1, padding=\"same\", name=\"conv4\")(x)\n",
    "    x = BatchNormalization(\n",
    "        momentum=0.1, epsilon=1e-5, gamma_initializer=\"uniform\", name=\"batch4\"\n",
    "    )(x)\n",
    "    x = Activation(\"relu\", name=\"relu4\")(x)\n",
    "    x = Conv2D(32, (3, 3), strides=1, padding=\"same\", name=\"conv5\")(x)\n",
    "    x = BatchNormalization(\n",
    "        momentum=0.1, epsilon=1e-5, gamma_initializer=\"uniform\", name=\"batch5\"\n",
    "    )(x)\n",
    "    x = Activation(\"relu\", name=\"relu5\")(x)\n",
    "    x = Dropout(0.15)(x)\n",
    "    x = MaxPool2D(pool_size=2, strides=2)(x)\n",
    "    x = Flatten()(x)\n",
    "    x = Dense(100, name=\"Dense30\")(x)\n",
    "    x = Activation(\"relu\", name=\"relu6\")(x)\n",
    "    x = Dropout(0.05)(x)\n",
    "    x = Dense(10, name=\"Dense10\")(x)\n",
    "    x = Activation(\"softmax\")(x)\n",
    "    model = Model(inputs=inputs, outputs=x)\n",
    "    return model"
   ]
  },
  {
   "cell_type": "code",
   "execution_count": 21,
   "id": "a0229d3a",
   "metadata": {
    "execution": {
     "iopub.execute_input": "2022-07-25T01:21:18.368035Z",
     "iopub.status.busy": "2022-07-25T01:21:18.367767Z",
     "iopub.status.idle": "2022-07-25T01:21:18.376435Z",
     "shell.execute_reply": "2022-07-25T01:21:18.375634Z"
    },
    "papermill": {
     "duration": 0.020631,
     "end_time": "2022-07-25T01:21:18.378576",
     "exception": false,
     "start_time": "2022-07-25T01:21:18.357945",
     "status": "completed"
    },
    "tags": []
   },
   "outputs": [
    {
     "data": {
      "text/plain": [
       "28"
      ]
     },
     "execution_count": 21,
     "metadata": {},
     "output_type": "execute_result"
    }
   ],
   "source": [
    "X_train.shape[1]"
   ]
  },
  {
   "cell_type": "code",
   "execution_count": 22,
   "id": "0fd83286",
   "metadata": {
    "execution": {
     "iopub.execute_input": "2022-07-25T01:21:18.398079Z",
     "iopub.status.busy": "2022-07-25T01:21:18.397234Z",
     "iopub.status.idle": "2022-07-25T01:21:18.405454Z",
     "shell.execute_reply": "2022-07-25T01:21:18.404609Z"
    },
    "papermill": {
     "duration": 0.019768,
     "end_time": "2022-07-25T01:21:18.407248",
     "exception": false,
     "start_time": "2022-07-25T01:21:18.387480",
     "status": "completed"
    },
    "tags": []
   },
   "outputs": [
    {
     "data": {
      "text/plain": [
       "42000"
      ]
     },
     "execution_count": 22,
     "metadata": {},
     "output_type": "execute_result"
    }
   ],
   "source": [
    "X.shape[0]"
   ]
  },
  {
   "cell_type": "code",
   "execution_count": 23,
   "id": "d22851e2",
   "metadata": {
    "execution": {
     "iopub.execute_input": "2022-07-25T01:21:18.426547Z",
     "iopub.status.busy": "2022-07-25T01:21:18.426294Z",
     "iopub.status.idle": "2022-07-25T01:21:21.388666Z",
     "shell.execute_reply": "2022-07-25T01:21:21.387684Z"
    },
    "papermill": {
     "duration": 2.9753,
     "end_time": "2022-07-25T01:21:21.391729",
     "exception": false,
     "start_time": "2022-07-25T01:21:18.416429",
     "status": "completed"
    },
    "tags": []
   },
   "outputs": [
    {
     "name": "stdout",
     "output_type": "stream",
     "text": [
      "x_shape=\n"
     ]
    },
    {
     "name": "stderr",
     "output_type": "stream",
     "text": [
      "2022-07-25 01:21:18.529687: I tensorflow/stream_executor/cuda/cuda_gpu_executor.cc:937] successful NUMA node read from SysFS had negative value (-1), but there must be at least one NUMA node, so returning NUMA node zero\n"
     ]
    },
    {
     "name": "stdout",
     "output_type": "stream",
     "text": [
      "Model: \"model\"\n",
      "_________________________________________________________________\n",
      "Layer (type)                 Output Shape              Param #   \n",
      "=================================================================\n",
      "input_1 (InputLayer)         [(None, 28, 28, 1)]       0         \n",
      "_________________________________________________________________\n",
      "conv1 (Conv2D)               (None, 28, 28, 32)        832       \n",
      "_________________________________________________________________\n",
      "batch1 (BatchNormalization)  (None, 28, 28, 32)        128       \n",
      "_________________________________________________________________\n",
      "relu1 (Activation)           (None, 28, 28, 32)        0         \n",
      "_________________________________________________________________\n",
      "conv2 (Conv2D)               (None, 28, 28, 32)        25632     \n",
      "_________________________________________________________________\n",
      "batch2 (BatchNormalization)  (None, 28, 28, 32)        128       \n",
      "_________________________________________________________________\n",
      "relu2 (Activation)           (None, 28, 28, 32)        0         \n",
      "_________________________________________________________________\n",
      "conv2add (Conv2D)            (None, 28, 28, 32)        25632     \n",
      "_________________________________________________________________\n",
      "batch2add (BatchNormalizatio (None, 28, 28, 32)        128       \n",
      "_________________________________________________________________\n",
      "relu2add (Activation)        (None, 28, 28, 32)        0         \n",
      "_________________________________________________________________\n",
      "dropout (Dropout)            (None, 28, 28, 32)        0         \n",
      "_________________________________________________________________\n",
      "max_pooling2d (MaxPooling2D) (None, 14, 14, 32)        0         \n",
      "_________________________________________________________________\n",
      "conv3 (Conv2D)               (None, 14, 14, 64)        18496     \n",
      "_________________________________________________________________\n",
      "batch3 (BatchNormalization)  (None, 14, 14, 64)        256       \n",
      "_________________________________________________________________\n",
      "relu3 (Activation)           (None, 14, 14, 64)        0         \n",
      "_________________________________________________________________\n",
      "conv4 (Conv2D)               (None, 14, 14, 64)        36928     \n",
      "_________________________________________________________________\n",
      "batch4 (BatchNormalization)  (None, 14, 14, 64)        256       \n",
      "_________________________________________________________________\n",
      "relu4 (Activation)           (None, 14, 14, 64)        0         \n",
      "_________________________________________________________________\n",
      "conv5 (Conv2D)               (None, 14, 14, 32)        18464     \n",
      "_________________________________________________________________\n",
      "batch5 (BatchNormalization)  (None, 14, 14, 32)        128       \n",
      "_________________________________________________________________\n",
      "relu5 (Activation)           (None, 14, 14, 32)        0         \n",
      "_________________________________________________________________\n",
      "dropout_1 (Dropout)          (None, 14, 14, 32)        0         \n",
      "_________________________________________________________________\n",
      "max_pooling2d_1 (MaxPooling2 (None, 7, 7, 32)          0         \n",
      "_________________________________________________________________\n",
      "flatten (Flatten)            (None, 1568)              0         \n",
      "_________________________________________________________________\n",
      "Dense30 (Dense)              (None, 100)               156900    \n",
      "_________________________________________________________________\n",
      "relu6 (Activation)           (None, 100)               0         \n",
      "_________________________________________________________________\n",
      "dropout_2 (Dropout)          (None, 100)               0         \n",
      "_________________________________________________________________\n",
      "Dense10 (Dense)              (None, 10)                1010      \n",
      "_________________________________________________________________\n",
      "activation (Activation)      (None, 10)                0         \n",
      "=================================================================\n",
      "Total params: 284,918\n",
      "Trainable params: 284,406\n",
      "Non-trainable params: 512\n",
      "_________________________________________________________________\n"
     ]
    },
    {
     "name": "stderr",
     "output_type": "stream",
     "text": [
      "2022-07-25 01:21:18.671232: I tensorflow/stream_executor/cuda/cuda_gpu_executor.cc:937] successful NUMA node read from SysFS had negative value (-1), but there must be at least one NUMA node, so returning NUMA node zero\n",
      "2022-07-25 01:21:18.672062: I tensorflow/stream_executor/cuda/cuda_gpu_executor.cc:937] successful NUMA node read from SysFS had negative value (-1), but there must be at least one NUMA node, so returning NUMA node zero\n",
      "2022-07-25 01:21:18.674353: I tensorflow/core/platform/cpu_feature_guard.cc:142] This TensorFlow binary is optimized with oneAPI Deep Neural Network Library (oneDNN) to use the following CPU instructions in performance-critical operations:  AVX2 AVX512F FMA\n",
      "To enable them in other operations, rebuild TensorFlow with the appropriate compiler flags.\n",
      "2022-07-25 01:21:18.674679: I tensorflow/stream_executor/cuda/cuda_gpu_executor.cc:937] successful NUMA node read from SysFS had negative value (-1), but there must be at least one NUMA node, so returning NUMA node zero\n",
      "2022-07-25 01:21:18.675683: I tensorflow/stream_executor/cuda/cuda_gpu_executor.cc:937] successful NUMA node read from SysFS had negative value (-1), but there must be at least one NUMA node, so returning NUMA node zero\n",
      "2022-07-25 01:21:18.676577: I tensorflow/stream_executor/cuda/cuda_gpu_executor.cc:937] successful NUMA node read from SysFS had negative value (-1), but there must be at least one NUMA node, so returning NUMA node zero\n",
      "2022-07-25 01:21:20.906720: I tensorflow/stream_executor/cuda/cuda_gpu_executor.cc:937] successful NUMA node read from SysFS had negative value (-1), but there must be at least one NUMA node, so returning NUMA node zero\n",
      "2022-07-25 01:21:20.907536: I tensorflow/stream_executor/cuda/cuda_gpu_executor.cc:937] successful NUMA node read from SysFS had negative value (-1), but there must be at least one NUMA node, so returning NUMA node zero\n",
      "2022-07-25 01:21:20.908246: I tensorflow/stream_executor/cuda/cuda_gpu_executor.cc:937] successful NUMA node read from SysFS had negative value (-1), but there must be at least one NUMA node, so returning NUMA node zero\n",
      "2022-07-25 01:21:20.908851: I tensorflow/core/common_runtime/gpu/gpu_device.cc:1510] Created device /job:localhost/replica:0/task:0/device:GPU:0 with 15403 MB memory:  -> device: 0, name: Tesla P100-PCIE-16GB, pci bus id: 0000:00:04.0, compute capability: 6.0\n"
     ]
    }
   ],
   "source": [
    "model = get_tf_model02(x_shape=(28, 28))\n",
    "# model = get_model02()\n",
    "\n",
    "model.summary()"
   ]
  },
  {
   "cell_type": "code",
   "execution_count": 24,
   "id": "de364a23",
   "metadata": {
    "execution": {
     "iopub.execute_input": "2022-07-25T01:21:21.412226Z",
     "iopub.status.busy": "2022-07-25T01:21:21.411941Z",
     "iopub.status.idle": "2022-07-25T01:21:22.430647Z",
     "shell.execute_reply": "2022-07-25T01:21:22.429590Z"
    },
    "papermill": {
     "duration": 1.031516,
     "end_time": "2022-07-25T01:21:22.433038",
     "exception": false,
     "start_time": "2022-07-25T01:21:21.401522",
     "status": "completed"
    },
    "tags": []
   },
   "outputs": [
    {
     "data": {
      "image/png": "[encoded data removed]",
      "text/plain": [
       "<IPython.core.display.Image object>"
      ]
     },
     "execution_count": 24,
     "metadata": {},
     "output_type": "execute_result"
    }
   ],
   "source": [
    "keras.utils.plot_model(model)"
   ]
  },
  {
   "cell_type": "code",
   "execution_count": 25,
   "id": "4a087898",
   "metadata": {
    "execution": {
     "iopub.execute_input": "2022-07-25T01:21:22.457039Z",
     "iopub.status.busy": "2022-07-25T01:21:22.456734Z",
     "iopub.status.idle": "2022-07-25T01:25:45.553600Z",
     "shell.execute_reply": "2022-07-25T01:25:45.552414Z"
    },
    "papermill": {
     "duration": 263.111149,
     "end_time": "2022-07-25T01:25:45.555762",
     "exception": false,
     "start_time": "2022-07-25T01:21:22.444613",
     "status": "completed"
    },
    "tags": []
   },
   "outputs": [
    {
     "name": "stderr",
     "output_type": "stream",
     "text": [
      "2022-07-25 01:21:22.752823: I tensorflow/compiler/mlir/mlir_graph_optimization_pass.cc:185] None of the MLIR Optimization Passes are enabled (registered 2)\n"
     ]
    },
    {
     "name": "stdout",
     "output_type": "stream",
     "text": [
      "Epoch 1/60\n"
     ]
    },
    {
     "name": "stderr",
     "output_type": "stream",
     "text": [
      "2022-07-25 01:21:24.513192: I tensorflow/stream_executor/cuda/cuda_dnn.cc:369] Loaded cuDNN version 8005\n"
     ]
    },
    {
     "name": "stdout",
     "output_type": "stream",
     "text": [
      "525/525 [==============================] - 12s 9ms/step - loss: 0.2012 - accuracy: 0.9342 - val_loss: 0.1100 - val_accuracy: 0.9683\n",
      "Epoch 2/60\n",
      "525/525 [==============================] - 4s 8ms/step - loss: 0.0779 - accuracy: 0.9765 - val_loss: 0.0610 - val_accuracy: 0.9830\n",
      "Epoch 3/60\n",
      "525/525 [==============================] - 4s 8ms/step - loss: 0.0629 - accuracy: 0.9803 - val_loss: 0.0636 - val_accuracy: 0.9813\n",
      "Epoch 4/60\n",
      "525/525 [==============================] - 4s 8ms/step - loss: 0.0534 - accuracy: 0.9838 - val_loss: 0.0693 - val_accuracy: 0.9792\n",
      "Epoch 5/60\n",
      "525/525 [==============================] - 5s 9ms/step - loss: 0.0492 - accuracy: 0.9852 - val_loss: 0.0545 - val_accuracy: 0.9836\n",
      "Epoch 6/60\n",
      "525/525 [==============================] - 4s 8ms/step - loss: 0.0443 - accuracy: 0.9866 - val_loss: 0.0619 - val_accuracy: 0.9838\n",
      "Epoch 7/60\n",
      "525/525 [==============================] - 4s 8ms/step - loss: 0.0468 - accuracy: 0.9860 - val_loss: 0.0478 - val_accuracy: 0.9852\n",
      "Epoch 8/60\n",
      "525/525 [==============================] - 4s 8ms/step - loss: 0.0370 - accuracy: 0.9885 - val_loss: 0.0561 - val_accuracy: 0.9833\n",
      "Epoch 9/60\n",
      "525/525 [==============================] - 4s 8ms/step - loss: 0.0397 - accuracy: 0.9882 - val_loss: 0.0472 - val_accuracy: 0.9864\n",
      "Epoch 10/60\n",
      "525/525 [==============================] - 4s 8ms/step - loss: 0.0340 - accuracy: 0.9896 - val_loss: 0.0526 - val_accuracy: 0.9861\n",
      "Epoch 11/60\n",
      "525/525 [==============================] - 4s 8ms/step - loss: 0.0371 - accuracy: 0.9889 - val_loss: 0.0328 - val_accuracy: 0.9894\n",
      "Epoch 12/60\n",
      "525/525 [==============================] - 4s 8ms/step - loss: 0.0322 - accuracy: 0.9904 - val_loss: 0.0637 - val_accuracy: 0.9808\n",
      "Epoch 13/60\n",
      "525/525 [==============================] - 4s 8ms/step - loss: 0.0320 - accuracy: 0.9903 - val_loss: 0.0439 - val_accuracy: 0.9871\n",
      "Epoch 14/60\n",
      "525/525 [==============================] - 4s 8ms/step - loss: 0.0293 - accuracy: 0.9913 - val_loss: 0.0453 - val_accuracy: 0.9883\n",
      "Epoch 15/60\n",
      "525/525 [==============================] - 4s 8ms/step - loss: 0.0322 - accuracy: 0.9906 - val_loss: 0.0419 - val_accuracy: 0.9886\n",
      "Epoch 16/60\n",
      "525/525 [==============================] - 4s 8ms/step - loss: 0.0316 - accuracy: 0.9907 - val_loss: 0.0577 - val_accuracy: 0.9849\n",
      "Epoch 17/60\n",
      "525/525 [==============================] - 4s 8ms/step - loss: 0.0284 - accuracy: 0.9916 - val_loss: 0.0401 - val_accuracy: 0.9879\n",
      "Epoch 18/60\n",
      "525/525 [==============================] - 4s 8ms/step - loss: 0.0262 - accuracy: 0.9924 - val_loss: 0.0448 - val_accuracy: 0.9880\n",
      "Epoch 19/60\n",
      "525/525 [==============================] - 4s 8ms/step - loss: 0.0233 - accuracy: 0.9931 - val_loss: 0.0470 - val_accuracy: 0.9893\n",
      "Epoch 20/60\n",
      "525/525 [==============================] - 4s 8ms/step - loss: 0.0252 - accuracy: 0.9930 - val_loss: 0.0415 - val_accuracy: 0.9885\n",
      "Epoch 21/60\n",
      "525/525 [==============================] - 4s 8ms/step - loss: 0.0294 - accuracy: 0.9915 - val_loss: 0.0687 - val_accuracy: 0.9819\n",
      "Epoch 22/60\n",
      "525/525 [==============================] - 4s 8ms/step - loss: 0.0288 - accuracy: 0.9915 - val_loss: 0.0437 - val_accuracy: 0.9886\n",
      "Epoch 23/60\n",
      "525/525 [==============================] - 4s 8ms/step - loss: 0.0238 - accuracy: 0.9932 - val_loss: 0.0606 - val_accuracy: 0.9843\n",
      "Epoch 24/60\n",
      "525/525 [==============================] - 4s 8ms/step - loss: 0.0227 - accuracy: 0.9936 - val_loss: 0.0506 - val_accuracy: 0.9881\n",
      "Epoch 25/60\n",
      "525/525 [==============================] - 4s 8ms/step - loss: 0.0226 - accuracy: 0.9931 - val_loss: 0.0395 - val_accuracy: 0.9907\n",
      "Epoch 26/60\n",
      "525/525 [==============================] - 4s 8ms/step - loss: 0.0239 - accuracy: 0.9932 - val_loss: 0.0535 - val_accuracy: 0.9876\n",
      "Epoch 27/60\n",
      "525/525 [==============================] - 4s 8ms/step - loss: 0.0231 - accuracy: 0.9936 - val_loss: 0.0410 - val_accuracy: 0.9908\n",
      "Epoch 28/60\n",
      "525/525 [==============================] - 4s 8ms/step - loss: 0.0227 - accuracy: 0.9935 - val_loss: 0.0555 - val_accuracy: 0.9882\n",
      "Epoch 29/60\n",
      "525/525 [==============================] - 4s 8ms/step - loss: 0.0223 - accuracy: 0.9941 - val_loss: 0.0486 - val_accuracy: 0.9895\n",
      "Epoch 30/60\n",
      "525/525 [==============================] - 4s 8ms/step - loss: 0.0191 - accuracy: 0.9937 - val_loss: 0.0795 - val_accuracy: 0.9829\n",
      "Epoch 31/60\n",
      "525/525 [==============================] - 4s 8ms/step - loss: 0.0238 - accuracy: 0.9934 - val_loss: 0.0823 - val_accuracy: 0.9869\n",
      "Epoch 32/60\n",
      "525/525 [==============================] - 4s 8ms/step - loss: 0.0212 - accuracy: 0.9935 - val_loss: 0.0498 - val_accuracy: 0.9886\n",
      "Epoch 33/60\n",
      "525/525 [==============================] - 4s 8ms/step - loss: 0.0176 - accuracy: 0.9953 - val_loss: 0.0542 - val_accuracy: 0.9885\n",
      "Epoch 34/60\n",
      "525/525 [==============================] - 4s 8ms/step - loss: 0.0251 - accuracy: 0.9940 - val_loss: 0.0447 - val_accuracy: 0.9917\n",
      "Epoch 35/60\n",
      "525/525 [==============================] - 4s 8ms/step - loss: 0.0144 - accuracy: 0.9956 - val_loss: 0.0757 - val_accuracy: 0.9844\n",
      "Epoch 36/60\n",
      "525/525 [==============================] - 4s 8ms/step - loss: 0.0311 - accuracy: 0.9927 - val_loss: 0.0749 - val_accuracy: 0.9857\n",
      "Epoch 37/60\n",
      "525/525 [==============================] - 4s 8ms/step - loss: 0.0231 - accuracy: 0.9943 - val_loss: 0.0525 - val_accuracy: 0.9888\n",
      "Epoch 38/60\n",
      "525/525 [==============================] - 4s 8ms/step - loss: 0.0192 - accuracy: 0.9947 - val_loss: 0.0439 - val_accuracy: 0.9898\n",
      "Epoch 39/60\n",
      "525/525 [==============================] - 4s 8ms/step - loss: 0.0141 - accuracy: 0.9960 - val_loss: 0.0496 - val_accuracy: 0.9915\n",
      "Epoch 40/60\n",
      "525/525 [==============================] - 4s 8ms/step - loss: 0.0217 - accuracy: 0.9947 - val_loss: 0.0503 - val_accuracy: 0.9874\n",
      "Epoch 41/60\n",
      "525/525 [==============================] - 4s 8ms/step - loss: 0.0273 - accuracy: 0.9928 - val_loss: 0.0561 - val_accuracy: 0.9898\n",
      "Epoch 42/60\n",
      "525/525 [==============================] - 4s 8ms/step - loss: 0.0192 - accuracy: 0.9950 - val_loss: 0.0570 - val_accuracy: 0.9871\n",
      "Epoch 43/60\n",
      "525/525 [==============================] - 4s 8ms/step - loss: 0.0174 - accuracy: 0.9954 - val_loss: 0.0466 - val_accuracy: 0.9902\n",
      "Epoch 44/60\n",
      "525/525 [==============================] - 4s 8ms/step - loss: 0.0167 - accuracy: 0.9950 - val_loss: 0.0564 - val_accuracy: 0.9888\n",
      "Epoch 45/60\n",
      "525/525 [==============================] - 4s 8ms/step - loss: 0.0141 - accuracy: 0.9961 - val_loss: 0.0469 - val_accuracy: 0.9913\n",
      "Epoch 46/60\n",
      "525/525 [==============================] - 4s 8ms/step - loss: 0.0260 - accuracy: 0.9938 - val_loss: 0.0687 - val_accuracy: 0.9861\n",
      "Epoch 47/60\n",
      "525/525 [==============================] - 4s 8ms/step - loss: 0.0210 - accuracy: 0.9953 - val_loss: 0.0594 - val_accuracy: 0.9880\n",
      "Epoch 48/60\n",
      "525/525 [==============================] - 4s 8ms/step - loss: 0.0162 - accuracy: 0.9954 - val_loss: 0.0526 - val_accuracy: 0.9917\n",
      "Epoch 49/60\n",
      "525/525 [==============================] - 4s 8ms/step - loss: 0.0201 - accuracy: 0.9954 - val_loss: 0.0486 - val_accuracy: 0.9898\n",
      "Epoch 50/60\n",
      "525/525 [==============================] - 4s 8ms/step - loss: 0.0133 - accuracy: 0.9964 - val_loss: 0.0796 - val_accuracy: 0.9854\n",
      "Epoch 51/60\n",
      "525/525 [==============================] - 4s 8ms/step - loss: 0.0188 - accuracy: 0.9957 - val_loss: 0.0426 - val_accuracy: 0.9918\n",
      "Epoch 52/60\n",
      "525/525 [==============================] - 4s 8ms/step - loss: 0.0175 - accuracy: 0.9955 - val_loss: 0.0927 - val_accuracy: 0.9846\n",
      "Epoch 53/60\n",
      "525/525 [==============================] - 4s 8ms/step - loss: 0.0233 - accuracy: 0.9948 - val_loss: 0.0931 - val_accuracy: 0.9857\n",
      "Epoch 54/60\n",
      "525/525 [==============================] - 4s 8ms/step - loss: 0.0200 - accuracy: 0.9953 - val_loss: 0.0572 - val_accuracy: 0.9908\n",
      "Epoch 55/60\n",
      "525/525 [==============================] - 4s 8ms/step - loss: 0.0195 - accuracy: 0.9954 - val_loss: 0.0450 - val_accuracy: 0.9912\n",
      "Epoch 56/60\n",
      "525/525 [==============================] - 4s 8ms/step - loss: 0.0198 - accuracy: 0.9956 - val_loss: 0.0608 - val_accuracy: 0.9899\n",
      "Epoch 57/60\n",
      "525/525 [==============================] - 4s 8ms/step - loss: 0.0152 - accuracy: 0.9962 - val_loss: 0.0851 - val_accuracy: 0.9868\n",
      "Epoch 58/60\n",
      "525/525 [==============================] - 4s 8ms/step - loss: 0.0135 - accuracy: 0.9969 - val_loss: 0.0681 - val_accuracy: 0.9906\n",
      "Epoch 59/60\n",
      "525/525 [==============================] - 4s 8ms/step - loss: 0.0182 - accuracy: 0.9957 - val_loss: 0.0494 - val_accuracy: 0.9910\n",
      "Epoch 60/60\n",
      "525/525 [==============================] - 4s 8ms/step - loss: 0.0183 - accuracy: 0.9959 - val_loss: 0.0652 - val_accuracy: 0.9908\n",
      "CPU times: user 4min 21s, sys: 16.5 s, total: 4min 37s\n",
      "Wall time: 4min 23s\n"
     ]
    }
   ],
   "source": [
    "%%time\n",
    "\n",
    "epochs = 60\n",
    "lr_initial = 0.0011\n",
    "# optimizer = tf.keras.optimizers.RMSprop(learning_rate=0.001, rho=0.95, epsilon=1e-08, decay=0.0)\n",
    "# optimizer = tf.keras.optimizers.Adam(learning_rate=lr_initial, \n",
    "#                                      decay=lr_initial / (epochs*1.3))\n",
    "# optimizer = tf.keras.optimizers.Adam(learning_rate=0.01)  # rmsprop\n",
    "\n",
    "# model.compile(optimizer=optimizer,\n",
    "#               loss='sparse_categorical_crossentropy',\n",
    "#               metrics=['accuracy'])\n",
    "# datagen.fit(x_train)\n",
    "batch_size = 64\n",
    "\n",
    "history = model.fit(\n",
    "    X_train,\n",
    "    y_train,\n",
    "    batch_size=batch_size,\n",
    "    epochs=epochs,\n",
    "    # Suppress logging.\n",
    "    verbose=1,\n",
    "    validation_data=(X_valid, y_valid),\n",
    "    # Calculate validation results on 20% of the training data.\n",
    "#     validation_split = 0.2\n",
    ")"
   ]
  },
  {
   "cell_type": "code",
   "execution_count": 26,
   "id": "8031d91c",
   "metadata": {
    "execution": {
     "iopub.execute_input": "2022-07-25T01:25:46.071075Z",
     "iopub.status.busy": "2022-07-25T01:25:46.070435Z",
     "iopub.status.idle": "2022-07-25T01:25:46.495435Z",
     "shell.execute_reply": "2022-07-25T01:25:46.494532Z"
    },
    "papermill": {
     "duration": 0.684801,
     "end_time": "2022-07-25T01:25:46.497521",
     "exception": false,
     "start_time": "2022-07-25T01:25:45.812720",
     "status": "completed"
    },
    "tags": []
   },
   "outputs": [
    {
     "data": {
      "image/png": "[encoded data removed]",
      "text/plain": [
       "<Figure size 432x288 with 1 Axes>"
      ]
     },
     "metadata": {
      "needs_background": "light"
     },
     "output_type": "display_data"
    },
    {
     "data": {
      "image/png": "[encoded data removed]",
      "text/plain": [
       "<Figure size 432x288 with 1 Axes>"
      ]
     },
     "metadata": {
      "needs_background": "light"
     },
     "output_type": "display_data"
    }
   ],
   "source": [
    "acc = history.history[\"accuracy\"]\n",
    "val_acc = history.history[\"val_accuracy\"]\n",
    "loss = history.history[\"loss\"]\n",
    "val_loss = history.history[\"val_loss\"]\n",
    "\n",
    "epochs = range(1, len(acc) + 1)\n",
    "\n",
    "plt.plot(epochs, acc, \"bo\", label=\"Training acc\")\n",
    "plt.plot(epochs, val_acc, \"b\", label=\"Validation acc\")\n",
    "plt.title(\"Training and validation accuracy\")\n",
    "plt.legend()\n",
    "\n",
    "plt.figure()\n",
    "\n",
    "plt.plot(epochs, loss, \"bo\", label=\"Training loss\")\n",
    "plt.plot(epochs, val_loss, \"b\", label=\"Validation loss\")\n",
    "plt.title(\"Training and validation loss\")\n",
    "plt.legend()\n",
    "\n",
    "plt.show()"
   ]
  },
  {
   "cell_type": "markdown",
   "id": "8a6e7059",
   "metadata": {
    "papermill": {
     "duration": 0.255744,
     "end_time": "2022-07-25T01:25:47.007054",
     "exception": false,
     "start_time": "2022-07-25T01:25:46.751310",
     "status": "completed"
    },
    "tags": []
   },
   "source": [
    "## Predict and Score"
   ]
  },
  {
   "cell_type": "code",
   "execution_count": 27,
   "id": "5ef10c1b",
   "metadata": {
    "execution": {
     "iopub.execute_input": "2022-07-25T01:25:47.521770Z",
     "iopub.status.busy": "2022-07-25T01:25:47.521368Z",
     "iopub.status.idle": "2022-07-25T01:25:48.452404Z",
     "shell.execute_reply": "2022-07-25T01:25:48.451438Z"
    },
    "papermill": {
     "duration": 1.191544,
     "end_time": "2022-07-25T01:25:48.454403",
     "exception": false,
     "start_time": "2022-07-25T01:25:47.262859",
     "status": "completed"
    },
    "tags": []
   },
   "outputs": [
    {
     "name": "stdout",
     "output_type": "stream",
     "text": [
      "263/263 [==============================] - 1s 3ms/step - loss: 0.0652 - accuracy: 0.9908\n"
     ]
    },
    {
     "data": {
      "text/plain": [
       "0.9908333420753479"
      ]
     },
     "execution_count": 27,
     "metadata": {},
     "output_type": "execute_result"
    }
   ],
   "source": [
    "test_loss, test_acc = model.evaluate(X_valid, y_valid)\n",
    "test_acc"
   ]
  },
  {
   "cell_type": "code",
   "execution_count": 28,
   "id": "6de5617a",
   "metadata": {
    "execution": {
     "iopub.execute_input": "2022-07-25T01:25:48.974004Z",
     "iopub.status.busy": "2022-07-25T01:25:48.973658Z",
     "iopub.status.idle": "2022-07-25T01:25:49.575579Z",
     "shell.execute_reply": "2022-07-25T01:25:49.574536Z"
    },
    "papermill": {
     "duration": 0.861263,
     "end_time": "2022-07-25T01:25:49.577724",
     "exception": false,
     "start_time": "2022-07-25T01:25:48.716461",
     "status": "completed"
    },
    "tags": []
   },
   "outputs": [
    {
     "data": {
      "text/plain": [
       "array([[1.66118211e-24, 4.86952729e-29, 2.86165476e-21, 9.08709229e-24,\n",
       "        3.34947382e-26, 6.42368993e-23, 1.05272918e-26, 2.00190292e-25,\n",
       "        1.00000000e+00, 2.28326283e-26],\n",
       "       [1.31826852e-27, 1.00000000e+00, 1.56934310e-22, 1.56677498e-32,\n",
       "        2.13238498e-21, 3.54023735e-24, 4.30978102e-24, 6.31037349e-20,\n",
       "        9.75044574e-23, 2.39464817e-25],\n",
       "       [8.46735607e-24, 1.04784926e-26, 8.80275844e-28, 4.35543460e-22,\n",
       "        2.67283466e-14, 7.60277159e-19, 1.01535262e-30, 1.34681410e-13,\n",
       "        4.10890852e-17, 1.00000000e+00],\n",
       "       [4.53588118e-24, 6.51468838e-27, 5.19577982e-29, 3.19874363e-22,\n",
       "        2.13982201e-16, 6.86688070e-19, 1.60374649e-32, 8.37389619e-13,\n",
       "        1.59856078e-17, 1.00000000e+00],\n",
       "       [1.97245909e-34, 7.08777104e-36, 1.06244875e-32, 1.37367919e-24,\n",
       "        2.27869293e-35, 3.27796551e-27, 2.00002107e-29, 4.36334802e-38,\n",
       "        1.00000000e+00, 4.49911228e-29]], dtype=float32)"
      ]
     },
     "execution_count": 28,
     "metadata": {},
     "output_type": "execute_result"
    }
   ],
   "source": [
    "valid_preds = model.predict(X_valid)\n",
    "valid_preds[:5]"
   ]
  },
  {
   "cell_type": "code",
   "execution_count": 29,
   "id": "9d27fda5",
   "metadata": {
    "execution": {
     "iopub.execute_input": "2022-07-25T01:25:50.140098Z",
     "iopub.status.busy": "2022-07-25T01:25:50.138152Z",
     "iopub.status.idle": "2022-07-25T01:25:50.146253Z",
     "shell.execute_reply": "2022-07-25T01:25:50.145382Z"
    },
    "papermill": {
     "duration": 0.266532,
     "end_time": "2022-07-25T01:25:50.148256",
     "exception": false,
     "start_time": "2022-07-25T01:25:49.881724",
     "status": "completed"
    },
    "tags": []
   },
   "outputs": [],
   "source": [
    "valid_preds = np.argmax(valid_preds, axis=1)"
   ]
  },
  {
   "cell_type": "code",
   "execution_count": 30,
   "id": "6305dfc0",
   "metadata": {
    "execution": {
     "iopub.execute_input": "2022-07-25T01:25:50.662690Z",
     "iopub.status.busy": "2022-07-25T01:25:50.661718Z",
     "iopub.status.idle": "2022-07-25T01:25:50.667041Z",
     "shell.execute_reply": "2022-07-25T01:25:50.666076Z"
    },
    "papermill": {
     "duration": 0.266594,
     "end_time": "2022-07-25T01:25:50.669136",
     "exception": false,
     "start_time": "2022-07-25T01:25:50.402542",
     "status": "completed"
    },
    "tags": []
   },
   "outputs": [],
   "source": [
    "# show_scores(y_valid, valid_preds)"
   ]
  },
  {
   "cell_type": "code",
   "execution_count": 31,
   "id": "d85d59ac",
   "metadata": {
    "execution": {
     "iopub.execute_input": "2022-07-25T01:25:51.441184Z",
     "iopub.status.busy": "2022-07-25T01:25:51.440605Z",
     "iopub.status.idle": "2022-07-25T01:25:53.321525Z",
     "shell.execute_reply": "2022-07-25T01:25:53.320479Z"
    },
    "papermill": {
     "duration": 2.276219,
     "end_time": "2022-07-25T01:25:53.323695",
     "exception": false,
     "start_time": "2022-07-25T01:25:51.047476",
     "status": "completed"
    },
    "tags": []
   },
   "outputs": [
    {
     "data": {
      "text/plain": [
       "array([[2.5829473e-33, 0.0000000e+00, 1.0000000e+00, 0.0000000e+00,\n",
       "        3.6093121e-35, 0.0000000e+00, 9.8027995e-32, 7.0307812e-31,\n",
       "        1.2794043e-31, 0.0000000e+00],\n",
       "       [1.0000000e+00, 0.0000000e+00, 0.0000000e+00, 0.0000000e+00,\n",
       "        3.0411386e-38, 4.7552066e-34, 2.4003572e-16, 0.0000000e+00,\n",
       "        2.1613442e-35, 1.3781483e-28],\n",
       "       [4.9455195e-19, 1.8103411e-19, 6.3812651e-16, 4.6750267e-18,\n",
       "        2.4068925e-10, 1.0618028e-20, 1.1683196e-24, 2.3813485e-10,\n",
       "        1.3697573e-09, 1.0000000e+00],\n",
       "       [1.7755033e-01, 1.8641145e-12, 3.5190273e-09, 9.2961149e-05,\n",
       "        1.8855967e-07, 9.2028677e-05, 5.4878416e-07, 5.0996325e-04,\n",
       "        2.3340238e-03, 8.1941992e-01],\n",
       "       [3.1519657e-21, 2.1732495e-20, 1.8373893e-10, 1.0000000e+00,\n",
       "        5.1511062e-34, 6.8355063e-15, 1.9116582e-17, 2.4619074e-22,\n",
       "        3.8945306e-08, 1.4929296e-25]], dtype=float32)"
      ]
     },
     "execution_count": 31,
     "metadata": {},
     "output_type": "execute_result"
    }
   ],
   "source": [
    "preds = model.predict(X_test)\n",
    "preds[:5]"
   ]
  },
  {
   "cell_type": "code",
   "execution_count": 32,
   "id": "72f8afe0",
   "metadata": {
    "execution": {
     "iopub.execute_input": "2022-07-25T01:25:53.848330Z",
     "iopub.status.busy": "2022-07-25T01:25:53.847994Z",
     "iopub.status.idle": "2022-07-25T01:25:53.855021Z",
     "shell.execute_reply": "2022-07-25T01:25:53.854142Z"
    },
    "papermill": {
     "duration": 0.27635,
     "end_time": "2022-07-25T01:25:53.856946",
     "exception": false,
     "start_time": "2022-07-25T01:25:53.580596",
     "status": "completed"
    },
    "tags": []
   },
   "outputs": [],
   "source": [
    "preds = np.argmax(preds, axis=1)"
   ]
  },
  {
   "cell_type": "markdown",
   "id": "ec03d8a6",
   "metadata": {
    "papermill": {
     "duration": 0.253232,
     "end_time": "2022-07-25T01:25:54.362675",
     "exception": false,
     "start_time": "2022-07-25T01:25:54.109443",
     "status": "completed"
    },
    "tags": []
   },
   "source": [
    "## Submission"
   ]
  },
  {
   "cell_type": "code",
   "execution_count": 33,
   "id": "4bdd483f",
   "metadata": {
    "execution": {
     "iopub.execute_input": "2022-07-25T01:25:54.920268Z",
     "iopub.status.busy": "2022-07-25T01:25:54.919932Z",
     "iopub.status.idle": "2022-07-25T01:25:54.972619Z",
     "shell.execute_reply": "2022-07-25T01:25:54.971579Z"
    },
    "papermill": {
     "duration": 0.355912,
     "end_time": "2022-07-25T01:25:54.974887",
     "exception": false,
     "start_time": "2022-07-25T01:25:54.618975",
     "status": "completed"
    },
    "tags": []
   },
   "outputs": [
    {
     "data": {
      "text/html": [
       "<div>\n",
       "<style scoped>\n",
       "    .dataframe tbody tr th:only-of-type {\n",
       "        vertical-align: middle;\n",
       "    }\n",
       "\n",
       "    .dataframe tbody tr th {\n",
       "        vertical-align: top;\n",
       "    }\n",
       "\n",
       "    .dataframe thead th {\n",
       "        text-align: right;\n",
       "    }\n",
       "</style>\n",
       "<table border=\"1\" class=\"dataframe\">\n",
       "  <thead>\n",
       "    <tr style=\"text-align: right;\">\n",
       "      <th></th>\n",
       "      <th>ImageId</th>\n",
       "      <th>Label</th>\n",
       "    </tr>\n",
       "  </thead>\n",
       "  <tbody>\n",
       "    <tr>\n",
       "      <th>0</th>\n",
       "      <td>1</td>\n",
       "      <td>2</td>\n",
       "    </tr>\n",
       "    <tr>\n",
       "      <th>1</th>\n",
       "      <td>2</td>\n",
       "      <td>0</td>\n",
       "    </tr>\n",
       "    <tr>\n",
       "      <th>2</th>\n",
       "      <td>3</td>\n",
       "      <td>9</td>\n",
       "    </tr>\n",
       "    <tr>\n",
       "      <th>3</th>\n",
       "      <td>4</td>\n",
       "      <td>9</td>\n",
       "    </tr>\n",
       "    <tr>\n",
       "      <th>4</th>\n",
       "      <td>5</td>\n",
       "      <td>3</td>\n",
       "    </tr>\n",
       "  </tbody>\n",
       "</table>\n",
       "</div>"
      ],
      "text/plain": [
       "   ImageId  Label\n",
       "0        1      2\n",
       "1        2      0\n",
       "2        3      9\n",
       "3        4      9\n",
       "4        5      3"
      ]
     },
     "execution_count": 33,
     "metadata": {},
     "output_type": "execute_result"
    }
   ],
   "source": [
    "# Different TARGET name used in test.csv\n",
    "ss = create_submission(\"\", \"Label\", preds)\n",
    "ss"
   ]
  }
 ],
 "metadata": {
  "kernelspec": {
   "display_name": "Python 3",
   "language": "python",
   "name": "python3"
  },
  "language_info": {
   "codemirror_mode": {
    "name": "ipython",
    "version": 3
   },
   "file_extension": ".py",
   "mimetype": "text/x-python",
   "name": "python",
   "nbconvert_exporter": "python",
   "pygments_lexer": "ipython3",
   "version": "3.7.12"
  },
  "papermill": {
   "default_parameters": {},
   "duration": 314.504938,
   "end_time": "2022-07-25T01:25:58.642234",
   "environment_variables": {},
   "exception": null,
   "input_path": "__notebook__.ipynb",
   "output_path": "__notebook__.ipynb",
   "parameters": {},
   "start_time": "2022-07-25T01:20:44.137296",
   "version": "2.3.4"
  }
 },
 "nbformat": 4,
 "nbformat_minor": 5
}
