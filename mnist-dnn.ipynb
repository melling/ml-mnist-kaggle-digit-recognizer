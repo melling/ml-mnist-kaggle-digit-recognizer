{
 "cells": [
  {
   "cell_type": "markdown",
   "id": "d83b11db",
   "metadata": {
    "papermill": {
     "duration": 0.00817,
     "end_time": "2022-07-15T00:55:46.360608",
     "exception": false,
     "start_time": "2022-07-15T00:55:46.352438",
     "status": "completed"
    },
    "tags": []
   },
   "source": [
    "<div style=\"background-color:rgba(128, 0, 128, 0.6);border-radius:5px;display:fill\"><h1 style=\"text-align: center;padding: 12px 0px 12px 0px;\">MNIST: DNN</h1>\n",
    "</div>\n",
    "\n",
    "Problem Type: Multi-classification\n",
    "\n",
    "## Evaluation Metric"
   ]
  },
  {
   "cell_type": "code",
   "execution_count": 1,
   "id": "f3e89b34",
   "metadata": {
    "execution": {
     "iopub.execute_input": "2022-07-15T00:55:46.376334Z",
     "iopub.status.busy": "2022-07-15T00:55:46.375800Z",
     "iopub.status.idle": "2022-07-15T00:56:00.064552Z",
     "shell.execute_reply": "2022-07-15T00:56:00.063391Z"
    },
    "papermill": {
     "duration": 13.700029,
     "end_time": "2022-07-15T00:56:00.067522",
     "exception": false,
     "start_time": "2022-07-15T00:55:46.367493",
     "status": "completed"
    },
    "tags": []
   },
   "outputs": [
    {
     "name": "stdout",
     "output_type": "stream",
     "text": [
      "\u001b[33mWARNING: Running pip as the 'root' user can result in broken permissions and conflicting behaviour with the system package manager. It is recommended to use a virtual environment instead: https://pip.pypa.io/warnings/venv\u001b[0m\u001b[33m\r\n",
      "\u001b[0m"
     ]
    }
   ],
   "source": [
    "# Black formatter https://black.readthedocs.io/en/stable/\n",
    "\n",
    "! pip install nb-black > /dev/null\n",
    "\n",
    "%load_ext lab_black"
   ]
  },
  {
   "cell_type": "markdown",
   "id": "a46f67e3",
   "metadata": {
    "papermill": {
     "duration": 0.006576,
     "end_time": "2022-07-15T00:56:00.081259",
     "exception": false,
     "start_time": "2022-07-15T00:56:00.074683",
     "status": "completed"
    },
    "tags": []
   },
   "source": [
    "<div style=\"background-color:rgba(128, 0, 128, 0.6);border-radius:5px;display:fill\"><h1 style=\"text-align: center;padding: 12px 0px 12px 0px;\">Configuration</h1>\n",
    "</div>"
   ]
  },
  {
   "cell_type": "code",
   "execution_count": 2,
   "id": "5d9a1176",
   "metadata": {
    "execution": {
     "iopub.execute_input": "2022-07-15T00:56:00.096104Z",
     "iopub.status.busy": "2022-07-15T00:56:00.095786Z",
     "iopub.status.idle": "2022-07-15T00:56:00.101564Z",
     "shell.execute_reply": "2022-07-15T00:56:00.100583Z"
    },
    "papermill": {
     "duration": 0.015545,
     "end_time": "2022-07-15T00:56:00.103533",
     "exception": false,
     "start_time": "2022-07-15T00:56:00.087988",
     "status": "completed"
    },
    "tags": []
   },
   "outputs": [],
   "source": [
    "TARGET = \"label\""
   ]
  },
  {
   "cell_type": "markdown",
   "id": "bac95baf",
   "metadata": {
    "papermill": {
     "duration": 0.006626,
     "end_time": "2022-07-15T00:56:00.116850",
     "exception": false,
     "start_time": "2022-07-15T00:56:00.110224",
     "status": "completed"
    },
    "tags": []
   },
   "source": [
    "<div style=\"background-color:rgba(128, 0, 128, 0.6);border-radius:5px;display:fill\"><h1 style=\"text-align: center;padding: 12px 0px 12px 0px;\">Import Libraries</h1>\n",
    "</div>\n",
    "\n",
    "A best practise is to include all libraries here.  However, I will put a few imports farther down where they are first used so beginners can learn with an \"as needed\" approach."
   ]
  },
  {
   "cell_type": "code",
   "execution_count": 3,
   "id": "a1d66081",
   "metadata": {
    "execution": {
     "iopub.execute_input": "2022-07-15T00:56:00.131486Z",
     "iopub.status.busy": "2022-07-15T00:56:00.131199Z",
     "iopub.status.idle": "2022-07-15T00:56:01.182776Z",
     "shell.execute_reply": "2022-07-15T00:56:01.181810Z"
    },
    "papermill": {
     "duration": 1.061573,
     "end_time": "2022-07-15T00:56:01.185053",
     "exception": false,
     "start_time": "2022-07-15T00:56:00.123480",
     "status": "completed"
    },
    "tags": []
   },
   "outputs": [],
   "source": [
    "import os\n",
    "import time\n",
    "from pathlib import Path\n",
    "\n",
    "import pandas as pd\n",
    "import numpy as np\n",
    "\n",
    "from sklearn.model_selection import train_test_split\n",
    "\n",
    "from sklearn.metrics import f1_score"
   ]
  },
  {
   "cell_type": "markdown",
   "id": "d4a89baa",
   "metadata": {
    "papermill": {
     "duration": 0.006542,
     "end_time": "2022-07-15T00:56:01.198599",
     "exception": false,
     "start_time": "2022-07-15T00:56:01.192057",
     "status": "completed"
    },
    "tags": []
   },
   "source": [
    "<div style=\"background-color:rgba(128, 0, 128, 0.6);border-radius:5px;display:fill\"><h1 style=\"text-align: center;padding: 12px 0px 12px 0px;\">Library</h1>\n",
    "</div>\n",
    "\n",
    "Creating a few functions that we will reuse in each project."
   ]
  },
  {
   "cell_type": "code",
   "execution_count": 4,
   "id": "82d18c1e",
   "metadata": {
    "execution": {
     "iopub.execute_input": "2022-07-15T00:56:01.213648Z",
     "iopub.status.busy": "2022-07-15T00:56:01.213353Z",
     "iopub.status.idle": "2022-07-15T00:56:01.225324Z",
     "shell.execute_reply": "2022-07-15T00:56:01.224286Z"
    },
    "papermill": {
     "duration": 0.022268,
     "end_time": "2022-07-15T00:56:01.227581",
     "exception": false,
     "start_time": "2022-07-15T00:56:01.205313",
     "status": "completed"
    },
    "tags": []
   },
   "outputs": [],
   "source": [
    "def read_data(path):\n",
    "    data_dir = Path(path)\n",
    "\n",
    "    train = pd.read_csv(data_dir / \"train.csv\")\n",
    "    test = pd.read_csv(data_dir / \"test.csv\")\n",
    "    submission_df = pd.read_csv(data_dir / \"sample_submission.csv\")\n",
    "\n",
    "    print(f\"train data: Rows={train.shape[0]}, Columns={train.shape[1]}\")\n",
    "    print(f\"test data : Rows={test.shape[0]}, Columns={test.shape[1]}\")\n",
    "    return train, test, submission_df"
   ]
  },
  {
   "cell_type": "code",
   "execution_count": 5,
   "id": "f5c59db6",
   "metadata": {
    "execution": {
     "iopub.execute_input": "2022-07-15T00:56:01.242176Z",
     "iopub.status.busy": "2022-07-15T00:56:01.241920Z",
     "iopub.status.idle": "2022-07-15T00:56:01.255357Z",
     "shell.execute_reply": "2022-07-15T00:56:01.254521Z"
    },
    "papermill": {
     "duration": 0.023158,
     "end_time": "2022-07-15T00:56:01.257419",
     "exception": false,
     "start_time": "2022-07-15T00:56:01.234261",
     "status": "completed"
    },
    "tags": []
   },
   "outputs": [],
   "source": [
    "def create_submission(model_name, target, preds, is_log_target=False):\n",
    "    if is_log_target:\n",
    "        #         preds = np.exp(preds)\n",
    "        preds = np.expm1(preds)\n",
    "\n",
    "    sample_submission[target] = preds\n",
    "    if len(model_name) > 0:\n",
    "        sample_submission.to_csv(f\"submission_{model_name}.csv\", index=False)\n",
    "    else:\n",
    "        sample_submission.to_csv(f\"submission.csv\", index=False)\n",
    "\n",
    "    return sample_submission[:5]"
   ]
  },
  {
   "cell_type": "code",
   "execution_count": 6,
   "id": "963815eb",
   "metadata": {
    "execution": {
     "iopub.execute_input": "2022-07-15T00:56:01.271874Z",
     "iopub.status.busy": "2022-07-15T00:56:01.271587Z",
     "iopub.status.idle": "2022-07-15T00:56:01.283247Z",
     "shell.execute_reply": "2022-07-15T00:56:01.282276Z"
    },
    "papermill": {
     "duration": 0.021212,
     "end_time": "2022-07-15T00:56:01.285288",
     "exception": false,
     "start_time": "2022-07-15T00:56:01.264076",
     "status": "completed"
    },
    "tags": []
   },
   "outputs": [],
   "source": [
    "from sklearn.metrics import mean_absolute_error, mean_squared_error, f1_score\n",
    "\n",
    "\n",
    "def show_scores(gt, yhat):\n",
    "    f1 = f1_score(gt, yhat, average=\"macro\")\n",
    "    mse = mean_squared_error(gt, yhat)\n",
    "    mae = mean_absolute_error(gt, yhat)\n",
    "    rmse = np.sqrt(mse)\n",
    "    #     r2_square = r2_score(gt, yhat)\n",
    "\n",
    "    print(f\"f1: {f1:.4f}\")"
   ]
  },
  {
   "cell_type": "markdown",
   "id": "7c75570c",
   "metadata": {
    "papermill": {
     "duration": 0.006613,
     "end_time": "2022-07-15T00:56:01.299516",
     "exception": false,
     "start_time": "2022-07-15T00:56:01.292903",
     "status": "completed"
    },
    "tags": []
   },
   "source": [
    "<div style=\"background-color:rgba(128, 0, 128, 0.6);border-radius:5px;display:fill\"><h1 style=\"text-align: center;padding: 12px 0px 12px 0px;\">Load Train/Test Data</h1>\n",
    "</div>\n",
    "\n",
    "- train.csv - Data used to build our machine learning model\n",
    "- test.csv - Data used to build our machine learning model. Does not contain the target variable\n",
    "- sample_submission.csv - A file in the proper format to submit test predictions"
   ]
  },
  {
   "cell_type": "code",
   "execution_count": 7,
   "id": "21ceb8fb",
   "metadata": {
    "execution": {
     "iopub.execute_input": "2022-07-15T00:56:01.314346Z",
     "iopub.status.busy": "2022-07-15T00:56:01.314090Z",
     "iopub.status.idle": "2022-07-15T00:56:06.211081Z",
     "shell.execute_reply": "2022-07-15T00:56:06.209807Z"
    },
    "papermill": {
     "duration": 4.90775,
     "end_time": "2022-07-15T00:56:06.213904",
     "exception": false,
     "start_time": "2022-07-15T00:56:01.306154",
     "status": "completed"
    },
    "tags": []
   },
   "outputs": [
    {
     "name": "stdout",
     "output_type": "stream",
     "text": [
      "train data: Rows=42000, Columns=785\n",
      "test data : Rows=28000, Columns=784\n"
     ]
    }
   ],
   "source": [
    "train, test, sample_submission = read_data(\"../input/digit-recognizer\")"
   ]
  },
  {
   "cell_type": "code",
   "execution_count": 8,
   "id": "dde5dd7c",
   "metadata": {
    "execution": {
     "iopub.execute_input": "2022-07-15T00:56:06.231025Z",
     "iopub.status.busy": "2022-07-15T00:56:06.230269Z",
     "iopub.status.idle": "2022-07-15T00:56:06.254772Z",
     "shell.execute_reply": "2022-07-15T00:56:06.253774Z"
    },
    "papermill": {
     "duration": 0.03538,
     "end_time": "2022-07-15T00:56:06.257203",
     "exception": false,
     "start_time": "2022-07-15T00:56:06.221823",
     "status": "completed"
    },
    "tags": []
   },
   "outputs": [
    {
     "data": {
      "text/html": [
       "<div>\n",
       "<style scoped>\n",
       "    .dataframe tbody tr th:only-of-type {\n",
       "        vertical-align: middle;\n",
       "    }\n",
       "\n",
       "    .dataframe tbody tr th {\n",
       "        vertical-align: top;\n",
       "    }\n",
       "\n",
       "    .dataframe thead th {\n",
       "        text-align: right;\n",
       "    }\n",
       "</style>\n",
       "<table border=\"1\" class=\"dataframe\">\n",
       "  <thead>\n",
       "    <tr style=\"text-align: right;\">\n",
       "      <th></th>\n",
       "      <th>label</th>\n",
       "      <th>pixel0</th>\n",
       "      <th>pixel1</th>\n",
       "      <th>pixel2</th>\n",
       "      <th>pixel3</th>\n",
       "      <th>pixel4</th>\n",
       "      <th>pixel5</th>\n",
       "      <th>pixel6</th>\n",
       "      <th>pixel7</th>\n",
       "      <th>pixel8</th>\n",
       "      <th>...</th>\n",
       "      <th>pixel774</th>\n",
       "      <th>pixel775</th>\n",
       "      <th>pixel776</th>\n",
       "      <th>pixel777</th>\n",
       "      <th>pixel778</th>\n",
       "      <th>pixel779</th>\n",
       "      <th>pixel780</th>\n",
       "      <th>pixel781</th>\n",
       "      <th>pixel782</th>\n",
       "      <th>pixel783</th>\n",
       "    </tr>\n",
       "  </thead>\n",
       "  <tbody>\n",
       "    <tr>\n",
       "      <th>0</th>\n",
       "      <td>1</td>\n",
       "      <td>0</td>\n",
       "      <td>0</td>\n",
       "      <td>0</td>\n",
       "      <td>0</td>\n",
       "      <td>0</td>\n",
       "      <td>0</td>\n",
       "      <td>0</td>\n",
       "      <td>0</td>\n",
       "      <td>0</td>\n",
       "      <td>...</td>\n",
       "      <td>0</td>\n",
       "      <td>0</td>\n",
       "      <td>0</td>\n",
       "      <td>0</td>\n",
       "      <td>0</td>\n",
       "      <td>0</td>\n",
       "      <td>0</td>\n",
       "      <td>0</td>\n",
       "      <td>0</td>\n",
       "      <td>0</td>\n",
       "    </tr>\n",
       "    <tr>\n",
       "      <th>1</th>\n",
       "      <td>0</td>\n",
       "      <td>0</td>\n",
       "      <td>0</td>\n",
       "      <td>0</td>\n",
       "      <td>0</td>\n",
       "      <td>0</td>\n",
       "      <td>0</td>\n",
       "      <td>0</td>\n",
       "      <td>0</td>\n",
       "      <td>0</td>\n",
       "      <td>...</td>\n",
       "      <td>0</td>\n",
       "      <td>0</td>\n",
       "      <td>0</td>\n",
       "      <td>0</td>\n",
       "      <td>0</td>\n",
       "      <td>0</td>\n",
       "      <td>0</td>\n",
       "      <td>0</td>\n",
       "      <td>0</td>\n",
       "      <td>0</td>\n",
       "    </tr>\n",
       "    <tr>\n",
       "      <th>2</th>\n",
       "      <td>1</td>\n",
       "      <td>0</td>\n",
       "      <td>0</td>\n",
       "      <td>0</td>\n",
       "      <td>0</td>\n",
       "      <td>0</td>\n",
       "      <td>0</td>\n",
       "      <td>0</td>\n",
       "      <td>0</td>\n",
       "      <td>0</td>\n",
       "      <td>...</td>\n",
       "      <td>0</td>\n",
       "      <td>0</td>\n",
       "      <td>0</td>\n",
       "      <td>0</td>\n",
       "      <td>0</td>\n",
       "      <td>0</td>\n",
       "      <td>0</td>\n",
       "      <td>0</td>\n",
       "      <td>0</td>\n",
       "      <td>0</td>\n",
       "    </tr>\n",
       "    <tr>\n",
       "      <th>3</th>\n",
       "      <td>4</td>\n",
       "      <td>0</td>\n",
       "      <td>0</td>\n",
       "      <td>0</td>\n",
       "      <td>0</td>\n",
       "      <td>0</td>\n",
       "      <td>0</td>\n",
       "      <td>0</td>\n",
       "      <td>0</td>\n",
       "      <td>0</td>\n",
       "      <td>...</td>\n",
       "      <td>0</td>\n",
       "      <td>0</td>\n",
       "      <td>0</td>\n",
       "      <td>0</td>\n",
       "      <td>0</td>\n",
       "      <td>0</td>\n",
       "      <td>0</td>\n",
       "      <td>0</td>\n",
       "      <td>0</td>\n",
       "      <td>0</td>\n",
       "    </tr>\n",
       "    <tr>\n",
       "      <th>4</th>\n",
       "      <td>0</td>\n",
       "      <td>0</td>\n",
       "      <td>0</td>\n",
       "      <td>0</td>\n",
       "      <td>0</td>\n",
       "      <td>0</td>\n",
       "      <td>0</td>\n",
       "      <td>0</td>\n",
       "      <td>0</td>\n",
       "      <td>0</td>\n",
       "      <td>...</td>\n",
       "      <td>0</td>\n",
       "      <td>0</td>\n",
       "      <td>0</td>\n",
       "      <td>0</td>\n",
       "      <td>0</td>\n",
       "      <td>0</td>\n",
       "      <td>0</td>\n",
       "      <td>0</td>\n",
       "      <td>0</td>\n",
       "      <td>0</td>\n",
       "    </tr>\n",
       "  </tbody>\n",
       "</table>\n",
       "<p>5 rows × 785 columns</p>\n",
       "</div>"
      ],
      "text/plain": [
       "   label  pixel0  pixel1  pixel2  pixel3  pixel4  pixel5  pixel6  pixel7  \\\n",
       "0      1       0       0       0       0       0       0       0       0   \n",
       "1      0       0       0       0       0       0       0       0       0   \n",
       "2      1       0       0       0       0       0       0       0       0   \n",
       "3      4       0       0       0       0       0       0       0       0   \n",
       "4      0       0       0       0       0       0       0       0       0   \n",
       "\n",
       "   pixel8  ...  pixel774  pixel775  pixel776  pixel777  pixel778  pixel779  \\\n",
       "0       0  ...         0         0         0         0         0         0   \n",
       "1       0  ...         0         0         0         0         0         0   \n",
       "2       0  ...         0         0         0         0         0         0   \n",
       "3       0  ...         0         0         0         0         0         0   \n",
       "4       0  ...         0         0         0         0         0         0   \n",
       "\n",
       "   pixel780  pixel781  pixel782  pixel783  \n",
       "0         0         0         0         0  \n",
       "1         0         0         0         0  \n",
       "2         0         0         0         0  \n",
       "3         0         0         0         0  \n",
       "4         0         0         0         0  \n",
       "\n",
       "[5 rows x 785 columns]"
      ]
     },
     "execution_count": 8,
     "metadata": {},
     "output_type": "execute_result"
    }
   ],
   "source": [
    "train.head()"
   ]
  },
  {
   "cell_type": "code",
   "execution_count": 9,
   "id": "e6332c8a",
   "metadata": {
    "execution": {
     "iopub.execute_input": "2022-07-15T00:56:06.272699Z",
     "iopub.status.busy": "2022-07-15T00:56:06.272436Z",
     "iopub.status.idle": "2022-07-15T00:56:06.281686Z",
     "shell.execute_reply": "2022-07-15T00:56:06.280847Z"
    },
    "papermill": {
     "duration": 0.019336,
     "end_time": "2022-07-15T00:56:06.283614",
     "exception": false,
     "start_time": "2022-07-15T00:56:06.264278",
     "status": "completed"
    },
    "tags": []
   },
   "outputs": [],
   "source": [
    "FEATURES = [\n",
    "    col\n",
    "    for col in train.columns\n",
    "    if col\n",
    "    not in [\n",
    "        \"Id\",\n",
    "        TARGET,\n",
    "        #         TARGET_ENC,\n",
    "    ]\n",
    "]"
   ]
  },
  {
   "cell_type": "code",
   "execution_count": 10,
   "id": "69210293",
   "metadata": {
    "execution": {
     "iopub.execute_input": "2022-07-15T00:56:06.299418Z",
     "iopub.status.busy": "2022-07-15T00:56:06.299148Z",
     "iopub.status.idle": "2022-07-15T00:56:06.596362Z",
     "shell.execute_reply": "2022-07-15T00:56:06.595258Z"
    },
    "papermill": {
     "duration": 0.307937,
     "end_time": "2022-07-15T00:56:06.598789",
     "exception": false,
     "start_time": "2022-07-15T00:56:06.290852",
     "status": "completed"
    },
    "tags": []
   },
   "outputs": [],
   "source": [
    "y = train[TARGET]\n",
    "X = train[FEATURES].copy()\n",
    "\n",
    "X_test = test[FEATURES].copy()"
   ]
  },
  {
   "cell_type": "code",
   "execution_count": 11,
   "id": "ff7c19bb",
   "metadata": {
    "execution": {
     "iopub.execute_input": "2022-07-15T00:56:06.615293Z",
     "iopub.status.busy": "2022-07-15T00:56:06.615010Z",
     "iopub.status.idle": "2022-07-15T00:56:12.372386Z",
     "shell.execute_reply": "2022-07-15T00:56:12.371384Z"
    },
    "papermill": {
     "duration": 5.768042,
     "end_time": "2022-07-15T00:56:12.374814",
     "exception": false,
     "start_time": "2022-07-15T00:56:06.606772",
     "status": "completed"
    },
    "tags": []
   },
   "outputs": [],
   "source": [
    "from keras.utils.np_utils import to_categorical\n",
    "\n",
    "y = to_categorical(y)"
   ]
  },
  {
   "cell_type": "code",
   "execution_count": 12,
   "id": "6a0c35c4",
   "metadata": {
    "execution": {
     "iopub.execute_input": "2022-07-15T00:56:12.392280Z",
     "iopub.status.busy": "2022-07-15T00:56:12.391231Z",
     "iopub.status.idle": "2022-07-15T00:56:12.400299Z",
     "shell.execute_reply": "2022-07-15T00:56:12.399160Z"
    },
    "papermill": {
     "duration": 0.020129,
     "end_time": "2022-07-15T00:56:12.402588",
     "exception": false,
     "start_time": "2022-07-15T00:56:12.382459",
     "status": "completed"
    },
    "tags": []
   },
   "outputs": [
    {
     "data": {
      "text/plain": [
       "array([[0., 1., 0., 0., 0., 0., 0., 0., 0., 0.],\n",
       "       [1., 0., 0., 0., 0., 0., 0., 0., 0., 0.],\n",
       "       [0., 1., 0., 0., 0., 0., 0., 0., 0., 0.],\n",
       "       [0., 0., 0., 0., 1., 0., 0., 0., 0., 0.],\n",
       "       [1., 0., 0., 0., 0., 0., 0., 0., 0., 0.]], dtype=float32)"
      ]
     },
     "execution_count": 12,
     "metadata": {},
     "output_type": "execute_result"
    }
   ],
   "source": [
    "y[:5]"
   ]
  },
  {
   "cell_type": "code",
   "execution_count": 13,
   "id": "83b82b44",
   "metadata": {
    "execution": {
     "iopub.execute_input": "2022-07-15T00:56:12.418547Z",
     "iopub.status.busy": "2022-07-15T00:56:12.418290Z",
     "iopub.status.idle": "2022-07-15T00:56:12.635345Z",
     "shell.execute_reply": "2022-07-15T00:56:12.634275Z"
    },
    "papermill": {
     "duration": 0.227699,
     "end_time": "2022-07-15T00:56:12.637948",
     "exception": false,
     "start_time": "2022-07-15T00:56:12.410249",
     "status": "completed"
    },
    "tags": []
   },
   "outputs": [
    {
     "data": {
      "text/plain": [
       "((37800, 784), (37800, 10), (4200, 784), (4200, 10))"
      ]
     },
     "execution_count": 13,
     "metadata": {},
     "output_type": "execute_result"
    }
   ],
   "source": [
    "X_train, X_valid, y_train, y_valid = train_test_split(\n",
    "    X,\n",
    "    y,\n",
    "    test_size=0.1,\n",
    "    random_state=42,\n",
    ")\n",
    "X_train.shape, y_train.shape, X_valid.shape, y_valid.shape"
   ]
  },
  {
   "cell_type": "markdown",
   "id": "0fd9a1e6",
   "metadata": {
    "papermill": {
     "duration": 0.007465,
     "end_time": "2022-07-15T00:56:12.653505",
     "exception": false,
     "start_time": "2022-07-15T00:56:12.646040",
     "status": "completed"
    },
    "tags": []
   },
   "source": [
    "<div style=\"background-color:rgba(128, 0, 128, 0.6);border-radius:5px;display:fill\"><h1 style=\"text-align: center;padding: 12px 0px 12px 0px;\">Create Models</h1>\n",
    "</div>"
   ]
  },
  {
   "cell_type": "code",
   "execution_count": 14,
   "id": "abcbc4c7",
   "metadata": {
    "execution": {
     "iopub.execute_input": "2022-07-15T00:56:12.669334Z",
     "iopub.status.busy": "2022-07-15T00:56:12.669048Z",
     "iopub.status.idle": "2022-07-15T00:56:13.072575Z",
     "shell.execute_reply": "2022-07-15T00:56:13.071553Z"
    },
    "papermill": {
     "duration": 0.414308,
     "end_time": "2022-07-15T00:56:13.075124",
     "exception": false,
     "start_time": "2022-07-15T00:56:12.660816",
     "status": "completed"
    },
    "tags": []
   },
   "outputs": [],
   "source": [
    "import tensorflow as tf\n",
    "from tensorflow import keras\n",
    "from tensorflow.keras import layers\n",
    "\n",
    "\n",
    "def get_tf_model01(x_shape):\n",
    "\n",
    "    inputs = keras.Input(shape=x_shape)\n",
    "\n",
    "    x = keras.layers.Dense(128, activation=\"relu\")(inputs)\n",
    "    x = keras.layers.BatchNormalization()(x)\n",
    "    x = keras.layers.Dense(128, activation=\"relu\")(x)\n",
    "    x = keras.layers.BatchNormalization()(x)\n",
    "    #     x = keras.layers.Dropout(0.1)(x)\n",
    "\n",
    "    outputs = keras.layers.Dense(10, activation=\"softmax\")(x)\n",
    "\n",
    "    model = keras.Model(inputs, outputs)\n",
    "\n",
    "    model.compile(\n",
    "        loss=\"categorical_crossentropy\", optimizer=\"rmsprop\", metrics=[\"accuracy\"]\n",
    "    )\n",
    "\n",
    "    #     model.compile(\n",
    "    #         optimizer=tf.keras.optimizers.Adam(learning_rate=0.01),\n",
    "    #         loss=\"mean_absolute_error\",\n",
    "    #     )\n",
    "\n",
    "    return model"
   ]
  },
  {
   "cell_type": "code",
   "execution_count": 15,
   "id": "99cbcc24",
   "metadata": {
    "execution": {
     "iopub.execute_input": "2022-07-15T00:56:13.092394Z",
     "iopub.status.busy": "2022-07-15T00:56:13.091547Z",
     "iopub.status.idle": "2022-07-15T00:56:13.099477Z",
     "shell.execute_reply": "2022-07-15T00:56:13.098406Z"
    },
    "papermill": {
     "duration": 0.018486,
     "end_time": "2022-07-15T00:56:13.101464",
     "exception": false,
     "start_time": "2022-07-15T00:56:13.082978",
     "status": "completed"
    },
    "tags": []
   },
   "outputs": [
    {
     "data": {
      "text/plain": [
       "784"
      ]
     },
     "execution_count": 15,
     "metadata": {},
     "output_type": "execute_result"
    }
   ],
   "source": [
    "X_train.shape[1]"
   ]
  },
  {
   "cell_type": "code",
   "execution_count": 16,
   "id": "9160af8b",
   "metadata": {
    "execution": {
     "iopub.execute_input": "2022-07-15T00:56:13.117497Z",
     "iopub.status.busy": "2022-07-15T00:56:13.117240Z",
     "iopub.status.idle": "2022-07-15T00:56:13.123992Z",
     "shell.execute_reply": "2022-07-15T00:56:13.123065Z"
    },
    "papermill": {
     "duration": 0.016863,
     "end_time": "2022-07-15T00:56:13.125956",
     "exception": false,
     "start_time": "2022-07-15T00:56:13.109093",
     "status": "completed"
    },
    "tags": []
   },
   "outputs": [
    {
     "data": {
      "text/plain": [
       "784"
      ]
     },
     "execution_count": 16,
     "metadata": {},
     "output_type": "execute_result"
    }
   ],
   "source": [
    "X.shape[1]"
   ]
  },
  {
   "cell_type": "code",
   "execution_count": 17,
   "id": "a2f90cc8",
   "metadata": {
    "execution": {
     "iopub.execute_input": "2022-07-15T00:56:13.143040Z",
     "iopub.status.busy": "2022-07-15T00:56:13.142393Z",
     "iopub.status.idle": "2022-07-15T00:56:13.147479Z",
     "shell.execute_reply": "2022-07-15T00:56:13.146690Z"
    },
    "papermill": {
     "duration": 0.015988,
     "end_time": "2022-07-15T00:56:13.149475",
     "exception": false,
     "start_time": "2022-07-15T00:56:13.133487",
     "status": "completed"
    },
    "tags": []
   },
   "outputs": [],
   "source": [
    "# Normalize the data\n",
    "# X_train = X_train / 255.0\n",
    "# test = test / 255.0"
   ]
  },
  {
   "cell_type": "code",
   "execution_count": 18,
   "id": "81483e29",
   "metadata": {
    "execution": {
     "iopub.execute_input": "2022-07-15T00:56:13.165529Z",
     "iopub.status.busy": "2022-07-15T00:56:13.165274Z",
     "iopub.status.idle": "2022-07-15T00:56:41.896946Z",
     "shell.execute_reply": "2022-07-15T00:56:41.895633Z"
    },
    "papermill": {
     "duration": 28.741907,
     "end_time": "2022-07-15T00:56:41.898945",
     "exception": false,
     "start_time": "2022-07-15T00:56:13.157038",
     "status": "completed"
    },
    "tags": []
   },
   "outputs": [
    {
     "name": "stderr",
     "output_type": "stream",
     "text": [
      "2022-07-15 00:56:13.275901: I tensorflow/stream_executor/cuda/cuda_gpu_executor.cc:937] successful NUMA node read from SysFS had negative value (-1), but there must be at least one NUMA node, so returning NUMA node zero\n",
      "2022-07-15 00:56:13.386762: I tensorflow/stream_executor/cuda/cuda_gpu_executor.cc:937] successful NUMA node read from SysFS had negative value (-1), but there must be at least one NUMA node, so returning NUMA node zero\n",
      "2022-07-15 00:56:13.387681: I tensorflow/stream_executor/cuda/cuda_gpu_executor.cc:937] successful NUMA node read from SysFS had negative value (-1), but there must be at least one NUMA node, so returning NUMA node zero\n",
      "2022-07-15 00:56:13.389511: I tensorflow/core/platform/cpu_feature_guard.cc:142] This TensorFlow binary is optimized with oneAPI Deep Neural Network Library (oneDNN) to use the following CPU instructions in performance-critical operations:  AVX2 AVX512F FMA\n",
      "To enable them in other operations, rebuild TensorFlow with the appropriate compiler flags.\n",
      "2022-07-15 00:56:13.389881: I tensorflow/stream_executor/cuda/cuda_gpu_executor.cc:937] successful NUMA node read from SysFS had negative value (-1), but there must be at least one NUMA node, so returning NUMA node zero\n",
      "2022-07-15 00:56:13.390917: I tensorflow/stream_executor/cuda/cuda_gpu_executor.cc:937] successful NUMA node read from SysFS had negative value (-1), but there must be at least one NUMA node, so returning NUMA node zero\n",
      "2022-07-15 00:56:13.391784: I tensorflow/stream_executor/cuda/cuda_gpu_executor.cc:937] successful NUMA node read from SysFS had negative value (-1), but there must be at least one NUMA node, so returning NUMA node zero\n",
      "2022-07-15 00:56:15.831022: I tensorflow/stream_executor/cuda/cuda_gpu_executor.cc:937] successful NUMA node read from SysFS had negative value (-1), but there must be at least one NUMA node, so returning NUMA node zero\n",
      "2022-07-15 00:56:15.831869: I tensorflow/stream_executor/cuda/cuda_gpu_executor.cc:937] successful NUMA node read from SysFS had negative value (-1), but there must be at least one NUMA node, so returning NUMA node zero\n",
      "2022-07-15 00:56:15.832632: I tensorflow/stream_executor/cuda/cuda_gpu_executor.cc:937] successful NUMA node read from SysFS had negative value (-1), but there must be at least one NUMA node, so returning NUMA node zero\n",
      "2022-07-15 00:56:15.833223: I tensorflow/core/common_runtime/gpu/gpu_device.cc:1510] Created device /job:localhost/replica:0/task:0/device:GPU:0 with 15403 MB memory:  -> device: 0, name: Tesla P100-PCIE-16GB, pci bus id: 0000:00:04.0, compute capability: 6.0\n",
      "2022-07-15 00:56:16.822391: I tensorflow/compiler/mlir/mlir_graph_optimization_pass.cc:185] None of the MLIR Optimization Passes are enabled (registered 2)\n"
     ]
    },
    {
     "name": "stdout",
     "output_type": "stream",
     "text": [
      "Epoch 1/10\n",
      "591/591 [==============================] - 5s 4ms/step - loss: 0.2465 - accuracy: 0.9265\n",
      "Epoch 2/10\n",
      "591/591 [==============================] - 2s 4ms/step - loss: 0.1073 - accuracy: 0.9671\n",
      "Epoch 3/10\n",
      "591/591 [==============================] - 2s 4ms/step - loss: 0.0735 - accuracy: 0.9767\n",
      "Epoch 4/10\n",
      "591/591 [==============================] - 2s 4ms/step - loss: 0.0562 - accuracy: 0.9815\n",
      "Epoch 5/10\n",
      "591/591 [==============================] - 2s 4ms/step - loss: 0.0440 - accuracy: 0.9858\n",
      "Epoch 6/10\n",
      "591/591 [==============================] - 2s 4ms/step - loss: 0.0370 - accuracy: 0.9874\n",
      "Epoch 7/10\n",
      "591/591 [==============================] - 2s 4ms/step - loss: 0.0312 - accuracy: 0.9893\n",
      "Epoch 8/10\n",
      "591/591 [==============================] - 2s 4ms/step - loss: 0.0260 - accuracy: 0.9920\n",
      "Epoch 9/10\n",
      "591/591 [==============================] - 2s 4ms/step - loss: 0.0213 - accuracy: 0.9926\n",
      "Epoch 10/10\n",
      "591/591 [==============================] - 2s 4ms/step - loss: 0.0192 - accuracy: 0.9934\n",
      "CPU times: user 29.8 s, sys: 4.03 s, total: 33.8 s\n",
      "Wall time: 28.7 s\n"
     ]
    }
   ],
   "source": [
    "%%time\n",
    "model = get_tf_model01(x_shape=(X.shape[1]))\n",
    "\n",
    "history = model.fit(\n",
    "    X_train,\n",
    "    y_train,\n",
    "    batch_size=64,\n",
    "    epochs=10,\n",
    "    # Suppress logging.\n",
    "    verbose=1,\n",
    "    # Calculate validation results on 20% of the training data.\n",
    "    #     validation_split = 0.2\n",
    ")"
   ]
  },
  {
   "cell_type": "markdown",
   "id": "6efa20fa",
   "metadata": {
    "papermill": {
     "duration": 0.056286,
     "end_time": "2022-07-15T00:56:42.013505",
     "exception": false,
     "start_time": "2022-07-15T00:56:41.957219",
     "status": "completed"
    },
    "tags": []
   },
   "source": [
    "## Predict and Score"
   ]
  },
  {
   "cell_type": "code",
   "execution_count": 19,
   "id": "d8d67049",
   "metadata": {
    "execution": {
     "iopub.execute_input": "2022-07-15T00:56:42.129630Z",
     "iopub.status.busy": "2022-07-15T00:56:42.129103Z",
     "iopub.status.idle": "2022-07-15T00:56:42.474978Z",
     "shell.execute_reply": "2022-07-15T00:56:42.473972Z"
    },
    "papermill": {
     "duration": 0.406148,
     "end_time": "2022-07-15T00:56:42.477218",
     "exception": false,
     "start_time": "2022-07-15T00:56:42.071070",
     "status": "completed"
    },
    "tags": []
   },
   "outputs": [
    {
     "data": {
      "text/plain": [
       "array([[3.5294960e-08, 7.6129481e-07, 4.0059689e-07, 2.9409034e-07,\n",
       "        1.9413487e-07, 7.9267597e-09, 3.5857906e-07, 6.3959689e-08,\n",
       "        9.9999738e-01, 5.3223732e-07],\n",
       "       [6.4648241e-08, 9.9987519e-01, 1.7589974e-06, 1.5814105e-07,\n",
       "        3.5688012e-05, 4.2598111e-07, 3.2369947e-08, 1.9513927e-05,\n",
       "        6.6943809e-05, 1.9999025e-07],\n",
       "       [8.4657431e-10, 5.0637459e-09, 2.1418360e-09, 4.4683759e-08,\n",
       "        1.0365173e-06, 1.4410257e-06, 1.2898773e-09, 6.3459120e-05,\n",
       "        1.0226434e-08, 9.9993396e-01],\n",
       "       [6.2426647e-10, 1.7996646e-10, 3.7765419e-11, 7.5864946e-08,\n",
       "        1.8739626e-06, 9.5306127e-09, 5.1494390e-12, 8.1076105e-05,\n",
       "        3.2984588e-08, 9.9991691e-01],\n",
       "       [1.3001706e-07, 3.6772665e-08, 2.5288587e-09, 5.1354370e-09,\n",
       "        2.1925255e-06, 4.8164422e-10, 1.1838229e-06, 4.9353157e-11,\n",
       "        9.9999630e-01, 1.7198674e-07]], dtype=float32)"
      ]
     },
     "execution_count": 19,
     "metadata": {},
     "output_type": "execute_result"
    }
   ],
   "source": [
    "valid_preds = model.predict(X_valid)\n",
    "valid_preds[:5]"
   ]
  },
  {
   "cell_type": "code",
   "execution_count": 20,
   "id": "49e22cc5",
   "metadata": {
    "execution": {
     "iopub.execute_input": "2022-07-15T00:56:42.548680Z",
     "iopub.status.busy": "2022-07-15T00:56:42.547922Z",
     "iopub.status.idle": "2022-07-15T00:56:42.554892Z",
     "shell.execute_reply": "2022-07-15T00:56:42.554022Z"
    },
    "papermill": {
     "duration": 0.043827,
     "end_time": "2022-07-15T00:56:42.556780",
     "exception": false,
     "start_time": "2022-07-15T00:56:42.512953",
     "status": "completed"
    },
    "tags": []
   },
   "outputs": [],
   "source": [
    "valid_preds = np.argmax(valid_preds, axis=1)"
   ]
  },
  {
   "cell_type": "code",
   "execution_count": 21,
   "id": "a12502c7",
   "metadata": {
    "execution": {
     "iopub.execute_input": "2022-07-15T00:56:42.629280Z",
     "iopub.status.busy": "2022-07-15T00:56:42.628997Z",
     "iopub.status.idle": "2022-07-15T00:56:42.633932Z",
     "shell.execute_reply": "2022-07-15T00:56:42.632715Z"
    },
    "papermill": {
     "duration": 0.045374,
     "end_time": "2022-07-15T00:56:42.636264",
     "exception": false,
     "start_time": "2022-07-15T00:56:42.590890",
     "status": "completed"
    },
    "tags": []
   },
   "outputs": [],
   "source": [
    "# show_scores(y_valid, valid_preds)\n",
    "\n"
   ]
  },
  {
   "cell_type": "code",
   "execution_count": 22,
   "id": "636b6ad8",
   "metadata": {
    "execution": {
     "iopub.execute_input": "2022-07-15T00:56:42.707692Z",
     "iopub.status.busy": "2022-07-15T00:56:42.707402Z",
     "iopub.status.idle": "2022-07-15T00:56:44.241106Z",
     "shell.execute_reply": "2022-07-15T00:56:44.239903Z"
    },
    "papermill": {
     "duration": 1.571248,
     "end_time": "2022-07-15T00:56:44.243491",
     "exception": false,
     "start_time": "2022-07-15T00:56:42.672243",
     "status": "completed"
    },
    "tags": []
   },
   "outputs": [
    {
     "data": {
      "text/plain": [
       "array([[1.1266848e-06, 3.4412952e-08, 9.9998927e-01, 2.7214505e-06,\n",
       "        2.3976713e-06, 1.4856602e-08, 1.4521358e-07, 1.0043669e-07,\n",
       "        7.3772486e-07, 3.4218824e-06],\n",
       "       [9.9965560e-01, 5.7126005e-08, 1.8620793e-07, 5.3711693e-07,\n",
       "        4.0611430e-09, 3.4031938e-04, 1.9647530e-07, 2.9371004e-06,\n",
       "        1.0388989e-07, 1.4124012e-07],\n",
       "       [1.8710606e-06, 1.1740385e-06, 2.9326889e-06, 6.9562766e-06,\n",
       "        2.2163674e-02, 8.1027438e-06, 8.4065950e-06, 2.5110625e-05,\n",
       "        8.6222007e-04, 9.7691953e-01],\n",
       "       [4.2592897e-04, 1.2184404e-08, 2.2432692e-05, 2.4536046e-06,\n",
       "        2.0652291e-05, 1.0581384e-09, 1.7538533e-06, 2.1053406e-06,\n",
       "        3.9830013e-07, 9.9952435e-01],\n",
       "       [3.5166337e-07, 4.7124679e-05, 2.0887093e-05, 9.9964285e-01,\n",
       "        3.7093815e-07, 1.0267143e-04, 2.1928932e-07, 8.1121465e-07,\n",
       "        1.5182435e-04, 3.2960568e-05]], dtype=float32)"
      ]
     },
     "execution_count": 22,
     "metadata": {},
     "output_type": "execute_result"
    }
   ],
   "source": [
    "preds = model.predict(X_test)\n",
    "preds[:5]"
   ]
  },
  {
   "cell_type": "code",
   "execution_count": 23,
   "id": "699e2dc0",
   "metadata": {
    "execution": {
     "iopub.execute_input": "2022-07-15T00:56:44.316649Z",
     "iopub.status.busy": "2022-07-15T00:56:44.315781Z",
     "iopub.status.idle": "2022-07-15T00:56:44.323253Z",
     "shell.execute_reply": "2022-07-15T00:56:44.322316Z"
    },
    "papermill": {
     "duration": 0.046032,
     "end_time": "2022-07-15T00:56:44.325356",
     "exception": false,
     "start_time": "2022-07-15T00:56:44.279324",
     "status": "completed"
    },
    "tags": []
   },
   "outputs": [],
   "source": [
    "preds = np.argmax(preds, axis=1)"
   ]
  },
  {
   "cell_type": "markdown",
   "id": "6fbffa78",
   "metadata": {
    "papermill": {
     "duration": 0.033801,
     "end_time": "2022-07-15T00:56:44.393766",
     "exception": false,
     "start_time": "2022-07-15T00:56:44.359965",
     "status": "completed"
    },
    "tags": []
   },
   "source": [
    "## Submission"
   ]
  },
  {
   "cell_type": "code",
   "execution_count": 24,
   "id": "1e78a2da",
   "metadata": {
    "execution": {
     "iopub.execute_input": "2022-07-15T00:56:44.464556Z",
     "iopub.status.busy": "2022-07-15T00:56:44.464240Z",
     "iopub.status.idle": "2022-07-15T00:56:44.515681Z",
     "shell.execute_reply": "2022-07-15T00:56:44.514635Z"
    },
    "papermill": {
     "duration": 0.088986,
     "end_time": "2022-07-15T00:56:44.517750",
     "exception": false,
     "start_time": "2022-07-15T00:56:44.428764",
     "status": "completed"
    },
    "tags": []
   },
   "outputs": [
    {
     "data": {
      "text/html": [
       "<div>\n",
       "<style scoped>\n",
       "    .dataframe tbody tr th:only-of-type {\n",
       "        vertical-align: middle;\n",
       "    }\n",
       "\n",
       "    .dataframe tbody tr th {\n",
       "        vertical-align: top;\n",
       "    }\n",
       "\n",
       "    .dataframe thead th {\n",
       "        text-align: right;\n",
       "    }\n",
       "</style>\n",
       "<table border=\"1\" class=\"dataframe\">\n",
       "  <thead>\n",
       "    <tr style=\"text-align: right;\">\n",
       "      <th></th>\n",
       "      <th>ImageId</th>\n",
       "      <th>Label</th>\n",
       "    </tr>\n",
       "  </thead>\n",
       "  <tbody>\n",
       "    <tr>\n",
       "      <th>0</th>\n",
       "      <td>1</td>\n",
       "      <td>2</td>\n",
       "    </tr>\n",
       "    <tr>\n",
       "      <th>1</th>\n",
       "      <td>2</td>\n",
       "      <td>0</td>\n",
       "    </tr>\n",
       "    <tr>\n",
       "      <th>2</th>\n",
       "      <td>3</td>\n",
       "      <td>9</td>\n",
       "    </tr>\n",
       "    <tr>\n",
       "      <th>3</th>\n",
       "      <td>4</td>\n",
       "      <td>9</td>\n",
       "    </tr>\n",
       "    <tr>\n",
       "      <th>4</th>\n",
       "      <td>5</td>\n",
       "      <td>3</td>\n",
       "    </tr>\n",
       "  </tbody>\n",
       "</table>\n",
       "</div>"
      ],
      "text/plain": [
       "   ImageId  Label\n",
       "0        1      2\n",
       "1        2      0\n",
       "2        3      9\n",
       "3        4      9\n",
       "4        5      3"
      ]
     },
     "execution_count": 24,
     "metadata": {},
     "output_type": "execute_result"
    }
   ],
   "source": [
    "# Different TARGET name used in test.csv\n",
    "ss = create_submission(\"\", \"Label\", preds)\n",
    "ss"
   ]
  }
 ],
 "metadata": {
  "kernelspec": {
   "display_name": "Python 3",
   "language": "python",
   "name": "python3"
  },
  "language_info": {
   "codemirror_mode": {
    "name": "ipython",
    "version": 3
   },
   "file_extension": ".py",
   "mimetype": "text/x-python",
   "name": "python",
   "nbconvert_exporter": "python",
   "pygments_lexer": "ipython3",
   "version": "3.7.12"
  },
  "papermill": {
   "default_parameters": {},
   "duration": 70.448794,
   "end_time": "2022-07-15T00:56:47.853530",
   "environment_variables": {},
   "exception": null,
   "input_path": "__notebook__.ipynb",
   "output_path": "__notebook__.ipynb",
   "parameters": {},
   "start_time": "2022-07-15T00:55:37.404736",
   "version": "2.3.4"
  }
 },
 "nbformat": 4,
 "nbformat_minor": 5
}
