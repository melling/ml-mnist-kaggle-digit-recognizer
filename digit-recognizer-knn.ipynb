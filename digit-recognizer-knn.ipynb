{
 "cells": [
  {
   "cell_type": "markdown",
   "id": "aa3b55d7",
   "metadata": {
    "papermill": {
     "duration": 0.009341,
     "end_time": "2022-07-04T19:51:10.022962",
     "exception": false,
     "start_time": "2022-07-04T19:51:10.013621",
     "status": "completed"
    },
    "tags": []
   },
   "source": [
    "<div style=\"background-color:rgba(128, 0, 128, 0.6);border-radius:5px;display:fill\"><h1 style=\"text-align: center;padding: 12px 0px 12px 0px;\">MNIST: KNN</h1>\n",
    "</div>\n",
    "\n",
    "Problem Type: Multi-classification\n",
    "\n",
    "## Evaluation Metric"
   ]
  },
  {
   "cell_type": "code",
   "execution_count": 1,
   "id": "ca1fed89",
   "metadata": {
    "execution": {
     "iopub.execute_input": "2022-07-04T19:51:10.037429Z",
     "iopub.status.busy": "2022-07-04T19:51:10.036718Z",
     "iopub.status.idle": "2022-07-04T19:51:24.621350Z",
     "shell.execute_reply": "2022-07-04T19:51:24.620218Z"
    },
    "papermill": {
     "duration": 14.595288,
     "end_time": "2022-07-04T19:51:24.624482",
     "exception": false,
     "start_time": "2022-07-04T19:51:10.029194",
     "status": "completed"
    },
    "tags": []
   },
   "outputs": [
    {
     "name": "stdout",
     "output_type": "stream",
     "text": [
      "\u001b[33mWARNING: Running pip as the 'root' user can result in broken permissions and conflicting behaviour with the system package manager. It is recommended to use a virtual environment instead: https://pip.pypa.io/warnings/venv\u001b[0m\u001b[33m\r\n",
      "\u001b[0m"
     ]
    }
   ],
   "source": [
    "# Black formatter https://black.readthedocs.io/en/stable/\n",
    "\n",
    "! pip install nb-black > /dev/null\n",
    "\n",
    "%load_ext lab_black"
   ]
  },
  {
   "cell_type": "markdown",
   "id": "6afdd048",
   "metadata": {
    "papermill": {
     "duration": 0.006082,
     "end_time": "2022-07-04T19:51:24.636996",
     "exception": false,
     "start_time": "2022-07-04T19:51:24.630914",
     "status": "completed"
    },
    "tags": []
   },
   "source": [
    "<div style=\"background-color:rgba(128, 0, 128, 0.6);border-radius:5px;display:fill\"><h1 style=\"text-align: center;padding: 12px 0px 12px 0px;\">Configuration</h1>\n",
    "</div>"
   ]
  },
  {
   "cell_type": "code",
   "execution_count": 2,
   "id": "a0b01477",
   "metadata": {
    "execution": {
     "iopub.execute_input": "2022-07-04T19:51:24.651890Z",
     "iopub.status.busy": "2022-07-04T19:51:24.651493Z",
     "iopub.status.idle": "2022-07-04T19:51:24.657531Z",
     "shell.execute_reply": "2022-07-04T19:51:24.656670Z"
    },
    "papermill": {
     "duration": 0.016173,
     "end_time": "2022-07-04T19:51:24.659810",
     "exception": false,
     "start_time": "2022-07-04T19:51:24.643637",
     "status": "completed"
    },
    "tags": []
   },
   "outputs": [],
   "source": [
    "TARGET = \"label\""
   ]
  },
  {
   "cell_type": "markdown",
   "id": "c13a095c",
   "metadata": {
    "papermill": {
     "duration": 0.006028,
     "end_time": "2022-07-04T19:51:24.672069",
     "exception": false,
     "start_time": "2022-07-04T19:51:24.666041",
     "status": "completed"
    },
    "tags": []
   },
   "source": [
    "<div style=\"background-color:rgba(128, 0, 128, 0.6);border-radius:5px;display:fill\"><h1 style=\"text-align: center;padding: 12px 0px 12px 0px;\">Import Libraries</h1>\n",
    "</div>\n",
    "\n",
    "A best practise is to include all libraries here.  However, I will put a few imports farther down where they are first used so beginners can learn with an \"as needed\" approach."
   ]
  },
  {
   "cell_type": "code",
   "execution_count": 3,
   "id": "00a18ab5",
   "metadata": {
    "execution": {
     "iopub.execute_input": "2022-07-04T19:51:24.686311Z",
     "iopub.status.busy": "2022-07-04T19:51:24.685896Z",
     "iopub.status.idle": "2022-07-04T19:51:25.935521Z",
     "shell.execute_reply": "2022-07-04T19:51:25.934556Z"
    },
    "papermill": {
     "duration": 1.259658,
     "end_time": "2022-07-04T19:51:25.937884",
     "exception": false,
     "start_time": "2022-07-04T19:51:24.678226",
     "status": "completed"
    },
    "tags": []
   },
   "outputs": [],
   "source": [
    "import os\n",
    "import time\n",
    "from pathlib import Path\n",
    "\n",
    "import pandas as pd\n",
    "import numpy as np\n",
    "\n",
    "from sklearn.model_selection import train_test_split\n",
    "\n",
    "from sklearn.neighbors import KNeighborsClassifier\n",
    "\n",
    "from sklearn.metrics import f1_score"
   ]
  },
  {
   "cell_type": "markdown",
   "id": "ef82051c",
   "metadata": {
    "papermill": {
     "duration": 0.006086,
     "end_time": "2022-07-04T19:51:25.950438",
     "exception": false,
     "start_time": "2022-07-04T19:51:25.944352",
     "status": "completed"
    },
    "tags": []
   },
   "source": [
    "<div style=\"background-color:rgba(128, 0, 128, 0.6);border-radius:5px;display:fill\"><h1 style=\"text-align: center;padding: 12px 0px 12px 0px;\">Library</h1>\n",
    "</div>\n",
    "\n",
    "Creating a few functions that we will reuse in each project."
   ]
  },
  {
   "cell_type": "code",
   "execution_count": 4,
   "id": "ed2e9b73",
   "metadata": {
    "execution": {
     "iopub.execute_input": "2022-07-04T19:51:25.965251Z",
     "iopub.status.busy": "2022-07-04T19:51:25.964869Z",
     "iopub.status.idle": "2022-07-04T19:51:25.978668Z",
     "shell.execute_reply": "2022-07-04T19:51:25.977653Z"
    },
    "papermill": {
     "duration": 0.023761,
     "end_time": "2022-07-04T19:51:25.980564",
     "exception": false,
     "start_time": "2022-07-04T19:51:25.956803",
     "status": "completed"
    },
    "tags": []
   },
   "outputs": [],
   "source": [
    "def read_data(path):\n",
    "    data_dir = Path(path)\n",
    "\n",
    "    train = pd.read_csv(data_dir / \"train.csv\")\n",
    "    test = pd.read_csv(data_dir / \"test.csv\")\n",
    "    submission_df = pd.read_csv(data_dir / \"sample_submission.csv\")\n",
    "\n",
    "    print(f\"train data: Rows={train.shape[0]}, Columns={train.shape[1]}\")\n",
    "    print(f\"test data : Rows={test.shape[0]}, Columns={test.shape[1]}\")\n",
    "    return train, test, submission_df"
   ]
  },
  {
   "cell_type": "code",
   "execution_count": 5,
   "id": "2a69c0d7",
   "metadata": {
    "execution": {
     "iopub.execute_input": "2022-07-04T19:51:25.995716Z",
     "iopub.status.busy": "2022-07-04T19:51:25.994710Z",
     "iopub.status.idle": "2022-07-04T19:51:26.010210Z",
     "shell.execute_reply": "2022-07-04T19:51:26.009338Z"
    },
    "papermill": {
     "duration": 0.025317,
     "end_time": "2022-07-04T19:51:26.012462",
     "exception": false,
     "start_time": "2022-07-04T19:51:25.987145",
     "status": "completed"
    },
    "tags": []
   },
   "outputs": [],
   "source": [
    "def create_submission(model_name, target, preds, is_log_target=False):\n",
    "    if is_log_target:\n",
    "        #         preds = np.exp(preds)\n",
    "        preds = np.expm1(preds)\n",
    "\n",
    "    sample_submission[target] = preds\n",
    "    if len(model_name) > 0:\n",
    "        sample_submission.to_csv(f\"submission_{model_name}.csv\", index=False)\n",
    "    else:\n",
    "        sample_submission.to_csv(f\"submission.csv\", index=False)\n",
    "\n",
    "    return sample_submission[:5]"
   ]
  },
  {
   "cell_type": "markdown",
   "id": "a90179bc",
   "metadata": {
    "papermill": {
     "duration": 0.005915,
     "end_time": "2022-07-04T19:51:26.024642",
     "exception": false,
     "start_time": "2022-07-04T19:51:26.018727",
     "status": "completed"
    },
    "tags": []
   },
   "source": [
    "<div style=\"background-color:rgba(128, 0, 128, 0.6);border-radius:5px;display:fill\"><h1 style=\"text-align: center;padding: 12px 0px 12px 0px;\">Load Train/Test Data</h1>\n",
    "</div>\n",
    "\n",
    "- train.csv - Data used to build our machine learning model\n",
    "- test.csv - Data used to build our machine learning model. Does not contain the target variable\n",
    "- sample_submission.csv - A file in the proper format to submit test predictions"
   ]
  },
  {
   "cell_type": "code",
   "execution_count": 6,
   "id": "5cdf6b1b",
   "metadata": {
    "execution": {
     "iopub.execute_input": "2022-07-04T19:51:26.039409Z",
     "iopub.status.busy": "2022-07-04T19:51:26.038315Z",
     "iopub.status.idle": "2022-07-04T19:51:31.720599Z",
     "shell.execute_reply": "2022-07-04T19:51:31.719602Z"
    },
    "papermill": {
     "duration": 5.692938,
     "end_time": "2022-07-04T19:51:31.723640",
     "exception": false,
     "start_time": "2022-07-04T19:51:26.030702",
     "status": "completed"
    },
    "tags": []
   },
   "outputs": [
    {
     "name": "stdout",
     "output_type": "stream",
     "text": [
      "train data: Rows=42000, Columns=785\n",
      "test data : Rows=28000, Columns=784\n"
     ]
    }
   ],
   "source": [
    "train, test, sample_submission = read_data(\"../input/digit-recognizer\")"
   ]
  },
  {
   "cell_type": "code",
   "execution_count": 7,
   "id": "c91fed33",
   "metadata": {
    "execution": {
     "iopub.execute_input": "2022-07-04T19:51:31.739009Z",
     "iopub.status.busy": "2022-07-04T19:51:31.738409Z",
     "iopub.status.idle": "2022-07-04T19:51:31.766414Z",
     "shell.execute_reply": "2022-07-04T19:51:31.765638Z"
    },
    "papermill": {
     "duration": 0.03779,
     "end_time": "2022-07-04T19:51:31.768715",
     "exception": false,
     "start_time": "2022-07-04T19:51:31.730925",
     "status": "completed"
    },
    "tags": []
   },
   "outputs": [
    {
     "data": {
      "text/html": [
       "<div>\n",
       "<style scoped>\n",
       "    .dataframe tbody tr th:only-of-type {\n",
       "        vertical-align: middle;\n",
       "    }\n",
       "\n",
       "    .dataframe tbody tr th {\n",
       "        vertical-align: top;\n",
       "    }\n",
       "\n",
       "    .dataframe thead th {\n",
       "        text-align: right;\n",
       "    }\n",
       "</style>\n",
       "<table border=\"1\" class=\"dataframe\">\n",
       "  <thead>\n",
       "    <tr style=\"text-align: right;\">\n",
       "      <th></th>\n",
       "      <th>label</th>\n",
       "      <th>pixel0</th>\n",
       "      <th>pixel1</th>\n",
       "      <th>pixel2</th>\n",
       "      <th>pixel3</th>\n",
       "      <th>pixel4</th>\n",
       "      <th>pixel5</th>\n",
       "      <th>pixel6</th>\n",
       "      <th>pixel7</th>\n",
       "      <th>pixel8</th>\n",
       "      <th>...</th>\n",
       "      <th>pixel774</th>\n",
       "      <th>pixel775</th>\n",
       "      <th>pixel776</th>\n",
       "      <th>pixel777</th>\n",
       "      <th>pixel778</th>\n",
       "      <th>pixel779</th>\n",
       "      <th>pixel780</th>\n",
       "      <th>pixel781</th>\n",
       "      <th>pixel782</th>\n",
       "      <th>pixel783</th>\n",
       "    </tr>\n",
       "  </thead>\n",
       "  <tbody>\n",
       "    <tr>\n",
       "      <th>0</th>\n",
       "      <td>1</td>\n",
       "      <td>0</td>\n",
       "      <td>0</td>\n",
       "      <td>0</td>\n",
       "      <td>0</td>\n",
       "      <td>0</td>\n",
       "      <td>0</td>\n",
       "      <td>0</td>\n",
       "      <td>0</td>\n",
       "      <td>0</td>\n",
       "      <td>...</td>\n",
       "      <td>0</td>\n",
       "      <td>0</td>\n",
       "      <td>0</td>\n",
       "      <td>0</td>\n",
       "      <td>0</td>\n",
       "      <td>0</td>\n",
       "      <td>0</td>\n",
       "      <td>0</td>\n",
       "      <td>0</td>\n",
       "      <td>0</td>\n",
       "    </tr>\n",
       "    <tr>\n",
       "      <th>1</th>\n",
       "      <td>0</td>\n",
       "      <td>0</td>\n",
       "      <td>0</td>\n",
       "      <td>0</td>\n",
       "      <td>0</td>\n",
       "      <td>0</td>\n",
       "      <td>0</td>\n",
       "      <td>0</td>\n",
       "      <td>0</td>\n",
       "      <td>0</td>\n",
       "      <td>...</td>\n",
       "      <td>0</td>\n",
       "      <td>0</td>\n",
       "      <td>0</td>\n",
       "      <td>0</td>\n",
       "      <td>0</td>\n",
       "      <td>0</td>\n",
       "      <td>0</td>\n",
       "      <td>0</td>\n",
       "      <td>0</td>\n",
       "      <td>0</td>\n",
       "    </tr>\n",
       "    <tr>\n",
       "      <th>2</th>\n",
       "      <td>1</td>\n",
       "      <td>0</td>\n",
       "      <td>0</td>\n",
       "      <td>0</td>\n",
       "      <td>0</td>\n",
       "      <td>0</td>\n",
       "      <td>0</td>\n",
       "      <td>0</td>\n",
       "      <td>0</td>\n",
       "      <td>0</td>\n",
       "      <td>...</td>\n",
       "      <td>0</td>\n",
       "      <td>0</td>\n",
       "      <td>0</td>\n",
       "      <td>0</td>\n",
       "      <td>0</td>\n",
       "      <td>0</td>\n",
       "      <td>0</td>\n",
       "      <td>0</td>\n",
       "      <td>0</td>\n",
       "      <td>0</td>\n",
       "    </tr>\n",
       "    <tr>\n",
       "      <th>3</th>\n",
       "      <td>4</td>\n",
       "      <td>0</td>\n",
       "      <td>0</td>\n",
       "      <td>0</td>\n",
       "      <td>0</td>\n",
       "      <td>0</td>\n",
       "      <td>0</td>\n",
       "      <td>0</td>\n",
       "      <td>0</td>\n",
       "      <td>0</td>\n",
       "      <td>...</td>\n",
       "      <td>0</td>\n",
       "      <td>0</td>\n",
       "      <td>0</td>\n",
       "      <td>0</td>\n",
       "      <td>0</td>\n",
       "      <td>0</td>\n",
       "      <td>0</td>\n",
       "      <td>0</td>\n",
       "      <td>0</td>\n",
       "      <td>0</td>\n",
       "    </tr>\n",
       "    <tr>\n",
       "      <th>4</th>\n",
       "      <td>0</td>\n",
       "      <td>0</td>\n",
       "      <td>0</td>\n",
       "      <td>0</td>\n",
       "      <td>0</td>\n",
       "      <td>0</td>\n",
       "      <td>0</td>\n",
       "      <td>0</td>\n",
       "      <td>0</td>\n",
       "      <td>0</td>\n",
       "      <td>...</td>\n",
       "      <td>0</td>\n",
       "      <td>0</td>\n",
       "      <td>0</td>\n",
       "      <td>0</td>\n",
       "      <td>0</td>\n",
       "      <td>0</td>\n",
       "      <td>0</td>\n",
       "      <td>0</td>\n",
       "      <td>0</td>\n",
       "      <td>0</td>\n",
       "    </tr>\n",
       "  </tbody>\n",
       "</table>\n",
       "<p>5 rows × 785 columns</p>\n",
       "</div>"
      ],
      "text/plain": [
       "   label  pixel0  pixel1  pixel2  pixel3  pixel4  pixel5  pixel6  pixel7  \\\n",
       "0      1       0       0       0       0       0       0       0       0   \n",
       "1      0       0       0       0       0       0       0       0       0   \n",
       "2      1       0       0       0       0       0       0       0       0   \n",
       "3      4       0       0       0       0       0       0       0       0   \n",
       "4      0       0       0       0       0       0       0       0       0   \n",
       "\n",
       "   pixel8  ...  pixel774  pixel775  pixel776  pixel777  pixel778  pixel779  \\\n",
       "0       0  ...         0         0         0         0         0         0   \n",
       "1       0  ...         0         0         0         0         0         0   \n",
       "2       0  ...         0         0         0         0         0         0   \n",
       "3       0  ...         0         0         0         0         0         0   \n",
       "4       0  ...         0         0         0         0         0         0   \n",
       "\n",
       "   pixel780  pixel781  pixel782  pixel783  \n",
       "0         0         0         0         0  \n",
       "1         0         0         0         0  \n",
       "2         0         0         0         0  \n",
       "3         0         0         0         0  \n",
       "4         0         0         0         0  \n",
       "\n",
       "[5 rows x 785 columns]"
      ]
     },
     "execution_count": 7,
     "metadata": {},
     "output_type": "execute_result"
    }
   ],
   "source": [
    "train.head()"
   ]
  },
  {
   "cell_type": "code",
   "execution_count": 8,
   "id": "08aa66dd",
   "metadata": {
    "execution": {
     "iopub.execute_input": "2022-07-04T19:51:31.784100Z",
     "iopub.status.busy": "2022-07-04T19:51:31.783697Z",
     "iopub.status.idle": "2022-07-04T19:51:31.793211Z",
     "shell.execute_reply": "2022-07-04T19:51:31.792308Z"
    },
    "papermill": {
     "duration": 0.019817,
     "end_time": "2022-07-04T19:51:31.795302",
     "exception": false,
     "start_time": "2022-07-04T19:51:31.775485",
     "status": "completed"
    },
    "tags": []
   },
   "outputs": [],
   "source": [
    "FEATURES = [\n",
    "    col\n",
    "    for col in train.columns\n",
    "    if col\n",
    "    not in [\n",
    "        \"Id\",\n",
    "        TARGET,\n",
    "        #         TARGET_ENC,\n",
    "    ]\n",
    "]"
   ]
  },
  {
   "cell_type": "code",
   "execution_count": 9,
   "id": "f9e6523d",
   "metadata": {
    "execution": {
     "iopub.execute_input": "2022-07-04T19:51:31.810618Z",
     "iopub.status.busy": "2022-07-04T19:51:31.810207Z",
     "iopub.status.idle": "2022-07-04T19:51:32.181313Z",
     "shell.execute_reply": "2022-07-04T19:51:32.180277Z"
    },
    "papermill": {
     "duration": 0.381414,
     "end_time": "2022-07-04T19:51:32.183661",
     "exception": false,
     "start_time": "2022-07-04T19:51:31.802247",
     "status": "completed"
    },
    "tags": []
   },
   "outputs": [],
   "source": [
    "y = train[TARGET]\n",
    "X = train[FEATURES].copy()\n",
    "\n",
    "X_test = test[FEATURES].copy()"
   ]
  },
  {
   "cell_type": "code",
   "execution_count": 10,
   "id": "ad92d4b5",
   "metadata": {
    "execution": {
     "iopub.execute_input": "2022-07-04T19:51:32.198414Z",
     "iopub.status.busy": "2022-07-04T19:51:32.197992Z",
     "iopub.status.idle": "2022-07-04T19:51:32.428161Z",
     "shell.execute_reply": "2022-07-04T19:51:32.427464Z"
    },
    "papermill": {
     "duration": 0.239972,
     "end_time": "2022-07-04T19:51:32.430197",
     "exception": false,
     "start_time": "2022-07-04T19:51:32.190225",
     "status": "completed"
    },
    "tags": []
   },
   "outputs": [
    {
     "data": {
      "text/plain": [
       "((37800, 784), (37800,), (4200, 784), (4200,))"
      ]
     },
     "execution_count": 10,
     "metadata": {},
     "output_type": "execute_result"
    }
   ],
   "source": [
    "X_train, X_valid, y_train, y_valid = train_test_split(\n",
    "    X,\n",
    "    y,\n",
    "    test_size=0.1,\n",
    "    random_state=42,\n",
    ")\n",
    "X_train.shape, y_train.shape, X_valid.shape, y_valid.shape"
   ]
  },
  {
   "cell_type": "markdown",
   "id": "5e8bb200",
   "metadata": {
    "papermill": {
     "duration": 0.006498,
     "end_time": "2022-07-04T19:51:32.443438",
     "exception": false,
     "start_time": "2022-07-04T19:51:32.436940",
     "status": "completed"
    },
    "tags": []
   },
   "source": [
    "<div style=\"background-color:rgba(128, 0, 128, 0.6);border-radius:5px;display:fill\"><h1 style=\"text-align: center;padding: 12px 0px 12px 0px;\">Create Models</h1>\n",
    "</div>"
   ]
  },
  {
   "cell_type": "code",
   "execution_count": 11,
   "id": "d9084e7d",
   "metadata": {
    "execution": {
     "iopub.execute_input": "2022-07-04T19:51:32.458487Z",
     "iopub.status.busy": "2022-07-04T19:51:32.457712Z",
     "iopub.status.idle": "2022-07-04T19:51:32.485832Z",
     "shell.execute_reply": "2022-07-04T19:51:32.484565Z"
    },
    "papermill": {
     "duration": 0.037875,
     "end_time": "2022-07-04T19:51:32.487889",
     "exception": false,
     "start_time": "2022-07-04T19:51:32.450014",
     "status": "completed"
    },
    "tags": []
   },
   "outputs": [
    {
     "name": "stdout",
     "output_type": "stream",
     "text": [
      "CPU times: user 12.8 ms, sys: 2.97 ms, total: 15.8 ms\n",
      "Wall time: 16.3 ms\n"
     ]
    },
    {
     "data": {
      "text/plain": [
       "KNeighborsClassifier()"
      ]
     },
     "execution_count": 11,
     "metadata": {},
     "output_type": "execute_result"
    }
   ],
   "source": [
    "%%time\n",
    "\n",
    "knn_clf = KNeighborsClassifier()\n",
    "knn_clf.fit(X_train, y_train)"
   ]
  },
  {
   "cell_type": "code",
   "execution_count": 12,
   "id": "618f81f4",
   "metadata": {
    "execution": {
     "iopub.execute_input": "2022-07-04T19:51:32.503300Z",
     "iopub.status.busy": "2022-07-04T19:51:32.502685Z",
     "iopub.status.idle": "2022-07-04T19:51:40.304671Z",
     "shell.execute_reply": "2022-07-04T19:51:40.303811Z"
    },
    "papermill": {
     "duration": 7.812937,
     "end_time": "2022-07-04T19:51:40.307712",
     "exception": false,
     "start_time": "2022-07-04T19:51:32.494775",
     "status": "completed"
    },
    "tags": []
   },
   "outputs": [
    {
     "name": "stdout",
     "output_type": "stream",
     "text": [
      "CPU times: user 18.4 s, sys: 2.17 s, total: 20.6 s\n",
      "Wall time: 7.8 s\n"
     ]
    }
   ],
   "source": [
    "%%time\n",
    "\n",
    "preds = knn_clf.predict(X_valid)"
   ]
  },
  {
   "cell_type": "markdown",
   "id": "84902a9d",
   "metadata": {
    "papermill": {
     "duration": 0.006791,
     "end_time": "2022-07-04T19:51:40.322440",
     "exception": false,
     "start_time": "2022-07-04T19:51:40.315649",
     "status": "completed"
    },
    "tags": []
   },
   "source": [
    "## Score"
   ]
  },
  {
   "cell_type": "code",
   "execution_count": 13,
   "id": "1af00b93",
   "metadata": {
    "execution": {
     "iopub.execute_input": "2022-07-04T19:51:40.338501Z",
     "iopub.status.busy": "2022-07-04T19:51:40.337734Z",
     "iopub.status.idle": "2022-07-04T19:51:40.349974Z",
     "shell.execute_reply": "2022-07-04T19:51:40.349063Z"
    },
    "papermill": {
     "duration": 0.022733,
     "end_time": "2022-07-04T19:51:40.352252",
     "exception": false,
     "start_time": "2022-07-04T19:51:40.329519",
     "status": "completed"
    },
    "tags": []
   },
   "outputs": [
    {
     "data": {
      "text/plain": [
       "0.9655233713880508"
      ]
     },
     "execution_count": 13,
     "metadata": {},
     "output_type": "execute_result"
    }
   ],
   "source": [
    "f1_score(y_valid, preds, average=\"macro\")"
   ]
  },
  {
   "cell_type": "code",
   "execution_count": 14,
   "id": "8897b31b",
   "metadata": {
    "execution": {
     "iopub.execute_input": "2022-07-04T19:51:40.368509Z",
     "iopub.status.busy": "2022-07-04T19:51:40.367741Z",
     "iopub.status.idle": "2022-07-04T19:52:30.394396Z",
     "shell.execute_reply": "2022-07-04T19:52:30.393436Z"
    },
    "papermill": {
     "duration": 50.037472,
     "end_time": "2022-07-04T19:52:30.396952",
     "exception": false,
     "start_time": "2022-07-04T19:51:40.359480",
     "status": "completed"
    },
    "tags": []
   },
   "outputs": [],
   "source": [
    "preds = knn_clf.predict(X_test)"
   ]
  },
  {
   "cell_type": "markdown",
   "id": "8351bda7",
   "metadata": {
    "papermill": {
     "duration": 0.006839,
     "end_time": "2022-07-04T19:52:30.411033",
     "exception": false,
     "start_time": "2022-07-04T19:52:30.404194",
     "status": "completed"
    },
    "tags": []
   },
   "source": [
    "## Submission"
   ]
  },
  {
   "cell_type": "code",
   "execution_count": 15,
   "id": "3da099b0",
   "metadata": {
    "execution": {
     "iopub.execute_input": "2022-07-04T19:52:30.426684Z",
     "iopub.status.busy": "2022-07-04T19:52:30.426315Z",
     "iopub.status.idle": "2022-07-04T19:52:30.484710Z",
     "shell.execute_reply": "2022-07-04T19:52:30.483796Z"
    },
    "papermill": {
     "duration": 0.068738,
     "end_time": "2022-07-04T19:52:30.486716",
     "exception": false,
     "start_time": "2022-07-04T19:52:30.417978",
     "status": "completed"
    },
    "tags": []
   },
   "outputs": [
    {
     "data": {
      "text/html": [
       "<div>\n",
       "<style scoped>\n",
       "    .dataframe tbody tr th:only-of-type {\n",
       "        vertical-align: middle;\n",
       "    }\n",
       "\n",
       "    .dataframe tbody tr th {\n",
       "        vertical-align: top;\n",
       "    }\n",
       "\n",
       "    .dataframe thead th {\n",
       "        text-align: right;\n",
       "    }\n",
       "</style>\n",
       "<table border=\"1\" class=\"dataframe\">\n",
       "  <thead>\n",
       "    <tr style=\"text-align: right;\">\n",
       "      <th></th>\n",
       "      <th>ImageId</th>\n",
       "      <th>Label</th>\n",
       "    </tr>\n",
       "  </thead>\n",
       "  <tbody>\n",
       "    <tr>\n",
       "      <th>0</th>\n",
       "      <td>1</td>\n",
       "      <td>2</td>\n",
       "    </tr>\n",
       "    <tr>\n",
       "      <th>1</th>\n",
       "      <td>2</td>\n",
       "      <td>0</td>\n",
       "    </tr>\n",
       "    <tr>\n",
       "      <th>2</th>\n",
       "      <td>3</td>\n",
       "      <td>9</td>\n",
       "    </tr>\n",
       "    <tr>\n",
       "      <th>3</th>\n",
       "      <td>4</td>\n",
       "      <td>9</td>\n",
       "    </tr>\n",
       "    <tr>\n",
       "      <th>4</th>\n",
       "      <td>5</td>\n",
       "      <td>3</td>\n",
       "    </tr>\n",
       "  </tbody>\n",
       "</table>\n",
       "</div>"
      ],
      "text/plain": [
       "   ImageId  Label\n",
       "0        1      2\n",
       "1        2      0\n",
       "2        3      9\n",
       "3        4      9\n",
       "4        5      3"
      ]
     },
     "execution_count": 15,
     "metadata": {},
     "output_type": "execute_result"
    }
   ],
   "source": [
    "# Different TARGET name used in test.csv\n",
    "ss = create_submission(\"\", \"Label\", preds)\n",
    "ss"
   ]
  }
 ],
 "metadata": {
  "kernelspec": {
   "display_name": "Python 3",
   "language": "python",
   "name": "python3"
  },
  "language_info": {
   "codemirror_mode": {
    "name": "ipython",
    "version": 3
   },
   "file_extension": ".py",
   "mimetype": "text/x-python",
   "name": "python",
   "nbconvert_exporter": "python",
   "pygments_lexer": "ipython3",
   "version": "3.7.12"
  },
  "papermill": {
   "default_parameters": {},
   "duration": 91.040098,
   "end_time": "2022-07-04T19:52:31.315886",
   "environment_variables": {},
   "exception": null,
   "input_path": "__notebook__.ipynb",
   "output_path": "__notebook__.ipynb",
   "parameters": {},
   "start_time": "2022-07-04T19:51:00.275788",
   "version": "2.3.4"
  }
 },
 "nbformat": 4,
 "nbformat_minor": 5
}
